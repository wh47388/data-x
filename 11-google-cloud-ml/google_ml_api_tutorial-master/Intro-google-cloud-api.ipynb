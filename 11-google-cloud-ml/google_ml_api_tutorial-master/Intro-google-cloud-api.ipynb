{
 "cells": [
  {
   "cell_type": "markdown",
   "metadata": {},
   "source": [
    "![data-x](http://oi64.tinypic.com/o858n4.jpg)\n",
    "\n",
    "\n",
    "# __Introduction to Google Cloud Platform (Vision API)__\n",
    "\n",
    "#### Author: Elias Castro Hernandez\n",
    "\n",
    "\n",
    "**Sources:** \n",
    "* **Sentdex Video Tutorials on Google Cloud API:** https://www.youtube.com/playlist?list=PLQVvvaa0QuDfGVb3yucqvKtUgwOJgZWCm\n",
    "* **Yufeng G:** https://towardsdatascience.com/getting-started-with-automl-vision-alpha-ba769121235c\n",
    "\n",
    "\n",
    "**Copright:** Feel free to do whatever you want with this code.\n",
    "___\n",
    "___"
   ]
  },
  {
   "cell_type": "markdown",
   "metadata": {},
   "source": [
    "<br>\n",
    "\n",
    "<table align=\"center\"><img src= \"http://alomanaa.net/user_images/news/05-03-17-810852286.png\" align=\"center\" height=\"400px\" width=\"600px\"></table>\n",
    "\n",
    "<br>"
   ]
  },
  {
   "cell_type": "markdown",
   "metadata": {},
   "source": [
    "---\n",
    "___\n",
    "\n",
    "# Beyond Cats vs Dogs: Using Google Cloud Platform to Gain Insights and Achieve Rapid Deployment.\n",
    "\n",
    "This notebook is intended to function as a guide for setting-up and deploying Virtual Machines (VMs) within Google Cloud Platform. The process of setting such a VM can be confusing, and as such, the entire process has been broken down into smaller tasks, or into short image descriptions whenever possible. Moreover, for conceptually challenging sections, documentation has been referenced to aid you in your efforts. \n",
    "\n",
    "A live demo of the process will be performed during class on November 27th, 2018. It is recommended that you use this notebook as a guide in your efforts to set up your own VM during your own time -- as the process of loading data and/or training models can be extremely time consuming.\n",
    "\n",
    "\n",
    "\n",
    "\n",
    "### Table of Contents\n",
    "\n",
    "> #### [Part 1: Setting-Up Google Cloud API Access](#Part_1)\n",
    "\n",
    "> #### [Part 2: Connect to Platform Environment](#Part_2)\n",
    "\n",
    "> #### [Part 3: Connect Google Cloud API to Jupyter Notebook/Lab](#Part_3)\n",
    "\n",
    "\n",
    "\n",
    "### Additional Material\n",
    "\n",
    "> #### [Appendix I: Resources and references to material we won't cover in detail](#Appendix_I) \n",
    "\n",
    "<br>\n",
    "\n",
    "___\n",
    "\n",
    "___"
   ]
  },
  {
   "cell_type": "markdown",
   "metadata": {},
   "source": [
    "<a id='Part_1'></a>\n",
    "\n",
    "## Part 1: Set Up Google Cloud API\n",
    "\n",
    "**General Procedure Information**\n",
    "\n",
    "> 1. __Create an Instance:__ https://cloud.google.com/compute/docs/instances/create-start-instance\n",
    "\n",
    "> 2. __Create Credentials:__ https://cloud.google.com/community/tutorials/understanding-oauth2-and-deploy-a-basic-auth-srv-to-cloud-functions\n",
    "\n",
    "> 3. __Connect to Instance and Set-Up SSH:__ https://cloud.google.com/compute/docs/instances/connecting-to-instance\n",
    "\n",
    "> 4. __Set Firewall:__ https://cloud.google.com/vpc/docs/firewalls\n",
    "\n",
    "> 5. __Enable Video Intelligence API:__ https://cloud.google.com/video-intelligence/docs/\n",
    "\n",
    "> 6. __Reserve a Static IP Address:__ https://cloud.google.com/compute/docs/ip-addresses/reserve-static-external-ip-address\n",
    "\n",
    "\n",
    "\n",
    "\n",
    "\n",
    "<br> \n",
    "\n",
    ">> ### __PLEASE NOTE: When you are done exploring, make sure you stop your instances!__\n",
    "\n",
    ">> Don’t forget to stop your instance when you are done (by clicking on the stop button at the top of the page showing your instances), otherwise you will run out of credits and then you have to pay. :_(\n",
    "\n",
    "___"
   ]
  },
  {
   "cell_type": "markdown",
   "metadata": {},
   "source": [
    "### __Part 1.1: Creating an Instance__"
   ]
  },
  {
   "cell_type": "markdown",
   "metadata": {},
   "source": [
    "<br>\n",
    "\n",
    "<table align=\"center\"><img src= \"data/presentation/gcapi1-1.png\" align=\"center\" height=\"700px\" width=\"700px\"></table>\n",
    "\n",
    "<br>\n",
    "\n",
    "<br>\n",
    "\n",
    "<table align=\"center\"><img src= \"data/presentation/gcapi1-2.png\" align=\"center\" height=\"900px\" width=\"900px\"></table>\n",
    "\n",
    "<br>\n",
    "\n",
    "<br>\n",
    "\n",
    "<table align=\"center\"><img src= \"data/presentation/gcapi1-3.png\" align=\"center\" height=\"900\" width=\"900\"></table>\n",
    "\n",
    "<br>\n",
    "\n",
    "<br>\n",
    "\n",
    "<table align=\"center\"><img src= \"data/presentation/gcapi1-4.png\" align=\"center\" height=\"800\" width=\"800\"></table>\n",
    "\n",
    "<br>"
   ]
  },
  {
   "cell_type": "markdown",
   "metadata": {},
   "source": [
    "___\n",
    "### __Part 1.2: Create Credentials__\n"
   ]
  },
  {
   "cell_type": "markdown",
   "metadata": {},
   "source": [
    "<br>\n",
    "\n",
    "<table align=\"center\"><img src= \"data/presentation/gcapi2-1.png\" align=\"center\" height=\"900\" width=\"900\"></table>\n",
    "\n",
    "<br>"
   ]
  },
  {
   "cell_type": "markdown",
   "metadata": {},
   "source": [
    "___\n",
    "### __Part 1.3: Connect to Instance and Set-Up SSH__"
   ]
  },
  {
   "cell_type": "markdown",
   "metadata": {},
   "source": [
    "**Connecting to Instance:** https://cloud.google.com/compute/docs/instances/connecting-to-instance\n",
    "\n",
    "<br>\n",
    "\n",
    "**General Information for Creating SSH Keys**\n",
    "\n",
    "> 1. __SSH Keys Ubuntu:__ https://www.digitalocean.com/community/tutorials/how-to-set-up-ssh-keys-on-ubuntu-1804\n",
    "\n",
    "> 2. __SSH Keys Windows:__ https://docs.joyent.com/public-cloud/getting-started/ssh-keys/generating-an-ssh-key-manually/manually-generating-your-ssh-key-in-windows\n",
    "\n",
    "> 3. __SSH Keys MacOS:__ https://docs.joyent.com/public-cloud/getting-started/ssh-keys/generating-an-ssh-key-manually/manually-generating-your-ssh-key-in-mac-os-x"
   ]
  },
  {
   "cell_type": "markdown",
   "metadata": {},
   "source": [
    "<br>\n",
    "\n",
    "<table align=\"center\"><img src= \"data/presentation/gcapi9-1.png\" align=\"center\" height=\"900\" width=\"900\"></table>\n",
    "\n",
    "<br>"
   ]
  },
  {
   "cell_type": "markdown",
   "metadata": {},
   "source": [
    "___\n",
    "### __Part 1.4: Set Firewall Rules__"
   ]
  },
  {
   "cell_type": "markdown",
   "metadata": {},
   "source": [
    "<br>\n",
    "\n",
    "<table align=\"center\"><img src= \"data/presentation/gcapi3-1.png\" align=\"center\" height=\"900\" width=\"900\"></table>\n",
    "\n",
    "<br>\n",
    "\n",
    "<br>\n",
    "\n",
    "<table align=\"center\"><img src= \"data/presentation/gcapi3-2.png\" align=\"center\" height=\"900\" width=\"900\"></table>\n",
    "\n",
    "<br>"
   ]
  },
  {
   "cell_type": "markdown",
   "metadata": {},
   "source": [
    "___\n",
    "### __Part 1.5: Enable Cloud Video Intelligence, and Cloud Vision API's__"
   ]
  },
  {
   "cell_type": "markdown",
   "metadata": {},
   "source": [
    "<br>\n",
    "\n",
    "<table align=\"center\"><img src= \"data/presentation/gcapi4-1.png\" align=\"center\" height=\"900\" width=\"900\"></table>\n",
    "\n",
    "<br>\n",
    "\n",
    "\n",
    "<br>\n",
    "\n",
    "\n",
    "<div style=\"text-align: center;\">\n",
    "    <span style=\"color:red;\">\n",
    "        <h2>Similarly repeat the procedure for <strong>Cloud Vision API</strong></h2>\n",
    "    </span>\n",
    "</div>\n",
    "\n",
    "\n",
    "<br>"
   ]
  },
  {
   "cell_type": "markdown",
   "metadata": {},
   "source": [
    "___\n",
    "### __Part 1.6: Reserve a Static IP Address.__"
   ]
  },
  {
   "cell_type": "markdown",
   "metadata": {},
   "source": [
    "<br>\n",
    "\n",
    "<table align=\"center\"><img src= \"data/presentation/gcapi5-1.png\" align=\"center\" height=\"900\" width=\"900\"></table>\n",
    "\n",
    "<br>\n",
    "\n",
    "___\n",
    "\n",
    "___"
   ]
  },
  {
   "cell_type": "markdown",
   "metadata": {},
   "source": [
    "<a id='Part_2'></a>\n",
    "\n",
    "\n",
    "## Part 2: Connect to Platform Environment\n",
    "\n",
    "> 1. __Launch Instance__  \n",
    "\n",
    "> 2. __Install Required Software__ \n",
    "\n",
    "> 3. __Set-Up VM Server__  \n",
    "\n",
    "\n",
    "\n",
    "<br> \n",
    "\n",
    "\n",
    "\n",
    ">> ### __BIG REMINDER: When you are done exploring, make sure you stop your instances!__\n",
    "\n",
    ">> 300 USD of free computing access -- that is about a month of 8GPU cores with 64 gigs of ram running your code -- that you trow away if you forget to stop your instance.\n"
   ]
  },
  {
   "cell_type": "markdown",
   "metadata": {},
   "source": [
    "___\n",
    "### __Part 2.1: Launch Instance__"
   ]
  },
  {
   "cell_type": "markdown",
   "metadata": {},
   "source": [
    "<br>\n",
    "\n",
    "<table align=\"center\"><img src=\"data/presentation/gcapi6-1.png\"  align=\"center\" height=\"600\" width=\"600\"></table>\n",
    "\n",
    "<br>\n",
    "\n",
    "### HUZZAH! We are now in a VM!\n"
   ]
  },
  {
   "cell_type": "markdown",
   "metadata": {},
   "source": [
    "___\n",
    "### __Part 2.2: Install Required Software__"
   ]
  },
  {
   "cell_type": "markdown",
   "metadata": {},
   "source": [
    "<br>\n",
    "\n",
    "<table align=\"center\"><img src= \"data/presentation/gcapi7-1.png\" align=\"center\" height=\"800\" width=\"800\"></table>\n",
    "\n",
    "<br>\n"
   ]
  },
  {
   "cell_type": "markdown",
   "metadata": {},
   "source": [
    "<div style=\"text-align: left;padding:0px 200px\">\n",
    "    <span style=\"color:red;\">\n",
    "        <h3><strong>For those that just like to copy and paste:</strong></h3>\n",
    "    </span>\n",
    "</div>\n",
    "\n",
    "<br>\n",
    "\n",
    "<div style=\"text-align: left;padding:0px 250px\">\n",
    "    <span>\n",
    "        <h4>sudo apt-get update && sudo apt-get upgrade</h4>\n",
    "        <h4>wget http://repo.continuum.io/archive/Anaconda3-5.3.0-Linux-x86_64.sh</h4>\n",
    "        <h4>bash Anaconda3-5.3.0-Linux-x86_64.sh</h4>\n",
    "        <h4>source ~/.bashrc</h4>\n",
    "        <h4>conda install -c conda-forge jupyterlab</h4>\n",
    "        <h4>conda install -c conda-forge tensorflow</h4>\n",
    "        <h4>conda install -c conda-forge keras</h4>   \n",
    "    </span>\n",
    "</div>"
   ]
  },
  {
   "cell_type": "markdown",
   "metadata": {},
   "source": [
    "___\n",
    "### __Part 2.3: Set-Up VM Server__"
   ]
  },
  {
   "cell_type": "markdown",
   "metadata": {},
   "source": [
    "<br>\n",
    "\n",
    "<table align=\"center\"><img src=\"data/presentation/gcapi8-1.png\"  align=\"center\" height=\"750\" width=\"750\"></table>\n",
    "\n",
    "<br>"
   ]
  },
  {
   "cell_type": "markdown",
   "metadata": {},
   "source": [
    "<div style=\"text-align: left;padding:10px 200px\">\n",
    "    <span>\n",
    "        <h4><strong>Check to see if you have configuration file:</strong></h4>\n",
    "    </span>\n",
    "</div>\n",
    "<div style=\"text-align: left;padding:0px 300px\">\n",
    "    <span>\n",
    "        <h4>ls ~/.jupyter/jupyter_notebook_config.py</h4>\n",
    "    </span>\n",
    "</div>\n",
    "\n",
    "\n",
    "\n",
    "<div style=\"text-align: left;padding:10px 200px\">\n",
    "    <span>\n",
    "        <h4><strong>Not there? Make one:</strong></h4>\n",
    "    </span>\n",
    "</div>\n",
    "<div style=\"text-align: left;padding:0px 300px\">\n",
    "    <span>\n",
    "        <h4>jupyter notebook --generate-config</h4> \n",
    "    </span>\n",
    "</div>\n",
    "\n",
    "<br>\n",
    "\n",
    "___\n",
    "___\n"
   ]
  },
  {
   "cell_type": "markdown",
   "metadata": {},
   "source": [
    "<a id='Part_3'></a>\n",
    "\n",
    "\n",
    "## Part 3: Install Google Cloud API in VM\n",
    "\n",
    "\n",
    "> 1. __Install Google Cloud API:__ https://cloud.google.com/compute/docs/ssh-in-browser\n",
    "\n",
    "> 2. __Add 'export' to .bashrc:__ https://cloud.google.com/shell/docs/\n",
    "\n",
    "> 3. __Install Cloud SDK:_\n",
    "\n",
    "> 4. __Set-Up Jupyter Within Google Cloud API (soon):__ https://cloud.google.com/dataproc/docs/concepts/accessing/cluster-web-interfaces\n",
    "\n",
    "<br> \n",
    "\n",
    "\n",
    "\n",
    ">> ### __FOR THE LOVE OF GOD, MAKE SURE YOU DON'T FORGET TO TERMINATE YOUR INSTANCE!__\n",
    "\n",
    ">> So you know, google has their Cloud API academy were you can gain certifications in all things google cloud. You can use your 300 USD toward these certificates. "
   ]
  },
  {
   "cell_type": "markdown",
   "metadata": {},
   "source": [
    "___\n",
    "### __Part 3.1: Install Google Cloud API__"
   ]
  },
  {
   "cell_type": "markdown",
   "metadata": {},
   "source": []
  },
  {
   "cell_type": "markdown",
   "metadata": {},
   "source": [
    "___\n",
    "### __Part 3.2: Add 'export' to .bashrc.__"
   ]
  },
  {
   "cell_type": "markdown",
   "metadata": {},
   "source": []
  },
  {
   "cell_type": "markdown",
   "metadata": {},
   "source": [
    "___\n",
    "### __Part 3.3: Install Cloud SDK.__"
   ]
  },
  {
   "cell_type": "markdown",
   "metadata": {},
   "source": [
    "<div style=\"text-align: left;padding:0px\">\n",
    "    <span>\n",
    "        <h4>Click to download and install the command-line interface for Google Cloud Platform </h4>\n",
    "    </span>\n",
    "</div>\n",
    "\n",
    "<br>\n",
    "\n",
    "<br>\n",
    "\n",
    "<div style=\"text-align: center\">\n",
    "    <span>\n",
    "        <a style=\"background-color:#ffffff; border:1px solid #333333; border-color:#95805B;border-radius:30px;border-width:2px;display:inline-block;font-family:arial,helvetica,sans-serif;font-size:14px;font-weight:bold;letter-spacing:0px;line-height:16px;padding:10px 40px;text-align:center;text-decoration:none; align:center\" href=\"https://cloud.google.com/sdk/\"> CLOUD SDK </a>\n",
    "    </span>\n",
    "</div>"
   ]
  },
  {
   "cell_type": "markdown",
   "metadata": {},
   "source": [
    "___\n",
    "### __Part 3.: Set-Up Jupyter Notebook Within Google Cloup API.__https://cloud.google.com/sdk/"
   ]
  },
  {
   "cell_type": "markdown",
   "metadata": {},
   "source": []
  },
  {
   "cell_type": "markdown",
   "metadata": {},
   "source": [
    "___\n",
    "___\n",
    "\n",
    "> ## That's it!  You are are ready to start playing with the Intelligent Vision API!\n",
    "\n",
    "___\n",
    "___\n"
   ]
  },
  {
   "cell_type": "markdown",
   "metadata": {},
   "source": [
    "<a id='Appendix_I'></a>\n",
    "\n",
    "## Appendix I: Resources and references to material we won't cover in detail\n",
    "\n",
    "\n",
    "> * **Installing JupyterLab:** https://jupyterlab.readthedocs.io/en/stable/getting_started/installation.html\n",
    "\n",
    "> * **Installing Linux Bash Shell in Windows:** https://www.howtogeek.com/249966/how-to-install-and-use-the-linux-bash-shell-on-windows-10/\n",
    "\n",
    "> * **Connect Google Cloud API to Jupyter Lab (Alternate Method):** http://cs231n.github.io/gce-tutorial/\n",
    "\n",
    "> * **Cloud SDK (gcloud compute ssh):** https://cloud.google.com/sdk/gcloud/\n",
    "\n",
    "> * **Cloud Vision API:** https://cloud.google.com/vision/docs/reference/rest/\n",
    "\n",
    "> * **Cloud Video Intelligence:** https://cloud.google.com/video-intelligence/\n",
    "\n",
    "> * **Google Cloud API:** https://cloud.google.com/apis/ \n",
    "\n",
    "> * **Cloud Hyperparameter Tuning (manual):** https://cloud.google.com/blog/products/gcp/hyperparameter-tuning-on-google-cloud-platform-is-now-faster-and-smarter\n",
    "\n",
    "> * **Python on Google Cloud Engine:** https://cloud.google.com/appengine/docs/python/\n",
    "\n",
    "\n",
    "<br>\n",
    "\n",
    "___\n",
    "___"
   ]
  },
  {
   "cell_type": "markdown",
   "metadata": {},
   "source": [
    "![data-x](http://oi64.tinypic.com/o858n4.jpg)"
   ]
  }
 ],
 "metadata": {
  "kernelspec": {
   "display_name": "Python 3",
   "language": "python",
   "name": "python3"
  },
  "language_info": {
   "codemirror_mode": {
    "name": "ipython",
    "version": 3
   },
   "file_extension": ".py",
   "mimetype": "text/x-python",
   "name": "python",
   "nbconvert_exporter": "python",
   "pygments_lexer": "ipython3",
   "version": "3.6.6"
  }
 },
 "nbformat": 4,
 "nbformat_minor": 2
}
