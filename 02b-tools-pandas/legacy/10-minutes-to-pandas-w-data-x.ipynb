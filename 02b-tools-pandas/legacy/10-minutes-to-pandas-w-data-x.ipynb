{
 "cells": [
  {
   "cell_type": "markdown",
   "metadata": {},
   "source": [
    "http://pandas.pydata.org/pandas-docs/stable/10min.html"
   ]
  },
  {
   "cell_type": "markdown",
   "metadata": {},
   "source": [
    "# 10 Minutes to pandas\n",
    "\n",
    "This is a short introduction to pandas, geared mainly for new users. You can see more complex recipes in the [Cookbook](http://pandas.pydata.org/pandas-docs/stable/cookbook.html#cookbook) \n",
    "\n",
    "\n",
    "#### This version is the same as the public availble version for getting started with pandas, but with edits, comments, and some small addions for the Data-X course at Berkeley.  Edited, Ikhlaq Sidhu, Jan 2017"
   ]
  },
  {
   "cell_type": "markdown",
   "metadata": {},
   "source": [
    "Customarily, we import as follows:"
   ]
  },
  {
   "cell_type": "code",
   "execution_count": 1,
   "metadata": {
    "collapsed": true
   },
   "outputs": [],
   "source": [
    "import pandas as pd\n",
    "import numpy as np\n",
    "import matplotlib.pyplot as plt"
   ]
  },
  {
   "cell_type": "code",
   "execution_count": 2,
   "metadata": {
    "collapsed": true
   },
   "outputs": [],
   "source": [
    "# this line makes plots/graphs appear within the notebook\n",
    "%matplotlib inline"
   ]
  },
  {
   "cell_type": "markdown",
   "metadata": {},
   "source": [
    "## Object Creation\n",
    "\n",
    "See the [Data Structure Intro section](http://pandas.pydata.org/pandas-docs/stable/dsintro.html#dsintro) "
   ]
  },
  {
   "cell_type": "markdown",
   "metadata": {},
   "source": [
    "Creating a Series by passing a list of values, letting pandas create a default integer index:"
   ]
  },
  {
   "cell_type": "code",
   "execution_count": 3,
   "metadata": {},
   "outputs": [],
   "source": [
    "# This is a series, its like an array but with an index\n",
    "s = pd.Series([1,3,5,np.nan,6,8])"
   ]
  },
  {
   "cell_type": "code",
   "execution_count": 4,
   "metadata": {},
   "outputs": [
    {
     "data": {
      "text/plain": [
       "0    1.0\n",
       "1    3.0\n",
       "2    5.0\n",
       "3    NaN\n",
       "4    6.0\n",
       "5    8.0\n",
       "dtype: float64"
      ]
     },
     "execution_count": 4,
     "metadata": {},
     "output_type": "execute_result"
    }
   ],
   "source": [
    "s"
   ]
  },
  {
   "cell_type": "markdown",
   "metadata": {},
   "source": [
    "Creating a DataFrame by passing a numpy array, with a datetime index and labeled columns:"
   ]
  },
  {
   "cell_type": "code",
   "execution_count": 5,
   "metadata": {},
   "outputs": [],
   "source": [
    "# We will look at the time series index separately, but its also in this notebook.\n",
    "dates = pd.date_range('20130101', periods=6)"
   ]
  },
  {
   "cell_type": "code",
   "execution_count": 6,
   "metadata": {},
   "outputs": [
    {
     "data": {
      "text/plain": [
       "DatetimeIndex(['2013-01-01', '2013-01-02', '2013-01-03', '2013-01-04',\n",
       "               '2013-01-05', '2013-01-06'],\n",
       "              dtype='datetime64[ns]', freq='D')"
      ]
     },
     "execution_count": 6,
     "metadata": {},
     "output_type": "execute_result"
    }
   ],
   "source": [
    "# dates is a time series object used as an index\n",
    "dates"
   ]
  },
  {
   "cell_type": "code",
   "execution_count": 7,
   "metadata": {},
   "outputs": [],
   "source": [
    "# The DataFrame below is from an np.array and column list\n",
    "df = pd.DataFrame(np.random.randn(6,4), index=dates, columns=list('ABCD'))"
   ]
  },
  {
   "cell_type": "code",
   "execution_count": 8,
   "metadata": {},
   "outputs": [
    {
     "data": {
      "text/html": [
       "<div>\n",
       "<table border=\"1\" class=\"dataframe\">\n",
       "  <thead>\n",
       "    <tr style=\"text-align: right;\">\n",
       "      <th></th>\n",
       "      <th>A</th>\n",
       "      <th>B</th>\n",
       "      <th>C</th>\n",
       "      <th>D</th>\n",
       "    </tr>\n",
       "  </thead>\n",
       "  <tbody>\n",
       "    <tr>\n",
       "      <th>2013-01-01</th>\n",
       "      <td>2.057798</td>\n",
       "      <td>-2.702485</td>\n",
       "      <td>-0.453129</td>\n",
       "      <td>-0.623291</td>\n",
       "    </tr>\n",
       "    <tr>\n",
       "      <th>2013-01-02</th>\n",
       "      <td>0.518069</td>\n",
       "      <td>-1.072285</td>\n",
       "      <td>0.642737</td>\n",
       "      <td>-0.436096</td>\n",
       "    </tr>\n",
       "    <tr>\n",
       "      <th>2013-01-03</th>\n",
       "      <td>0.543855</td>\n",
       "      <td>-0.792005</td>\n",
       "      <td>0.451127</td>\n",
       "      <td>-1.479581</td>\n",
       "    </tr>\n",
       "    <tr>\n",
       "      <th>2013-01-04</th>\n",
       "      <td>0.673962</td>\n",
       "      <td>-1.758599</td>\n",
       "      <td>0.987110</td>\n",
       "      <td>2.658986</td>\n",
       "    </tr>\n",
       "    <tr>\n",
       "      <th>2013-01-05</th>\n",
       "      <td>-1.742085</td>\n",
       "      <td>0.373977</td>\n",
       "      <td>0.241728</td>\n",
       "      <td>0.845163</td>\n",
       "    </tr>\n",
       "    <tr>\n",
       "      <th>2013-01-06</th>\n",
       "      <td>1.676085</td>\n",
       "      <td>-0.603359</td>\n",
       "      <td>-1.448392</td>\n",
       "      <td>-0.426467</td>\n",
       "    </tr>\n",
       "  </tbody>\n",
       "</table>\n",
       "</div>"
      ],
      "text/plain": [
       "                   A         B         C         D\n",
       "2013-01-01  2.057798 -2.702485 -0.453129 -0.623291\n",
       "2013-01-02  0.518069 -1.072285  0.642737 -0.436096\n",
       "2013-01-03  0.543855 -0.792005  0.451127 -1.479581\n",
       "2013-01-04  0.673962 -1.758599  0.987110  2.658986\n",
       "2013-01-05 -1.742085  0.373977  0.241728  0.845163\n",
       "2013-01-06  1.676085 -0.603359 -1.448392 -0.426467"
      ]
     },
     "execution_count": 8,
     "metadata": {},
     "output_type": "execute_result"
    }
   ],
   "source": [
    "df"
   ]
  },
  {
   "cell_type": "markdown",
   "metadata": {},
   "source": [
    "Creating a DataFrame by passing a dict of objects that can be converted to series-like."
   ]
  },
  {
   "cell_type": "code",
   "execution_count": 9,
   "metadata": {},
   "outputs": [],
   "source": [
    "# See below that all the columns can be different types, created from a dictionary.\n",
    "df2 = pd.DataFrame({'A':1.,\n",
    "                   'B':pd.Timestamp('20130102'),\n",
    "                   'C':pd.Series(1,index=list(range(4)),dtype='float32'),\n",
    "                   'D':np.array([3]*4,dtype='int32'),\n",
    "                   'E':pd.Categorical([\"test\",\"train\",\"test\",\"train\"]),\n",
    "                   'F':'foo'})"
   ]
  },
  {
   "cell_type": "code",
   "execution_count": 10,
   "metadata": {},
   "outputs": [
    {
     "data": {
      "text/html": [
       "<div>\n",
       "<table border=\"1\" class=\"dataframe\">\n",
       "  <thead>\n",
       "    <tr style=\"text-align: right;\">\n",
       "      <th></th>\n",
       "      <th>A</th>\n",
       "      <th>B</th>\n",
       "      <th>C</th>\n",
       "      <th>D</th>\n",
       "      <th>E</th>\n",
       "      <th>F</th>\n",
       "    </tr>\n",
       "  </thead>\n",
       "  <tbody>\n",
       "    <tr>\n",
       "      <th>0</th>\n",
       "      <td>1.0</td>\n",
       "      <td>2013-01-02</td>\n",
       "      <td>1.0</td>\n",
       "      <td>3</td>\n",
       "      <td>test</td>\n",
       "      <td>foo</td>\n",
       "    </tr>\n",
       "    <tr>\n",
       "      <th>1</th>\n",
       "      <td>1.0</td>\n",
       "      <td>2013-01-02</td>\n",
       "      <td>1.0</td>\n",
       "      <td>3</td>\n",
       "      <td>train</td>\n",
       "      <td>foo</td>\n",
       "    </tr>\n",
       "    <tr>\n",
       "      <th>2</th>\n",
       "      <td>1.0</td>\n",
       "      <td>2013-01-02</td>\n",
       "      <td>1.0</td>\n",
       "      <td>3</td>\n",
       "      <td>test</td>\n",
       "      <td>foo</td>\n",
       "    </tr>\n",
       "    <tr>\n",
       "      <th>3</th>\n",
       "      <td>1.0</td>\n",
       "      <td>2013-01-02</td>\n",
       "      <td>1.0</td>\n",
       "      <td>3</td>\n",
       "      <td>train</td>\n",
       "      <td>foo</td>\n",
       "    </tr>\n",
       "  </tbody>\n",
       "</table>\n",
       "</div>"
      ],
      "text/plain": [
       "     A          B    C  D      E    F\n",
       "0  1.0 2013-01-02  1.0  3   test  foo\n",
       "1  1.0 2013-01-02  1.0  3  train  foo\n",
       "2  1.0 2013-01-02  1.0  3   test  foo\n",
       "3  1.0 2013-01-02  1.0  3  train  foo"
      ]
     },
     "execution_count": 10,
     "metadata": {},
     "output_type": "execute_result"
    }
   ],
   "source": [
    "df2"
   ]
  },
  {
   "cell_type": "markdown",
   "metadata": {},
   "source": [
    "Having specific [dtypes](http://pandas.pydata.org/pandas-docs/stable/basics.html#basics-dtypes)"
   ]
  },
  {
   "cell_type": "code",
   "execution_count": 11,
   "metadata": {},
   "outputs": [
    {
     "data": {
      "text/plain": [
       "A           float64\n",
       "B    datetime64[ns]\n",
       "C           float32\n",
       "D             int32\n",
       "E          category\n",
       "F            object\n",
       "dtype: object"
      ]
     },
     "execution_count": 11,
     "metadata": {},
     "output_type": "execute_result"
    }
   ],
   "source": [
    "# type for each column\n",
    "df2.dtypes"
   ]
  },
  {
   "cell_type": "markdown",
   "metadata": {},
   "source": [
    "If you’re using IPython, tab completion for column names (as well as public attributes) is automatically enabled. Here’s a subset of the attributes that will be completed:"
   ]
  },
  {
   "cell_type": "code",
   "execution_count": 12,
   "metadata": {},
   "outputs": [],
   "source": [
    "# df2.<TAB>"
   ]
  },
  {
   "cell_type": "markdown",
   "metadata": {},
   "source": [
    "As you can see, the columns A, B, C, and D are automatically tab completed. E is there as well; the rest of the attributes have been truncated for brevity."
   ]
  },
  {
   "cell_type": "markdown",
   "metadata": {},
   "source": [
    "## Viewing Data\n",
    "\n",
    "See the [Basics section](http://pandas.pydata.org/pandas-docs/stable/basics.html#basics) "
   ]
  },
  {
   "cell_type": "markdown",
   "metadata": {},
   "source": [
    "See the top & bottom rows of the frame"
   ]
  },
  {
   "cell_type": "code",
   "execution_count": 13,
   "metadata": {},
   "outputs": [
    {
     "data": {
      "text/html": [
       "<div>\n",
       "<table border=\"1\" class=\"dataframe\">\n",
       "  <thead>\n",
       "    <tr style=\"text-align: right;\">\n",
       "      <th></th>\n",
       "      <th>A</th>\n",
       "      <th>B</th>\n",
       "      <th>C</th>\n",
       "      <th>D</th>\n",
       "    </tr>\n",
       "  </thead>\n",
       "  <tbody>\n",
       "    <tr>\n",
       "      <th>2013-01-01</th>\n",
       "      <td>2.057798</td>\n",
       "      <td>-2.702485</td>\n",
       "      <td>-0.453129</td>\n",
       "      <td>-0.623291</td>\n",
       "    </tr>\n",
       "    <tr>\n",
       "      <th>2013-01-02</th>\n",
       "      <td>0.518069</td>\n",
       "      <td>-1.072285</td>\n",
       "      <td>0.642737</td>\n",
       "      <td>-0.436096</td>\n",
       "    </tr>\n",
       "    <tr>\n",
       "      <th>2013-01-03</th>\n",
       "      <td>0.543855</td>\n",
       "      <td>-0.792005</td>\n",
       "      <td>0.451127</td>\n",
       "      <td>-1.479581</td>\n",
       "    </tr>\n",
       "    <tr>\n",
       "      <th>2013-01-04</th>\n",
       "      <td>0.673962</td>\n",
       "      <td>-1.758599</td>\n",
       "      <td>0.987110</td>\n",
       "      <td>2.658986</td>\n",
       "    </tr>\n",
       "    <tr>\n",
       "      <th>2013-01-05</th>\n",
       "      <td>-1.742085</td>\n",
       "      <td>0.373977</td>\n",
       "      <td>0.241728</td>\n",
       "      <td>0.845163</td>\n",
       "    </tr>\n",
       "  </tbody>\n",
       "</table>\n",
       "</div>"
      ],
      "text/plain": [
       "                   A         B         C         D\n",
       "2013-01-01  2.057798 -2.702485 -0.453129 -0.623291\n",
       "2013-01-02  0.518069 -1.072285  0.642737 -0.436096\n",
       "2013-01-03  0.543855 -0.792005  0.451127 -1.479581\n",
       "2013-01-04  0.673962 -1.758599  0.987110  2.658986\n",
       "2013-01-05 -1.742085  0.373977  0.241728  0.845163"
      ]
     },
     "execution_count": 13,
     "metadata": {},
     "output_type": "execute_result"
    }
   ],
   "source": [
    "# as before, head(n) gives you the first n rows, defaults to 5\n",
    "df.head()"
   ]
  },
  {
   "cell_type": "code",
   "execution_count": 14,
   "metadata": {},
   "outputs": [
    {
     "data": {
      "text/html": [
       "<div>\n",
       "<table border=\"1\" class=\"dataframe\">\n",
       "  <thead>\n",
       "    <tr style=\"text-align: right;\">\n",
       "      <th></th>\n",
       "      <th>A</th>\n",
       "      <th>B</th>\n",
       "      <th>C</th>\n",
       "      <th>D</th>\n",
       "    </tr>\n",
       "  </thead>\n",
       "  <tbody>\n",
       "    <tr>\n",
       "      <th>2013-01-04</th>\n",
       "      <td>0.673962</td>\n",
       "      <td>-1.758599</td>\n",
       "      <td>0.987110</td>\n",
       "      <td>2.658986</td>\n",
       "    </tr>\n",
       "    <tr>\n",
       "      <th>2013-01-05</th>\n",
       "      <td>-1.742085</td>\n",
       "      <td>0.373977</td>\n",
       "      <td>0.241728</td>\n",
       "      <td>0.845163</td>\n",
       "    </tr>\n",
       "    <tr>\n",
       "      <th>2013-01-06</th>\n",
       "      <td>1.676085</td>\n",
       "      <td>-0.603359</td>\n",
       "      <td>-1.448392</td>\n",
       "      <td>-0.426467</td>\n",
       "    </tr>\n",
       "  </tbody>\n",
       "</table>\n",
       "</div>"
      ],
      "text/plain": [
       "                   A         B         C         D\n",
       "2013-01-04  0.673962 -1.758599  0.987110  2.658986\n",
       "2013-01-05 -1.742085  0.373977  0.241728  0.845163\n",
       "2013-01-06  1.676085 -0.603359 -1.448392 -0.426467"
      ]
     },
     "execution_count": 14,
     "metadata": {},
     "output_type": "execute_result"
    }
   ],
   "source": [
    "df.tail(3)"
   ]
  },
  {
   "cell_type": "markdown",
   "metadata": {},
   "source": [
    "Display the index, columns, and the underlying numpy data"
   ]
  },
  {
   "cell_type": "code",
   "execution_count": 15,
   "metadata": {},
   "outputs": [
    {
     "data": {
      "text/plain": [
       "DatetimeIndex(['2013-01-01', '2013-01-02', '2013-01-03', '2013-01-04',\n",
       "               '2013-01-05', '2013-01-06'],\n",
       "              dtype='datetime64[ns]', freq='D')"
      ]
     },
     "execution_count": 15,
     "metadata": {},
     "output_type": "execute_result"
    }
   ],
   "source": [
    "# if you want the index by itelf, use .index\n",
    "df.index\n",
    "# df.index[2:4]"
   ]
  },
  {
   "cell_type": "code",
   "execution_count": 16,
   "metadata": {},
   "outputs": [
    {
     "data": {
      "text/plain": [
       "Index([u'A', u'B', u'C', u'D'], dtype='object')"
      ]
     },
     "execution_count": 16,
     "metadata": {},
     "output_type": "execute_result"
    }
   ],
   "source": [
    "# Here is a list of the columns\n",
    "df.columns\n",
    "#df.columns[2]\n",
    "#df.columns[2:4]"
   ]
  },
  {
   "cell_type": "code",
   "execution_count": 17,
   "metadata": {
    "scrolled": true
   },
   "outputs": [
    {
     "data": {
      "text/plain": [
       "array([[ 2.05779781, -2.70248478, -0.4531291 , -0.62329051],\n",
       "       [ 0.51806888, -1.07228492,  0.64273726, -0.43609627],\n",
       "       [ 0.54385534, -0.79200474,  0.4511274 , -1.47958124],\n",
       "       [ 0.67396213, -1.75859866,  0.98710993,  2.65898646],\n",
       "       [-1.74208537,  0.37397746,  0.24172763,  0.84516299],\n",
       "       [ 1.67608492, -0.60335882, -1.4483918 , -0.42646684]])"
      ]
     },
     "execution_count": 17,
     "metadata": {},
     "output_type": "execute_result"
    }
   ],
   "source": [
    "# df.values extracts only the data in np.array\n",
    "df.values"
   ]
  },
  {
   "cell_type": "markdown",
   "metadata": {},
   "source": [
    "Describe shows a quick statistic summary of your data"
   ]
  },
  {
   "cell_type": "code",
   "execution_count": 141,
   "metadata": {},
   "outputs": [
    {
     "data": {
      "text/html": [
       "<div>\n",
       "<table border=\"1\" class=\"dataframe\">\n",
       "  <thead>\n",
       "    <tr style=\"text-align: right;\">\n",
       "      <th></th>\n",
       "      <th>A</th>\n",
       "      <th>B</th>\n",
       "      <th>C</th>\n",
       "      <th>D</th>\n",
       "    </tr>\n",
       "  </thead>\n",
       "  <tbody>\n",
       "    <tr>\n",
       "      <th>count</th>\n",
       "      <td>1000.000000</td>\n",
       "      <td>1000.000000</td>\n",
       "      <td>1000.000000</td>\n",
       "      <td>1000.000000</td>\n",
       "    </tr>\n",
       "    <tr>\n",
       "      <th>mean</th>\n",
       "      <td>-7.205763</td>\n",
       "      <td>-2.305402</td>\n",
       "      <td>26.947456</td>\n",
       "      <td>-13.105955</td>\n",
       "    </tr>\n",
       "    <tr>\n",
       "      <th>std</th>\n",
       "      <td>8.861247</td>\n",
       "      <td>8.342224</td>\n",
       "      <td>15.323814</td>\n",
       "      <td>9.549339</td>\n",
       "    </tr>\n",
       "    <tr>\n",
       "      <th>min</th>\n",
       "      <td>-26.919438</td>\n",
       "      <td>-22.244967</td>\n",
       "      <td>-7.145259</td>\n",
       "      <td>-40.008779</td>\n",
       "    </tr>\n",
       "    <tr>\n",
       "      <th>25%</th>\n",
       "      <td>-15.373679</td>\n",
       "      <td>-7.860837</td>\n",
       "      <td>18.203451</td>\n",
       "      <td>-18.517536</td>\n",
       "    </tr>\n",
       "    <tr>\n",
       "      <th>50%</th>\n",
       "      <td>-5.581175</td>\n",
       "      <td>-2.098278</td>\n",
       "      <td>25.253406</td>\n",
       "      <td>-12.778470</td>\n",
       "    </tr>\n",
       "    <tr>\n",
       "      <th>75%</th>\n",
       "      <td>-0.315856</td>\n",
       "      <td>3.915600</td>\n",
       "      <td>39.413715</td>\n",
       "      <td>-6.826088</td>\n",
       "    </tr>\n",
       "    <tr>\n",
       "      <th>max</th>\n",
       "      <td>10.014424</td>\n",
       "      <td>16.702602</td>\n",
       "      <td>60.283360</td>\n",
       "      <td>7.749159</td>\n",
       "    </tr>\n",
       "  </tbody>\n",
       "</table>\n",
       "</div>"
      ],
      "text/plain": [
       "                 A            B            C            D\n",
       "count  1000.000000  1000.000000  1000.000000  1000.000000\n",
       "mean     -7.205763    -2.305402    26.947456   -13.105955\n",
       "std       8.861247     8.342224    15.323814     9.549339\n",
       "min     -26.919438   -22.244967    -7.145259   -40.008779\n",
       "25%     -15.373679    -7.860837    18.203451   -18.517536\n",
       "50%      -5.581175    -2.098278    25.253406   -12.778470\n",
       "75%      -0.315856     3.915600    39.413715    -6.826088\n",
       "max      10.014424    16.702602    60.283360     7.749159"
      ]
     },
     "execution_count": 141,
     "metadata": {},
     "output_type": "execute_result"
    }
   ],
   "source": [
    "# A quick way to get statistics\n",
    "df.describe()\n",
    "# df.describe()['A'][1]\n",
    "# df.describe()[2:3]"
   ]
  },
  {
   "cell_type": "markdown",
   "metadata": {},
   "source": [
    "Transposing your data"
   ]
  },
  {
   "cell_type": "code",
   "execution_count": 19,
   "metadata": {},
   "outputs": [
    {
     "data": {
      "text/html": [
       "<div>\n",
       "<table border=\"1\" class=\"dataframe\">\n",
       "  <thead>\n",
       "    <tr style=\"text-align: right;\">\n",
       "      <th></th>\n",
       "      <th>2013-01-01 00:00:00</th>\n",
       "      <th>2013-01-02 00:00:00</th>\n",
       "      <th>2013-01-03 00:00:00</th>\n",
       "      <th>2013-01-04 00:00:00</th>\n",
       "      <th>2013-01-05 00:00:00</th>\n",
       "      <th>2013-01-06 00:00:00</th>\n",
       "    </tr>\n",
       "  </thead>\n",
       "  <tbody>\n",
       "    <tr>\n",
       "      <th>A</th>\n",
       "      <td>2.057798</td>\n",
       "      <td>0.518069</td>\n",
       "      <td>0.543855</td>\n",
       "      <td>0.673962</td>\n",
       "      <td>-1.742085</td>\n",
       "      <td>1.676085</td>\n",
       "    </tr>\n",
       "    <tr>\n",
       "      <th>B</th>\n",
       "      <td>-2.702485</td>\n",
       "      <td>-1.072285</td>\n",
       "      <td>-0.792005</td>\n",
       "      <td>-1.758599</td>\n",
       "      <td>0.373977</td>\n",
       "      <td>-0.603359</td>\n",
       "    </tr>\n",
       "    <tr>\n",
       "      <th>C</th>\n",
       "      <td>-0.453129</td>\n",
       "      <td>0.642737</td>\n",
       "      <td>0.451127</td>\n",
       "      <td>0.987110</td>\n",
       "      <td>0.241728</td>\n",
       "      <td>-1.448392</td>\n",
       "    </tr>\n",
       "    <tr>\n",
       "      <th>D</th>\n",
       "      <td>-0.623291</td>\n",
       "      <td>-0.436096</td>\n",
       "      <td>-1.479581</td>\n",
       "      <td>2.658986</td>\n",
       "      <td>0.845163</td>\n",
       "      <td>-0.426467</td>\n",
       "    </tr>\n",
       "  </tbody>\n",
       "</table>\n",
       "</div>"
      ],
      "text/plain": [
       "   2013-01-01  2013-01-02  2013-01-03  2013-01-04  2013-01-05  2013-01-06\n",
       "A    2.057798    0.518069    0.543855    0.673962   -1.742085    1.676085\n",
       "B   -2.702485   -1.072285   -0.792005   -1.758599    0.373977   -0.603359\n",
       "C   -0.453129    0.642737    0.451127    0.987110    0.241728   -1.448392\n",
       "D   -0.623291   -0.436096   -1.479581    2.658986    0.845163   -0.426467"
      ]
     },
     "execution_count": 19,
     "metadata": {},
     "output_type": "execute_result"
    }
   ],
   "source": [
    "# yes, this is the pandas method\n",
    "df.T"
   ]
  },
  {
   "cell_type": "markdown",
   "metadata": {},
   "source": [
    "Sorting by an axis"
   ]
  },
  {
   "cell_type": "code",
   "execution_count": 20,
   "metadata": {},
   "outputs": [
    {
     "data": {
      "text/html": [
       "<div>\n",
       "<table border=\"1\" class=\"dataframe\">\n",
       "  <thead>\n",
       "    <tr style=\"text-align: right;\">\n",
       "      <th></th>\n",
       "      <th>A</th>\n",
       "      <th>B</th>\n",
       "      <th>C</th>\n",
       "      <th>D</th>\n",
       "    </tr>\n",
       "  </thead>\n",
       "  <tbody>\n",
       "    <tr>\n",
       "      <th>2013-01-01</th>\n",
       "      <td>2.057798</td>\n",
       "      <td>-2.702485</td>\n",
       "      <td>-0.453129</td>\n",
       "      <td>-0.623291</td>\n",
       "    </tr>\n",
       "    <tr>\n",
       "      <th>2013-01-02</th>\n",
       "      <td>0.518069</td>\n",
       "      <td>-1.072285</td>\n",
       "      <td>0.642737</td>\n",
       "      <td>-0.436096</td>\n",
       "    </tr>\n",
       "    <tr>\n",
       "      <th>2013-01-03</th>\n",
       "      <td>0.543855</td>\n",
       "      <td>-0.792005</td>\n",
       "      <td>0.451127</td>\n",
       "      <td>-1.479581</td>\n",
       "    </tr>\n",
       "    <tr>\n",
       "      <th>2013-01-04</th>\n",
       "      <td>0.673962</td>\n",
       "      <td>-1.758599</td>\n",
       "      <td>0.987110</td>\n",
       "      <td>2.658986</td>\n",
       "    </tr>\n",
       "    <tr>\n",
       "      <th>2013-01-05</th>\n",
       "      <td>-1.742085</td>\n",
       "      <td>0.373977</td>\n",
       "      <td>0.241728</td>\n",
       "      <td>0.845163</td>\n",
       "    </tr>\n",
       "    <tr>\n",
       "      <th>2013-01-06</th>\n",
       "      <td>1.676085</td>\n",
       "      <td>-0.603359</td>\n",
       "      <td>-1.448392</td>\n",
       "      <td>-0.426467</td>\n",
       "    </tr>\n",
       "  </tbody>\n",
       "</table>\n",
       "</div>"
      ],
      "text/plain": [
       "                   A         B         C         D\n",
       "2013-01-01  2.057798 -2.702485 -0.453129 -0.623291\n",
       "2013-01-02  0.518069 -1.072285  0.642737 -0.436096\n",
       "2013-01-03  0.543855 -0.792005  0.451127 -1.479581\n",
       "2013-01-04  0.673962 -1.758599  0.987110  2.658986\n",
       "2013-01-05 -1.742085  0.373977  0.241728  0.845163\n",
       "2013-01-06  1.676085 -0.603359 -1.448392 -0.426467"
      ]
     },
     "execution_count": 20,
     "metadata": {},
     "output_type": "execute_result"
    }
   ],
   "source": [
    "# recall df\n",
    "df"
   ]
  },
  {
   "cell_type": "code",
   "execution_count": 21,
   "metadata": {},
   "outputs": [
    {
     "data": {
      "text/html": [
       "<div>\n",
       "<table border=\"1\" class=\"dataframe\">\n",
       "  <thead>\n",
       "    <tr style=\"text-align: right;\">\n",
       "      <th></th>\n",
       "      <th>D</th>\n",
       "      <th>C</th>\n",
       "      <th>B</th>\n",
       "      <th>A</th>\n",
       "    </tr>\n",
       "  </thead>\n",
       "  <tbody>\n",
       "    <tr>\n",
       "      <th>2013-01-01</th>\n",
       "      <td>-0.623291</td>\n",
       "      <td>-0.453129</td>\n",
       "      <td>-2.702485</td>\n",
       "      <td>2.057798</td>\n",
       "    </tr>\n",
       "    <tr>\n",
       "      <th>2013-01-02</th>\n",
       "      <td>-0.436096</td>\n",
       "      <td>0.642737</td>\n",
       "      <td>-1.072285</td>\n",
       "      <td>0.518069</td>\n",
       "    </tr>\n",
       "    <tr>\n",
       "      <th>2013-01-03</th>\n",
       "      <td>-1.479581</td>\n",
       "      <td>0.451127</td>\n",
       "      <td>-0.792005</td>\n",
       "      <td>0.543855</td>\n",
       "    </tr>\n",
       "    <tr>\n",
       "      <th>2013-01-04</th>\n",
       "      <td>2.658986</td>\n",
       "      <td>0.987110</td>\n",
       "      <td>-1.758599</td>\n",
       "      <td>0.673962</td>\n",
       "    </tr>\n",
       "    <tr>\n",
       "      <th>2013-01-05</th>\n",
       "      <td>0.845163</td>\n",
       "      <td>0.241728</td>\n",
       "      <td>0.373977</td>\n",
       "      <td>-1.742085</td>\n",
       "    </tr>\n",
       "    <tr>\n",
       "      <th>2013-01-06</th>\n",
       "      <td>-0.426467</td>\n",
       "      <td>-1.448392</td>\n",
       "      <td>-0.603359</td>\n",
       "      <td>1.676085</td>\n",
       "    </tr>\n",
       "  </tbody>\n",
       "</table>\n",
       "</div>"
      ],
      "text/plain": [
       "                   D         C         B         A\n",
       "2013-01-01 -0.623291 -0.453129 -2.702485  2.057798\n",
       "2013-01-02 -0.436096  0.642737 -1.072285  0.518069\n",
       "2013-01-03 -1.479581  0.451127 -0.792005  0.543855\n",
       "2013-01-04  2.658986  0.987110 -1.758599  0.673962\n",
       "2013-01-05  0.845163  0.241728  0.373977 -1.742085\n",
       "2013-01-06 -0.426467 -1.448392 -0.603359  1.676085"
      ]
     },
     "execution_count": 21,
     "metadata": {},
     "output_type": "execute_result"
    }
   ],
   "source": [
    "# See that its using the header to sort\n",
    "df.sort_index(axis=1, ascending=False)\n",
    "# try df[2:3].sort_index(axis=1, ascending=False)"
   ]
  },
  {
   "cell_type": "markdown",
   "metadata": {},
   "source": [
    "Sorting by value"
   ]
  },
  {
   "cell_type": "code",
   "execution_count": 22,
   "metadata": {},
   "outputs": [
    {
     "data": {
      "text/html": [
       "<div>\n",
       "<table border=\"1\" class=\"dataframe\">\n",
       "  <thead>\n",
       "    <tr style=\"text-align: right;\">\n",
       "      <th></th>\n",
       "      <th>A</th>\n",
       "      <th>B</th>\n",
       "      <th>C</th>\n",
       "      <th>D</th>\n",
       "    </tr>\n",
       "  </thead>\n",
       "  <tbody>\n",
       "    <tr>\n",
       "      <th>2013-01-01</th>\n",
       "      <td>2.057798</td>\n",
       "      <td>-2.702485</td>\n",
       "      <td>-0.453129</td>\n",
       "      <td>-0.623291</td>\n",
       "    </tr>\n",
       "    <tr>\n",
       "      <th>2013-01-04</th>\n",
       "      <td>0.673962</td>\n",
       "      <td>-1.758599</td>\n",
       "      <td>0.987110</td>\n",
       "      <td>2.658986</td>\n",
       "    </tr>\n",
       "    <tr>\n",
       "      <th>2013-01-02</th>\n",
       "      <td>0.518069</td>\n",
       "      <td>-1.072285</td>\n",
       "      <td>0.642737</td>\n",
       "      <td>-0.436096</td>\n",
       "    </tr>\n",
       "    <tr>\n",
       "      <th>2013-01-03</th>\n",
       "      <td>0.543855</td>\n",
       "      <td>-0.792005</td>\n",
       "      <td>0.451127</td>\n",
       "      <td>-1.479581</td>\n",
       "    </tr>\n",
       "    <tr>\n",
       "      <th>2013-01-06</th>\n",
       "      <td>1.676085</td>\n",
       "      <td>-0.603359</td>\n",
       "      <td>-1.448392</td>\n",
       "      <td>-0.426467</td>\n",
       "    </tr>\n",
       "    <tr>\n",
       "      <th>2013-01-05</th>\n",
       "      <td>-1.742085</td>\n",
       "      <td>0.373977</td>\n",
       "      <td>0.241728</td>\n",
       "      <td>0.845163</td>\n",
       "    </tr>\n",
       "  </tbody>\n",
       "</table>\n",
       "</div>"
      ],
      "text/plain": [
       "                   A         B         C         D\n",
       "2013-01-01  2.057798 -2.702485 -0.453129 -0.623291\n",
       "2013-01-04  0.673962 -1.758599  0.987110  2.658986\n",
       "2013-01-02  0.518069 -1.072285  0.642737 -0.436096\n",
       "2013-01-03  0.543855 -0.792005  0.451127 -1.479581\n",
       "2013-01-06  1.676085 -0.603359 -1.448392 -0.426467\n",
       "2013-01-05 -1.742085  0.373977  0.241728  0.845163"
      ]
     },
     "execution_count": 22,
     "metadata": {},
     "output_type": "execute_result"
    }
   ],
   "source": [
    "df.sort_values(by='B')"
   ]
  },
  {
   "cell_type": "markdown",
   "metadata": {},
   "source": [
    "## Selection"
   ]
  },
  {
   "cell_type": "markdown",
   "metadata": {},
   "source": [
    "**Note:** While standard Python / Numpy expressions for selecting and setting are intuitive and come in handy for interactive work, for production code, we recommend the optimized pandas data access methods, .at, .iat, .loc, .iloc and .ix."
   ]
  },
  {
   "cell_type": "markdown",
   "metadata": {},
   "source": [
    "See the indexing documentation [Indexing and Selecting Data](http://pandas.pydata.org/pandas-docs/stable/indexing.html#indexing) and [MultiIndex / Advanced Indexing](http://pandas.pydata.org/pandas-docs/stable/advanced.html#advanced)"
   ]
  },
  {
   "cell_type": "markdown",
   "metadata": {},
   "source": [
    "### Getting"
   ]
  },
  {
   "cell_type": "markdown",
   "metadata": {},
   "source": [
    "Selecting a single column, which yields a Series, equivalent to df.A"
   ]
  },
  {
   "cell_type": "code",
   "execution_count": 23,
   "metadata": {},
   "outputs": [
    {
     "data": {
      "text/plain": [
       "2013-01-01    2.057798\n",
       "2013-01-02    0.518069\n",
       "2013-01-03    0.543855\n",
       "2013-01-04    0.673962\n",
       "2013-01-05   -1.742085\n",
       "2013-01-06    1.676085\n",
       "Freq: D, Name: A, dtype: float64"
      ]
     },
     "execution_count": 23,
     "metadata": {},
     "output_type": "execute_result"
    }
   ],
   "source": [
    "df['A']"
   ]
  },
  {
   "cell_type": "markdown",
   "metadata": {},
   "source": [
    "Selecting via [], which slices the rows."
   ]
  },
  {
   "cell_type": "code",
   "execution_count": 24,
   "metadata": {},
   "outputs": [
    {
     "data": {
      "text/html": [
       "<div>\n",
       "<table border=\"1\" class=\"dataframe\">\n",
       "  <thead>\n",
       "    <tr style=\"text-align: right;\">\n",
       "      <th></th>\n",
       "      <th>A</th>\n",
       "      <th>B</th>\n",
       "      <th>C</th>\n",
       "      <th>D</th>\n",
       "    </tr>\n",
       "  </thead>\n",
       "  <tbody>\n",
       "    <tr>\n",
       "      <th>2013-01-02</th>\n",
       "      <td>0.518069</td>\n",
       "      <td>-1.072285</td>\n",
       "      <td>0.642737</td>\n",
       "      <td>-0.436096</td>\n",
       "    </tr>\n",
       "    <tr>\n",
       "      <th>2013-01-03</th>\n",
       "      <td>0.543855</td>\n",
       "      <td>-0.792005</td>\n",
       "      <td>0.451127</td>\n",
       "      <td>-1.479581</td>\n",
       "    </tr>\n",
       "  </tbody>\n",
       "</table>\n",
       "</div>"
      ],
      "text/plain": [
       "                   A         B         C         D\n",
       "2013-01-02  0.518069 -1.072285  0.642737 -0.436096\n",
       "2013-01-03  0.543855 -0.792005  0.451127 -1.479581"
      ]
     },
     "execution_count": 24,
     "metadata": {},
     "output_type": "execute_result"
    }
   ],
   "source": [
    "# A slice: by rows (row numbers)\n",
    "df[1:3]"
   ]
  },
  {
   "cell_type": "code",
   "execution_count": 25,
   "metadata": {},
   "outputs": [
    {
     "data": {
      "text/html": [
       "<div>\n",
       "<table border=\"1\" class=\"dataframe\">\n",
       "  <thead>\n",
       "    <tr style=\"text-align: right;\">\n",
       "      <th></th>\n",
       "      <th>A</th>\n",
       "      <th>B</th>\n",
       "      <th>C</th>\n",
       "      <th>D</th>\n",
       "    </tr>\n",
       "  </thead>\n",
       "  <tbody>\n",
       "    <tr>\n",
       "      <th>2013-01-02</th>\n",
       "      <td>0.518069</td>\n",
       "      <td>-1.072285</td>\n",
       "      <td>0.642737</td>\n",
       "      <td>-0.436096</td>\n",
       "    </tr>\n",
       "    <tr>\n",
       "      <th>2013-01-03</th>\n",
       "      <td>0.543855</td>\n",
       "      <td>-0.792005</td>\n",
       "      <td>0.451127</td>\n",
       "      <td>-1.479581</td>\n",
       "    </tr>\n",
       "    <tr>\n",
       "      <th>2013-01-04</th>\n",
       "      <td>0.673962</td>\n",
       "      <td>-1.758599</td>\n",
       "      <td>0.987110</td>\n",
       "      <td>2.658986</td>\n",
       "    </tr>\n",
       "  </tbody>\n",
       "</table>\n",
       "</div>"
      ],
      "text/plain": [
       "                   A         B         C         D\n",
       "2013-01-02  0.518069 -1.072285  0.642737 -0.436096\n",
       "2013-01-03  0.543855 -0.792005  0.451127 -1.479581\n",
       "2013-01-04  0.673962 -1.758599  0.987110  2.658986"
      ]
     },
     "execution_count": 25,
     "metadata": {},
     "output_type": "execute_result"
    }
   ],
   "source": [
    "# A slice: by rows (by range of values in index)\n",
    "df['20130102':'20130104']"
   ]
  },
  {
   "cell_type": "markdown",
   "metadata": {},
   "source": [
    "### Selection by Label\n",
    "\n",
    "See more in [Selection by Label](Selection by Label)"
   ]
  },
  {
   "cell_type": "markdown",
   "metadata": {},
   "source": [
    "For getting a cross section using a label"
   ]
  },
  {
   "cell_type": "code",
   "execution_count": 26,
   "metadata": {},
   "outputs": [
    {
     "data": {
      "text/html": [
       "<div>\n",
       "<table border=\"1\" class=\"dataframe\">\n",
       "  <thead>\n",
       "    <tr style=\"text-align: right;\">\n",
       "      <th></th>\n",
       "      <th>B</th>\n",
       "      <th>C</th>\n",
       "      <th>D</th>\n",
       "    </tr>\n",
       "  </thead>\n",
       "  <tbody>\n",
       "    <tr>\n",
       "      <th>2013-01-02</th>\n",
       "      <td>-1.072285</td>\n",
       "      <td>0.642737</td>\n",
       "      <td>-0.436096</td>\n",
       "    </tr>\n",
       "    <tr>\n",
       "      <th>2013-01-03</th>\n",
       "      <td>-0.792005</td>\n",
       "      <td>0.451127</td>\n",
       "      <td>-1.479581</td>\n",
       "    </tr>\n",
       "    <tr>\n",
       "      <th>2013-01-04</th>\n",
       "      <td>-1.758599</td>\n",
       "      <td>0.987110</td>\n",
       "      <td>2.658986</td>\n",
       "    </tr>\n",
       "  </tbody>\n",
       "</table>\n",
       "</div>"
      ],
      "text/plain": [
       "                   B         C         D\n",
       "2013-01-02 -1.072285  0.642737 -0.436096\n",
       "2013-01-03 -0.792005  0.451127 -1.479581\n",
       "2013-01-04 -1.758599  0.987110  2.658986"
      ]
     },
     "execution_count": 26,
     "metadata": {},
     "output_type": "execute_result"
    }
   ],
   "source": [
    "# Introduce loc: this will get you a cross section of the table by label ran\n",
    "# df.loc[a:b, x:y], by rows and column location\n",
    "\n",
    "df.loc['20130102':'20130104','B':'D']\n",
    "#df.loc[dates[0]]\n",
    "\n",
    "# df[0:1]\n",
    "# df[a:b] by rows\n",
    "# df[[col]] or df[[list of col]] by columns\n",
    "# df.loc[a:b, x:y], by rows and column location\n",
    "# df.iloc[3:5,0:2], by slicing by specific position"
   ]
  },
  {
   "cell_type": "markdown",
   "metadata": {},
   "source": [
    "Selection by Label"
   ]
  },
  {
   "cell_type": "code",
   "execution_count": 27,
   "metadata": {},
   "outputs": [
    {
     "data": {
      "text/html": [
       "<div>\n",
       "<table border=\"1\" class=\"dataframe\">\n",
       "  <thead>\n",
       "    <tr style=\"text-align: right;\">\n",
       "      <th></th>\n",
       "      <th>A</th>\n",
       "      <th>B</th>\n",
       "    </tr>\n",
       "  </thead>\n",
       "  <tbody>\n",
       "    <tr>\n",
       "      <th>2013-01-01</th>\n",
       "      <td>2.057798</td>\n",
       "      <td>-2.702485</td>\n",
       "    </tr>\n",
       "    <tr>\n",
       "      <th>2013-01-02</th>\n",
       "      <td>0.518069</td>\n",
       "      <td>-1.072285</td>\n",
       "    </tr>\n",
       "    <tr>\n",
       "      <th>2013-01-03</th>\n",
       "      <td>0.543855</td>\n",
       "      <td>-0.792005</td>\n",
       "    </tr>\n",
       "    <tr>\n",
       "      <th>2013-01-04</th>\n",
       "      <td>0.673962</td>\n",
       "      <td>-1.758599</td>\n",
       "    </tr>\n",
       "    <tr>\n",
       "      <th>2013-01-05</th>\n",
       "      <td>-1.742085</td>\n",
       "      <td>0.373977</td>\n",
       "    </tr>\n",
       "    <tr>\n",
       "      <th>2013-01-06</th>\n",
       "      <td>1.676085</td>\n",
       "      <td>-0.603359</td>\n",
       "    </tr>\n",
       "  </tbody>\n",
       "</table>\n",
       "</div>"
      ],
      "text/plain": [
       "                   A         B\n",
       "2013-01-01  2.057798 -2.702485\n",
       "2013-01-02  0.518069 -1.072285\n",
       "2013-01-03  0.543855 -0.792005\n",
       "2013-01-04  0.673962 -1.758599\n",
       "2013-01-05 -1.742085  0.373977\n",
       "2013-01-06  1.676085 -0.603359"
      ]
     },
     "execution_count": 27,
     "metadata": {},
     "output_type": "execute_result"
    }
   ],
   "source": [
    "#In this case, the columns are in a list\n",
    "df.loc[:,['A','B']]"
   ]
  },
  {
   "cell_type": "markdown",
   "metadata": {},
   "source": [
    "Showing label slicing, both endpoints are included"
   ]
  },
  {
   "cell_type": "code",
   "execution_count": 28,
   "metadata": {},
   "outputs": [
    {
     "data": {
      "text/html": [
       "<div>\n",
       "<table border=\"1\" class=\"dataframe\">\n",
       "  <thead>\n",
       "    <tr style=\"text-align: right;\">\n",
       "      <th></th>\n",
       "      <th>A</th>\n",
       "      <th>B</th>\n",
       "    </tr>\n",
       "  </thead>\n",
       "  <tbody>\n",
       "    <tr>\n",
       "      <th>2013-01-02</th>\n",
       "      <td>0.518069</td>\n",
       "      <td>-1.072285</td>\n",
       "    </tr>\n",
       "    <tr>\n",
       "      <th>2013-01-03</th>\n",
       "      <td>0.543855</td>\n",
       "      <td>-0.792005</td>\n",
       "    </tr>\n",
       "    <tr>\n",
       "      <th>2013-01-04</th>\n",
       "      <td>0.673962</td>\n",
       "      <td>-1.758599</td>\n",
       "    </tr>\n",
       "  </tbody>\n",
       "</table>\n",
       "</div>"
      ],
      "text/plain": [
       "                   A         B\n",
       "2013-01-02  0.518069 -1.072285\n",
       "2013-01-03  0.543855 -0.792005\n",
       "2013-01-04  0.673962 -1.758599"
      ]
     },
     "execution_count": 28,
     "metadata": {},
     "output_type": "execute_result"
    }
   ],
   "source": [
    "# more slicng with loc\n",
    "df.loc['20130102':'20130104',['A','B']]"
   ]
  },
  {
   "cell_type": "markdown",
   "metadata": {},
   "source": [
    "Reduction in the dimensions of the returned object"
   ]
  },
  {
   "cell_type": "code",
   "execution_count": 29,
   "metadata": {},
   "outputs": [
    {
     "data": {
      "text/plain": [
       "A    0.518069\n",
       "B   -1.072285\n",
       "Name: 2013-01-02 00:00:00, dtype: float64"
      ]
     },
     "execution_count": 29,
     "metadata": {},
     "output_type": "execute_result"
    }
   ],
   "source": [
    "\n",
    "df.loc['20130102',['A','B']]"
   ]
  },
  {
   "cell_type": "markdown",
   "metadata": {},
   "source": [
    "For getting a scalar value"
   ]
  },
  {
   "cell_type": "code",
   "execution_count": 30,
   "metadata": {},
   "outputs": [
    {
     "data": {
      "text/plain": [
       "2.0577978095038563"
      ]
     },
     "execution_count": 30,
     "metadata": {},
     "output_type": "execute_result"
    }
   ],
   "source": [
    "# or get just one value\n",
    "df.loc[dates[0],'A']"
   ]
  },
  {
   "cell_type": "markdown",
   "metadata": {},
   "source": [
    "### Selection by Position\n",
    "\n",
    "See more in [Selection by Position](http://pandas.pydata.org/pandas-docs/stable/indexing.html#indexing-integer)"
   ]
  },
  {
   "cell_type": "markdown",
   "metadata": {},
   "source": [
    "Select via the position of the passed integers"
   ]
  },
  {
   "cell_type": "code",
   "execution_count": 31,
   "metadata": {},
   "outputs": [
    {
     "data": {
      "text/html": [
       "<div>\n",
       "<table border=\"1\" class=\"dataframe\">\n",
       "  <thead>\n",
       "    <tr style=\"text-align: right;\">\n",
       "      <th></th>\n",
       "      <th>A</th>\n",
       "      <th>B</th>\n",
       "      <th>C</th>\n",
       "      <th>D</th>\n",
       "    </tr>\n",
       "  </thead>\n",
       "  <tbody>\n",
       "    <tr>\n",
       "      <th>2013-01-01</th>\n",
       "      <td>2.057798</td>\n",
       "      <td>-2.702485</td>\n",
       "      <td>-0.453129</td>\n",
       "      <td>-0.623291</td>\n",
       "    </tr>\n",
       "    <tr>\n",
       "      <th>2013-01-02</th>\n",
       "      <td>0.518069</td>\n",
       "      <td>-1.072285</td>\n",
       "      <td>0.642737</td>\n",
       "      <td>-0.436096</td>\n",
       "    </tr>\n",
       "    <tr>\n",
       "      <th>2013-01-03</th>\n",
       "      <td>0.543855</td>\n",
       "      <td>-0.792005</td>\n",
       "      <td>0.451127</td>\n",
       "      <td>-1.479581</td>\n",
       "    </tr>\n",
       "    <tr>\n",
       "      <th>2013-01-04</th>\n",
       "      <td>0.673962</td>\n",
       "      <td>-1.758599</td>\n",
       "      <td>0.987110</td>\n",
       "      <td>2.658986</td>\n",
       "    </tr>\n",
       "    <tr>\n",
       "      <th>2013-01-05</th>\n",
       "      <td>-1.742085</td>\n",
       "      <td>0.373977</td>\n",
       "      <td>0.241728</td>\n",
       "      <td>0.845163</td>\n",
       "    </tr>\n",
       "    <tr>\n",
       "      <th>2013-01-06</th>\n",
       "      <td>1.676085</td>\n",
       "      <td>-0.603359</td>\n",
       "      <td>-1.448392</td>\n",
       "      <td>-0.426467</td>\n",
       "    </tr>\n",
       "  </tbody>\n",
       "</table>\n",
       "</div>"
      ],
      "text/plain": [
       "                   A         B         C         D\n",
       "2013-01-01  2.057798 -2.702485 -0.453129 -0.623291\n",
       "2013-01-02  0.518069 -1.072285  0.642737 -0.436096\n",
       "2013-01-03  0.543855 -0.792005  0.451127 -1.479581\n",
       "2013-01-04  0.673962 -1.758599  0.987110  2.658986\n",
       "2013-01-05 -1.742085  0.373977  0.241728  0.845163\n",
       "2013-01-06  1.676085 -0.603359 -1.448392 -0.426467"
      ]
     },
     "execution_count": 31,
     "metadata": {},
     "output_type": "execute_result"
    }
   ],
   "source": [
    "# recall df\n",
    "df"
   ]
  },
  {
   "cell_type": "code",
   "execution_count": 32,
   "metadata": {},
   "outputs": [
    {
     "data": {
      "text/plain": [
       "A    0.673962\n",
       "B   -1.758599\n",
       "C    0.987110\n",
       "D    2.658986\n",
       "Name: 2013-01-04 00:00:00, dtype: float64"
      ]
     },
     "execution_count": 32,
     "metadata": {},
     "output_type": "execute_result"
    }
   ],
   "source": [
    "# Introduce iloc: its like loc, but uses index position instead\n",
    "df.iloc[3]"
   ]
  },
  {
   "cell_type": "markdown",
   "metadata": {},
   "source": [
    "By integer slices, acting similar to numpy/python"
   ]
  },
  {
   "cell_type": "code",
   "execution_count": 33,
   "metadata": {},
   "outputs": [
    {
     "data": {
      "text/html": [
       "<div>\n",
       "<table border=\"1\" class=\"dataframe\">\n",
       "  <thead>\n",
       "    <tr style=\"text-align: right;\">\n",
       "      <th></th>\n",
       "      <th>A</th>\n",
       "      <th>B</th>\n",
       "    </tr>\n",
       "  </thead>\n",
       "  <tbody>\n",
       "    <tr>\n",
       "      <th>2013-01-04</th>\n",
       "      <td>0.673962</td>\n",
       "      <td>-1.758599</td>\n",
       "    </tr>\n",
       "    <tr>\n",
       "      <th>2013-01-05</th>\n",
       "      <td>-1.742085</td>\n",
       "      <td>0.373977</td>\n",
       "    </tr>\n",
       "  </tbody>\n",
       "</table>\n",
       "</div>"
      ],
      "text/plain": [
       "                   A         B\n",
       "2013-01-04  0.673962 -1.758599\n",
       "2013-01-05 -1.742085  0.373977"
      ]
     },
     "execution_count": 33,
     "metadata": {},
     "output_type": "execute_result"
    }
   ],
   "source": [
    "# Get a cross section by index positions\n",
    "df.iloc[3:5,0:2]"
   ]
  },
  {
   "cell_type": "markdown",
   "metadata": {},
   "source": [
    "By lists of integer position locations, similar to the numpy/python style"
   ]
  },
  {
   "cell_type": "code",
   "execution_count": 34,
   "metadata": {},
   "outputs": [
    {
     "data": {
      "text/html": [
       "<div>\n",
       "<table border=\"1\" class=\"dataframe\">\n",
       "  <thead>\n",
       "    <tr style=\"text-align: right;\">\n",
       "      <th></th>\n",
       "      <th>A</th>\n",
       "      <th>C</th>\n",
       "    </tr>\n",
       "  </thead>\n",
       "  <tbody>\n",
       "    <tr>\n",
       "      <th>2013-01-02</th>\n",
       "      <td>0.518069</td>\n",
       "      <td>0.642737</td>\n",
       "    </tr>\n",
       "    <tr>\n",
       "      <th>2013-01-03</th>\n",
       "      <td>0.543855</td>\n",
       "      <td>0.451127</td>\n",
       "    </tr>\n",
       "    <tr>\n",
       "      <th>2013-01-05</th>\n",
       "      <td>-1.742085</td>\n",
       "      <td>0.241728</td>\n",
       "    </tr>\n",
       "  </tbody>\n",
       "</table>\n",
       "</div>"
      ],
      "text/plain": [
       "                   A         C\n",
       "2013-01-02  0.518069  0.642737\n",
       "2013-01-03  0.543855  0.451127\n",
       "2013-01-05 -1.742085  0.241728"
      ]
     },
     "execution_count": 34,
     "metadata": {},
     "output_type": "execute_result"
    }
   ],
   "source": [
    "# iloc will accept lists of position numbers\n",
    "df.iloc[[1,2,4],[0,2]]"
   ]
  },
  {
   "cell_type": "markdown",
   "metadata": {},
   "source": [
    "For slicing rows explicitly"
   ]
  },
  {
   "cell_type": "code",
   "execution_count": 35,
   "metadata": {},
   "outputs": [
    {
     "data": {
      "text/html": [
       "<div>\n",
       "<table border=\"1\" class=\"dataframe\">\n",
       "  <thead>\n",
       "    <tr style=\"text-align: right;\">\n",
       "      <th></th>\n",
       "      <th>A</th>\n",
       "      <th>B</th>\n",
       "      <th>C</th>\n",
       "      <th>D</th>\n",
       "    </tr>\n",
       "  </thead>\n",
       "  <tbody>\n",
       "    <tr>\n",
       "      <th>2013-01-02</th>\n",
       "      <td>0.518069</td>\n",
       "      <td>-1.072285</td>\n",
       "      <td>0.642737</td>\n",
       "      <td>-0.436096</td>\n",
       "    </tr>\n",
       "    <tr>\n",
       "      <th>2013-01-03</th>\n",
       "      <td>0.543855</td>\n",
       "      <td>-0.792005</td>\n",
       "      <td>0.451127</td>\n",
       "      <td>-1.479581</td>\n",
       "    </tr>\n",
       "  </tbody>\n",
       "</table>\n",
       "</div>"
      ],
      "text/plain": [
       "                   A         B         C         D\n",
       "2013-01-02  0.518069 -1.072285  0.642737 -0.436096\n",
       "2013-01-03  0.543855 -0.792005  0.451127 -1.479581"
      ]
     },
     "execution_count": 35,
     "metadata": {},
     "output_type": "execute_result"
    }
   ],
   "source": [
    "df.iloc[1:3,:]"
   ]
  },
  {
   "cell_type": "markdown",
   "metadata": {},
   "source": [
    "For slicing columns explicitly"
   ]
  },
  {
   "cell_type": "code",
   "execution_count": 36,
   "metadata": {},
   "outputs": [
    {
     "data": {
      "text/html": [
       "<div>\n",
       "<table border=\"1\" class=\"dataframe\">\n",
       "  <thead>\n",
       "    <tr style=\"text-align: right;\">\n",
       "      <th></th>\n",
       "      <th>B</th>\n",
       "      <th>C</th>\n",
       "    </tr>\n",
       "  </thead>\n",
       "  <tbody>\n",
       "    <tr>\n",
       "      <th>2013-01-01</th>\n",
       "      <td>-2.702485</td>\n",
       "      <td>-0.453129</td>\n",
       "    </tr>\n",
       "    <tr>\n",
       "      <th>2013-01-02</th>\n",
       "      <td>-1.072285</td>\n",
       "      <td>0.642737</td>\n",
       "    </tr>\n",
       "    <tr>\n",
       "      <th>2013-01-03</th>\n",
       "      <td>-0.792005</td>\n",
       "      <td>0.451127</td>\n",
       "    </tr>\n",
       "    <tr>\n",
       "      <th>2013-01-04</th>\n",
       "      <td>-1.758599</td>\n",
       "      <td>0.987110</td>\n",
       "    </tr>\n",
       "    <tr>\n",
       "      <th>2013-01-05</th>\n",
       "      <td>0.373977</td>\n",
       "      <td>0.241728</td>\n",
       "    </tr>\n",
       "    <tr>\n",
       "      <th>2013-01-06</th>\n",
       "      <td>-0.603359</td>\n",
       "      <td>-1.448392</td>\n",
       "    </tr>\n",
       "  </tbody>\n",
       "</table>\n",
       "</div>"
      ],
      "text/plain": [
       "                   B         C\n",
       "2013-01-01 -2.702485 -0.453129\n",
       "2013-01-02 -1.072285  0.642737\n",
       "2013-01-03 -0.792005  0.451127\n",
       "2013-01-04 -1.758599  0.987110\n",
       "2013-01-05  0.373977  0.241728\n",
       "2013-01-06 -0.603359 -1.448392"
      ]
     },
     "execution_count": 36,
     "metadata": {},
     "output_type": "execute_result"
    }
   ],
   "source": [
    "df.iloc[:,1:3]"
   ]
  },
  {
   "cell_type": "markdown",
   "metadata": {},
   "source": [
    "For getting a value explicitly"
   ]
  },
  {
   "cell_type": "code",
   "execution_count": 37,
   "metadata": {},
   "outputs": [
    {
     "data": {
      "text/plain": [
       "-1.072284923159011"
      ]
     },
     "execution_count": 37,
     "metadata": {},
     "output_type": "execute_result"
    }
   ],
   "source": [
    "df.iloc[1,1]"
   ]
  },
  {
   "cell_type": "markdown",
   "metadata": {},
   "source": [
    "For getting fast access to a scalar (equiv to the prior method)"
   ]
  },
  {
   "cell_type": "code",
   "execution_count": 38,
   "metadata": {},
   "outputs": [
    {
     "data": {
      "text/plain": [
       "-1.072284923159011"
      ]
     },
     "execution_count": 38,
     "metadata": {},
     "output_type": "execute_result"
    }
   ],
   "source": [
    "# same as above but faster for one single scaler value\n",
    "df.iat[1,1]"
   ]
  },
  {
   "cell_type": "markdown",
   "metadata": {},
   "source": [
    "## Boolean Indexing"
   ]
  },
  {
   "cell_type": "markdown",
   "metadata": {},
   "source": [
    "Using a single column’s values to select data."
   ]
  },
  {
   "cell_type": "code",
   "execution_count": 142,
   "metadata": {
    "scrolled": true
   },
   "outputs": [
    {
     "name": "stdout",
     "output_type": "stream",
     "text": [
      "                    A         B          C          D\n",
      "2000-01-01   0.229566  0.947490   0.327015  -1.178972\n",
      "2000-01-02   1.327026  1.381528   1.667987  -0.720750\n",
      "2000-01-03  -0.823735  1.058180   2.168018   0.305420\n",
      "2000-01-04   0.552687 -1.261507   2.648051   0.602534\n",
      "2000-01-05   0.235865 -0.188814   3.794863   1.862987\n",
      "2000-01-06   0.082977  1.223707   6.632730   1.549228\n",
      "2000-01-07  -1.006019  2.593655   6.618860   0.010621\n",
      "2000-01-08  -1.288507  1.148484   6.751376   0.800920\n",
      "2000-01-09  -2.352525 -0.146812   6.532781   0.745332\n",
      "2000-01-10  -2.499233  0.517220   6.722906   0.394381\n",
      "2000-01-11  -2.578847  0.303733   5.758798   0.342576\n",
      "2000-01-12  -3.524753  1.510723   6.947372   1.428593\n",
      "2000-01-13  -2.240955 -0.146883   4.970443  -0.896973\n",
      "2000-01-14  -0.226166 -0.984045   2.892525  -1.715817\n",
      "2000-01-15   0.824886 -0.131081   3.372065  -0.416876\n",
      "2000-01-16   0.642076  0.696531   2.946884  -1.349983\n",
      "2000-01-17   2.081030 -0.500591   1.407351  -2.200434\n",
      "2000-01-18   1.563919  0.065511   2.122547  -1.832537\n",
      "2000-01-19   2.329400 -0.893886   1.648659  -0.943635\n",
      "2000-01-20   1.693410 -0.536185   0.947853  -0.484557\n",
      "2000-01-21   1.362617 -1.760897   0.217172   0.132181\n",
      "2000-01-22   0.873303 -1.162425   1.898488   1.709020\n",
      "2000-01-23   0.578829 -1.808952   1.332493   3.299061\n",
      "2000-01-24  -0.177618 -2.313073   3.139520   3.464145\n",
      "2000-01-25  -1.559258 -0.782890   3.358138   4.340553\n",
      "2000-01-26  -2.318055 -1.604532   4.003696   4.787936\n",
      "2000-01-27  -3.734813 -0.734599   3.594038   4.130079\n",
      "2000-01-28  -3.707718 -1.482289   3.927830   3.162898\n",
      "2000-01-29  -3.408828 -3.346289   2.984204   4.047529\n",
      "2000-01-30  -3.210556 -3.952385   1.048666   3.728905\n",
      "...               ...       ...        ...        ...\n",
      "2002-08-28 -22.085345  4.086267  59.773376 -37.170933\n",
      "2002-08-29 -21.724437  3.930351  58.489588 -37.787415\n",
      "2002-08-30 -21.892033  4.999555  59.727134 -38.705546\n",
      "2002-08-31 -21.224169  4.165593  58.963788 -35.638855\n",
      "2002-09-01 -21.023506  4.218409  60.283360 -35.138075\n",
      "2002-09-02 -19.742269  4.773368  60.003044 -33.918649\n",
      "2002-09-03 -18.026437  4.331738  58.484222 -33.069365\n",
      "2002-09-04 -19.214596  4.715962  58.078844 -32.310527\n",
      "2002-09-05 -18.727034  4.593574  58.236705 -33.293412\n",
      "2002-09-06 -19.519816  4.253387  56.315565 -33.853784\n",
      "2002-09-07 -20.445961  6.527613  55.457523 -33.643307\n",
      "2002-09-08 -20.305952  6.692115  56.140298 -36.277672\n",
      "2002-09-09 -21.229383  6.535899  53.950977 -36.789764\n",
      "2002-09-10 -20.309589  6.077754  52.620348 -36.421441\n",
      "2002-09-11 -20.131924  4.177473  50.752472 -35.779432\n",
      "2002-09-12 -19.209803  3.636689  51.835834 -36.288330\n",
      "2002-09-13 -18.745233  3.708874  51.865234 -35.684195\n",
      "2002-09-14 -17.586392  2.301770  52.107479 -35.878009\n",
      "2002-09-15 -16.087126  1.094416  53.012613 -35.997198\n",
      "2002-09-16 -15.819551  1.193656  53.172575 -35.686098\n",
      "2002-09-17 -16.388726  1.100940  53.921543 -34.855610\n",
      "2002-09-18 -16.471900  0.404530  52.549188 -35.361305\n",
      "2002-09-19 -17.170579  1.796227  51.528884 -33.912447\n",
      "2002-09-20 -17.376832  1.860154  51.856175 -34.164329\n",
      "2002-09-21 -16.576938  3.253251  51.759947 -34.695169\n",
      "2002-09-22 -18.212440  3.121473  50.880599 -33.955890\n",
      "2002-09-23 -19.173849  2.280530  51.180955 -33.930285\n",
      "2002-09-24 -19.386115  2.638820  50.574456 -32.577030\n",
      "2002-09-25 -18.377048  0.448802  50.336375 -30.860890\n",
      "2002-09-26 -16.584611  1.290031  49.785116 -30.823572\n",
      "\n",
      "[1000 rows x 4 columns]\n",
      "                   A          B          C          D\n",
      "2000-01-01  0.229566   0.947490   0.327015  -1.178972\n",
      "2000-01-02  1.327026   1.381528   1.667987  -0.720750\n",
      "2000-01-04  0.552687  -1.261507   2.648051   0.602534\n",
      "2000-01-05  0.235865  -0.188814   3.794863   1.862987\n",
      "2000-01-06  0.082977   1.223707   6.632730   1.549228\n",
      "2000-01-15  0.824886  -0.131081   3.372065  -0.416876\n",
      "2000-01-16  0.642076   0.696531   2.946884  -1.349983\n",
      "2000-01-17  2.081030  -0.500591   1.407351  -2.200434\n",
      "2000-01-18  1.563919   0.065511   2.122547  -1.832537\n",
      "2000-01-19  2.329400  -0.893886   1.648659  -0.943635\n",
      "2000-01-20  1.693410  -0.536185   0.947853  -0.484557\n",
      "2000-01-21  1.362617  -1.760897   0.217172   0.132181\n",
      "2000-01-22  0.873303  -1.162425   1.898488   1.709020\n",
      "2000-01-23  0.578829  -1.808952   1.332493   3.299061\n",
      "2000-02-24  0.160350 -12.445658   3.629621  -2.964319\n",
      "2000-02-26  0.083122 -13.547523   3.618977  -3.845706\n",
      "2000-02-28  0.691928 -14.087676  -0.910153  -5.241206\n",
      "2000-02-29  0.635115 -14.322386  -1.418874  -4.461547\n",
      "2000-03-02  1.331594 -15.113119  -4.309049  -3.401405\n",
      "2000-03-03  0.143515 -15.421936  -5.195509  -3.636034\n",
      "2000-03-04  0.324525 -16.135738  -4.846925  -5.256211\n",
      "2000-03-05  0.328219 -16.044333  -3.965939  -7.688713\n",
      "2000-03-14  0.089865 -16.941223  -6.699257  -7.062318\n",
      "2000-03-15  0.648127 -14.605935  -5.780555  -8.381980\n",
      "2000-03-16  0.572127 -14.249011  -3.943154  -7.734479\n",
      "2000-03-17  1.553295 -14.917165  -3.832888  -7.165570\n",
      "2000-03-18  1.372202 -15.960418  -3.916716  -7.592196\n",
      "2000-03-19  1.571923 -16.614055  -3.109664  -8.401248\n",
      "2000-03-20  2.092678 -15.611345  -3.409325  -7.634730\n",
      "2000-03-21  1.696681 -15.007763  -3.009074  -9.122907\n",
      "...              ...        ...        ...        ...\n",
      "2001-08-25  6.174607 -11.806877  20.631583  -5.895780\n",
      "2001-08-26  6.829287 -11.535253  19.342548  -5.726027\n",
      "2001-08-27  6.279256 -13.331550  18.939517  -5.153041\n",
      "2001-08-28  4.137596 -12.035042  17.331356  -5.176017\n",
      "2001-08-29  4.392895 -13.919636  15.932875  -6.510184\n",
      "2001-08-30  5.787763 -14.178310  15.766320  -7.312221\n",
      "2001-08-31  6.084497 -15.097962  16.292895  -7.332960\n",
      "2001-09-01  7.759200 -14.435229  15.344041  -6.722931\n",
      "2001-09-02  6.992436 -14.332195  15.038817  -6.871220\n",
      "2001-09-03  5.141756 -13.237646  15.664205  -5.745929\n",
      "2001-09-04  4.101516 -11.472543  17.124917  -5.340963\n",
      "2001-09-05  3.987064 -10.793128  17.143992  -5.978266\n",
      "2001-09-06  4.867462 -11.319295  17.446107  -5.831208\n",
      "2001-09-07  4.809412  -9.710158  18.004330  -5.435319\n",
      "2001-09-08  4.450995 -10.005333  18.186947  -5.505663\n",
      "2001-09-09  6.871946  -9.023891  19.289616  -6.640347\n",
      "2001-09-10  6.546489  -8.346885  19.981443  -7.306058\n",
      "2001-09-11  5.786671  -7.178536  19.291189  -5.876401\n",
      "2001-09-12  5.722513  -7.588742  18.053044  -6.254994\n",
      "2001-09-13  5.088705  -8.707253  17.498793  -6.135996\n",
      "2001-09-14  4.574600  -7.104057  18.190881  -6.888516\n",
      "2001-09-15  4.623214  -6.862192  18.275443  -4.847862\n",
      "2001-09-16  5.436723  -7.883004  18.597367  -6.623571\n",
      "2001-09-17  5.642579  -7.213049  18.387598  -7.043190\n",
      "2001-09-18  2.421719  -5.721225  19.613054  -6.156574\n",
      "2001-09-19  2.862477  -6.076870  20.892017  -7.628494\n",
      "2001-09-20  1.783656  -5.517545  20.681573  -9.189988\n",
      "2001-09-21  1.730328  -6.284332  21.449403 -11.081632\n",
      "2001-09-22  2.089258  -6.143747  21.291536 -12.147972\n",
      "2001-09-23  1.193951  -6.864059  21.595304 -10.735250\n",
      "\n",
      "[238 rows x 4 columns]\n",
      "\n",
      "2000-01-01     True\n",
      "2000-01-02     True\n",
      "2000-01-03    False\n",
      "2000-01-04     True\n",
      "2000-01-05     True\n",
      "2000-01-06     True\n",
      "2000-01-07    False\n",
      "2000-01-08    False\n",
      "2000-01-09    False\n",
      "2000-01-10    False\n",
      "2000-01-11    False\n",
      "2000-01-12    False\n",
      "2000-01-13    False\n",
      "2000-01-14    False\n",
      "2000-01-15     True\n",
      "2000-01-16     True\n",
      "2000-01-17     True\n",
      "2000-01-18     True\n",
      "2000-01-19     True\n",
      "2000-01-20     True\n",
      "2000-01-21     True\n",
      "2000-01-22     True\n",
      "2000-01-23     True\n",
      "2000-01-24    False\n",
      "2000-01-25    False\n",
      "2000-01-26    False\n",
      "2000-01-27    False\n",
      "2000-01-28    False\n",
      "2000-01-29    False\n",
      "2000-01-30    False\n",
      "              ...  \n",
      "2002-08-28    False\n",
      "2002-08-29    False\n",
      "2002-08-30    False\n",
      "2002-08-31    False\n",
      "2002-09-01    False\n",
      "2002-09-02    False\n",
      "2002-09-03    False\n",
      "2002-09-04    False\n",
      "2002-09-05    False\n",
      "2002-09-06    False\n",
      "2002-09-07    False\n",
      "2002-09-08    False\n",
      "2002-09-09    False\n",
      "2002-09-10    False\n",
      "2002-09-11    False\n",
      "2002-09-12    False\n",
      "2002-09-13    False\n",
      "2002-09-14    False\n",
      "2002-09-15    False\n",
      "2002-09-16    False\n",
      "2002-09-17    False\n",
      "2002-09-18    False\n",
      "2002-09-19    False\n",
      "2002-09-20    False\n",
      "2002-09-21    False\n",
      "2002-09-22    False\n",
      "2002-09-23    False\n",
      "2002-09-24    False\n",
      "2002-09-25    False\n",
      "2002-09-26    False\n",
      "Freq: D, Name: A, dtype: bool\n",
      "                   A          B          C          D\n",
      "2000-01-01  0.229566   0.947490   0.327015  -1.178972\n",
      "2000-01-02  1.327026   1.381528   1.667987  -0.720750\n",
      "2000-01-04  0.552687  -1.261507   2.648051   0.602534\n",
      "2000-01-05  0.235865  -0.188814   3.794863   1.862987\n",
      "2000-01-06  0.082977   1.223707   6.632730   1.549228\n",
      "2000-01-15  0.824886  -0.131081   3.372065  -0.416876\n",
      "2000-01-16  0.642076   0.696531   2.946884  -1.349983\n",
      "2000-01-17  2.081030  -0.500591   1.407351  -2.200434\n",
      "2000-01-18  1.563919   0.065511   2.122547  -1.832537\n",
      "2000-01-19  2.329400  -0.893886   1.648659  -0.943635\n",
      "2000-01-20  1.693410  -0.536185   0.947853  -0.484557\n",
      "2000-01-21  1.362617  -1.760897   0.217172   0.132181\n",
      "2000-01-22  0.873303  -1.162425   1.898488   1.709020\n",
      "2000-01-23  0.578829  -1.808952   1.332493   3.299061\n",
      "2000-02-24  0.160350 -12.445658   3.629621  -2.964319\n",
      "2000-02-26  0.083122 -13.547523   3.618977  -3.845706\n",
      "2000-02-28  0.691928 -14.087676  -0.910153  -5.241206\n",
      "2000-02-29  0.635115 -14.322386  -1.418874  -4.461547\n",
      "2000-03-02  1.331594 -15.113119  -4.309049  -3.401405\n",
      "2000-03-03  0.143515 -15.421936  -5.195509  -3.636034\n",
      "2000-03-04  0.324525 -16.135738  -4.846925  -5.256211\n",
      "2000-03-05  0.328219 -16.044333  -3.965939  -7.688713\n",
      "2000-03-14  0.089865 -16.941223  -6.699257  -7.062318\n",
      "2000-03-15  0.648127 -14.605935  -5.780555  -8.381980\n",
      "2000-03-16  0.572127 -14.249011  -3.943154  -7.734479\n",
      "2000-03-17  1.553295 -14.917165  -3.832888  -7.165570\n",
      "2000-03-18  1.372202 -15.960418  -3.916716  -7.592196\n",
      "2000-03-19  1.571923 -16.614055  -3.109664  -8.401248\n",
      "2000-03-20  2.092678 -15.611345  -3.409325  -7.634730\n",
      "2000-03-21  1.696681 -15.007763  -3.009074  -9.122907\n",
      "...              ...        ...        ...        ...\n",
      "2001-08-25  6.174607 -11.806877  20.631583  -5.895780\n",
      "2001-08-26  6.829287 -11.535253  19.342548  -5.726027\n",
      "2001-08-27  6.279256 -13.331550  18.939517  -5.153041\n",
      "2001-08-28  4.137596 -12.035042  17.331356  -5.176017\n",
      "2001-08-29  4.392895 -13.919636  15.932875  -6.510184\n",
      "2001-08-30  5.787763 -14.178310  15.766320  -7.312221\n",
      "2001-08-31  6.084497 -15.097962  16.292895  -7.332960\n",
      "2001-09-01  7.759200 -14.435229  15.344041  -6.722931\n",
      "2001-09-02  6.992436 -14.332195  15.038817  -6.871220\n",
      "2001-09-03  5.141756 -13.237646  15.664205  -5.745929\n",
      "2001-09-04  4.101516 -11.472543  17.124917  -5.340963\n",
      "2001-09-05  3.987064 -10.793128  17.143992  -5.978266\n",
      "2001-09-06  4.867462 -11.319295  17.446107  -5.831208\n",
      "2001-09-07  4.809412  -9.710158  18.004330  -5.435319\n",
      "2001-09-08  4.450995 -10.005333  18.186947  -5.505663\n",
      "2001-09-09  6.871946  -9.023891  19.289616  -6.640347\n",
      "2001-09-10  6.546489  -8.346885  19.981443  -7.306058\n",
      "2001-09-11  5.786671  -7.178536  19.291189  -5.876401\n",
      "2001-09-12  5.722513  -7.588742  18.053044  -6.254994\n",
      "2001-09-13  5.088705  -8.707253  17.498793  -6.135996\n",
      "2001-09-14  4.574600  -7.104057  18.190881  -6.888516\n",
      "2001-09-15  4.623214  -6.862192  18.275443  -4.847862\n",
      "2001-09-16  5.436723  -7.883004  18.597367  -6.623571\n",
      "2001-09-17  5.642579  -7.213049  18.387598  -7.043190\n",
      "2001-09-18  2.421719  -5.721225  19.613054  -6.156574\n",
      "2001-09-19  2.862477  -6.076870  20.892017  -7.628494\n",
      "2001-09-20  1.783656  -5.517545  20.681573  -9.189988\n",
      "2001-09-21  1.730328  -6.284332  21.449403 -11.081632\n",
      "2001-09-22  2.089258  -6.143747  21.291536 -12.147972\n",
      "2001-09-23  1.193951  -6.864059  21.595304 -10.735250\n",
      "\n",
      "[238 rows x 4 columns]\n"
     ]
    }
   ],
   "source": [
    "print df\n",
    "\n",
    "# this will be only the rows where the A column is > 0\n",
    "print df[df.A > 0]\n",
    "print\n",
    "\n",
    "# same result\n",
    "print df['A'] > 0\n",
    "print df[df['A'] > 0]"
   ]
  },
  {
   "cell_type": "markdown",
   "metadata": {},
   "source": [
    "A where operation for getting."
   ]
  },
  {
   "cell_type": "code",
   "execution_count": 40,
   "metadata": {},
   "outputs": [
    {
     "name": "stdout",
     "output_type": "stream",
     "text": [
      "                A      B      C      D\n",
      "2013-01-01   True  False  False  False\n",
      "2013-01-02   True  False   True  False\n",
      "2013-01-03   True  False   True  False\n",
      "2013-01-04   True  False   True   True\n",
      "2013-01-05  False   True   True   True\n",
      "2013-01-06   True  False  False  False\n"
     ]
    },
    {
     "data": {
      "text/html": [
       "<div>\n",
       "<table border=\"1\" class=\"dataframe\">\n",
       "  <thead>\n",
       "    <tr style=\"text-align: right;\">\n",
       "      <th></th>\n",
       "      <th>A</th>\n",
       "      <th>B</th>\n",
       "      <th>C</th>\n",
       "      <th>D</th>\n",
       "    </tr>\n",
       "  </thead>\n",
       "  <tbody>\n",
       "    <tr>\n",
       "      <th>2013-01-01</th>\n",
       "      <td>2.057798</td>\n",
       "      <td>NaN</td>\n",
       "      <td>NaN</td>\n",
       "      <td>NaN</td>\n",
       "    </tr>\n",
       "    <tr>\n",
       "      <th>2013-01-02</th>\n",
       "      <td>0.518069</td>\n",
       "      <td>NaN</td>\n",
       "      <td>0.642737</td>\n",
       "      <td>NaN</td>\n",
       "    </tr>\n",
       "    <tr>\n",
       "      <th>2013-01-03</th>\n",
       "      <td>0.543855</td>\n",
       "      <td>NaN</td>\n",
       "      <td>0.451127</td>\n",
       "      <td>NaN</td>\n",
       "    </tr>\n",
       "    <tr>\n",
       "      <th>2013-01-04</th>\n",
       "      <td>0.673962</td>\n",
       "      <td>NaN</td>\n",
       "      <td>0.987110</td>\n",
       "      <td>2.658986</td>\n",
       "    </tr>\n",
       "    <tr>\n",
       "      <th>2013-01-05</th>\n",
       "      <td>NaN</td>\n",
       "      <td>0.373977</td>\n",
       "      <td>0.241728</td>\n",
       "      <td>0.845163</td>\n",
       "    </tr>\n",
       "    <tr>\n",
       "      <th>2013-01-06</th>\n",
       "      <td>1.676085</td>\n",
       "      <td>NaN</td>\n",
       "      <td>NaN</td>\n",
       "      <td>NaN</td>\n",
       "    </tr>\n",
       "  </tbody>\n",
       "</table>\n",
       "</div>"
      ],
      "text/plain": [
       "                   A         B         C         D\n",
       "2013-01-01  2.057798       NaN       NaN       NaN\n",
       "2013-01-02  0.518069       NaN  0.642737       NaN\n",
       "2013-01-03  0.543855       NaN  0.451127       NaN\n",
       "2013-01-04  0.673962       NaN  0.987110  2.658986\n",
       "2013-01-05       NaN  0.373977  0.241728  0.845163\n",
       "2013-01-06  1.676085       NaN       NaN       NaN"
      ]
     },
     "execution_count": 40,
     "metadata": {},
     "output_type": "execute_result"
    }
   ],
   "source": [
    "# Try this to see which elements are > 0\n",
    "print df > 0\n",
    "# The show only those values\n",
    "df[df > 0]"
   ]
  },
  {
   "cell_type": "markdown",
   "metadata": {},
   "source": [
    "Using the isin() method for filtering:"
   ]
  },
  {
   "cell_type": "code",
   "execution_count": 41,
   "metadata": {
    "scrolled": true
   },
   "outputs": [],
   "source": [
    "df2 = df.copy()"
   ]
  },
  {
   "cell_type": "code",
   "execution_count": 42,
   "metadata": {
    "collapsed": true
   },
   "outputs": [],
   "source": [
    "# We are about to add a new column to df2\n",
    "df2['E'] = ['one','one', 'two','three','four','three']"
   ]
  },
  {
   "cell_type": "code",
   "execution_count": 43,
   "metadata": {},
   "outputs": [
    {
     "data": {
      "text/html": [
       "<div>\n",
       "<table border=\"1\" class=\"dataframe\">\n",
       "  <thead>\n",
       "    <tr style=\"text-align: right;\">\n",
       "      <th></th>\n",
       "      <th>A</th>\n",
       "      <th>B</th>\n",
       "      <th>C</th>\n",
       "      <th>D</th>\n",
       "      <th>E</th>\n",
       "    </tr>\n",
       "  </thead>\n",
       "  <tbody>\n",
       "    <tr>\n",
       "      <th>2013-01-01</th>\n",
       "      <td>2.057798</td>\n",
       "      <td>-2.702485</td>\n",
       "      <td>-0.453129</td>\n",
       "      <td>-0.623291</td>\n",
       "      <td>one</td>\n",
       "    </tr>\n",
       "    <tr>\n",
       "      <th>2013-01-02</th>\n",
       "      <td>0.518069</td>\n",
       "      <td>-1.072285</td>\n",
       "      <td>0.642737</td>\n",
       "      <td>-0.436096</td>\n",
       "      <td>one</td>\n",
       "    </tr>\n",
       "    <tr>\n",
       "      <th>2013-01-03</th>\n",
       "      <td>0.543855</td>\n",
       "      <td>-0.792005</td>\n",
       "      <td>0.451127</td>\n",
       "      <td>-1.479581</td>\n",
       "      <td>two</td>\n",
       "    </tr>\n",
       "    <tr>\n",
       "      <th>2013-01-04</th>\n",
       "      <td>0.673962</td>\n",
       "      <td>-1.758599</td>\n",
       "      <td>0.987110</td>\n",
       "      <td>2.658986</td>\n",
       "      <td>three</td>\n",
       "    </tr>\n",
       "    <tr>\n",
       "      <th>2013-01-05</th>\n",
       "      <td>-1.742085</td>\n",
       "      <td>0.373977</td>\n",
       "      <td>0.241728</td>\n",
       "      <td>0.845163</td>\n",
       "      <td>four</td>\n",
       "    </tr>\n",
       "    <tr>\n",
       "      <th>2013-01-06</th>\n",
       "      <td>1.676085</td>\n",
       "      <td>-0.603359</td>\n",
       "      <td>-1.448392</td>\n",
       "      <td>-0.426467</td>\n",
       "      <td>three</td>\n",
       "    </tr>\n",
       "  </tbody>\n",
       "</table>\n",
       "</div>"
      ],
      "text/plain": [
       "                   A         B         C         D      E\n",
       "2013-01-01  2.057798 -2.702485 -0.453129 -0.623291    one\n",
       "2013-01-02  0.518069 -1.072285  0.642737 -0.436096    one\n",
       "2013-01-03  0.543855 -0.792005  0.451127 -1.479581    two\n",
       "2013-01-04  0.673962 -1.758599  0.987110  2.658986  three\n",
       "2013-01-05 -1.742085  0.373977  0.241728  0.845163   four\n",
       "2013-01-06  1.676085 -0.603359 -1.448392 -0.426467  three"
      ]
     },
     "execution_count": 43,
     "metadata": {},
     "output_type": "execute_result"
    }
   ],
   "source": [
    "df2"
   ]
  },
  {
   "cell_type": "code",
   "execution_count": 44,
   "metadata": {},
   "outputs": [
    {
     "name": "stdout",
     "output_type": "stream",
     "text": [
      "2013-01-01    False\n",
      "2013-01-02    False\n",
      "2013-01-03     True\n",
      "2013-01-04    False\n",
      "2013-01-05     True\n",
      "2013-01-06    False\n",
      "Freq: D, Name: E, dtype: bool\n"
     ]
    },
    {
     "data": {
      "text/html": [
       "<div>\n",
       "<table border=\"1\" class=\"dataframe\">\n",
       "  <thead>\n",
       "    <tr style=\"text-align: right;\">\n",
       "      <th></th>\n",
       "      <th>A</th>\n",
       "      <th>B</th>\n",
       "      <th>C</th>\n",
       "      <th>D</th>\n",
       "      <th>E</th>\n",
       "    </tr>\n",
       "  </thead>\n",
       "  <tbody>\n",
       "    <tr>\n",
       "      <th>2013-01-03</th>\n",
       "      <td>0.543855</td>\n",
       "      <td>-0.792005</td>\n",
       "      <td>0.451127</td>\n",
       "      <td>-1.479581</td>\n",
       "      <td>two</td>\n",
       "    </tr>\n",
       "    <tr>\n",
       "      <th>2013-01-05</th>\n",
       "      <td>-1.742085</td>\n",
       "      <td>0.373977</td>\n",
       "      <td>0.241728</td>\n",
       "      <td>0.845163</td>\n",
       "      <td>four</td>\n",
       "    </tr>\n",
       "  </tbody>\n",
       "</table>\n",
       "</div>"
      ],
      "text/plain": [
       "                   A         B         C         D     E\n",
       "2013-01-03  0.543855 -0.792005  0.451127 -1.479581   two\n",
       "2013-01-05 -1.742085  0.373977  0.241728  0.845163  four"
      ]
     },
     "execution_count": 44,
     "metadata": {},
     "output_type": "execute_result"
    }
   ],
   "source": [
    "# We use isin to get only the rows that have 'two' and 'four'\n",
    "print df2['E'].isin(['two','four'])\n",
    "\n",
    "df2[df2['E'].isin(['two','four'])]\n",
    "\n",
    "\n"
   ]
  },
  {
   "cell_type": "markdown",
   "metadata": {},
   "source": [
    "## Setting"
   ]
  },
  {
   "cell_type": "markdown",
   "metadata": {},
   "source": [
    "Setting a new column automatically aligns the data by the indexes"
   ]
  },
  {
   "cell_type": "code",
   "execution_count": 45,
   "metadata": {},
   "outputs": [],
   "source": [
    "s1 = pd.Series([1,2,3,4,5,6], index=pd.date_range('20130102',periods=6))"
   ]
  },
  {
   "cell_type": "code",
   "execution_count": 46,
   "metadata": {},
   "outputs": [
    {
     "data": {
      "text/plain": [
       "2013-01-02    1\n",
       "2013-01-03    2\n",
       "2013-01-04    3\n",
       "2013-01-05    4\n",
       "2013-01-06    5\n",
       "2013-01-07    6\n",
       "Freq: D, dtype: int64"
      ]
     },
     "execution_count": 46,
     "metadata": {},
     "output_type": "execute_result"
    }
   ],
   "source": [
    "s1"
   ]
  },
  {
   "cell_type": "code",
   "execution_count": 47,
   "metadata": {},
   "outputs": [
    {
     "data": {
      "text/html": [
       "<div>\n",
       "<table border=\"1\" class=\"dataframe\">\n",
       "  <thead>\n",
       "    <tr style=\"text-align: right;\">\n",
       "      <th></th>\n",
       "      <th>A</th>\n",
       "      <th>B</th>\n",
       "      <th>C</th>\n",
       "      <th>D</th>\n",
       "      <th>F</th>\n",
       "    </tr>\n",
       "  </thead>\n",
       "  <tbody>\n",
       "    <tr>\n",
       "      <th>2013-01-01</th>\n",
       "      <td>2.057798</td>\n",
       "      <td>-2.702485</td>\n",
       "      <td>-0.453129</td>\n",
       "      <td>-0.623291</td>\n",
       "      <td>NaN</td>\n",
       "    </tr>\n",
       "    <tr>\n",
       "      <th>2013-01-02</th>\n",
       "      <td>0.518069</td>\n",
       "      <td>-1.072285</td>\n",
       "      <td>0.642737</td>\n",
       "      <td>-0.436096</td>\n",
       "      <td>1.0</td>\n",
       "    </tr>\n",
       "    <tr>\n",
       "      <th>2013-01-03</th>\n",
       "      <td>0.543855</td>\n",
       "      <td>-0.792005</td>\n",
       "      <td>0.451127</td>\n",
       "      <td>-1.479581</td>\n",
       "      <td>2.0</td>\n",
       "    </tr>\n",
       "    <tr>\n",
       "      <th>2013-01-04</th>\n",
       "      <td>0.673962</td>\n",
       "      <td>-1.758599</td>\n",
       "      <td>0.987110</td>\n",
       "      <td>2.658986</td>\n",
       "      <td>3.0</td>\n",
       "    </tr>\n",
       "    <tr>\n",
       "      <th>2013-01-05</th>\n",
       "      <td>-1.742085</td>\n",
       "      <td>0.373977</td>\n",
       "      <td>0.241728</td>\n",
       "      <td>0.845163</td>\n",
       "      <td>4.0</td>\n",
       "    </tr>\n",
       "    <tr>\n",
       "      <th>2013-01-06</th>\n",
       "      <td>1.676085</td>\n",
       "      <td>-0.603359</td>\n",
       "      <td>-1.448392</td>\n",
       "      <td>-0.426467</td>\n",
       "      <td>5.0</td>\n",
       "    </tr>\n",
       "  </tbody>\n",
       "</table>\n",
       "</div>"
      ],
      "text/plain": [
       "                   A         B         C         D    F\n",
       "2013-01-01  2.057798 -2.702485 -0.453129 -0.623291  NaN\n",
       "2013-01-02  0.518069 -1.072285  0.642737 -0.436096  1.0\n",
       "2013-01-03  0.543855 -0.792005  0.451127 -1.479581  2.0\n",
       "2013-01-04  0.673962 -1.758599  0.987110  2.658986  3.0\n",
       "2013-01-05 -1.742085  0.373977  0.241728  0.845163  4.0\n",
       "2013-01-06  1.676085 -0.603359 -1.448392 -0.426467  5.0"
      ]
     },
     "execution_count": 47,
     "metadata": {},
     "output_type": "execute_result"
    }
   ],
   "source": [
    "# Many of the same indexing and slicing methods can be used also to set data\n",
    "df['F'] = s1\n",
    "df"
   ]
  },
  {
   "cell_type": "markdown",
   "metadata": {},
   "source": [
    "Setting values by label"
   ]
  },
  {
   "cell_type": "code",
   "execution_count": 48,
   "metadata": {},
   "outputs": [
    {
     "data": {
      "text/html": [
       "<div>\n",
       "<table border=\"1\" class=\"dataframe\">\n",
       "  <thead>\n",
       "    <tr style=\"text-align: right;\">\n",
       "      <th></th>\n",
       "      <th>A</th>\n",
       "      <th>B</th>\n",
       "      <th>C</th>\n",
       "      <th>D</th>\n",
       "      <th>F</th>\n",
       "    </tr>\n",
       "  </thead>\n",
       "  <tbody>\n",
       "    <tr>\n",
       "      <th>2013-01-01</th>\n",
       "      <td>0.000000</td>\n",
       "      <td>-2.702485</td>\n",
       "      <td>-0.453129</td>\n",
       "      <td>-0.623291</td>\n",
       "      <td>NaN</td>\n",
       "    </tr>\n",
       "    <tr>\n",
       "      <th>2013-01-02</th>\n",
       "      <td>0.518069</td>\n",
       "      <td>-1.072285</td>\n",
       "      <td>0.642737</td>\n",
       "      <td>-0.436096</td>\n",
       "      <td>1.0</td>\n",
       "    </tr>\n",
       "    <tr>\n",
       "      <th>2013-01-03</th>\n",
       "      <td>0.543855</td>\n",
       "      <td>-0.792005</td>\n",
       "      <td>0.451127</td>\n",
       "      <td>-1.479581</td>\n",
       "      <td>2.0</td>\n",
       "    </tr>\n",
       "    <tr>\n",
       "      <th>2013-01-04</th>\n",
       "      <td>0.673962</td>\n",
       "      <td>-1.758599</td>\n",
       "      <td>0.987110</td>\n",
       "      <td>2.658986</td>\n",
       "      <td>3.0</td>\n",
       "    </tr>\n",
       "    <tr>\n",
       "      <th>2013-01-05</th>\n",
       "      <td>-1.742085</td>\n",
       "      <td>0.373977</td>\n",
       "      <td>0.241728</td>\n",
       "      <td>0.845163</td>\n",
       "      <td>4.0</td>\n",
       "    </tr>\n",
       "    <tr>\n",
       "      <th>2013-01-06</th>\n",
       "      <td>1.676085</td>\n",
       "      <td>-0.603359</td>\n",
       "      <td>-1.448392</td>\n",
       "      <td>-0.426467</td>\n",
       "      <td>5.0</td>\n",
       "    </tr>\n",
       "  </tbody>\n",
       "</table>\n",
       "</div>"
      ],
      "text/plain": [
       "                   A         B         C         D    F\n",
       "2013-01-01  0.000000 -2.702485 -0.453129 -0.623291  NaN\n",
       "2013-01-02  0.518069 -1.072285  0.642737 -0.436096  1.0\n",
       "2013-01-03  0.543855 -0.792005  0.451127 -1.479581  2.0\n",
       "2013-01-04  0.673962 -1.758599  0.987110  2.658986  3.0\n",
       "2013-01-05 -1.742085  0.373977  0.241728  0.845163  4.0\n",
       "2013-01-06  1.676085 -0.603359 -1.448392 -0.426467  5.0"
      ]
     },
     "execution_count": 48,
     "metadata": {},
     "output_type": "execute_result"
    }
   ],
   "source": [
    "# look at the first row and column\n",
    "df.at[dates[0],'A'] = 0\n",
    "df"
   ]
  },
  {
   "cell_type": "markdown",
   "metadata": {},
   "source": [
    "Setting values by position"
   ]
  },
  {
   "cell_type": "code",
   "execution_count": 49,
   "metadata": {},
   "outputs": [
    {
     "data": {
      "text/html": [
       "<div>\n",
       "<table border=\"1\" class=\"dataframe\">\n",
       "  <thead>\n",
       "    <tr style=\"text-align: right;\">\n",
       "      <th></th>\n",
       "      <th>A</th>\n",
       "      <th>B</th>\n",
       "      <th>C</th>\n",
       "      <th>D</th>\n",
       "      <th>F</th>\n",
       "    </tr>\n",
       "  </thead>\n",
       "  <tbody>\n",
       "    <tr>\n",
       "      <th>2013-01-01</th>\n",
       "      <td>0.000000</td>\n",
       "      <td>0.000000</td>\n",
       "      <td>-0.453129</td>\n",
       "      <td>-0.623291</td>\n",
       "      <td>NaN</td>\n",
       "    </tr>\n",
       "    <tr>\n",
       "      <th>2013-01-02</th>\n",
       "      <td>0.518069</td>\n",
       "      <td>-1.072285</td>\n",
       "      <td>0.642737</td>\n",
       "      <td>-0.436096</td>\n",
       "      <td>1.0</td>\n",
       "    </tr>\n",
       "    <tr>\n",
       "      <th>2013-01-03</th>\n",
       "      <td>0.543855</td>\n",
       "      <td>-0.792005</td>\n",
       "      <td>0.451127</td>\n",
       "      <td>-1.479581</td>\n",
       "      <td>2.0</td>\n",
       "    </tr>\n",
       "    <tr>\n",
       "      <th>2013-01-04</th>\n",
       "      <td>0.673962</td>\n",
       "      <td>-1.758599</td>\n",
       "      <td>0.987110</td>\n",
       "      <td>2.658986</td>\n",
       "      <td>3.0</td>\n",
       "    </tr>\n",
       "    <tr>\n",
       "      <th>2013-01-05</th>\n",
       "      <td>-1.742085</td>\n",
       "      <td>0.373977</td>\n",
       "      <td>0.241728</td>\n",
       "      <td>0.845163</td>\n",
       "      <td>4.0</td>\n",
       "    </tr>\n",
       "    <tr>\n",
       "      <th>2013-01-06</th>\n",
       "      <td>1.676085</td>\n",
       "      <td>-0.603359</td>\n",
       "      <td>-1.448392</td>\n",
       "      <td>-0.426467</td>\n",
       "      <td>5.0</td>\n",
       "    </tr>\n",
       "  </tbody>\n",
       "</table>\n",
       "</div>"
      ],
      "text/plain": [
       "                   A         B         C         D    F\n",
       "2013-01-01  0.000000  0.000000 -0.453129 -0.623291  NaN\n",
       "2013-01-02  0.518069 -1.072285  0.642737 -0.436096  1.0\n",
       "2013-01-03  0.543855 -0.792005  0.451127 -1.479581  2.0\n",
       "2013-01-04  0.673962 -1.758599  0.987110  2.658986  3.0\n",
       "2013-01-05 -1.742085  0.373977  0.241728  0.845163  4.0\n",
       "2013-01-06  1.676085 -0.603359 -1.448392 -0.426467  5.0"
      ]
     },
     "execution_count": 49,
     "metadata": {},
     "output_type": "execute_result"
    }
   ],
   "source": [
    "df.iat[0,1] = 0\n",
    "df"
   ]
  },
  {
   "cell_type": "markdown",
   "metadata": {},
   "source": [
    "Setting by assigning with a numpy array"
   ]
  },
  {
   "cell_type": "code",
   "execution_count": 50,
   "metadata": {},
   "outputs": [
    {
     "data": {
      "text/html": [
       "<div>\n",
       "<table border=\"1\" class=\"dataframe\">\n",
       "  <thead>\n",
       "    <tr style=\"text-align: right;\">\n",
       "      <th></th>\n",
       "      <th>A</th>\n",
       "      <th>B</th>\n",
       "      <th>C</th>\n",
       "      <th>D</th>\n",
       "      <th>F</th>\n",
       "    </tr>\n",
       "  </thead>\n",
       "  <tbody>\n",
       "    <tr>\n",
       "      <th>2013-01-01</th>\n",
       "      <td>0.000000</td>\n",
       "      <td>0.000000</td>\n",
       "      <td>-0.453129</td>\n",
       "      <td>5</td>\n",
       "      <td>NaN</td>\n",
       "    </tr>\n",
       "    <tr>\n",
       "      <th>2013-01-02</th>\n",
       "      <td>0.518069</td>\n",
       "      <td>-1.072285</td>\n",
       "      <td>0.642737</td>\n",
       "      <td>5</td>\n",
       "      <td>1.0</td>\n",
       "    </tr>\n",
       "    <tr>\n",
       "      <th>2013-01-03</th>\n",
       "      <td>0.543855</td>\n",
       "      <td>-0.792005</td>\n",
       "      <td>0.451127</td>\n",
       "      <td>5</td>\n",
       "      <td>2.0</td>\n",
       "    </tr>\n",
       "    <tr>\n",
       "      <th>2013-01-04</th>\n",
       "      <td>0.673962</td>\n",
       "      <td>-1.758599</td>\n",
       "      <td>0.987110</td>\n",
       "      <td>5</td>\n",
       "      <td>3.0</td>\n",
       "    </tr>\n",
       "    <tr>\n",
       "      <th>2013-01-05</th>\n",
       "      <td>-1.742085</td>\n",
       "      <td>0.373977</td>\n",
       "      <td>0.241728</td>\n",
       "      <td>5</td>\n",
       "      <td>4.0</td>\n",
       "    </tr>\n",
       "    <tr>\n",
       "      <th>2013-01-06</th>\n",
       "      <td>1.676085</td>\n",
       "      <td>-0.603359</td>\n",
       "      <td>-1.448392</td>\n",
       "      <td>5</td>\n",
       "      <td>5.0</td>\n",
       "    </tr>\n",
       "  </tbody>\n",
       "</table>\n",
       "</div>"
      ],
      "text/plain": [
       "                   A         B         C  D    F\n",
       "2013-01-01  0.000000  0.000000 -0.453129  5  NaN\n",
       "2013-01-02  0.518069 -1.072285  0.642737  5  1.0\n",
       "2013-01-03  0.543855 -0.792005  0.451127  5  2.0\n",
       "2013-01-04  0.673962 -1.758599  0.987110  5  3.0\n",
       "2013-01-05 -1.742085  0.373977  0.241728  5  4.0\n",
       "2013-01-06  1.676085 -0.603359 -1.448392  5  5.0"
      ]
     },
     "execution_count": 50,
     "metadata": {},
     "output_type": "execute_result"
    }
   ],
   "source": [
    "df.loc[:,'D'] = np.array([5] * len(df))\n",
    "df"
   ]
  },
  {
   "cell_type": "markdown",
   "metadata": {},
   "source": [
    "The result of the prior setting operations"
   ]
  },
  {
   "cell_type": "code",
   "execution_count": 51,
   "metadata": {},
   "outputs": [
    {
     "data": {
      "text/html": [
       "<div>\n",
       "<table border=\"1\" class=\"dataframe\">\n",
       "  <thead>\n",
       "    <tr style=\"text-align: right;\">\n",
       "      <th></th>\n",
       "      <th>A</th>\n",
       "      <th>B</th>\n",
       "      <th>C</th>\n",
       "      <th>D</th>\n",
       "      <th>F</th>\n",
       "    </tr>\n",
       "  </thead>\n",
       "  <tbody>\n",
       "    <tr>\n",
       "      <th>2013-01-01</th>\n",
       "      <td>0.000000</td>\n",
       "      <td>0.000000</td>\n",
       "      <td>-0.453129</td>\n",
       "      <td>5</td>\n",
       "      <td>NaN</td>\n",
       "    </tr>\n",
       "    <tr>\n",
       "      <th>2013-01-02</th>\n",
       "      <td>0.518069</td>\n",
       "      <td>-1.072285</td>\n",
       "      <td>0.642737</td>\n",
       "      <td>5</td>\n",
       "      <td>1.0</td>\n",
       "    </tr>\n",
       "    <tr>\n",
       "      <th>2013-01-03</th>\n",
       "      <td>0.543855</td>\n",
       "      <td>-0.792005</td>\n",
       "      <td>0.451127</td>\n",
       "      <td>5</td>\n",
       "      <td>2.0</td>\n",
       "    </tr>\n",
       "    <tr>\n",
       "      <th>2013-01-04</th>\n",
       "      <td>0.673962</td>\n",
       "      <td>-1.758599</td>\n",
       "      <td>0.987110</td>\n",
       "      <td>5</td>\n",
       "      <td>3.0</td>\n",
       "    </tr>\n",
       "    <tr>\n",
       "      <th>2013-01-05</th>\n",
       "      <td>-1.742085</td>\n",
       "      <td>0.373977</td>\n",
       "      <td>0.241728</td>\n",
       "      <td>5</td>\n",
       "      <td>4.0</td>\n",
       "    </tr>\n",
       "    <tr>\n",
       "      <th>2013-01-06</th>\n",
       "      <td>1.676085</td>\n",
       "      <td>-0.603359</td>\n",
       "      <td>-1.448392</td>\n",
       "      <td>5</td>\n",
       "      <td>5.0</td>\n",
       "    </tr>\n",
       "  </tbody>\n",
       "</table>\n",
       "</div>"
      ],
      "text/plain": [
       "                   A         B         C  D    F\n",
       "2013-01-01  0.000000  0.000000 -0.453129  5  NaN\n",
       "2013-01-02  0.518069 -1.072285  0.642737  5  1.0\n",
       "2013-01-03  0.543855 -0.792005  0.451127  5  2.0\n",
       "2013-01-04  0.673962 -1.758599  0.987110  5  3.0\n",
       "2013-01-05 -1.742085  0.373977  0.241728  5  4.0\n",
       "2013-01-06  1.676085 -0.603359 -1.448392  5  5.0"
      ]
     },
     "execution_count": 51,
     "metadata": {},
     "output_type": "execute_result"
    }
   ],
   "source": [
    "df"
   ]
  },
  {
   "cell_type": "markdown",
   "metadata": {},
   "source": [
    "A where operation with setting."
   ]
  },
  {
   "cell_type": "code",
   "execution_count": 52,
   "metadata": {},
   "outputs": [
    {
     "data": {
      "text/html": [
       "<div>\n",
       "<table border=\"1\" class=\"dataframe\">\n",
       "  <thead>\n",
       "    <tr style=\"text-align: right;\">\n",
       "      <th></th>\n",
       "      <th>A</th>\n",
       "      <th>B</th>\n",
       "      <th>C</th>\n",
       "      <th>D</th>\n",
       "      <th>F</th>\n",
       "    </tr>\n",
       "  </thead>\n",
       "  <tbody>\n",
       "    <tr>\n",
       "      <th>2013-01-01</th>\n",
       "      <td>0.000000</td>\n",
       "      <td>0.000000</td>\n",
       "      <td>-0.453129</td>\n",
       "      <td>5</td>\n",
       "      <td>NaN</td>\n",
       "    </tr>\n",
       "    <tr>\n",
       "      <th>2013-01-02</th>\n",
       "      <td>0.518069</td>\n",
       "      <td>-1.072285</td>\n",
       "      <td>0.642737</td>\n",
       "      <td>5</td>\n",
       "      <td>1.0</td>\n",
       "    </tr>\n",
       "    <tr>\n",
       "      <th>2013-01-03</th>\n",
       "      <td>0.543855</td>\n",
       "      <td>-0.792005</td>\n",
       "      <td>0.451127</td>\n",
       "      <td>5</td>\n",
       "      <td>2.0</td>\n",
       "    </tr>\n",
       "    <tr>\n",
       "      <th>2013-01-04</th>\n",
       "      <td>0.673962</td>\n",
       "      <td>-1.758599</td>\n",
       "      <td>0.987110</td>\n",
       "      <td>5</td>\n",
       "      <td>3.0</td>\n",
       "    </tr>\n",
       "    <tr>\n",
       "      <th>2013-01-05</th>\n",
       "      <td>-1.742085</td>\n",
       "      <td>0.373977</td>\n",
       "      <td>0.241728</td>\n",
       "      <td>5</td>\n",
       "      <td>4.0</td>\n",
       "    </tr>\n",
       "    <tr>\n",
       "      <th>2013-01-06</th>\n",
       "      <td>1.676085</td>\n",
       "      <td>-0.603359</td>\n",
       "      <td>-1.448392</td>\n",
       "      <td>5</td>\n",
       "      <td>5.0</td>\n",
       "    </tr>\n",
       "  </tbody>\n",
       "</table>\n",
       "</div>"
      ],
      "text/plain": [
       "                   A         B         C  D    F\n",
       "2013-01-01  0.000000  0.000000 -0.453129  5  NaN\n",
       "2013-01-02  0.518069 -1.072285  0.642737  5  1.0\n",
       "2013-01-03  0.543855 -0.792005  0.451127  5  2.0\n",
       "2013-01-04  0.673962 -1.758599  0.987110  5  3.0\n",
       "2013-01-05 -1.742085  0.373977  0.241728  5  4.0\n",
       "2013-01-06  1.676085 -0.603359 -1.448392  5  5.0"
      ]
     },
     "execution_count": 52,
     "metadata": {},
     "output_type": "execute_result"
    }
   ],
   "source": [
    "# making a copy\n",
    "df2 = df.copy()\n",
    "df2"
   ]
  },
  {
   "cell_type": "code",
   "execution_count": 53,
   "metadata": {},
   "outputs": [
    {
     "data": {
      "text/html": [
       "<div>\n",
       "<table border=\"1\" class=\"dataframe\">\n",
       "  <thead>\n",
       "    <tr style=\"text-align: right;\">\n",
       "      <th></th>\n",
       "      <th>A</th>\n",
       "      <th>B</th>\n",
       "      <th>C</th>\n",
       "      <th>D</th>\n",
       "      <th>F</th>\n",
       "    </tr>\n",
       "  </thead>\n",
       "  <tbody>\n",
       "    <tr>\n",
       "      <th>2013-01-01</th>\n",
       "      <td>-0.000000</td>\n",
       "      <td>-0.000000</td>\n",
       "      <td>0.453129</td>\n",
       "      <td>-5.0</td>\n",
       "      <td>NaN</td>\n",
       "    </tr>\n",
       "    <tr>\n",
       "      <th>2013-01-02</th>\n",
       "      <td>-0.518069</td>\n",
       "      <td>1.072285</td>\n",
       "      <td>-0.642737</td>\n",
       "      <td>-5.0</td>\n",
       "      <td>-1.0</td>\n",
       "    </tr>\n",
       "    <tr>\n",
       "      <th>2013-01-03</th>\n",
       "      <td>-0.543855</td>\n",
       "      <td>0.792005</td>\n",
       "      <td>-0.451127</td>\n",
       "      <td>-5.0</td>\n",
       "      <td>-2.0</td>\n",
       "    </tr>\n",
       "    <tr>\n",
       "      <th>2013-01-04</th>\n",
       "      <td>-0.673962</td>\n",
       "      <td>1.758599</td>\n",
       "      <td>-0.987110</td>\n",
       "      <td>-5.0</td>\n",
       "      <td>-3.0</td>\n",
       "    </tr>\n",
       "    <tr>\n",
       "      <th>2013-01-05</th>\n",
       "      <td>1.742085</td>\n",
       "      <td>-0.373977</td>\n",
       "      <td>-0.241728</td>\n",
       "      <td>-5.0</td>\n",
       "      <td>-4.0</td>\n",
       "    </tr>\n",
       "    <tr>\n",
       "      <th>2013-01-06</th>\n",
       "      <td>-1.676085</td>\n",
       "      <td>0.603359</td>\n",
       "      <td>1.448392</td>\n",
       "      <td>-5.0</td>\n",
       "      <td>-5.0</td>\n",
       "    </tr>\n",
       "  </tbody>\n",
       "</table>\n",
       "</div>"
      ],
      "text/plain": [
       "                   A         B         C    D    F\n",
       "2013-01-01 -0.000000 -0.000000  0.453129 -5.0  NaN\n",
       "2013-01-02 -0.518069  1.072285 -0.642737 -5.0 -1.0\n",
       "2013-01-03 -0.543855  0.792005 -0.451127 -5.0 -2.0\n",
       "2013-01-04 -0.673962  1.758599 -0.987110 -5.0 -3.0\n",
       "2013-01-05  1.742085 -0.373977 -0.241728 -5.0 -4.0\n",
       "2013-01-06 -1.676085  0.603359  1.448392 -5.0 -5.0"
      ]
     },
     "execution_count": 53,
     "metadata": {},
     "output_type": "execute_result"
    }
   ],
   "source": [
    "# change the sign of values where df<0\n",
    "dfx = df2[df2 < 0] = -df2\n",
    "dfx"
   ]
  },
  {
   "cell_type": "markdown",
   "metadata": {},
   "source": [
    "## Missing Data\n",
    "\n",
    "pandas primarily uses the value np.nan to represent missing data. It is by default not included in computations. See the Missing Data section"
   ]
  },
  {
   "cell_type": "markdown",
   "metadata": {
    "collapsed": true
   },
   "source": [
    "Reindexing allows you to change/add/delete the index on a specified axis. This returns a copy of the data."
   ]
  },
  {
   "cell_type": "code",
   "execution_count": 54,
   "metadata": {},
   "outputs": [
    {
     "name": "stdout",
     "output_type": "stream",
     "text": [
      "                   A         B         C  D    F\n",
      "2013-01-01  0.000000  0.000000 -0.453129  5  NaN\n",
      "2013-01-02  0.518069 -1.072285  0.642737  5  1.0\n",
      "2013-01-03  0.543855 -0.792005  0.451127  5  2.0\n",
      "2013-01-04  0.673962 -1.758599  0.987110  5  3.0\n",
      "2013-01-05 -1.742085  0.373977  0.241728  5  4.0\n",
      "2013-01-06  1.676085 -0.603359 -1.448392  5  5.0\n"
     ]
    },
    {
     "data": {
      "text/html": [
       "<div>\n",
       "<table border=\"1\" class=\"dataframe\">\n",
       "  <thead>\n",
       "    <tr style=\"text-align: right;\">\n",
       "      <th></th>\n",
       "      <th>A</th>\n",
       "      <th>B</th>\n",
       "      <th>C</th>\n",
       "      <th>D</th>\n",
       "      <th>F</th>\n",
       "      <th>E</th>\n",
       "    </tr>\n",
       "  </thead>\n",
       "  <tbody>\n",
       "    <tr>\n",
       "      <th>2013-01-01</th>\n",
       "      <td>0.000000</td>\n",
       "      <td>0.000000</td>\n",
       "      <td>-0.453129</td>\n",
       "      <td>5</td>\n",
       "      <td>NaN</td>\n",
       "      <td>NaN</td>\n",
       "    </tr>\n",
       "    <tr>\n",
       "      <th>2013-01-02</th>\n",
       "      <td>0.518069</td>\n",
       "      <td>-1.072285</td>\n",
       "      <td>0.642737</td>\n",
       "      <td>5</td>\n",
       "      <td>1.0</td>\n",
       "      <td>NaN</td>\n",
       "    </tr>\n",
       "    <tr>\n",
       "      <th>2013-01-03</th>\n",
       "      <td>0.543855</td>\n",
       "      <td>-0.792005</td>\n",
       "      <td>0.451127</td>\n",
       "      <td>5</td>\n",
       "      <td>2.0</td>\n",
       "      <td>NaN</td>\n",
       "    </tr>\n",
       "    <tr>\n",
       "      <th>2013-01-04</th>\n",
       "      <td>0.673962</td>\n",
       "      <td>-1.758599</td>\n",
       "      <td>0.987110</td>\n",
       "      <td>5</td>\n",
       "      <td>3.0</td>\n",
       "      <td>NaN</td>\n",
       "    </tr>\n",
       "  </tbody>\n",
       "</table>\n",
       "</div>"
      ],
      "text/plain": [
       "                   A         B         C  D    F   E\n",
       "2013-01-01  0.000000  0.000000 -0.453129  5  NaN NaN\n",
       "2013-01-02  0.518069 -1.072285  0.642737  5  1.0 NaN\n",
       "2013-01-03  0.543855 -0.792005  0.451127  5  2.0 NaN\n",
       "2013-01-04  0.673962 -1.758599  0.987110  5  3.0 NaN"
      ]
     },
     "execution_count": 54,
     "metadata": {},
     "output_type": "execute_result"
    }
   ],
   "source": [
    "# df1 will have a new index and a new column E\n",
    "print df\n",
    "df1 = df.reindex(index=dates[0:4], columns=list(df.columns) + ['E'])\n",
    "df1"
   ]
  },
  {
   "cell_type": "code",
   "execution_count": 55,
   "metadata": {
    "scrolled": true
   },
   "outputs": [
    {
     "data": {
      "text/html": [
       "<div>\n",
       "<table border=\"1\" class=\"dataframe\">\n",
       "  <thead>\n",
       "    <tr style=\"text-align: right;\">\n",
       "      <th></th>\n",
       "      <th>A</th>\n",
       "      <th>B</th>\n",
       "      <th>C</th>\n",
       "      <th>D</th>\n",
       "      <th>F</th>\n",
       "      <th>E</th>\n",
       "    </tr>\n",
       "  </thead>\n",
       "  <tbody>\n",
       "    <tr>\n",
       "      <th>2013-01-01</th>\n",
       "      <td>0.000000</td>\n",
       "      <td>0.000000</td>\n",
       "      <td>-0.453129</td>\n",
       "      <td>5</td>\n",
       "      <td>NaN</td>\n",
       "      <td>1.0</td>\n",
       "    </tr>\n",
       "    <tr>\n",
       "      <th>2013-01-02</th>\n",
       "      <td>0.518069</td>\n",
       "      <td>-1.072285</td>\n",
       "      <td>0.642737</td>\n",
       "      <td>5</td>\n",
       "      <td>1.0</td>\n",
       "      <td>1.0</td>\n",
       "    </tr>\n",
       "    <tr>\n",
       "      <th>2013-01-03</th>\n",
       "      <td>0.543855</td>\n",
       "      <td>-0.792005</td>\n",
       "      <td>0.451127</td>\n",
       "      <td>5</td>\n",
       "      <td>2.0</td>\n",
       "      <td>NaN</td>\n",
       "    </tr>\n",
       "    <tr>\n",
       "      <th>2013-01-04</th>\n",
       "      <td>0.673962</td>\n",
       "      <td>-1.758599</td>\n",
       "      <td>0.987110</td>\n",
       "      <td>5</td>\n",
       "      <td>3.0</td>\n",
       "      <td>NaN</td>\n",
       "    </tr>\n",
       "  </tbody>\n",
       "</table>\n",
       "</div>"
      ],
      "text/plain": [
       "                   A         B         C  D    F    E\n",
       "2013-01-01  0.000000  0.000000 -0.453129  5  NaN  1.0\n",
       "2013-01-02  0.518069 -1.072285  0.642737  5  1.0  1.0\n",
       "2013-01-03  0.543855 -0.792005  0.451127  5  2.0  NaN\n",
       "2013-01-04  0.673962 -1.758599  0.987110  5  3.0  NaN"
      ]
     },
     "execution_count": 55,
     "metadata": {},
     "output_type": "execute_result"
    }
   ],
   "source": [
    "# Set E in the first 2 rows\n",
    "df1.loc[dates[0]:dates[1],'E'] = 1\n",
    "df1"
   ]
  },
  {
   "cell_type": "markdown",
   "metadata": {},
   "source": [
    "To drop any rows that have missing data."
   ]
  },
  {
   "cell_type": "code",
   "execution_count": 56,
   "metadata": {},
   "outputs": [
    {
     "data": {
      "text/html": [
       "<div>\n",
       "<table border=\"1\" class=\"dataframe\">\n",
       "  <thead>\n",
       "    <tr style=\"text-align: right;\">\n",
       "      <th></th>\n",
       "      <th>A</th>\n",
       "      <th>B</th>\n",
       "      <th>C</th>\n",
       "      <th>D</th>\n",
       "      <th>F</th>\n",
       "      <th>E</th>\n",
       "    </tr>\n",
       "  </thead>\n",
       "  <tbody>\n",
       "    <tr>\n",
       "      <th>2013-01-02</th>\n",
       "      <td>0.518069</td>\n",
       "      <td>-1.072285</td>\n",
       "      <td>0.642737</td>\n",
       "      <td>5</td>\n",
       "      <td>1.0</td>\n",
       "      <td>1.0</td>\n",
       "    </tr>\n",
       "  </tbody>\n",
       "</table>\n",
       "</div>"
      ],
      "text/plain": [
       "                   A         B         C  D    F    E\n",
       "2013-01-02  0.518069 -1.072285  0.642737  5  1.0  1.0"
      ]
     },
     "execution_count": 56,
     "metadata": {},
     "output_type": "execute_result"
    }
   ],
   "source": [
    "# A view where we drop any rows with value NnN\n",
    "df1.dropna(how='any')"
   ]
  },
  {
   "cell_type": "markdown",
   "metadata": {},
   "source": [
    "Filling missing data"
   ]
  },
  {
   "cell_type": "code",
   "execution_count": 57,
   "metadata": {},
   "outputs": [
    {
     "data": {
      "text/html": [
       "<div>\n",
       "<table border=\"1\" class=\"dataframe\">\n",
       "  <thead>\n",
       "    <tr style=\"text-align: right;\">\n",
       "      <th></th>\n",
       "      <th>A</th>\n",
       "      <th>B</th>\n",
       "      <th>C</th>\n",
       "      <th>D</th>\n",
       "      <th>F</th>\n",
       "      <th>E</th>\n",
       "    </tr>\n",
       "  </thead>\n",
       "  <tbody>\n",
       "    <tr>\n",
       "      <th>2013-01-01</th>\n",
       "      <td>0.000000</td>\n",
       "      <td>0.000000</td>\n",
       "      <td>-0.453129</td>\n",
       "      <td>5</td>\n",
       "      <td>5.0</td>\n",
       "      <td>1.0</td>\n",
       "    </tr>\n",
       "    <tr>\n",
       "      <th>2013-01-02</th>\n",
       "      <td>0.518069</td>\n",
       "      <td>-1.072285</td>\n",
       "      <td>0.642737</td>\n",
       "      <td>5</td>\n",
       "      <td>1.0</td>\n",
       "      <td>1.0</td>\n",
       "    </tr>\n",
       "    <tr>\n",
       "      <th>2013-01-03</th>\n",
       "      <td>0.543855</td>\n",
       "      <td>-0.792005</td>\n",
       "      <td>0.451127</td>\n",
       "      <td>5</td>\n",
       "      <td>2.0</td>\n",
       "      <td>5.0</td>\n",
       "    </tr>\n",
       "    <tr>\n",
       "      <th>2013-01-04</th>\n",
       "      <td>0.673962</td>\n",
       "      <td>-1.758599</td>\n",
       "      <td>0.987110</td>\n",
       "      <td>5</td>\n",
       "      <td>3.0</td>\n",
       "      <td>5.0</td>\n",
       "    </tr>\n",
       "  </tbody>\n",
       "</table>\n",
       "</div>"
      ],
      "text/plain": [
       "                   A         B         C  D    F    E\n",
       "2013-01-01  0.000000  0.000000 -0.453129  5  5.0  1.0\n",
       "2013-01-02  0.518069 -1.072285  0.642737  5  1.0  1.0\n",
       "2013-01-03  0.543855 -0.792005  0.451127  5  2.0  5.0\n",
       "2013-01-04  0.673962 -1.758599  0.987110  5  3.0  5.0"
      ]
     },
     "execution_count": 57,
     "metadata": {},
     "output_type": "execute_result"
    }
   ],
   "source": [
    "# fill NaN values with 5\n",
    "df1.fillna(value=5)"
   ]
  },
  {
   "cell_type": "markdown",
   "metadata": {},
   "source": [
    "To get the boolean mask where values are nan"
   ]
  },
  {
   "cell_type": "code",
   "execution_count": 58,
   "metadata": {},
   "outputs": [
    {
     "name": "stdout",
     "output_type": "stream",
     "text": [
      "                   A         B         C  D    F    E\n",
      "2013-01-01  0.000000  0.000000 -0.453129  5  NaN  1.0\n",
      "2013-01-02  0.518069 -1.072285  0.642737  5  1.0  1.0\n",
      "2013-01-03  0.543855 -0.792005  0.451127  5  2.0  NaN\n",
      "2013-01-04  0.673962 -1.758599  0.987110  5  3.0  NaN\n"
     ]
    },
    {
     "data": {
      "text/html": [
       "<div>\n",
       "<table border=\"1\" class=\"dataframe\">\n",
       "  <thead>\n",
       "    <tr style=\"text-align: right;\">\n",
       "      <th></th>\n",
       "      <th>A</th>\n",
       "      <th>B</th>\n",
       "      <th>C</th>\n",
       "      <th>D</th>\n",
       "      <th>F</th>\n",
       "      <th>E</th>\n",
       "    </tr>\n",
       "  </thead>\n",
       "  <tbody>\n",
       "    <tr>\n",
       "      <th>2013-01-01</th>\n",
       "      <td>False</td>\n",
       "      <td>False</td>\n",
       "      <td>False</td>\n",
       "      <td>False</td>\n",
       "      <td>True</td>\n",
       "      <td>False</td>\n",
       "    </tr>\n",
       "    <tr>\n",
       "      <th>2013-01-02</th>\n",
       "      <td>False</td>\n",
       "      <td>False</td>\n",
       "      <td>False</td>\n",
       "      <td>False</td>\n",
       "      <td>False</td>\n",
       "      <td>False</td>\n",
       "    </tr>\n",
       "    <tr>\n",
       "      <th>2013-01-03</th>\n",
       "      <td>False</td>\n",
       "      <td>False</td>\n",
       "      <td>False</td>\n",
       "      <td>False</td>\n",
       "      <td>False</td>\n",
       "      <td>True</td>\n",
       "    </tr>\n",
       "    <tr>\n",
       "      <th>2013-01-04</th>\n",
       "      <td>False</td>\n",
       "      <td>False</td>\n",
       "      <td>False</td>\n",
       "      <td>False</td>\n",
       "      <td>False</td>\n",
       "      <td>True</td>\n",
       "    </tr>\n",
       "  </tbody>\n",
       "</table>\n",
       "</div>"
      ],
      "text/plain": [
       "                A      B      C      D      F      E\n",
       "2013-01-01  False  False  False  False   True  False\n",
       "2013-01-02  False  False  False  False  False  False\n",
       "2013-01-03  False  False  False  False  False   True\n",
       "2013-01-04  False  False  False  False  False   True"
      ]
     },
     "execution_count": 58,
     "metadata": {},
     "output_type": "execute_result"
    }
   ],
   "source": [
    "# returns a boolean mask for null entries\n",
    "print df1\n",
    "pd.isnull(df1)"
   ]
  },
  {
   "cell_type": "markdown",
   "metadata": {},
   "source": [
    "## Operations\n",
    "\n",
    "See the [Basic section on Binary Ops](http://pandas.pydata.org/pandas-docs/stable/basics.html#basics-binop)"
   ]
  },
  {
   "cell_type": "markdown",
   "metadata": {},
   "source": [
    "### Stats\n",
    "\n",
    "Operations in general exclude missing data."
   ]
  },
  {
   "cell_type": "markdown",
   "metadata": {},
   "source": [
    "Performing a descriptive statistic"
   ]
  },
  {
   "cell_type": "code",
   "execution_count": 59,
   "metadata": {},
   "outputs": [
    {
     "data": {
      "text/plain": [
       "A    0.278314\n",
       "B   -0.642045\n",
       "C    0.070197\n",
       "D    5.000000\n",
       "F    3.000000\n",
       "dtype: float64"
      ]
     },
     "execution_count": 59,
     "metadata": {},
     "output_type": "execute_result"
    }
   ],
   "source": [
    "df.mean()"
   ]
  },
  {
   "cell_type": "markdown",
   "metadata": {},
   "source": [
    "Same operation on the other axis"
   ]
  },
  {
   "cell_type": "code",
   "execution_count": 60,
   "metadata": {},
   "outputs": [
    {
     "data": {
      "text/plain": [
       "2013-01-01    1.136718\n",
       "2013-01-02    1.217704\n",
       "2013-01-03    1.440596\n",
       "2013-01-04    1.580495\n",
       "2013-01-05    1.574724\n",
       "2013-01-06    1.924867\n",
       "Freq: D, dtype: float64"
      ]
     },
     "execution_count": 60,
     "metadata": {},
     "output_type": "execute_result"
    }
   ],
   "source": [
    "df.mean(1)\n",
    "# df.mean(axis = 1)"
   ]
  },
  {
   "cell_type": "markdown",
   "metadata": {},
   "source": [
    "Operating with objects that have different dimensionality and need alignment. In addition, pandas automatically broadcasts along the specified dimension."
   ]
  },
  {
   "cell_type": "code",
   "execution_count": 61,
   "metadata": {},
   "outputs": [],
   "source": [
    "# This Series has 2 rows shifted down with NaN inserted into the first positions\n",
    "s = pd.Series([1,3,5,np.nan,6,8], index=dates).shift(2)"
   ]
  },
  {
   "cell_type": "code",
   "execution_count": 62,
   "metadata": {},
   "outputs": [
    {
     "data": {
      "text/plain": [
       "2013-01-01    NaN\n",
       "2013-01-02    NaN\n",
       "2013-01-03    1.0\n",
       "2013-01-04    3.0\n",
       "2013-01-05    5.0\n",
       "2013-01-06    NaN\n",
       "Freq: D, dtype: float64"
      ]
     },
     "execution_count": 62,
     "metadata": {},
     "output_type": "execute_result"
    }
   ],
   "source": [
    "s"
   ]
  },
  {
   "cell_type": "code",
   "execution_count": 63,
   "metadata": {},
   "outputs": [
    {
     "name": "stdout",
     "output_type": "stream",
     "text": [
      "                   A         B         C  D    F\n",
      "2013-01-01  0.000000  0.000000 -0.453129  5  NaN\n",
      "2013-01-02  0.518069 -1.072285  0.642737  5  1.0\n",
      "2013-01-03  0.543855 -0.792005  0.451127  5  2.0\n",
      "2013-01-04  0.673962 -1.758599  0.987110  5  3.0\n",
      "2013-01-05 -1.742085  0.373977  0.241728  5  4.0\n",
      "2013-01-06  1.676085 -0.603359 -1.448392  5  5.0\n"
     ]
    },
    {
     "data": {
      "text/html": [
       "<div>\n",
       "<table border=\"1\" class=\"dataframe\">\n",
       "  <thead>\n",
       "    <tr style=\"text-align: right;\">\n",
       "      <th></th>\n",
       "      <th>A</th>\n",
       "      <th>B</th>\n",
       "      <th>C</th>\n",
       "      <th>D</th>\n",
       "      <th>F</th>\n",
       "    </tr>\n",
       "  </thead>\n",
       "  <tbody>\n",
       "    <tr>\n",
       "      <th>2013-01-01</th>\n",
       "      <td>NaN</td>\n",
       "      <td>NaN</td>\n",
       "      <td>NaN</td>\n",
       "      <td>NaN</td>\n",
       "      <td>NaN</td>\n",
       "    </tr>\n",
       "    <tr>\n",
       "      <th>2013-01-02</th>\n",
       "      <td>NaN</td>\n",
       "      <td>NaN</td>\n",
       "      <td>NaN</td>\n",
       "      <td>NaN</td>\n",
       "      <td>NaN</td>\n",
       "    </tr>\n",
       "    <tr>\n",
       "      <th>2013-01-03</th>\n",
       "      <td>-0.456145</td>\n",
       "      <td>-1.792005</td>\n",
       "      <td>-0.548873</td>\n",
       "      <td>4.0</td>\n",
       "      <td>1.0</td>\n",
       "    </tr>\n",
       "    <tr>\n",
       "      <th>2013-01-04</th>\n",
       "      <td>-2.326038</td>\n",
       "      <td>-4.758599</td>\n",
       "      <td>-2.012890</td>\n",
       "      <td>2.0</td>\n",
       "      <td>0.0</td>\n",
       "    </tr>\n",
       "    <tr>\n",
       "      <th>2013-01-05</th>\n",
       "      <td>-6.742085</td>\n",
       "      <td>-4.626023</td>\n",
       "      <td>-4.758272</td>\n",
       "      <td>0.0</td>\n",
       "      <td>-1.0</td>\n",
       "    </tr>\n",
       "    <tr>\n",
       "      <th>2013-01-06</th>\n",
       "      <td>NaN</td>\n",
       "      <td>NaN</td>\n",
       "      <td>NaN</td>\n",
       "      <td>NaN</td>\n",
       "      <td>NaN</td>\n",
       "    </tr>\n",
       "  </tbody>\n",
       "</table>\n",
       "</div>"
      ],
      "text/plain": [
       "                   A         B         C    D    F\n",
       "2013-01-01       NaN       NaN       NaN  NaN  NaN\n",
       "2013-01-02       NaN       NaN       NaN  NaN  NaN\n",
       "2013-01-03 -0.456145 -1.792005 -0.548873  4.0  1.0\n",
       "2013-01-04 -2.326038 -4.758599 -2.012890  2.0  0.0\n",
       "2013-01-05 -6.742085 -4.626023 -4.758272  0.0 -1.0\n",
       "2013-01-06       NaN       NaN       NaN  NaN  NaN"
      ]
     },
     "execution_count": 63,
     "metadata": {},
     "output_type": "execute_result"
    }
   ],
   "source": [
    "print df\n",
    "df.sub(s, axis='index')"
   ]
  },
  {
   "cell_type": "markdown",
   "metadata": {},
   "source": [
    "### Apply"
   ]
  },
  {
   "cell_type": "markdown",
   "metadata": {},
   "source": [
    "Applying functions to the data"
   ]
  },
  {
   "cell_type": "code",
   "execution_count": 64,
   "metadata": {},
   "outputs": [
    {
     "data": {
      "text/html": [
       "<div>\n",
       "<table border=\"1\" class=\"dataframe\">\n",
       "  <thead>\n",
       "    <tr style=\"text-align: right;\">\n",
       "      <th></th>\n",
       "      <th>A</th>\n",
       "      <th>B</th>\n",
       "      <th>C</th>\n",
       "      <th>D</th>\n",
       "      <th>F</th>\n",
       "    </tr>\n",
       "  </thead>\n",
       "  <tbody>\n",
       "    <tr>\n",
       "      <th>2013-01-01</th>\n",
       "      <td>0.000000</td>\n",
       "      <td>0.000000</td>\n",
       "      <td>-0.453129</td>\n",
       "      <td>5</td>\n",
       "      <td>NaN</td>\n",
       "    </tr>\n",
       "    <tr>\n",
       "      <th>2013-01-02</th>\n",
       "      <td>0.518069</td>\n",
       "      <td>-1.072285</td>\n",
       "      <td>0.189608</td>\n",
       "      <td>10</td>\n",
       "      <td>1.0</td>\n",
       "    </tr>\n",
       "    <tr>\n",
       "      <th>2013-01-03</th>\n",
       "      <td>1.061924</td>\n",
       "      <td>-1.864290</td>\n",
       "      <td>0.640736</td>\n",
       "      <td>15</td>\n",
       "      <td>3.0</td>\n",
       "    </tr>\n",
       "    <tr>\n",
       "      <th>2013-01-04</th>\n",
       "      <td>1.735886</td>\n",
       "      <td>-3.622888</td>\n",
       "      <td>1.627846</td>\n",
       "      <td>20</td>\n",
       "      <td>6.0</td>\n",
       "    </tr>\n",
       "    <tr>\n",
       "      <th>2013-01-05</th>\n",
       "      <td>-0.006199</td>\n",
       "      <td>-3.248911</td>\n",
       "      <td>1.869573</td>\n",
       "      <td>25</td>\n",
       "      <td>10.0</td>\n",
       "    </tr>\n",
       "    <tr>\n",
       "      <th>2013-01-06</th>\n",
       "      <td>1.669886</td>\n",
       "      <td>-3.852270</td>\n",
       "      <td>0.421181</td>\n",
       "      <td>30</td>\n",
       "      <td>15.0</td>\n",
       "    </tr>\n",
       "  </tbody>\n",
       "</table>\n",
       "</div>"
      ],
      "text/plain": [
       "                   A         B         C   D     F\n",
       "2013-01-01  0.000000  0.000000 -0.453129   5   NaN\n",
       "2013-01-02  0.518069 -1.072285  0.189608  10   1.0\n",
       "2013-01-03  1.061924 -1.864290  0.640736  15   3.0\n",
       "2013-01-04  1.735886 -3.622888  1.627846  20   6.0\n",
       "2013-01-05 -0.006199 -3.248911  1.869573  25  10.0\n",
       "2013-01-06  1.669886 -3.852270  0.421181  30  15.0"
      ]
     },
     "execution_count": 64,
     "metadata": {},
     "output_type": "execute_result"
    }
   ],
   "source": [
    "# apply below will operate on every column\n",
    "df.apply(np.cumsum)"
   ]
  },
  {
   "cell_type": "code",
   "execution_count": 65,
   "metadata": {},
   "outputs": [
    {
     "data": {
      "text/plain": [
       "A    3.418170\n",
       "B    2.132576\n",
       "C    2.435502\n",
       "D    0.000000\n",
       "F    4.000000\n",
       "dtype: float64"
      ]
     },
     "execution_count": 65,
     "metadata": {},
     "output_type": "execute_result"
    }
   ],
   "source": [
    "df.apply(lambda x: x.max() - x.min())"
   ]
  },
  {
   "cell_type": "markdown",
   "metadata": {},
   "source": [
    "### Histogramming\n",
    "\n",
    "See more at [Histogramming and Discretization](http://pandas.pydata.org/pandas-docs/stable/basics.html#basics-discretization)"
   ]
  },
  {
   "cell_type": "code",
   "execution_count": 66,
   "metadata": {},
   "outputs": [],
   "source": [
    "s = pd.Series(np.random.randint(0, 7, size=10))"
   ]
  },
  {
   "cell_type": "code",
   "execution_count": 67,
   "metadata": {},
   "outputs": [
    {
     "data": {
      "text/plain": [
       "0    0\n",
       "1    4\n",
       "2    1\n",
       "3    3\n",
       "4    2\n",
       "5    6\n",
       "6    4\n",
       "7    6\n",
       "8    1\n",
       "9    4\n",
       "dtype: int64"
      ]
     },
     "execution_count": 67,
     "metadata": {},
     "output_type": "execute_result"
    }
   ],
   "source": [
    "s"
   ]
  },
  {
   "cell_type": "code",
   "execution_count": 68,
   "metadata": {},
   "outputs": [
    {
     "data": {
      "text/plain": [
       "4    3\n",
       "6    2\n",
       "1    2\n",
       "3    1\n",
       "2    1\n",
       "0    1\n",
       "dtype: int64"
      ]
     },
     "execution_count": 68,
     "metadata": {},
     "output_type": "execute_result"
    }
   ],
   "source": [
    "s.value_counts()"
   ]
  },
  {
   "cell_type": "markdown",
   "metadata": {},
   "source": [
    "### String Methods\n",
    "\n",
    "Series is equipped with a set of string processing methods in the str attribute that make it easy to operate on each element of the array, as in the code snippet below. Note that pattern-matching in str generally uses [regular expressions](https://docs.python.org/2/library/re.html) by default (and in some cases always uses them). See more at [Vectorized String Methods](http://pandas.pydata.org/pandas-docs/stable/text.html#text-string-methods)."
   ]
  },
  {
   "cell_type": "code",
   "execution_count": 69,
   "metadata": {},
   "outputs": [],
   "source": [
    "s = pd.Series(['A', 'B', 'C', 'Aaba', 'Baca', np.nan, 'CABA', 'dog', 'cat'])"
   ]
  },
  {
   "cell_type": "code",
   "execution_count": 70,
   "metadata": {},
   "outputs": [
    {
     "data": {
      "text/plain": [
       "0       a\n",
       "1       b\n",
       "2       c\n",
       "3    aaba\n",
       "4    baca\n",
       "5     NaN\n",
       "6    caba\n",
       "7     dog\n",
       "8     cat\n",
       "dtype: object"
      ]
     },
     "execution_count": 70,
     "metadata": {},
     "output_type": "execute_result"
    }
   ],
   "source": [
    "s.str.lower()"
   ]
  },
  {
   "cell_type": "markdown",
   "metadata": {},
   "source": [
    "## Merge"
   ]
  },
  {
   "cell_type": "markdown",
   "metadata": {},
   "source": [
    "### Concat\n",
    "\n",
    "pandas provides various facilities for easily combining together Series, DataFrame, and Panel objects with various kinds of set logic for the indexes and relational algebra functionality in the case of join / merge-type operations.\n",
    "\n",
    "See the [Merging section](http://pandas.pydata.org/pandas-docs/stable/merging.html#merging)"
   ]
  },
  {
   "cell_type": "markdown",
   "metadata": {},
   "source": [
    "Concatenating pandas objects together with concat():"
   ]
  },
  {
   "cell_type": "code",
   "execution_count": 71,
   "metadata": {},
   "outputs": [],
   "source": [
    "df = pd.DataFrame(np.random.randn(10, 4))"
   ]
  },
  {
   "cell_type": "code",
   "execution_count": 72,
   "metadata": {},
   "outputs": [
    {
     "data": {
      "text/html": [
       "<div>\n",
       "<table border=\"1\" class=\"dataframe\">\n",
       "  <thead>\n",
       "    <tr style=\"text-align: right;\">\n",
       "      <th></th>\n",
       "      <th>0</th>\n",
       "      <th>1</th>\n",
       "      <th>2</th>\n",
       "      <th>3</th>\n",
       "    </tr>\n",
       "  </thead>\n",
       "  <tbody>\n",
       "    <tr>\n",
       "      <th>0</th>\n",
       "      <td>0.203703</td>\n",
       "      <td>0.140856</td>\n",
       "      <td>0.420726</td>\n",
       "      <td>1.072422</td>\n",
       "    </tr>\n",
       "    <tr>\n",
       "      <th>1</th>\n",
       "      <td>-0.556123</td>\n",
       "      <td>-0.401760</td>\n",
       "      <td>-0.006438</td>\n",
       "      <td>-1.127872</td>\n",
       "    </tr>\n",
       "    <tr>\n",
       "      <th>2</th>\n",
       "      <td>0.447011</td>\n",
       "      <td>0.578716</td>\n",
       "      <td>-1.033429</td>\n",
       "      <td>-0.336434</td>\n",
       "    </tr>\n",
       "    <tr>\n",
       "      <th>3</th>\n",
       "      <td>0.394555</td>\n",
       "      <td>-0.751059</td>\n",
       "      <td>1.817922</td>\n",
       "      <td>-0.494458</td>\n",
       "    </tr>\n",
       "    <tr>\n",
       "      <th>4</th>\n",
       "      <td>-0.527111</td>\n",
       "      <td>1.459379</td>\n",
       "      <td>0.564021</td>\n",
       "      <td>0.119371</td>\n",
       "    </tr>\n",
       "    <tr>\n",
       "      <th>5</th>\n",
       "      <td>0.646757</td>\n",
       "      <td>0.230538</td>\n",
       "      <td>0.084392</td>\n",
       "      <td>-0.971982</td>\n",
       "    </tr>\n",
       "    <tr>\n",
       "      <th>6</th>\n",
       "      <td>-0.709198</td>\n",
       "      <td>1.720917</td>\n",
       "      <td>0.305563</td>\n",
       "      <td>-0.086106</td>\n",
       "    </tr>\n",
       "    <tr>\n",
       "      <th>7</th>\n",
       "      <td>0.133384</td>\n",
       "      <td>0.030898</td>\n",
       "      <td>-2.430852</td>\n",
       "      <td>-1.420228</td>\n",
       "    </tr>\n",
       "    <tr>\n",
       "      <th>8</th>\n",
       "      <td>1.039103</td>\n",
       "      <td>-1.095971</td>\n",
       "      <td>-0.545434</td>\n",
       "      <td>-0.896996</td>\n",
       "    </tr>\n",
       "    <tr>\n",
       "      <th>9</th>\n",
       "      <td>0.129550</td>\n",
       "      <td>0.113245</td>\n",
       "      <td>-0.213001</td>\n",
       "      <td>-0.682959</td>\n",
       "    </tr>\n",
       "  </tbody>\n",
       "</table>\n",
       "</div>"
      ],
      "text/plain": [
       "          0         1         2         3\n",
       "0  0.203703  0.140856  0.420726  1.072422\n",
       "1 -0.556123 -0.401760 -0.006438 -1.127872\n",
       "2  0.447011  0.578716 -1.033429 -0.336434\n",
       "3  0.394555 -0.751059  1.817922 -0.494458\n",
       "4 -0.527111  1.459379  0.564021  0.119371\n",
       "5  0.646757  0.230538  0.084392 -0.971982\n",
       "6 -0.709198  1.720917  0.305563 -0.086106\n",
       "7  0.133384  0.030898 -2.430852 -1.420228\n",
       "8  1.039103 -1.095971 -0.545434 -0.896996\n",
       "9  0.129550  0.113245 -0.213001 -0.682959"
      ]
     },
     "execution_count": 72,
     "metadata": {},
     "output_type": "execute_result"
    }
   ],
   "source": [
    "df"
   ]
  },
  {
   "cell_type": "code",
   "execution_count": 73,
   "metadata": {},
   "outputs": [],
   "source": [
    "# break it into pieces\n",
    "pieces = [df[:3], df[3:7], df[7:]]"
   ]
  },
  {
   "cell_type": "code",
   "execution_count": 74,
   "metadata": {},
   "outputs": [
    {
     "data": {
      "text/html": [
       "<div>\n",
       "<table border=\"1\" class=\"dataframe\">\n",
       "  <thead>\n",
       "    <tr style=\"text-align: right;\">\n",
       "      <th></th>\n",
       "      <th>0</th>\n",
       "      <th>1</th>\n",
       "      <th>2</th>\n",
       "      <th>3</th>\n",
       "    </tr>\n",
       "  </thead>\n",
       "  <tbody>\n",
       "    <tr>\n",
       "      <th>0</th>\n",
       "      <td>0.203703</td>\n",
       "      <td>0.140856</td>\n",
       "      <td>0.420726</td>\n",
       "      <td>1.072422</td>\n",
       "    </tr>\n",
       "    <tr>\n",
       "      <th>1</th>\n",
       "      <td>-0.556123</td>\n",
       "      <td>-0.401760</td>\n",
       "      <td>-0.006438</td>\n",
       "      <td>-1.127872</td>\n",
       "    </tr>\n",
       "    <tr>\n",
       "      <th>2</th>\n",
       "      <td>0.447011</td>\n",
       "      <td>0.578716</td>\n",
       "      <td>-1.033429</td>\n",
       "      <td>-0.336434</td>\n",
       "    </tr>\n",
       "    <tr>\n",
       "      <th>3</th>\n",
       "      <td>0.394555</td>\n",
       "      <td>-0.751059</td>\n",
       "      <td>1.817922</td>\n",
       "      <td>-0.494458</td>\n",
       "    </tr>\n",
       "    <tr>\n",
       "      <th>4</th>\n",
       "      <td>-0.527111</td>\n",
       "      <td>1.459379</td>\n",
       "      <td>0.564021</td>\n",
       "      <td>0.119371</td>\n",
       "    </tr>\n",
       "    <tr>\n",
       "      <th>5</th>\n",
       "      <td>0.646757</td>\n",
       "      <td>0.230538</td>\n",
       "      <td>0.084392</td>\n",
       "      <td>-0.971982</td>\n",
       "    </tr>\n",
       "    <tr>\n",
       "      <th>6</th>\n",
       "      <td>-0.709198</td>\n",
       "      <td>1.720917</td>\n",
       "      <td>0.305563</td>\n",
       "      <td>-0.086106</td>\n",
       "    </tr>\n",
       "    <tr>\n",
       "      <th>7</th>\n",
       "      <td>0.133384</td>\n",
       "      <td>0.030898</td>\n",
       "      <td>-2.430852</td>\n",
       "      <td>-1.420228</td>\n",
       "    </tr>\n",
       "    <tr>\n",
       "      <th>8</th>\n",
       "      <td>1.039103</td>\n",
       "      <td>-1.095971</td>\n",
       "      <td>-0.545434</td>\n",
       "      <td>-0.896996</td>\n",
       "    </tr>\n",
       "    <tr>\n",
       "      <th>9</th>\n",
       "      <td>0.129550</td>\n",
       "      <td>0.113245</td>\n",
       "      <td>-0.213001</td>\n",
       "      <td>-0.682959</td>\n",
       "    </tr>\n",
       "  </tbody>\n",
       "</table>\n",
       "</div>"
      ],
      "text/plain": [
       "          0         1         2         3\n",
       "0  0.203703  0.140856  0.420726  1.072422\n",
       "1 -0.556123 -0.401760 -0.006438 -1.127872\n",
       "2  0.447011  0.578716 -1.033429 -0.336434\n",
       "3  0.394555 -0.751059  1.817922 -0.494458\n",
       "4 -0.527111  1.459379  0.564021  0.119371\n",
       "5  0.646757  0.230538  0.084392 -0.971982\n",
       "6 -0.709198  1.720917  0.305563 -0.086106\n",
       "7  0.133384  0.030898 -2.430852 -1.420228\n",
       "8  1.039103 -1.095971 -0.545434 -0.896996\n",
       "9  0.129550  0.113245 -0.213001 -0.682959"
      ]
     },
     "execution_count": 74,
     "metadata": {},
     "output_type": "execute_result"
    }
   ],
   "source": [
    "pd.concat(pieces)"
   ]
  },
  {
   "cell_type": "markdown",
   "metadata": {},
   "source": [
    "### Join\n",
    "\n",
    "SQL style merges. See the [Database style joining](http://pandas.pydata.org/pandas-docs/stable/merging.html#merging-join)"
   ]
  },
  {
   "cell_type": "code",
   "execution_count": 75,
   "metadata": {
    "collapsed": true
   },
   "outputs": [],
   "source": [
    "left = pd.DataFrame({'key': ['foo', 'foo'], 'lval': [1, 2]})"
   ]
  },
  {
   "cell_type": "code",
   "execution_count": 76,
   "metadata": {
    "collapsed": true
   },
   "outputs": [],
   "source": [
    "right = pd.DataFrame({'key': ['foo', 'foo'], 'rval': [4, 5]})"
   ]
  },
  {
   "cell_type": "code",
   "execution_count": 77,
   "metadata": {},
   "outputs": [
    {
     "data": {
      "text/html": [
       "<div>\n",
       "<table border=\"1\" class=\"dataframe\">\n",
       "  <thead>\n",
       "    <tr style=\"text-align: right;\">\n",
       "      <th></th>\n",
       "      <th>key</th>\n",
       "      <th>lval</th>\n",
       "    </tr>\n",
       "  </thead>\n",
       "  <tbody>\n",
       "    <tr>\n",
       "      <th>0</th>\n",
       "      <td>foo</td>\n",
       "      <td>1</td>\n",
       "    </tr>\n",
       "    <tr>\n",
       "      <th>1</th>\n",
       "      <td>foo</td>\n",
       "      <td>2</td>\n",
       "    </tr>\n",
       "  </tbody>\n",
       "</table>\n",
       "</div>"
      ],
      "text/plain": [
       "   key  lval\n",
       "0  foo     1\n",
       "1  foo     2"
      ]
     },
     "execution_count": 77,
     "metadata": {},
     "output_type": "execute_result"
    }
   ],
   "source": [
    "left"
   ]
  },
  {
   "cell_type": "code",
   "execution_count": 78,
   "metadata": {},
   "outputs": [
    {
     "data": {
      "text/html": [
       "<div>\n",
       "<table border=\"1\" class=\"dataframe\">\n",
       "  <thead>\n",
       "    <tr style=\"text-align: right;\">\n",
       "      <th></th>\n",
       "      <th>key</th>\n",
       "      <th>rval</th>\n",
       "    </tr>\n",
       "  </thead>\n",
       "  <tbody>\n",
       "    <tr>\n",
       "      <th>0</th>\n",
       "      <td>foo</td>\n",
       "      <td>4</td>\n",
       "    </tr>\n",
       "    <tr>\n",
       "      <th>1</th>\n",
       "      <td>foo</td>\n",
       "      <td>5</td>\n",
       "    </tr>\n",
       "  </tbody>\n",
       "</table>\n",
       "</div>"
      ],
      "text/plain": [
       "   key  rval\n",
       "0  foo     4\n",
       "1  foo     5"
      ]
     },
     "execution_count": 78,
     "metadata": {},
     "output_type": "execute_result"
    }
   ],
   "source": [
    "right"
   ]
  },
  {
   "cell_type": "code",
   "execution_count": 79,
   "metadata": {},
   "outputs": [
    {
     "data": {
      "text/html": [
       "<div>\n",
       "<table border=\"1\" class=\"dataframe\">\n",
       "  <thead>\n",
       "    <tr style=\"text-align: right;\">\n",
       "      <th></th>\n",
       "      <th>key</th>\n",
       "      <th>lval</th>\n",
       "      <th>rval</th>\n",
       "    </tr>\n",
       "  </thead>\n",
       "  <tbody>\n",
       "    <tr>\n",
       "      <th>0</th>\n",
       "      <td>foo</td>\n",
       "      <td>1</td>\n",
       "      <td>4</td>\n",
       "    </tr>\n",
       "    <tr>\n",
       "      <th>1</th>\n",
       "      <td>foo</td>\n",
       "      <td>1</td>\n",
       "      <td>5</td>\n",
       "    </tr>\n",
       "    <tr>\n",
       "      <th>2</th>\n",
       "      <td>foo</td>\n",
       "      <td>2</td>\n",
       "      <td>4</td>\n",
       "    </tr>\n",
       "    <tr>\n",
       "      <th>3</th>\n",
       "      <td>foo</td>\n",
       "      <td>2</td>\n",
       "      <td>5</td>\n",
       "    </tr>\n",
       "  </tbody>\n",
       "</table>\n",
       "</div>"
      ],
      "text/plain": [
       "   key  lval  rval\n",
       "0  foo     1     4\n",
       "1  foo     1     5\n",
       "2  foo     2     4\n",
       "3  foo     2     5"
      ]
     },
     "execution_count": 79,
     "metadata": {},
     "output_type": "execute_result"
    }
   ],
   "source": [
    "pd.merge(left, right, on='key')"
   ]
  },
  {
   "cell_type": "markdown",
   "metadata": {},
   "source": [
    "### Append\n",
    "\n",
    "Append rows to a dataframe. See the [Appending](http://pandas.pydata.org/pandas-docs/stable/merging.html#merging-concatenation)"
   ]
  },
  {
   "cell_type": "code",
   "execution_count": 80,
   "metadata": {},
   "outputs": [],
   "source": [
    "df = pd.DataFrame(np.random.randn(8, 4), columns=['A','B','C','D'])"
   ]
  },
  {
   "cell_type": "code",
   "execution_count": 81,
   "metadata": {},
   "outputs": [
    {
     "data": {
      "text/html": [
       "<div>\n",
       "<table border=\"1\" class=\"dataframe\">\n",
       "  <thead>\n",
       "    <tr style=\"text-align: right;\">\n",
       "      <th></th>\n",
       "      <th>A</th>\n",
       "      <th>B</th>\n",
       "      <th>C</th>\n",
       "      <th>D</th>\n",
       "    </tr>\n",
       "  </thead>\n",
       "  <tbody>\n",
       "    <tr>\n",
       "      <th>0</th>\n",
       "      <td>0.737825</td>\n",
       "      <td>-0.797993</td>\n",
       "      <td>0.295382</td>\n",
       "      <td>-0.481334</td>\n",
       "    </tr>\n",
       "    <tr>\n",
       "      <th>1</th>\n",
       "      <td>0.441661</td>\n",
       "      <td>0.267433</td>\n",
       "      <td>1.359359</td>\n",
       "      <td>-0.008209</td>\n",
       "    </tr>\n",
       "    <tr>\n",
       "      <th>2</th>\n",
       "      <td>-1.281760</td>\n",
       "      <td>1.328790</td>\n",
       "      <td>-1.292677</td>\n",
       "      <td>0.393182</td>\n",
       "    </tr>\n",
       "    <tr>\n",
       "      <th>3</th>\n",
       "      <td>-0.261242</td>\n",
       "      <td>0.158953</td>\n",
       "      <td>-0.818572</td>\n",
       "      <td>0.029054</td>\n",
       "    </tr>\n",
       "    <tr>\n",
       "      <th>4</th>\n",
       "      <td>-0.573592</td>\n",
       "      <td>1.084336</td>\n",
       "      <td>-0.607967</td>\n",
       "      <td>0.209093</td>\n",
       "    </tr>\n",
       "    <tr>\n",
       "      <th>5</th>\n",
       "      <td>-0.973715</td>\n",
       "      <td>0.435859</td>\n",
       "      <td>0.108952</td>\n",
       "      <td>0.507311</td>\n",
       "    </tr>\n",
       "    <tr>\n",
       "      <th>6</th>\n",
       "      <td>1.268485</td>\n",
       "      <td>2.812566</td>\n",
       "      <td>-2.680638</td>\n",
       "      <td>0.111353</td>\n",
       "    </tr>\n",
       "    <tr>\n",
       "      <th>7</th>\n",
       "      <td>-0.779880</td>\n",
       "      <td>-0.995017</td>\n",
       "      <td>-0.211178</td>\n",
       "      <td>-0.010751</td>\n",
       "    </tr>\n",
       "  </tbody>\n",
       "</table>\n",
       "</div>"
      ],
      "text/plain": [
       "          A         B         C         D\n",
       "0  0.737825 -0.797993  0.295382 -0.481334\n",
       "1  0.441661  0.267433  1.359359 -0.008209\n",
       "2 -1.281760  1.328790 -1.292677  0.393182\n",
       "3 -0.261242  0.158953 -0.818572  0.029054\n",
       "4 -0.573592  1.084336 -0.607967  0.209093\n",
       "5 -0.973715  0.435859  0.108952  0.507311\n",
       "6  1.268485  2.812566 -2.680638  0.111353\n",
       "7 -0.779880 -0.995017 -0.211178 -0.010751"
      ]
     },
     "execution_count": 81,
     "metadata": {},
     "output_type": "execute_result"
    }
   ],
   "source": [
    "df"
   ]
  },
  {
   "cell_type": "code",
   "execution_count": 82,
   "metadata": {},
   "outputs": [],
   "source": [
    "s = df.iloc[3]"
   ]
  },
  {
   "cell_type": "code",
   "execution_count": 83,
   "metadata": {},
   "outputs": [
    {
     "data": {
      "text/html": [
       "<div>\n",
       "<table border=\"1\" class=\"dataframe\">\n",
       "  <thead>\n",
       "    <tr style=\"text-align: right;\">\n",
       "      <th></th>\n",
       "      <th>A</th>\n",
       "      <th>B</th>\n",
       "      <th>C</th>\n",
       "      <th>D</th>\n",
       "    </tr>\n",
       "  </thead>\n",
       "  <tbody>\n",
       "    <tr>\n",
       "      <th>0</th>\n",
       "      <td>0.737825</td>\n",
       "      <td>-0.797993</td>\n",
       "      <td>0.295382</td>\n",
       "      <td>-0.481334</td>\n",
       "    </tr>\n",
       "    <tr>\n",
       "      <th>1</th>\n",
       "      <td>0.441661</td>\n",
       "      <td>0.267433</td>\n",
       "      <td>1.359359</td>\n",
       "      <td>-0.008209</td>\n",
       "    </tr>\n",
       "    <tr>\n",
       "      <th>2</th>\n",
       "      <td>-1.281760</td>\n",
       "      <td>1.328790</td>\n",
       "      <td>-1.292677</td>\n",
       "      <td>0.393182</td>\n",
       "    </tr>\n",
       "    <tr>\n",
       "      <th>3</th>\n",
       "      <td>-0.261242</td>\n",
       "      <td>0.158953</td>\n",
       "      <td>-0.818572</td>\n",
       "      <td>0.029054</td>\n",
       "    </tr>\n",
       "    <tr>\n",
       "      <th>4</th>\n",
       "      <td>-0.573592</td>\n",
       "      <td>1.084336</td>\n",
       "      <td>-0.607967</td>\n",
       "      <td>0.209093</td>\n",
       "    </tr>\n",
       "    <tr>\n",
       "      <th>5</th>\n",
       "      <td>-0.973715</td>\n",
       "      <td>0.435859</td>\n",
       "      <td>0.108952</td>\n",
       "      <td>0.507311</td>\n",
       "    </tr>\n",
       "    <tr>\n",
       "      <th>6</th>\n",
       "      <td>1.268485</td>\n",
       "      <td>2.812566</td>\n",
       "      <td>-2.680638</td>\n",
       "      <td>0.111353</td>\n",
       "    </tr>\n",
       "    <tr>\n",
       "      <th>7</th>\n",
       "      <td>-0.779880</td>\n",
       "      <td>-0.995017</td>\n",
       "      <td>-0.211178</td>\n",
       "      <td>-0.010751</td>\n",
       "    </tr>\n",
       "    <tr>\n",
       "      <th>8</th>\n",
       "      <td>-0.261242</td>\n",
       "      <td>0.158953</td>\n",
       "      <td>-0.818572</td>\n",
       "      <td>0.029054</td>\n",
       "    </tr>\n",
       "  </tbody>\n",
       "</table>\n",
       "</div>"
      ],
      "text/plain": [
       "          A         B         C         D\n",
       "0  0.737825 -0.797993  0.295382 -0.481334\n",
       "1  0.441661  0.267433  1.359359 -0.008209\n",
       "2 -1.281760  1.328790 -1.292677  0.393182\n",
       "3 -0.261242  0.158953 -0.818572  0.029054\n",
       "4 -0.573592  1.084336 -0.607967  0.209093\n",
       "5 -0.973715  0.435859  0.108952  0.507311\n",
       "6  1.268485  2.812566 -2.680638  0.111353\n",
       "7 -0.779880 -0.995017 -0.211178 -0.010751\n",
       "8 -0.261242  0.158953 -0.818572  0.029054"
      ]
     },
     "execution_count": 83,
     "metadata": {},
     "output_type": "execute_result"
    }
   ],
   "source": [
    "df.append(s, ignore_index=True)"
   ]
  },
  {
   "cell_type": "markdown",
   "metadata": {},
   "source": [
    "## Grouping\n",
    "\n",
    "By “group by” we are referring to a process involving one or more of the following steps\n",
    "\n",
    "* **Splitting** the data into groups based on some criteria\n",
    "* **Applying** a function to each group independently\n",
    "* **Combining** the results into a data structure\n",
    "\n",
    "See the [Grouping section](http://pandas.pydata.org/pandas-docs/stable/groupby.html#groupby)"
   ]
  },
  {
   "cell_type": "code",
   "execution_count": 84,
   "metadata": {},
   "outputs": [],
   "source": [
    "df = pd.DataFrame({'A' : ['foo', 'bar', 'foo', 'bar', 'foo', 'bar', 'foo', 'foo'],\n",
    "                                    'B' : ['one', 'one', 'two', 'three','two', 'two', 'one', 'three'],\n",
    "                                    'C' : np.random.randn(8),\n",
    "                                     'D' : np.random.randn(8)})"
   ]
  },
  {
   "cell_type": "code",
   "execution_count": 85,
   "metadata": {},
   "outputs": [
    {
     "data": {
      "text/html": [
       "<div>\n",
       "<table border=\"1\" class=\"dataframe\">\n",
       "  <thead>\n",
       "    <tr style=\"text-align: right;\">\n",
       "      <th></th>\n",
       "      <th>A</th>\n",
       "      <th>B</th>\n",
       "      <th>C</th>\n",
       "      <th>D</th>\n",
       "    </tr>\n",
       "  </thead>\n",
       "  <tbody>\n",
       "    <tr>\n",
       "      <th>0</th>\n",
       "      <td>foo</td>\n",
       "      <td>one</td>\n",
       "      <td>1.255149</td>\n",
       "      <td>-0.773562</td>\n",
       "    </tr>\n",
       "    <tr>\n",
       "      <th>1</th>\n",
       "      <td>bar</td>\n",
       "      <td>one</td>\n",
       "      <td>0.588501</td>\n",
       "      <td>-2.133467</td>\n",
       "    </tr>\n",
       "    <tr>\n",
       "      <th>2</th>\n",
       "      <td>foo</td>\n",
       "      <td>two</td>\n",
       "      <td>-1.934105</td>\n",
       "      <td>0.173106</td>\n",
       "    </tr>\n",
       "    <tr>\n",
       "      <th>3</th>\n",
       "      <td>bar</td>\n",
       "      <td>three</td>\n",
       "      <td>0.953495</td>\n",
       "      <td>1.305531</td>\n",
       "    </tr>\n",
       "    <tr>\n",
       "      <th>4</th>\n",
       "      <td>foo</td>\n",
       "      <td>two</td>\n",
       "      <td>-0.695402</td>\n",
       "      <td>-0.132028</td>\n",
       "    </tr>\n",
       "    <tr>\n",
       "      <th>5</th>\n",
       "      <td>bar</td>\n",
       "      <td>two</td>\n",
       "      <td>-1.294449</td>\n",
       "      <td>1.008667</td>\n",
       "    </tr>\n",
       "    <tr>\n",
       "      <th>6</th>\n",
       "      <td>foo</td>\n",
       "      <td>one</td>\n",
       "      <td>0.034738</td>\n",
       "      <td>1.581195</td>\n",
       "    </tr>\n",
       "    <tr>\n",
       "      <th>7</th>\n",
       "      <td>foo</td>\n",
       "      <td>three</td>\n",
       "      <td>-0.104682</td>\n",
       "      <td>-0.688347</td>\n",
       "    </tr>\n",
       "  </tbody>\n",
       "</table>\n",
       "</div>"
      ],
      "text/plain": [
       "     A      B         C         D\n",
       "0  foo    one  1.255149 -0.773562\n",
       "1  bar    one  0.588501 -2.133467\n",
       "2  foo    two -1.934105  0.173106\n",
       "3  bar  three  0.953495  1.305531\n",
       "4  foo    two -0.695402 -0.132028\n",
       "5  bar    two -1.294449  1.008667\n",
       "6  foo    one  0.034738  1.581195\n",
       "7  foo  three -0.104682 -0.688347"
      ]
     },
     "execution_count": 85,
     "metadata": {},
     "output_type": "execute_result"
    }
   ],
   "source": [
    "df"
   ]
  },
  {
   "cell_type": "markdown",
   "metadata": {},
   "source": [
    "Grouping and then applying a function sum to the resulting groups."
   ]
  },
  {
   "cell_type": "code",
   "execution_count": 86,
   "metadata": {},
   "outputs": [
    {
     "data": {
      "text/html": [
       "<div>\n",
       "<table border=\"1\" class=\"dataframe\">\n",
       "  <thead>\n",
       "    <tr style=\"text-align: right;\">\n",
       "      <th></th>\n",
       "      <th>C</th>\n",
       "      <th>D</th>\n",
       "    </tr>\n",
       "    <tr>\n",
       "      <th>A</th>\n",
       "      <th></th>\n",
       "      <th></th>\n",
       "    </tr>\n",
       "  </thead>\n",
       "  <tbody>\n",
       "    <tr>\n",
       "      <th>bar</th>\n",
       "      <td>0.247547</td>\n",
       "      <td>0.180731</td>\n",
       "    </tr>\n",
       "    <tr>\n",
       "      <th>foo</th>\n",
       "      <td>-1.444302</td>\n",
       "      <td>0.160365</td>\n",
       "    </tr>\n",
       "  </tbody>\n",
       "</table>\n",
       "</div>"
      ],
      "text/plain": [
       "            C         D\n",
       "A                      \n",
       "bar  0.247547  0.180731\n",
       "foo -1.444302  0.160365"
      ]
     },
     "execution_count": 86,
     "metadata": {},
     "output_type": "execute_result"
    }
   ],
   "source": [
    "df.groupby('A').sum()"
   ]
  },
  {
   "cell_type": "code",
   "execution_count": 87,
   "metadata": {},
   "outputs": [
    {
     "data": {
      "text/html": [
       "<div>\n",
       "<table border=\"1\" class=\"dataframe\">\n",
       "  <thead>\n",
       "    <tr style=\"text-align: right;\">\n",
       "      <th></th>\n",
       "      <th></th>\n",
       "      <th>C</th>\n",
       "      <th>D</th>\n",
       "    </tr>\n",
       "    <tr>\n",
       "      <th>A</th>\n",
       "      <th>B</th>\n",
       "      <th></th>\n",
       "      <th></th>\n",
       "    </tr>\n",
       "  </thead>\n",
       "  <tbody>\n",
       "    <tr>\n",
       "      <th rowspan=\"3\" valign=\"top\">bar</th>\n",
       "      <th>one</th>\n",
       "      <td>0.588501</td>\n",
       "      <td>-2.133467</td>\n",
       "    </tr>\n",
       "    <tr>\n",
       "      <th>three</th>\n",
       "      <td>0.953495</td>\n",
       "      <td>1.305531</td>\n",
       "    </tr>\n",
       "    <tr>\n",
       "      <th>two</th>\n",
       "      <td>-1.294449</td>\n",
       "      <td>1.008667</td>\n",
       "    </tr>\n",
       "    <tr>\n",
       "      <th rowspan=\"3\" valign=\"top\">foo</th>\n",
       "      <th>one</th>\n",
       "      <td>1.289887</td>\n",
       "      <td>0.807633</td>\n",
       "    </tr>\n",
       "    <tr>\n",
       "      <th>three</th>\n",
       "      <td>-0.104682</td>\n",
       "      <td>-0.688347</td>\n",
       "    </tr>\n",
       "    <tr>\n",
       "      <th>two</th>\n",
       "      <td>-2.629507</td>\n",
       "      <td>0.041079</td>\n",
       "    </tr>\n",
       "  </tbody>\n",
       "</table>\n",
       "</div>"
      ],
      "text/plain": [
       "                  C         D\n",
       "A   B                        \n",
       "bar one    0.588501 -2.133467\n",
       "    three  0.953495  1.305531\n",
       "    two   -1.294449  1.008667\n",
       "foo one    1.289887  0.807633\n",
       "    three -0.104682 -0.688347\n",
       "    two   -2.629507  0.041079"
      ]
     },
     "execution_count": 87,
     "metadata": {},
     "output_type": "execute_result"
    }
   ],
   "source": [
    "df.groupby(['A','B']).sum()"
   ]
  },
  {
   "cell_type": "markdown",
   "metadata": {},
   "source": [
    "## Reshaping\n",
    "\n",
    "See the sections on [Hierarchical Indexing](http://pandas.pydata.org/pandas-docs/stable/advanced.html#advanced-hierarchical) and [Reshaping](http://pandas.pydata.org/pandas-docs/stable/reshaping.html#reshaping-stacking)."
   ]
  },
  {
   "cell_type": "markdown",
   "metadata": {},
   "source": [
    "### Stack"
   ]
  },
  {
   "cell_type": "code",
   "execution_count": 88,
   "metadata": {},
   "outputs": [],
   "source": [
    "tuples = list(zip(*[['bar', 'bar', 'baz', 'baz', 'foo', 'foo', 'qux', 'qux'],\n",
    "                                ['one', 'two', 'one', 'two', 'one', 'two', 'one', 'two']]))"
   ]
  },
  {
   "cell_type": "code",
   "execution_count": 89,
   "metadata": {
    "collapsed": true
   },
   "outputs": [],
   "source": [
    "index = pd.MultiIndex.from_tuples(tuples, names=['first', 'second'])"
   ]
  },
  {
   "cell_type": "code",
   "execution_count": 90,
   "metadata": {
    "collapsed": true
   },
   "outputs": [],
   "source": [
    "df = pd.DataFrame(np.random.randn(8, 2), index=index, columns=['A', 'B'])"
   ]
  },
  {
   "cell_type": "code",
   "execution_count": 91,
   "metadata": {
    "collapsed": true
   },
   "outputs": [],
   "source": [
    "df2 = df[:4]"
   ]
  },
  {
   "cell_type": "code",
   "execution_count": 92,
   "metadata": {},
   "outputs": [
    {
     "data": {
      "text/html": [
       "<div>\n",
       "<table border=\"1\" class=\"dataframe\">\n",
       "  <thead>\n",
       "    <tr style=\"text-align: right;\">\n",
       "      <th></th>\n",
       "      <th></th>\n",
       "      <th>A</th>\n",
       "      <th>B</th>\n",
       "    </tr>\n",
       "    <tr>\n",
       "      <th>first</th>\n",
       "      <th>second</th>\n",
       "      <th></th>\n",
       "      <th></th>\n",
       "    </tr>\n",
       "  </thead>\n",
       "  <tbody>\n",
       "    <tr>\n",
       "      <th rowspan=\"2\" valign=\"top\">bar</th>\n",
       "      <th>one</th>\n",
       "      <td>-0.017051</td>\n",
       "      <td>-0.142786</td>\n",
       "    </tr>\n",
       "    <tr>\n",
       "      <th>two</th>\n",
       "      <td>-1.709057</td>\n",
       "      <td>-1.126442</td>\n",
       "    </tr>\n",
       "    <tr>\n",
       "      <th rowspan=\"2\" valign=\"top\">baz</th>\n",
       "      <th>one</th>\n",
       "      <td>0.669769</td>\n",
       "      <td>1.610229</td>\n",
       "    </tr>\n",
       "    <tr>\n",
       "      <th>two</th>\n",
       "      <td>-0.276188</td>\n",
       "      <td>1.643333</td>\n",
       "    </tr>\n",
       "  </tbody>\n",
       "</table>\n",
       "</div>"
      ],
      "text/plain": [
       "                     A         B\n",
       "first second                    \n",
       "bar   one    -0.017051 -0.142786\n",
       "      two    -1.709057 -1.126442\n",
       "baz   one     0.669769  1.610229\n",
       "      two    -0.276188  1.643333"
      ]
     },
     "execution_count": 92,
     "metadata": {},
     "output_type": "execute_result"
    }
   ],
   "source": [
    "df2"
   ]
  },
  {
   "cell_type": "markdown",
   "metadata": {},
   "source": [
    "The stack() method “compresses” a level in the DataFrame’s columns."
   ]
  },
  {
   "cell_type": "code",
   "execution_count": 93,
   "metadata": {
    "collapsed": true
   },
   "outputs": [],
   "source": [
    "stacked = df2.stack()"
   ]
  },
  {
   "cell_type": "code",
   "execution_count": 94,
   "metadata": {},
   "outputs": [
    {
     "data": {
      "text/plain": [
       "first  second   \n",
       "bar    one     A   -0.017051\n",
       "               B   -0.142786\n",
       "       two     A   -1.709057\n",
       "               B   -1.126442\n",
       "baz    one     A    0.669769\n",
       "               B    1.610229\n",
       "       two     A   -0.276188\n",
       "               B    1.643333\n",
       "dtype: float64"
      ]
     },
     "execution_count": 94,
     "metadata": {},
     "output_type": "execute_result"
    }
   ],
   "source": [
    "stacked"
   ]
  },
  {
   "cell_type": "markdown",
   "metadata": {},
   "source": [
    "With a “stacked” DataFrame or Series (having a MultiIndex as the index), the inverse operation of stack() is unstack(), which by default unstacks the **last level**:"
   ]
  },
  {
   "cell_type": "code",
   "execution_count": 95,
   "metadata": {},
   "outputs": [
    {
     "data": {
      "text/html": [
       "<div>\n",
       "<table border=\"1\" class=\"dataframe\">\n",
       "  <thead>\n",
       "    <tr style=\"text-align: right;\">\n",
       "      <th></th>\n",
       "      <th></th>\n",
       "      <th>A</th>\n",
       "      <th>B</th>\n",
       "    </tr>\n",
       "    <tr>\n",
       "      <th>first</th>\n",
       "      <th>second</th>\n",
       "      <th></th>\n",
       "      <th></th>\n",
       "    </tr>\n",
       "  </thead>\n",
       "  <tbody>\n",
       "    <tr>\n",
       "      <th rowspan=\"2\" valign=\"top\">bar</th>\n",
       "      <th>one</th>\n",
       "      <td>-0.017051</td>\n",
       "      <td>-0.142786</td>\n",
       "    </tr>\n",
       "    <tr>\n",
       "      <th>two</th>\n",
       "      <td>-1.709057</td>\n",
       "      <td>-1.126442</td>\n",
       "    </tr>\n",
       "    <tr>\n",
       "      <th rowspan=\"2\" valign=\"top\">baz</th>\n",
       "      <th>one</th>\n",
       "      <td>0.669769</td>\n",
       "      <td>1.610229</td>\n",
       "    </tr>\n",
       "    <tr>\n",
       "      <th>two</th>\n",
       "      <td>-0.276188</td>\n",
       "      <td>1.643333</td>\n",
       "    </tr>\n",
       "  </tbody>\n",
       "</table>\n",
       "</div>"
      ],
      "text/plain": [
       "                     A         B\n",
       "first second                    \n",
       "bar   one    -0.017051 -0.142786\n",
       "      two    -1.709057 -1.126442\n",
       "baz   one     0.669769  1.610229\n",
       "      two    -0.276188  1.643333"
      ]
     },
     "execution_count": 95,
     "metadata": {},
     "output_type": "execute_result"
    }
   ],
   "source": [
    "stacked.unstack()"
   ]
  },
  {
   "cell_type": "code",
   "execution_count": 96,
   "metadata": {},
   "outputs": [
    {
     "data": {
      "text/html": [
       "<div>\n",
       "<table border=\"1\" class=\"dataframe\">\n",
       "  <thead>\n",
       "    <tr style=\"text-align: right;\">\n",
       "      <th></th>\n",
       "      <th>second</th>\n",
       "      <th>one</th>\n",
       "      <th>two</th>\n",
       "    </tr>\n",
       "    <tr>\n",
       "      <th>first</th>\n",
       "      <th></th>\n",
       "      <th></th>\n",
       "      <th></th>\n",
       "    </tr>\n",
       "  </thead>\n",
       "  <tbody>\n",
       "    <tr>\n",
       "      <th rowspan=\"2\" valign=\"top\">bar</th>\n",
       "      <th>A</th>\n",
       "      <td>-0.017051</td>\n",
       "      <td>-1.709057</td>\n",
       "    </tr>\n",
       "    <tr>\n",
       "      <th>B</th>\n",
       "      <td>-0.142786</td>\n",
       "      <td>-1.126442</td>\n",
       "    </tr>\n",
       "    <tr>\n",
       "      <th rowspan=\"2\" valign=\"top\">baz</th>\n",
       "      <th>A</th>\n",
       "      <td>0.669769</td>\n",
       "      <td>-0.276188</td>\n",
       "    </tr>\n",
       "    <tr>\n",
       "      <th>B</th>\n",
       "      <td>1.610229</td>\n",
       "      <td>1.643333</td>\n",
       "    </tr>\n",
       "  </tbody>\n",
       "</table>\n",
       "</div>"
      ],
      "text/plain": [
       "second        one       two\n",
       "first                      \n",
       "bar   A -0.017051 -1.709057\n",
       "      B -0.142786 -1.126442\n",
       "baz   A  0.669769 -0.276188\n",
       "      B  1.610229  1.643333"
      ]
     },
     "execution_count": 96,
     "metadata": {},
     "output_type": "execute_result"
    }
   ],
   "source": [
    "stacked.unstack(1)"
   ]
  },
  {
   "cell_type": "code",
   "execution_count": 97,
   "metadata": {},
   "outputs": [
    {
     "data": {
      "text/html": [
       "<div>\n",
       "<table border=\"1\" class=\"dataframe\">\n",
       "  <thead>\n",
       "    <tr style=\"text-align: right;\">\n",
       "      <th></th>\n",
       "      <th>first</th>\n",
       "      <th>bar</th>\n",
       "      <th>baz</th>\n",
       "    </tr>\n",
       "    <tr>\n",
       "      <th>second</th>\n",
       "      <th></th>\n",
       "      <th></th>\n",
       "      <th></th>\n",
       "    </tr>\n",
       "  </thead>\n",
       "  <tbody>\n",
       "    <tr>\n",
       "      <th rowspan=\"2\" valign=\"top\">one</th>\n",
       "      <th>A</th>\n",
       "      <td>-0.017051</td>\n",
       "      <td>0.669769</td>\n",
       "    </tr>\n",
       "    <tr>\n",
       "      <th>B</th>\n",
       "      <td>-0.142786</td>\n",
       "      <td>1.610229</td>\n",
       "    </tr>\n",
       "    <tr>\n",
       "      <th rowspan=\"2\" valign=\"top\">two</th>\n",
       "      <th>A</th>\n",
       "      <td>-1.709057</td>\n",
       "      <td>-0.276188</td>\n",
       "    </tr>\n",
       "    <tr>\n",
       "      <th>B</th>\n",
       "      <td>-1.126442</td>\n",
       "      <td>1.643333</td>\n",
       "    </tr>\n",
       "  </tbody>\n",
       "</table>\n",
       "</div>"
      ],
      "text/plain": [
       "first          bar       baz\n",
       "second                      \n",
       "one    A -0.017051  0.669769\n",
       "       B -0.142786  1.610229\n",
       "two    A -1.709057 -0.276188\n",
       "       B -1.126442  1.643333"
      ]
     },
     "execution_count": 97,
     "metadata": {},
     "output_type": "execute_result"
    }
   ],
   "source": [
    "stacked.unstack(0)"
   ]
  },
  {
   "cell_type": "markdown",
   "metadata": {},
   "source": [
    "### Pivot Tables\n",
    "\n",
    "See the section on [Pivot Tables](http://pandas.pydata.org/pandas-docs/stable/reshaping.html#reshaping-pivot)."
   ]
  },
  {
   "cell_type": "code",
   "execution_count": 98,
   "metadata": {
    "collapsed": true
   },
   "outputs": [],
   "source": [
    "df = pd.DataFrame({'A' : ['one', 'one', 'two', 'three'] * 3,\n",
    "                                    'B' : ['A', 'B', 'C'] * 4,\n",
    "                                    'C' : ['foo', 'foo', 'foo', 'bar', 'bar', 'bar'] * 2,\n",
    "                                    'D' : np.random.randn(12),\n",
    "                                    'E' : np.random.randn(12)})"
   ]
  },
  {
   "cell_type": "code",
   "execution_count": 99,
   "metadata": {},
   "outputs": [
    {
     "data": {
      "text/html": [
       "<div>\n",
       "<table border=\"1\" class=\"dataframe\">\n",
       "  <thead>\n",
       "    <tr style=\"text-align: right;\">\n",
       "      <th></th>\n",
       "      <th>A</th>\n",
       "      <th>B</th>\n",
       "      <th>C</th>\n",
       "      <th>D</th>\n",
       "      <th>E</th>\n",
       "    </tr>\n",
       "  </thead>\n",
       "  <tbody>\n",
       "    <tr>\n",
       "      <th>0</th>\n",
       "      <td>one</td>\n",
       "      <td>A</td>\n",
       "      <td>foo</td>\n",
       "      <td>0.956956</td>\n",
       "      <td>-0.779518</td>\n",
       "    </tr>\n",
       "    <tr>\n",
       "      <th>1</th>\n",
       "      <td>one</td>\n",
       "      <td>B</td>\n",
       "      <td>foo</td>\n",
       "      <td>-0.385991</td>\n",
       "      <td>1.313800</td>\n",
       "    </tr>\n",
       "    <tr>\n",
       "      <th>2</th>\n",
       "      <td>two</td>\n",
       "      <td>C</td>\n",
       "      <td>foo</td>\n",
       "      <td>0.099376</td>\n",
       "      <td>-0.183668</td>\n",
       "    </tr>\n",
       "    <tr>\n",
       "      <th>3</th>\n",
       "      <td>three</td>\n",
       "      <td>A</td>\n",
       "      <td>bar</td>\n",
       "      <td>0.125833</td>\n",
       "      <td>0.161135</td>\n",
       "    </tr>\n",
       "    <tr>\n",
       "      <th>4</th>\n",
       "      <td>one</td>\n",
       "      <td>B</td>\n",
       "      <td>bar</td>\n",
       "      <td>-0.093556</td>\n",
       "      <td>1.347298</td>\n",
       "    </tr>\n",
       "    <tr>\n",
       "      <th>5</th>\n",
       "      <td>one</td>\n",
       "      <td>C</td>\n",
       "      <td>bar</td>\n",
       "      <td>0.107514</td>\n",
       "      <td>-1.058860</td>\n",
       "    </tr>\n",
       "    <tr>\n",
       "      <th>6</th>\n",
       "      <td>two</td>\n",
       "      <td>A</td>\n",
       "      <td>foo</td>\n",
       "      <td>-1.568626</td>\n",
       "      <td>0.768295</td>\n",
       "    </tr>\n",
       "    <tr>\n",
       "      <th>7</th>\n",
       "      <td>three</td>\n",
       "      <td>B</td>\n",
       "      <td>foo</td>\n",
       "      <td>1.117645</td>\n",
       "      <td>1.368192</td>\n",
       "    </tr>\n",
       "    <tr>\n",
       "      <th>8</th>\n",
       "      <td>one</td>\n",
       "      <td>C</td>\n",
       "      <td>foo</td>\n",
       "      <td>0.352901</td>\n",
       "      <td>-0.583480</td>\n",
       "    </tr>\n",
       "    <tr>\n",
       "      <th>9</th>\n",
       "      <td>one</td>\n",
       "      <td>A</td>\n",
       "      <td>bar</td>\n",
       "      <td>-1.248634</td>\n",
       "      <td>0.525744</td>\n",
       "    </tr>\n",
       "    <tr>\n",
       "      <th>10</th>\n",
       "      <td>two</td>\n",
       "      <td>B</td>\n",
       "      <td>bar</td>\n",
       "      <td>-0.365095</td>\n",
       "      <td>0.241136</td>\n",
       "    </tr>\n",
       "    <tr>\n",
       "      <th>11</th>\n",
       "      <td>three</td>\n",
       "      <td>C</td>\n",
       "      <td>bar</td>\n",
       "      <td>-0.739973</td>\n",
       "      <td>-0.851509</td>\n",
       "    </tr>\n",
       "  </tbody>\n",
       "</table>\n",
       "</div>"
      ],
      "text/plain": [
       "        A  B    C         D         E\n",
       "0     one  A  foo  0.956956 -0.779518\n",
       "1     one  B  foo -0.385991  1.313800\n",
       "2     two  C  foo  0.099376 -0.183668\n",
       "3   three  A  bar  0.125833  0.161135\n",
       "4     one  B  bar -0.093556  1.347298\n",
       "5     one  C  bar  0.107514 -1.058860\n",
       "6     two  A  foo -1.568626  0.768295\n",
       "7   three  B  foo  1.117645  1.368192\n",
       "8     one  C  foo  0.352901 -0.583480\n",
       "9     one  A  bar -1.248634  0.525744\n",
       "10    two  B  bar -0.365095  0.241136\n",
       "11  three  C  bar -0.739973 -0.851509"
      ]
     },
     "execution_count": 99,
     "metadata": {},
     "output_type": "execute_result"
    }
   ],
   "source": [
    "df"
   ]
  },
  {
   "cell_type": "markdown",
   "metadata": {},
   "source": [
    "We can produce pivot tables from this data very easily:"
   ]
  },
  {
   "cell_type": "code",
   "execution_count": 100,
   "metadata": {},
   "outputs": [
    {
     "data": {
      "text/html": [
       "<div>\n",
       "<table border=\"1\" class=\"dataframe\">\n",
       "  <thead>\n",
       "    <tr style=\"text-align: right;\">\n",
       "      <th></th>\n",
       "      <th>C</th>\n",
       "      <th>bar</th>\n",
       "      <th>foo</th>\n",
       "    </tr>\n",
       "    <tr>\n",
       "      <th>A</th>\n",
       "      <th>B</th>\n",
       "      <th></th>\n",
       "      <th></th>\n",
       "    </tr>\n",
       "  </thead>\n",
       "  <tbody>\n",
       "    <tr>\n",
       "      <th rowspan=\"3\" valign=\"top\">one</th>\n",
       "      <th>A</th>\n",
       "      <td>-1.248634</td>\n",
       "      <td>0.956956</td>\n",
       "    </tr>\n",
       "    <tr>\n",
       "      <th>B</th>\n",
       "      <td>-0.093556</td>\n",
       "      <td>-0.385991</td>\n",
       "    </tr>\n",
       "    <tr>\n",
       "      <th>C</th>\n",
       "      <td>0.107514</td>\n",
       "      <td>0.352901</td>\n",
       "    </tr>\n",
       "    <tr>\n",
       "      <th rowspan=\"3\" valign=\"top\">three</th>\n",
       "      <th>A</th>\n",
       "      <td>0.125833</td>\n",
       "      <td>NaN</td>\n",
       "    </tr>\n",
       "    <tr>\n",
       "      <th>B</th>\n",
       "      <td>NaN</td>\n",
       "      <td>1.117645</td>\n",
       "    </tr>\n",
       "    <tr>\n",
       "      <th>C</th>\n",
       "      <td>-0.739973</td>\n",
       "      <td>NaN</td>\n",
       "    </tr>\n",
       "    <tr>\n",
       "      <th rowspan=\"3\" valign=\"top\">two</th>\n",
       "      <th>A</th>\n",
       "      <td>NaN</td>\n",
       "      <td>-1.568626</td>\n",
       "    </tr>\n",
       "    <tr>\n",
       "      <th>B</th>\n",
       "      <td>-0.365095</td>\n",
       "      <td>NaN</td>\n",
       "    </tr>\n",
       "    <tr>\n",
       "      <th>C</th>\n",
       "      <td>NaN</td>\n",
       "      <td>0.099376</td>\n",
       "    </tr>\n",
       "  </tbody>\n",
       "</table>\n",
       "</div>"
      ],
      "text/plain": [
       "C             bar       foo\n",
       "A     B                    \n",
       "one   A -1.248634  0.956956\n",
       "      B -0.093556 -0.385991\n",
       "      C  0.107514  0.352901\n",
       "three A  0.125833       NaN\n",
       "      B       NaN  1.117645\n",
       "      C -0.739973       NaN\n",
       "two   A       NaN -1.568626\n",
       "      B -0.365095       NaN\n",
       "      C       NaN  0.099376"
      ]
     },
     "execution_count": 100,
     "metadata": {},
     "output_type": "execute_result"
    }
   ],
   "source": [
    "pd.pivot_table(df, values='D', index=['A', 'B'], columns=['C'])"
   ]
  },
  {
   "cell_type": "markdown",
   "metadata": {},
   "source": [
    "## Time Series\n",
    "\n",
    "pandas has simple, powerful, and efficient functionality for performing resampling operations during frequency conversion (e.g., converting secondly data into 5-minutely data). This is extremely common in, but not limited to, financial applications. See the [Time Series section](http://pandas.pydata.org/pandas-docs/stable/timeseries.html#timeseries)"
   ]
  },
  {
   "cell_type": "code",
   "execution_count": 101,
   "metadata": {
    "collapsed": true
   },
   "outputs": [],
   "source": [
    "rng = pd.date_range('1/1/2012', periods=100, freq='S')"
   ]
  },
  {
   "cell_type": "code",
   "execution_count": 102,
   "metadata": {
    "collapsed": true
   },
   "outputs": [],
   "source": [
    "ts = pd.Series(np.random.randint(0, 500, len(rng)), index=rng)"
   ]
  },
  {
   "cell_type": "code",
   "execution_count": 103,
   "metadata": {},
   "outputs": [
    {
     "data": {
      "text/plain": [
       "2012-01-01    24284\n",
       "Freq: 5T, dtype: int64"
      ]
     },
     "execution_count": 103,
     "metadata": {},
     "output_type": "execute_result"
    }
   ],
   "source": [
    "ts.resample('5Min').sum()"
   ]
  },
  {
   "cell_type": "markdown",
   "metadata": {},
   "source": [
    "Time zone representation"
   ]
  },
  {
   "cell_type": "code",
   "execution_count": 104,
   "metadata": {
    "collapsed": true
   },
   "outputs": [],
   "source": [
    "rng = pd.date_range('3/6/2012 00:00', periods=5, freq='D')"
   ]
  },
  {
   "cell_type": "code",
   "execution_count": 105,
   "metadata": {
    "collapsed": true
   },
   "outputs": [],
   "source": [
    "ts = pd.Series(np.random.randn(len(rng)), rng)"
   ]
  },
  {
   "cell_type": "code",
   "execution_count": 106,
   "metadata": {},
   "outputs": [
    {
     "data": {
      "text/plain": [
       "2012-03-06    0.001381\n",
       "2012-03-07    0.822356\n",
       "2012-03-08    0.297496\n",
       "2012-03-09    0.328007\n",
       "2012-03-10   -0.695281\n",
       "Freq: D, dtype: float64"
      ]
     },
     "execution_count": 106,
     "metadata": {},
     "output_type": "execute_result"
    }
   ],
   "source": [
    "ts"
   ]
  },
  {
   "cell_type": "code",
   "execution_count": 107,
   "metadata": {
    "collapsed": true
   },
   "outputs": [],
   "source": [
    "ts_utc = ts.tz_localize('UTC')"
   ]
  },
  {
   "cell_type": "code",
   "execution_count": 108,
   "metadata": {},
   "outputs": [
    {
     "data": {
      "text/plain": [
       "2012-03-06 00:00:00+00:00    0.001381\n",
       "2012-03-07 00:00:00+00:00    0.822356\n",
       "2012-03-08 00:00:00+00:00    0.297496\n",
       "2012-03-09 00:00:00+00:00    0.328007\n",
       "2012-03-10 00:00:00+00:00   -0.695281\n",
       "Freq: D, dtype: float64"
      ]
     },
     "execution_count": 108,
     "metadata": {},
     "output_type": "execute_result"
    }
   ],
   "source": [
    "ts_utc"
   ]
  },
  {
   "cell_type": "markdown",
   "metadata": {},
   "source": [
    "\n",
    "Convert to another time zone"
   ]
  },
  {
   "cell_type": "code",
   "execution_count": 109,
   "metadata": {},
   "outputs": [
    {
     "data": {
      "text/plain": [
       "2012-03-05 19:00:00-05:00    0.001381\n",
       "2012-03-06 19:00:00-05:00    0.822356\n",
       "2012-03-07 19:00:00-05:00    0.297496\n",
       "2012-03-08 19:00:00-05:00    0.328007\n",
       "2012-03-09 19:00:00-05:00   -0.695281\n",
       "Freq: D, dtype: float64"
      ]
     },
     "execution_count": 109,
     "metadata": {},
     "output_type": "execute_result"
    }
   ],
   "source": [
    "ts_utc.tz_convert('US/Eastern')"
   ]
  },
  {
   "cell_type": "markdown",
   "metadata": {},
   "source": [
    "\n",
    "Converting between time span representations"
   ]
  },
  {
   "cell_type": "code",
   "execution_count": 110,
   "metadata": {
    "collapsed": true
   },
   "outputs": [],
   "source": [
    "rng = pd.date_range('1/1/2012', periods=5, freq='M')"
   ]
  },
  {
   "cell_type": "code",
   "execution_count": 111,
   "metadata": {
    "collapsed": true
   },
   "outputs": [],
   "source": [
    "ts = pd.Series(np.random.randn(len(rng)), index=rng)"
   ]
  },
  {
   "cell_type": "code",
   "execution_count": 112,
   "metadata": {},
   "outputs": [
    {
     "data": {
      "text/plain": [
       "2012-01-31    1.426351\n",
       "2012-02-29   -0.461109\n",
       "2012-03-31    0.226495\n",
       "2012-04-30   -0.033693\n",
       "2012-05-31   -0.865446\n",
       "Freq: M, dtype: float64"
      ]
     },
     "execution_count": 112,
     "metadata": {},
     "output_type": "execute_result"
    }
   ],
   "source": [
    "ts"
   ]
  },
  {
   "cell_type": "code",
   "execution_count": 113,
   "metadata": {
    "collapsed": true
   },
   "outputs": [],
   "source": [
    "ps = ts.to_period()"
   ]
  },
  {
   "cell_type": "code",
   "execution_count": 114,
   "metadata": {},
   "outputs": [
    {
     "data": {
      "text/plain": [
       "2012-01    1.426351\n",
       "2012-02   -0.461109\n",
       "2012-03    0.226495\n",
       "2012-04   -0.033693\n",
       "2012-05   -0.865446\n",
       "Freq: M, dtype: float64"
      ]
     },
     "execution_count": 114,
     "metadata": {},
     "output_type": "execute_result"
    }
   ],
   "source": [
    "ps"
   ]
  },
  {
   "cell_type": "code",
   "execution_count": 115,
   "metadata": {},
   "outputs": [
    {
     "data": {
      "text/plain": [
       "2012-01-01    1.426351\n",
       "2012-02-01   -0.461109\n",
       "2012-03-01    0.226495\n",
       "2012-04-01   -0.033693\n",
       "2012-05-01   -0.865446\n",
       "Freq: MS, dtype: float64"
      ]
     },
     "execution_count": 115,
     "metadata": {},
     "output_type": "execute_result"
    }
   ],
   "source": [
    "ps.to_timestamp()"
   ]
  },
  {
   "cell_type": "markdown",
   "metadata": {},
   "source": [
    "Converting between period and timestamp enables some convenient arithmetic functions to be used. In the following example, we convert a quarterly frequency with year ending in November to 9am of the end of the month following the quarter end:"
   ]
  },
  {
   "cell_type": "code",
   "execution_count": 116,
   "metadata": {
    "collapsed": true
   },
   "outputs": [],
   "source": [
    "prng = pd.period_range('1990Q1', '2000Q4', freq='Q-NOV')"
   ]
  },
  {
   "cell_type": "code",
   "execution_count": 117,
   "metadata": {
    "collapsed": true
   },
   "outputs": [],
   "source": [
    "ts = pd.Series(np.random.randn(len(prng)), prng)"
   ]
  },
  {
   "cell_type": "code",
   "execution_count": 118,
   "metadata": {
    "collapsed": true
   },
   "outputs": [],
   "source": [
    "ts.index = (prng.asfreq('M', 'e') + 1).asfreq('H', 's') + 9"
   ]
  },
  {
   "cell_type": "code",
   "execution_count": 119,
   "metadata": {},
   "outputs": [
    {
     "data": {
      "text/plain": [
       "1990-03-01 09:00    0.590104\n",
       "1990-06-01 09:00   -1.394696\n",
       "1990-09-01 09:00   -0.973758\n",
       "1990-12-01 09:00    0.999693\n",
       "1991-03-01 09:00    1.122026\n",
       "Freq: H, dtype: float64"
      ]
     },
     "execution_count": 119,
     "metadata": {},
     "output_type": "execute_result"
    }
   ],
   "source": [
    "ts.head()"
   ]
  },
  {
   "cell_type": "markdown",
   "metadata": {},
   "source": [
    "## Categoricals"
   ]
  },
  {
   "cell_type": "markdown",
   "metadata": {},
   "source": [
    "Since version 0.15, pandas can include categorical data in a DataFrame. For full docs, see the [categorical introduction](http://pandas.pydata.org/pandas-docs/stable/categorical.html#categorical) and the [API documentation](http://pandas.pydata.org/pandas-docs/stable/api.html#api-categorical)."
   ]
  },
  {
   "cell_type": "code",
   "execution_count": 120,
   "metadata": {
    "collapsed": true
   },
   "outputs": [],
   "source": [
    "df = pd.DataFrame({\"id\":[1,2,3,4,5,6], \"raw_grade\":['a', 'b', 'b', 'a', 'a', 'e']})"
   ]
  },
  {
   "cell_type": "markdown",
   "metadata": {},
   "source": [
    "Convert the raw grades to a categorical data type."
   ]
  },
  {
   "cell_type": "code",
   "execution_count": 121,
   "metadata": {
    "collapsed": true
   },
   "outputs": [],
   "source": [
    "df[\"grade\"] = df[\"raw_grade\"].astype(\"category\")"
   ]
  },
  {
   "cell_type": "code",
   "execution_count": 122,
   "metadata": {},
   "outputs": [
    {
     "data": {
      "text/plain": [
       "0    a\n",
       "1    b\n",
       "2    b\n",
       "3    a\n",
       "4    a\n",
       "5    e\n",
       "Name: grade, dtype: category\n",
       "Categories (3, object): [a, b, e]"
      ]
     },
     "execution_count": 122,
     "metadata": {},
     "output_type": "execute_result"
    }
   ],
   "source": [
    "df[\"grade\"]"
   ]
  },
  {
   "cell_type": "markdown",
   "metadata": {},
   "source": [
    "Rename the categories to more meaningful names (assigning to Series.cat.categories is inplace!)"
   ]
  },
  {
   "cell_type": "code",
   "execution_count": 123,
   "metadata": {
    "collapsed": true
   },
   "outputs": [],
   "source": [
    "df[\"grade\"].cat.categories = [\"very good\", \"good\", \"very bad\"]"
   ]
  },
  {
   "cell_type": "markdown",
   "metadata": {},
   "source": [
    "Reorder the categories and simultaneously add the missing categories (methods under Series .cat return a new Series per default)."
   ]
  },
  {
   "cell_type": "code",
   "execution_count": 124,
   "metadata": {
    "collapsed": true
   },
   "outputs": [],
   "source": [
    "df[\"grade\"] = df[\"grade\"].cat.set_categories([\"very bad\", \"bad\", \"medium\", \"good\", \"very good\"])"
   ]
  },
  {
   "cell_type": "code",
   "execution_count": 125,
   "metadata": {},
   "outputs": [
    {
     "data": {
      "text/plain": [
       "0    very good\n",
       "1         good\n",
       "2         good\n",
       "3    very good\n",
       "4    very good\n",
       "5     very bad\n",
       "Name: grade, dtype: category\n",
       "Categories (5, object): [very bad, bad, medium, good, very good]"
      ]
     },
     "execution_count": 125,
     "metadata": {},
     "output_type": "execute_result"
    }
   ],
   "source": [
    "df[\"grade\"]"
   ]
  },
  {
   "cell_type": "markdown",
   "metadata": {},
   "source": [
    "Sorting is per order in the categories, not lexical order."
   ]
  },
  {
   "cell_type": "code",
   "execution_count": 126,
   "metadata": {},
   "outputs": [
    {
     "data": {
      "text/html": [
       "<div>\n",
       "<table border=\"1\" class=\"dataframe\">\n",
       "  <thead>\n",
       "    <tr style=\"text-align: right;\">\n",
       "      <th></th>\n",
       "      <th>id</th>\n",
       "      <th>raw_grade</th>\n",
       "      <th>grade</th>\n",
       "    </tr>\n",
       "  </thead>\n",
       "  <tbody>\n",
       "    <tr>\n",
       "      <th>5</th>\n",
       "      <td>6</td>\n",
       "      <td>e</td>\n",
       "      <td>very bad</td>\n",
       "    </tr>\n",
       "    <tr>\n",
       "      <th>1</th>\n",
       "      <td>2</td>\n",
       "      <td>b</td>\n",
       "      <td>good</td>\n",
       "    </tr>\n",
       "    <tr>\n",
       "      <th>2</th>\n",
       "      <td>3</td>\n",
       "      <td>b</td>\n",
       "      <td>good</td>\n",
       "    </tr>\n",
       "    <tr>\n",
       "      <th>0</th>\n",
       "      <td>1</td>\n",
       "      <td>a</td>\n",
       "      <td>very good</td>\n",
       "    </tr>\n",
       "    <tr>\n",
       "      <th>3</th>\n",
       "      <td>4</td>\n",
       "      <td>a</td>\n",
       "      <td>very good</td>\n",
       "    </tr>\n",
       "    <tr>\n",
       "      <th>4</th>\n",
       "      <td>5</td>\n",
       "      <td>a</td>\n",
       "      <td>very good</td>\n",
       "    </tr>\n",
       "  </tbody>\n",
       "</table>\n",
       "</div>"
      ],
      "text/plain": [
       "   id raw_grade      grade\n",
       "5   6         e   very bad\n",
       "1   2         b       good\n",
       "2   3         b       good\n",
       "0   1         a  very good\n",
       "3   4         a  very good\n",
       "4   5         a  very good"
      ]
     },
     "execution_count": 126,
     "metadata": {},
     "output_type": "execute_result"
    }
   ],
   "source": [
    "df.sort_values(by=\"grade\")"
   ]
  },
  {
   "cell_type": "markdown",
   "metadata": {},
   "source": [
    "Grouping by a categorical column shows also empty categories."
   ]
  },
  {
   "cell_type": "code",
   "execution_count": 127,
   "metadata": {},
   "outputs": [
    {
     "data": {
      "text/plain": [
       "grade\n",
       "very bad     1\n",
       "bad          0\n",
       "medium       0\n",
       "good         2\n",
       "very good    3\n",
       "dtype: int64"
      ]
     },
     "execution_count": 127,
     "metadata": {},
     "output_type": "execute_result"
    }
   ],
   "source": [
    "df.groupby(\"grade\").size()"
   ]
  },
  {
   "cell_type": "markdown",
   "metadata": {},
   "source": [
    "## Plotting\n",
    "[Plotting](http://pandas.pydata.org/pandas-docs/stable/visualization.html#visualization) docs."
   ]
  },
  {
   "cell_type": "code",
   "execution_count": 128,
   "metadata": {
    "collapsed": true
   },
   "outputs": [],
   "source": [
    "ts = pd.Series(np.random.randn(1000), index=pd.date_range('1/1/2000', periods=1000))"
   ]
  },
  {
   "cell_type": "code",
   "execution_count": 129,
   "metadata": {
    "collapsed": true
   },
   "outputs": [],
   "source": [
    "ts = ts.cumsum()"
   ]
  },
  {
   "cell_type": "code",
   "execution_count": 130,
   "metadata": {},
   "outputs": [
    {
     "data": {
      "text/plain": [
       "<matplotlib.axes._subplots.AxesSubplot at 0x11301f510>"
      ]
     },
     "execution_count": 130,
     "metadata": {},
     "output_type": "execute_result"
    },
    {
     "data": {
      "image/png": "[encoded data removed]",
      "text/plain": [
       "<matplotlib.figure.Figure at 0x112fde690>"
      ]
     },
     "metadata": {},
     "output_type": "display_data"
    }
   ],
   "source": [
    "# plot a series almost automatically\n",
    "ts.plot()"
   ]
  },
  {
   "cell_type": "markdown",
   "metadata": {},
   "source": [
    "On DataFrame, plot() is a convenience to plot all of the columns with labels:"
   ]
  },
  {
   "cell_type": "code",
   "execution_count": 131,
   "metadata": {
    "collapsed": true
   },
   "outputs": [],
   "source": [
    "df = pd.DataFrame(np.random.randn(1000, 4), index=ts.index,\n",
    "                  columns=['A', 'B', 'C', 'D'])"
   ]
  },
  {
   "cell_type": "code",
   "execution_count": 132,
   "metadata": {
    "collapsed": true
   },
   "outputs": [],
   "source": [
    "df = df.cumsum()"
   ]
  },
  {
   "cell_type": "code",
   "execution_count": 133,
   "metadata": {},
   "outputs": [
    {
     "data": {
      "text/plain": [
       "<matplotlib.legend.Legend at 0x115522850>"
      ]
     },
     "execution_count": 133,
     "metadata": {},
     "output_type": "execute_result"
    },
    {
     "data": {
      "text/plain": [
       "<matplotlib.figure.Figure at 0x112fb5890>"
      ]
     },
     "metadata": {},
     "output_type": "display_data"
    },
    {
     "data": {
      "image/png": "[encoded data removed]",
      "text/plain": [
       "<matplotlib.figure.Figure at 0x112feae50>"
      ]
     },
     "metadata": {},
     "output_type": "display_data"
    }
   ],
   "source": [
    "plt.figure(); df.plot(); plt.legend(loc='best')"
   ]
  },
  {
   "cell_type": "markdown",
   "metadata": {},
   "source": [
    "## Getting Data In/Out"
   ]
  },
  {
   "cell_type": "markdown",
   "metadata": {},
   "source": [
    "### CSV\n",
    "[Writing to a csv file](http://pandas.pydata.org/pandas-docs/stable/io.html#io-store-in-csv)"
   ]
  },
  {
   "cell_type": "code",
   "execution_count": 134,
   "metadata": {
    "collapsed": true
   },
   "outputs": [],
   "source": [
    "df.to_csv('foo.csv')"
   ]
  },
  {
   "cell_type": "markdown",
   "metadata": {},
   "source": [
    "[Reading from a csv file](http://pandas.pydata.org/pandas-docs/stable/io.html#io-read-csv-table)"
   ]
  },
  {
   "cell_type": "code",
   "execution_count": 135,
   "metadata": {},
   "outputs": [
    {
     "data": {
      "text/html": [
       "<div>\n",
       "<table border=\"1\" class=\"dataframe\">\n",
       "  <thead>\n",
       "    <tr style=\"text-align: right;\">\n",
       "      <th></th>\n",
       "      <th>Unnamed: 0</th>\n",
       "      <th>A</th>\n",
       "      <th>B</th>\n",
       "      <th>C</th>\n",
       "      <th>D</th>\n",
       "    </tr>\n",
       "  </thead>\n",
       "  <tbody>\n",
       "    <tr>\n",
       "      <th>0</th>\n",
       "      <td>2000-01-01</td>\n",
       "      <td>0.229566</td>\n",
       "      <td>0.947490</td>\n",
       "      <td>0.327015</td>\n",
       "      <td>-1.178972</td>\n",
       "    </tr>\n",
       "    <tr>\n",
       "      <th>1</th>\n",
       "      <td>2000-01-02</td>\n",
       "      <td>1.327026</td>\n",
       "      <td>1.381528</td>\n",
       "      <td>1.667987</td>\n",
       "      <td>-0.720750</td>\n",
       "    </tr>\n",
       "    <tr>\n",
       "      <th>2</th>\n",
       "      <td>2000-01-03</td>\n",
       "      <td>-0.823735</td>\n",
       "      <td>1.058180</td>\n",
       "      <td>2.168018</td>\n",
       "      <td>0.305420</td>\n",
       "    </tr>\n",
       "    <tr>\n",
       "      <th>3</th>\n",
       "      <td>2000-01-04</td>\n",
       "      <td>0.552687</td>\n",
       "      <td>-1.261507</td>\n",
       "      <td>2.648051</td>\n",
       "      <td>0.602534</td>\n",
       "    </tr>\n",
       "    <tr>\n",
       "      <th>4</th>\n",
       "      <td>2000-01-05</td>\n",
       "      <td>0.235865</td>\n",
       "      <td>-0.188814</td>\n",
       "      <td>3.794863</td>\n",
       "      <td>1.862987</td>\n",
       "    </tr>\n",
       "    <tr>\n",
       "      <th>5</th>\n",
       "      <td>2000-01-06</td>\n",
       "      <td>0.082977</td>\n",
       "      <td>1.223707</td>\n",
       "      <td>6.632730</td>\n",
       "      <td>1.549228</td>\n",
       "    </tr>\n",
       "    <tr>\n",
       "      <th>6</th>\n",
       "      <td>2000-01-07</td>\n",
       "      <td>-1.006019</td>\n",
       "      <td>2.593655</td>\n",
       "      <td>6.618860</td>\n",
       "      <td>0.010621</td>\n",
       "    </tr>\n",
       "    <tr>\n",
       "      <th>7</th>\n",
       "      <td>2000-01-08</td>\n",
       "      <td>-1.288507</td>\n",
       "      <td>1.148484</td>\n",
       "      <td>6.751376</td>\n",
       "      <td>0.800920</td>\n",
       "    </tr>\n",
       "    <tr>\n",
       "      <th>8</th>\n",
       "      <td>2000-01-09</td>\n",
       "      <td>-2.352525</td>\n",
       "      <td>-0.146812</td>\n",
       "      <td>6.532781</td>\n",
       "      <td>0.745332</td>\n",
       "    </tr>\n",
       "    <tr>\n",
       "      <th>9</th>\n",
       "      <td>2000-01-10</td>\n",
       "      <td>-2.499233</td>\n",
       "      <td>0.517220</td>\n",
       "      <td>6.722906</td>\n",
       "      <td>0.394381</td>\n",
       "    </tr>\n",
       "    <tr>\n",
       "      <th>10</th>\n",
       "      <td>2000-01-11</td>\n",
       "      <td>-2.578847</td>\n",
       "      <td>0.303733</td>\n",
       "      <td>5.758798</td>\n",
       "      <td>0.342576</td>\n",
       "    </tr>\n",
       "    <tr>\n",
       "      <th>11</th>\n",
       "      <td>2000-01-12</td>\n",
       "      <td>-3.524753</td>\n",
       "      <td>1.510723</td>\n",
       "      <td>6.947372</td>\n",
       "      <td>1.428593</td>\n",
       "    </tr>\n",
       "    <tr>\n",
       "      <th>12</th>\n",
       "      <td>2000-01-13</td>\n",
       "      <td>-2.240955</td>\n",
       "      <td>-0.146883</td>\n",
       "      <td>4.970443</td>\n",
       "      <td>-0.896973</td>\n",
       "    </tr>\n",
       "    <tr>\n",
       "      <th>13</th>\n",
       "      <td>2000-01-14</td>\n",
       "      <td>-0.226166</td>\n",
       "      <td>-0.984045</td>\n",
       "      <td>2.892525</td>\n",
       "      <td>-1.715817</td>\n",
       "    </tr>\n",
       "    <tr>\n",
       "      <th>14</th>\n",
       "      <td>2000-01-15</td>\n",
       "      <td>0.824886</td>\n",
       "      <td>-0.131081</td>\n",
       "      <td>3.372065</td>\n",
       "      <td>-0.416876</td>\n",
       "    </tr>\n",
       "    <tr>\n",
       "      <th>15</th>\n",
       "      <td>2000-01-16</td>\n",
       "      <td>0.642076</td>\n",
       "      <td>0.696531</td>\n",
       "      <td>2.946884</td>\n",
       "      <td>-1.349983</td>\n",
       "    </tr>\n",
       "    <tr>\n",
       "      <th>16</th>\n",
       "      <td>2000-01-17</td>\n",
       "      <td>2.081030</td>\n",
       "      <td>-0.500591</td>\n",
       "      <td>1.407351</td>\n",
       "      <td>-2.200434</td>\n",
       "    </tr>\n",
       "    <tr>\n",
       "      <th>17</th>\n",
       "      <td>2000-01-18</td>\n",
       "      <td>1.563919</td>\n",
       "      <td>0.065511</td>\n",
       "      <td>2.122547</td>\n",
       "      <td>-1.832537</td>\n",
       "    </tr>\n",
       "    <tr>\n",
       "      <th>18</th>\n",
       "      <td>2000-01-19</td>\n",
       "      <td>2.329400</td>\n",
       "      <td>-0.893886</td>\n",
       "      <td>1.648659</td>\n",
       "      <td>-0.943635</td>\n",
       "    </tr>\n",
       "    <tr>\n",
       "      <th>19</th>\n",
       "      <td>2000-01-20</td>\n",
       "      <td>1.693410</td>\n",
       "      <td>-0.536185</td>\n",
       "      <td>0.947853</td>\n",
       "      <td>-0.484557</td>\n",
       "    </tr>\n",
       "    <tr>\n",
       "      <th>20</th>\n",
       "      <td>2000-01-21</td>\n",
       "      <td>1.362617</td>\n",
       "      <td>-1.760897</td>\n",
       "      <td>0.217172</td>\n",
       "      <td>0.132181</td>\n",
       "    </tr>\n",
       "    <tr>\n",
       "      <th>21</th>\n",
       "      <td>2000-01-22</td>\n",
       "      <td>0.873303</td>\n",
       "      <td>-1.162425</td>\n",
       "      <td>1.898488</td>\n",
       "      <td>1.709020</td>\n",
       "    </tr>\n",
       "    <tr>\n",
       "      <th>22</th>\n",
       "      <td>2000-01-23</td>\n",
       "      <td>0.578829</td>\n",
       "      <td>-1.808952</td>\n",
       "      <td>1.332493</td>\n",
       "      <td>3.299061</td>\n",
       "    </tr>\n",
       "    <tr>\n",
       "      <th>23</th>\n",
       "      <td>2000-01-24</td>\n",
       "      <td>-0.177618</td>\n",
       "      <td>-2.313073</td>\n",
       "      <td>3.139520</td>\n",
       "      <td>3.464145</td>\n",
       "    </tr>\n",
       "    <tr>\n",
       "      <th>24</th>\n",
       "      <td>2000-01-25</td>\n",
       "      <td>-1.559258</td>\n",
       "      <td>-0.782890</td>\n",
       "      <td>3.358138</td>\n",
       "      <td>4.340553</td>\n",
       "    </tr>\n",
       "    <tr>\n",
       "      <th>25</th>\n",
       "      <td>2000-01-26</td>\n",
       "      <td>-2.318055</td>\n",
       "      <td>-1.604532</td>\n",
       "      <td>4.003696</td>\n",
       "      <td>4.787936</td>\n",
       "    </tr>\n",
       "    <tr>\n",
       "      <th>26</th>\n",
       "      <td>2000-01-27</td>\n",
       "      <td>-3.734813</td>\n",
       "      <td>-0.734599</td>\n",
       "      <td>3.594038</td>\n",
       "      <td>4.130079</td>\n",
       "    </tr>\n",
       "    <tr>\n",
       "      <th>27</th>\n",
       "      <td>2000-01-28</td>\n",
       "      <td>-3.707718</td>\n",
       "      <td>-1.482289</td>\n",
       "      <td>3.927830</td>\n",
       "      <td>3.162898</td>\n",
       "    </tr>\n",
       "    <tr>\n",
       "      <th>28</th>\n",
       "      <td>2000-01-29</td>\n",
       "      <td>-3.408828</td>\n",
       "      <td>-3.346289</td>\n",
       "      <td>2.984204</td>\n",
       "      <td>4.047529</td>\n",
       "    </tr>\n",
       "    <tr>\n",
       "      <th>29</th>\n",
       "      <td>2000-01-30</td>\n",
       "      <td>-3.210556</td>\n",
       "      <td>-3.952385</td>\n",
       "      <td>1.048666</td>\n",
       "      <td>3.728905</td>\n",
       "    </tr>\n",
       "    <tr>\n",
       "      <th>...</th>\n",
       "      <td>...</td>\n",
       "      <td>...</td>\n",
       "      <td>...</td>\n",
       "      <td>...</td>\n",
       "      <td>...</td>\n",
       "    </tr>\n",
       "    <tr>\n",
       "      <th>970</th>\n",
       "      <td>2002-08-28</td>\n",
       "      <td>-22.085345</td>\n",
       "      <td>4.086267</td>\n",
       "      <td>59.773376</td>\n",
       "      <td>-37.170933</td>\n",
       "    </tr>\n",
       "    <tr>\n",
       "      <th>971</th>\n",
       "      <td>2002-08-29</td>\n",
       "      <td>-21.724437</td>\n",
       "      <td>3.930351</td>\n",
       "      <td>58.489588</td>\n",
       "      <td>-37.787415</td>\n",
       "    </tr>\n",
       "    <tr>\n",
       "      <th>972</th>\n",
       "      <td>2002-08-30</td>\n",
       "      <td>-21.892033</td>\n",
       "      <td>4.999555</td>\n",
       "      <td>59.727134</td>\n",
       "      <td>-38.705546</td>\n",
       "    </tr>\n",
       "    <tr>\n",
       "      <th>973</th>\n",
       "      <td>2002-08-31</td>\n",
       "      <td>-21.224169</td>\n",
       "      <td>4.165593</td>\n",
       "      <td>58.963788</td>\n",
       "      <td>-35.638855</td>\n",
       "    </tr>\n",
       "    <tr>\n",
       "      <th>974</th>\n",
       "      <td>2002-09-01</td>\n",
       "      <td>-21.023506</td>\n",
       "      <td>4.218409</td>\n",
       "      <td>60.283360</td>\n",
       "      <td>-35.138075</td>\n",
       "    </tr>\n",
       "    <tr>\n",
       "      <th>975</th>\n",
       "      <td>2002-09-02</td>\n",
       "      <td>-19.742269</td>\n",
       "      <td>4.773368</td>\n",
       "      <td>60.003044</td>\n",
       "      <td>-33.918649</td>\n",
       "    </tr>\n",
       "    <tr>\n",
       "      <th>976</th>\n",
       "      <td>2002-09-03</td>\n",
       "      <td>-18.026437</td>\n",
       "      <td>4.331738</td>\n",
       "      <td>58.484222</td>\n",
       "      <td>-33.069365</td>\n",
       "    </tr>\n",
       "    <tr>\n",
       "      <th>977</th>\n",
       "      <td>2002-09-04</td>\n",
       "      <td>-19.214596</td>\n",
       "      <td>4.715962</td>\n",
       "      <td>58.078844</td>\n",
       "      <td>-32.310527</td>\n",
       "    </tr>\n",
       "    <tr>\n",
       "      <th>978</th>\n",
       "      <td>2002-09-05</td>\n",
       "      <td>-18.727034</td>\n",
       "      <td>4.593574</td>\n",
       "      <td>58.236705</td>\n",
       "      <td>-33.293412</td>\n",
       "    </tr>\n",
       "    <tr>\n",
       "      <th>979</th>\n",
       "      <td>2002-09-06</td>\n",
       "      <td>-19.519816</td>\n",
       "      <td>4.253387</td>\n",
       "      <td>56.315565</td>\n",
       "      <td>-33.853784</td>\n",
       "    </tr>\n",
       "    <tr>\n",
       "      <th>980</th>\n",
       "      <td>2002-09-07</td>\n",
       "      <td>-20.445961</td>\n",
       "      <td>6.527613</td>\n",
       "      <td>55.457523</td>\n",
       "      <td>-33.643307</td>\n",
       "    </tr>\n",
       "    <tr>\n",
       "      <th>981</th>\n",
       "      <td>2002-09-08</td>\n",
       "      <td>-20.305952</td>\n",
       "      <td>6.692115</td>\n",
       "      <td>56.140298</td>\n",
       "      <td>-36.277672</td>\n",
       "    </tr>\n",
       "    <tr>\n",
       "      <th>982</th>\n",
       "      <td>2002-09-09</td>\n",
       "      <td>-21.229383</td>\n",
       "      <td>6.535899</td>\n",
       "      <td>53.950977</td>\n",
       "      <td>-36.789764</td>\n",
       "    </tr>\n",
       "    <tr>\n",
       "      <th>983</th>\n",
       "      <td>2002-09-10</td>\n",
       "      <td>-20.309589</td>\n",
       "      <td>6.077754</td>\n",
       "      <td>52.620348</td>\n",
       "      <td>-36.421441</td>\n",
       "    </tr>\n",
       "    <tr>\n",
       "      <th>984</th>\n",
       "      <td>2002-09-11</td>\n",
       "      <td>-20.131924</td>\n",
       "      <td>4.177473</td>\n",
       "      <td>50.752472</td>\n",
       "      <td>-35.779432</td>\n",
       "    </tr>\n",
       "    <tr>\n",
       "      <th>985</th>\n",
       "      <td>2002-09-12</td>\n",
       "      <td>-19.209803</td>\n",
       "      <td>3.636689</td>\n",
       "      <td>51.835834</td>\n",
       "      <td>-36.288330</td>\n",
       "    </tr>\n",
       "    <tr>\n",
       "      <th>986</th>\n",
       "      <td>2002-09-13</td>\n",
       "      <td>-18.745233</td>\n",
       "      <td>3.708874</td>\n",
       "      <td>51.865234</td>\n",
       "      <td>-35.684195</td>\n",
       "    </tr>\n",
       "    <tr>\n",
       "      <th>987</th>\n",
       "      <td>2002-09-14</td>\n",
       "      <td>-17.586392</td>\n",
       "      <td>2.301770</td>\n",
       "      <td>52.107479</td>\n",
       "      <td>-35.878009</td>\n",
       "    </tr>\n",
       "    <tr>\n",
       "      <th>988</th>\n",
       "      <td>2002-09-15</td>\n",
       "      <td>-16.087126</td>\n",
       "      <td>1.094416</td>\n",
       "      <td>53.012613</td>\n",
       "      <td>-35.997198</td>\n",
       "    </tr>\n",
       "    <tr>\n",
       "      <th>989</th>\n",
       "      <td>2002-09-16</td>\n",
       "      <td>-15.819551</td>\n",
       "      <td>1.193656</td>\n",
       "      <td>53.172575</td>\n",
       "      <td>-35.686098</td>\n",
       "    </tr>\n",
       "    <tr>\n",
       "      <th>990</th>\n",
       "      <td>2002-09-17</td>\n",
       "      <td>-16.388726</td>\n",
       "      <td>1.100940</td>\n",
       "      <td>53.921543</td>\n",
       "      <td>-34.855610</td>\n",
       "    </tr>\n",
       "    <tr>\n",
       "      <th>991</th>\n",
       "      <td>2002-09-18</td>\n",
       "      <td>-16.471900</td>\n",
       "      <td>0.404530</td>\n",
       "      <td>52.549188</td>\n",
       "      <td>-35.361305</td>\n",
       "    </tr>\n",
       "    <tr>\n",
       "      <th>992</th>\n",
       "      <td>2002-09-19</td>\n",
       "      <td>-17.170579</td>\n",
       "      <td>1.796227</td>\n",
       "      <td>51.528884</td>\n",
       "      <td>-33.912447</td>\n",
       "    </tr>\n",
       "    <tr>\n",
       "      <th>993</th>\n",
       "      <td>2002-09-20</td>\n",
       "      <td>-17.376832</td>\n",
       "      <td>1.860154</td>\n",
       "      <td>51.856175</td>\n",
       "      <td>-34.164329</td>\n",
       "    </tr>\n",
       "    <tr>\n",
       "      <th>994</th>\n",
       "      <td>2002-09-21</td>\n",
       "      <td>-16.576938</td>\n",
       "      <td>3.253251</td>\n",
       "      <td>51.759947</td>\n",
       "      <td>-34.695169</td>\n",
       "    </tr>\n",
       "    <tr>\n",
       "      <th>995</th>\n",
       "      <td>2002-09-22</td>\n",
       "      <td>-18.212440</td>\n",
       "      <td>3.121473</td>\n",
       "      <td>50.880599</td>\n",
       "      <td>-33.955890</td>\n",
       "    </tr>\n",
       "    <tr>\n",
       "      <th>996</th>\n",
       "      <td>2002-09-23</td>\n",
       "      <td>-19.173849</td>\n",
       "      <td>2.280530</td>\n",
       "      <td>51.180955</td>\n",
       "      <td>-33.930285</td>\n",
       "    </tr>\n",
       "    <tr>\n",
       "      <th>997</th>\n",
       "      <td>2002-09-24</td>\n",
       "      <td>-19.386115</td>\n",
       "      <td>2.638820</td>\n",
       "      <td>50.574456</td>\n",
       "      <td>-32.577030</td>\n",
       "    </tr>\n",
       "    <tr>\n",
       "      <th>998</th>\n",
       "      <td>2002-09-25</td>\n",
       "      <td>-18.377048</td>\n",
       "      <td>0.448802</td>\n",
       "      <td>50.336375</td>\n",
       "      <td>-30.860890</td>\n",
       "    </tr>\n",
       "    <tr>\n",
       "      <th>999</th>\n",
       "      <td>2002-09-26</td>\n",
       "      <td>-16.584611</td>\n",
       "      <td>1.290031</td>\n",
       "      <td>49.785116</td>\n",
       "      <td>-30.823572</td>\n",
       "    </tr>\n",
       "  </tbody>\n",
       "</table>\n",
       "<p>1000 rows × 5 columns</p>\n",
       "</div>"
      ],
      "text/plain": [
       "     Unnamed: 0          A         B          C          D\n",
       "0    2000-01-01   0.229566  0.947490   0.327015  -1.178972\n",
       "1    2000-01-02   1.327026  1.381528   1.667987  -0.720750\n",
       "2    2000-01-03  -0.823735  1.058180   2.168018   0.305420\n",
       "3    2000-01-04   0.552687 -1.261507   2.648051   0.602534\n",
       "4    2000-01-05   0.235865 -0.188814   3.794863   1.862987\n",
       "5    2000-01-06   0.082977  1.223707   6.632730   1.549228\n",
       "6    2000-01-07  -1.006019  2.593655   6.618860   0.010621\n",
       "7    2000-01-08  -1.288507  1.148484   6.751376   0.800920\n",
       "8    2000-01-09  -2.352525 -0.146812   6.532781   0.745332\n",
       "9    2000-01-10  -2.499233  0.517220   6.722906   0.394381\n",
       "10   2000-01-11  -2.578847  0.303733   5.758798   0.342576\n",
       "11   2000-01-12  -3.524753  1.510723   6.947372   1.428593\n",
       "12   2000-01-13  -2.240955 -0.146883   4.970443  -0.896973\n",
       "13   2000-01-14  -0.226166 -0.984045   2.892525  -1.715817\n",
       "14   2000-01-15   0.824886 -0.131081   3.372065  -0.416876\n",
       "15   2000-01-16   0.642076  0.696531   2.946884  -1.349983\n",
       "16   2000-01-17   2.081030 -0.500591   1.407351  -2.200434\n",
       "17   2000-01-18   1.563919  0.065511   2.122547  -1.832537\n",
       "18   2000-01-19   2.329400 -0.893886   1.648659  -0.943635\n",
       "19   2000-01-20   1.693410 -0.536185   0.947853  -0.484557\n",
       "20   2000-01-21   1.362617 -1.760897   0.217172   0.132181\n",
       "21   2000-01-22   0.873303 -1.162425   1.898488   1.709020\n",
       "22   2000-01-23   0.578829 -1.808952   1.332493   3.299061\n",
       "23   2000-01-24  -0.177618 -2.313073   3.139520   3.464145\n",
       "24   2000-01-25  -1.559258 -0.782890   3.358138   4.340553\n",
       "25   2000-01-26  -2.318055 -1.604532   4.003696   4.787936\n",
       "26   2000-01-27  -3.734813 -0.734599   3.594038   4.130079\n",
       "27   2000-01-28  -3.707718 -1.482289   3.927830   3.162898\n",
       "28   2000-01-29  -3.408828 -3.346289   2.984204   4.047529\n",
       "29   2000-01-30  -3.210556 -3.952385   1.048666   3.728905\n",
       "..          ...        ...       ...        ...        ...\n",
       "970  2002-08-28 -22.085345  4.086267  59.773376 -37.170933\n",
       "971  2002-08-29 -21.724437  3.930351  58.489588 -37.787415\n",
       "972  2002-08-30 -21.892033  4.999555  59.727134 -38.705546\n",
       "973  2002-08-31 -21.224169  4.165593  58.963788 -35.638855\n",
       "974  2002-09-01 -21.023506  4.218409  60.283360 -35.138075\n",
       "975  2002-09-02 -19.742269  4.773368  60.003044 -33.918649\n",
       "976  2002-09-03 -18.026437  4.331738  58.484222 -33.069365\n",
       "977  2002-09-04 -19.214596  4.715962  58.078844 -32.310527\n",
       "978  2002-09-05 -18.727034  4.593574  58.236705 -33.293412\n",
       "979  2002-09-06 -19.519816  4.253387  56.315565 -33.853784\n",
       "980  2002-09-07 -20.445961  6.527613  55.457523 -33.643307\n",
       "981  2002-09-08 -20.305952  6.692115  56.140298 -36.277672\n",
       "982  2002-09-09 -21.229383  6.535899  53.950977 -36.789764\n",
       "983  2002-09-10 -20.309589  6.077754  52.620348 -36.421441\n",
       "984  2002-09-11 -20.131924  4.177473  50.752472 -35.779432\n",
       "985  2002-09-12 -19.209803  3.636689  51.835834 -36.288330\n",
       "986  2002-09-13 -18.745233  3.708874  51.865234 -35.684195\n",
       "987  2002-09-14 -17.586392  2.301770  52.107479 -35.878009\n",
       "988  2002-09-15 -16.087126  1.094416  53.012613 -35.997198\n",
       "989  2002-09-16 -15.819551  1.193656  53.172575 -35.686098\n",
       "990  2002-09-17 -16.388726  1.100940  53.921543 -34.855610\n",
       "991  2002-09-18 -16.471900  0.404530  52.549188 -35.361305\n",
       "992  2002-09-19 -17.170579  1.796227  51.528884 -33.912447\n",
       "993  2002-09-20 -17.376832  1.860154  51.856175 -34.164329\n",
       "994  2002-09-21 -16.576938  3.253251  51.759947 -34.695169\n",
       "995  2002-09-22 -18.212440  3.121473  50.880599 -33.955890\n",
       "996  2002-09-23 -19.173849  2.280530  51.180955 -33.930285\n",
       "997  2002-09-24 -19.386115  2.638820  50.574456 -32.577030\n",
       "998  2002-09-25 -18.377048  0.448802  50.336375 -30.860890\n",
       "999  2002-09-26 -16.584611  1.290031  49.785116 -30.823572\n",
       "\n",
       "[1000 rows x 5 columns]"
      ]
     },
     "execution_count": 135,
     "metadata": {},
     "output_type": "execute_result"
    }
   ],
   "source": [
    "pd.read_csv('foo.csv')"
   ]
  },
  {
   "cell_type": "markdown",
   "metadata": {},
   "source": [
    "### HDF5\n",
    "Reading and writing to [HDFStores](http://pandas.pydata.org/pandas-docs/stable/io.html#io-hdf5)\n",
    "\n",
    "Writing to a HDF5 Store"
   ]
  },
  {
   "cell_type": "code",
   "execution_count": 136,
   "metadata": {
    "collapsed": true
   },
   "outputs": [],
   "source": [
    "df.to_hdf('foo.h5','df')"
   ]
  },
  {
   "cell_type": "markdown",
   "metadata": {},
   "source": [
    "Reading from a HDF5 Store"
   ]
  },
  {
   "cell_type": "code",
   "execution_count": 137,
   "metadata": {},
   "outputs": [
    {
     "data": {
      "text/html": [
       "<div>\n",
       "<table border=\"1\" class=\"dataframe\">\n",
       "  <thead>\n",
       "    <tr style=\"text-align: right;\">\n",
       "      <th></th>\n",
       "      <th>A</th>\n",
       "      <th>B</th>\n",
       "      <th>C</th>\n",
       "      <th>D</th>\n",
       "    </tr>\n",
       "  </thead>\n",
       "  <tbody>\n",
       "    <tr>\n",
       "      <th>2000-01-01</th>\n",
       "      <td>0.229566</td>\n",
       "      <td>0.947490</td>\n",
       "      <td>0.327015</td>\n",
       "      <td>-1.178972</td>\n",
       "    </tr>\n",
       "    <tr>\n",
       "      <th>2000-01-02</th>\n",
       "      <td>1.327026</td>\n",
       "      <td>1.381528</td>\n",
       "      <td>1.667987</td>\n",
       "      <td>-0.720750</td>\n",
       "    </tr>\n",
       "    <tr>\n",
       "      <th>2000-01-03</th>\n",
       "      <td>-0.823735</td>\n",
       "      <td>1.058180</td>\n",
       "      <td>2.168018</td>\n",
       "      <td>0.305420</td>\n",
       "    </tr>\n",
       "    <tr>\n",
       "      <th>2000-01-04</th>\n",
       "      <td>0.552687</td>\n",
       "      <td>-1.261507</td>\n",
       "      <td>2.648051</td>\n",
       "      <td>0.602534</td>\n",
       "    </tr>\n",
       "    <tr>\n",
       "      <th>2000-01-05</th>\n",
       "      <td>0.235865</td>\n",
       "      <td>-0.188814</td>\n",
       "      <td>3.794863</td>\n",
       "      <td>1.862987</td>\n",
       "    </tr>\n",
       "    <tr>\n",
       "      <th>2000-01-06</th>\n",
       "      <td>0.082977</td>\n",
       "      <td>1.223707</td>\n",
       "      <td>6.632730</td>\n",
       "      <td>1.549228</td>\n",
       "    </tr>\n",
       "    <tr>\n",
       "      <th>2000-01-07</th>\n",
       "      <td>-1.006019</td>\n",
       "      <td>2.593655</td>\n",
       "      <td>6.618860</td>\n",
       "      <td>0.010621</td>\n",
       "    </tr>\n",
       "    <tr>\n",
       "      <th>2000-01-08</th>\n",
       "      <td>-1.288507</td>\n",
       "      <td>1.148484</td>\n",
       "      <td>6.751376</td>\n",
       "      <td>0.800920</td>\n",
       "    </tr>\n",
       "    <tr>\n",
       "      <th>2000-01-09</th>\n",
       "      <td>-2.352525</td>\n",
       "      <td>-0.146812</td>\n",
       "      <td>6.532781</td>\n",
       "      <td>0.745332</td>\n",
       "    </tr>\n",
       "    <tr>\n",
       "      <th>2000-01-10</th>\n",
       "      <td>-2.499233</td>\n",
       "      <td>0.517220</td>\n",
       "      <td>6.722906</td>\n",
       "      <td>0.394381</td>\n",
       "    </tr>\n",
       "    <tr>\n",
       "      <th>2000-01-11</th>\n",
       "      <td>-2.578847</td>\n",
       "      <td>0.303733</td>\n",
       "      <td>5.758798</td>\n",
       "      <td>0.342576</td>\n",
       "    </tr>\n",
       "    <tr>\n",
       "      <th>2000-01-12</th>\n",
       "      <td>-3.524753</td>\n",
       "      <td>1.510723</td>\n",
       "      <td>6.947372</td>\n",
       "      <td>1.428593</td>\n",
       "    </tr>\n",
       "    <tr>\n",
       "      <th>2000-01-13</th>\n",
       "      <td>-2.240955</td>\n",
       "      <td>-0.146883</td>\n",
       "      <td>4.970443</td>\n",
       "      <td>-0.896973</td>\n",
       "    </tr>\n",
       "    <tr>\n",
       "      <th>2000-01-14</th>\n",
       "      <td>-0.226166</td>\n",
       "      <td>-0.984045</td>\n",
       "      <td>2.892525</td>\n",
       "      <td>-1.715817</td>\n",
       "    </tr>\n",
       "    <tr>\n",
       "      <th>2000-01-15</th>\n",
       "      <td>0.824886</td>\n",
       "      <td>-0.131081</td>\n",
       "      <td>3.372065</td>\n",
       "      <td>-0.416876</td>\n",
       "    </tr>\n",
       "    <tr>\n",
       "      <th>2000-01-16</th>\n",
       "      <td>0.642076</td>\n",
       "      <td>0.696531</td>\n",
       "      <td>2.946884</td>\n",
       "      <td>-1.349983</td>\n",
       "    </tr>\n",
       "    <tr>\n",
       "      <th>2000-01-17</th>\n",
       "      <td>2.081030</td>\n",
       "      <td>-0.500591</td>\n",
       "      <td>1.407351</td>\n",
       "      <td>-2.200434</td>\n",
       "    </tr>\n",
       "    <tr>\n",
       "      <th>2000-01-18</th>\n",
       "      <td>1.563919</td>\n",
       "      <td>0.065511</td>\n",
       "      <td>2.122547</td>\n",
       "      <td>-1.832537</td>\n",
       "    </tr>\n",
       "    <tr>\n",
       "      <th>2000-01-19</th>\n",
       "      <td>2.329400</td>\n",
       "      <td>-0.893886</td>\n",
       "      <td>1.648659</td>\n",
       "      <td>-0.943635</td>\n",
       "    </tr>\n",
       "    <tr>\n",
       "      <th>2000-01-20</th>\n",
       "      <td>1.693410</td>\n",
       "      <td>-0.536185</td>\n",
       "      <td>0.947853</td>\n",
       "      <td>-0.484557</td>\n",
       "    </tr>\n",
       "    <tr>\n",
       "      <th>2000-01-21</th>\n",
       "      <td>1.362617</td>\n",
       "      <td>-1.760897</td>\n",
       "      <td>0.217172</td>\n",
       "      <td>0.132181</td>\n",
       "    </tr>\n",
       "    <tr>\n",
       "      <th>2000-01-22</th>\n",
       "      <td>0.873303</td>\n",
       "      <td>-1.162425</td>\n",
       "      <td>1.898488</td>\n",
       "      <td>1.709020</td>\n",
       "    </tr>\n",
       "    <tr>\n",
       "      <th>2000-01-23</th>\n",
       "      <td>0.578829</td>\n",
       "      <td>-1.808952</td>\n",
       "      <td>1.332493</td>\n",
       "      <td>3.299061</td>\n",
       "    </tr>\n",
       "    <tr>\n",
       "      <th>2000-01-24</th>\n",
       "      <td>-0.177618</td>\n",
       "      <td>-2.313073</td>\n",
       "      <td>3.139520</td>\n",
       "      <td>3.464145</td>\n",
       "    </tr>\n",
       "    <tr>\n",
       "      <th>2000-01-25</th>\n",
       "      <td>-1.559258</td>\n",
       "      <td>-0.782890</td>\n",
       "      <td>3.358138</td>\n",
       "      <td>4.340553</td>\n",
       "    </tr>\n",
       "    <tr>\n",
       "      <th>2000-01-26</th>\n",
       "      <td>-2.318055</td>\n",
       "      <td>-1.604532</td>\n",
       "      <td>4.003696</td>\n",
       "      <td>4.787936</td>\n",
       "    </tr>\n",
       "    <tr>\n",
       "      <th>2000-01-27</th>\n",
       "      <td>-3.734813</td>\n",
       "      <td>-0.734599</td>\n",
       "      <td>3.594038</td>\n",
       "      <td>4.130079</td>\n",
       "    </tr>\n",
       "    <tr>\n",
       "      <th>2000-01-28</th>\n",
       "      <td>-3.707718</td>\n",
       "      <td>-1.482289</td>\n",
       "      <td>3.927830</td>\n",
       "      <td>3.162898</td>\n",
       "    </tr>\n",
       "    <tr>\n",
       "      <th>2000-01-29</th>\n",
       "      <td>-3.408828</td>\n",
       "      <td>-3.346289</td>\n",
       "      <td>2.984204</td>\n",
       "      <td>4.047529</td>\n",
       "    </tr>\n",
       "    <tr>\n",
       "      <th>2000-01-30</th>\n",
       "      <td>-3.210556</td>\n",
       "      <td>-3.952385</td>\n",
       "      <td>1.048666</td>\n",
       "      <td>3.728905</td>\n",
       "    </tr>\n",
       "    <tr>\n",
       "      <th>...</th>\n",
       "      <td>...</td>\n",
       "      <td>...</td>\n",
       "      <td>...</td>\n",
       "      <td>...</td>\n",
       "    </tr>\n",
       "    <tr>\n",
       "      <th>2002-08-28</th>\n",
       "      <td>-22.085345</td>\n",
       "      <td>4.086267</td>\n",
       "      <td>59.773376</td>\n",
       "      <td>-37.170933</td>\n",
       "    </tr>\n",
       "    <tr>\n",
       "      <th>2002-08-29</th>\n",
       "      <td>-21.724437</td>\n",
       "      <td>3.930351</td>\n",
       "      <td>58.489588</td>\n",
       "      <td>-37.787415</td>\n",
       "    </tr>\n",
       "    <tr>\n",
       "      <th>2002-08-30</th>\n",
       "      <td>-21.892033</td>\n",
       "      <td>4.999555</td>\n",
       "      <td>59.727134</td>\n",
       "      <td>-38.705546</td>\n",
       "    </tr>\n",
       "    <tr>\n",
       "      <th>2002-08-31</th>\n",
       "      <td>-21.224169</td>\n",
       "      <td>4.165593</td>\n",
       "      <td>58.963788</td>\n",
       "      <td>-35.638855</td>\n",
       "    </tr>\n",
       "    <tr>\n",
       "      <th>2002-09-01</th>\n",
       "      <td>-21.023506</td>\n",
       "      <td>4.218409</td>\n",
       "      <td>60.283360</td>\n",
       "      <td>-35.138075</td>\n",
       "    </tr>\n",
       "    <tr>\n",
       "      <th>2002-09-02</th>\n",
       "      <td>-19.742269</td>\n",
       "      <td>4.773368</td>\n",
       "      <td>60.003044</td>\n",
       "      <td>-33.918649</td>\n",
       "    </tr>\n",
       "    <tr>\n",
       "      <th>2002-09-03</th>\n",
       "      <td>-18.026437</td>\n",
       "      <td>4.331738</td>\n",
       "      <td>58.484222</td>\n",
       "      <td>-33.069365</td>\n",
       "    </tr>\n",
       "    <tr>\n",
       "      <th>2002-09-04</th>\n",
       "      <td>-19.214596</td>\n",
       "      <td>4.715962</td>\n",
       "      <td>58.078844</td>\n",
       "      <td>-32.310527</td>\n",
       "    </tr>\n",
       "    <tr>\n",
       "      <th>2002-09-05</th>\n",
       "      <td>-18.727034</td>\n",
       "      <td>4.593574</td>\n",
       "      <td>58.236705</td>\n",
       "      <td>-33.293412</td>\n",
       "    </tr>\n",
       "    <tr>\n",
       "      <th>2002-09-06</th>\n",
       "      <td>-19.519816</td>\n",
       "      <td>4.253387</td>\n",
       "      <td>56.315565</td>\n",
       "      <td>-33.853784</td>\n",
       "    </tr>\n",
       "    <tr>\n",
       "      <th>2002-09-07</th>\n",
       "      <td>-20.445961</td>\n",
       "      <td>6.527613</td>\n",
       "      <td>55.457523</td>\n",
       "      <td>-33.643307</td>\n",
       "    </tr>\n",
       "    <tr>\n",
       "      <th>2002-09-08</th>\n",
       "      <td>-20.305952</td>\n",
       "      <td>6.692115</td>\n",
       "      <td>56.140298</td>\n",
       "      <td>-36.277672</td>\n",
       "    </tr>\n",
       "    <tr>\n",
       "      <th>2002-09-09</th>\n",
       "      <td>-21.229383</td>\n",
       "      <td>6.535899</td>\n",
       "      <td>53.950977</td>\n",
       "      <td>-36.789764</td>\n",
       "    </tr>\n",
       "    <tr>\n",
       "      <th>2002-09-10</th>\n",
       "      <td>-20.309589</td>\n",
       "      <td>6.077754</td>\n",
       "      <td>52.620348</td>\n",
       "      <td>-36.421441</td>\n",
       "    </tr>\n",
       "    <tr>\n",
       "      <th>2002-09-11</th>\n",
       "      <td>-20.131924</td>\n",
       "      <td>4.177473</td>\n",
       "      <td>50.752472</td>\n",
       "      <td>-35.779432</td>\n",
       "    </tr>\n",
       "    <tr>\n",
       "      <th>2002-09-12</th>\n",
       "      <td>-19.209803</td>\n",
       "      <td>3.636689</td>\n",
       "      <td>51.835834</td>\n",
       "      <td>-36.288330</td>\n",
       "    </tr>\n",
       "    <tr>\n",
       "      <th>2002-09-13</th>\n",
       "      <td>-18.745233</td>\n",
       "      <td>3.708874</td>\n",
       "      <td>51.865234</td>\n",
       "      <td>-35.684195</td>\n",
       "    </tr>\n",
       "    <tr>\n",
       "      <th>2002-09-14</th>\n",
       "      <td>-17.586392</td>\n",
       "      <td>2.301770</td>\n",
       "      <td>52.107479</td>\n",
       "      <td>-35.878009</td>\n",
       "    </tr>\n",
       "    <tr>\n",
       "      <th>2002-09-15</th>\n",
       "      <td>-16.087126</td>\n",
       "      <td>1.094416</td>\n",
       "      <td>53.012613</td>\n",
       "      <td>-35.997198</td>\n",
       "    </tr>\n",
       "    <tr>\n",
       "      <th>2002-09-16</th>\n",
       "      <td>-15.819551</td>\n",
       "      <td>1.193656</td>\n",
       "      <td>53.172575</td>\n",
       "      <td>-35.686098</td>\n",
       "    </tr>\n",
       "    <tr>\n",
       "      <th>2002-09-17</th>\n",
       "      <td>-16.388726</td>\n",
       "      <td>1.100940</td>\n",
       "      <td>53.921543</td>\n",
       "      <td>-34.855610</td>\n",
       "    </tr>\n",
       "    <tr>\n",
       "      <th>2002-09-18</th>\n",
       "      <td>-16.471900</td>\n",
       "      <td>0.404530</td>\n",
       "      <td>52.549188</td>\n",
       "      <td>-35.361305</td>\n",
       "    </tr>\n",
       "    <tr>\n",
       "      <th>2002-09-19</th>\n",
       "      <td>-17.170579</td>\n",
       "      <td>1.796227</td>\n",
       "      <td>51.528884</td>\n",
       "      <td>-33.912447</td>\n",
       "    </tr>\n",
       "    <tr>\n",
       "      <th>2002-09-20</th>\n",
       "      <td>-17.376832</td>\n",
       "      <td>1.860154</td>\n",
       "      <td>51.856175</td>\n",
       "      <td>-34.164329</td>\n",
       "    </tr>\n",
       "    <tr>\n",
       "      <th>2002-09-21</th>\n",
       "      <td>-16.576938</td>\n",
       "      <td>3.253251</td>\n",
       "      <td>51.759947</td>\n",
       "      <td>-34.695169</td>\n",
       "    </tr>\n",
       "    <tr>\n",
       "      <th>2002-09-22</th>\n",
       "      <td>-18.212440</td>\n",
       "      <td>3.121473</td>\n",
       "      <td>50.880599</td>\n",
       "      <td>-33.955890</td>\n",
       "    </tr>\n",
       "    <tr>\n",
       "      <th>2002-09-23</th>\n",
       "      <td>-19.173849</td>\n",
       "      <td>2.280530</td>\n",
       "      <td>51.180955</td>\n",
       "      <td>-33.930285</td>\n",
       "    </tr>\n",
       "    <tr>\n",
       "      <th>2002-09-24</th>\n",
       "      <td>-19.386115</td>\n",
       "      <td>2.638820</td>\n",
       "      <td>50.574456</td>\n",
       "      <td>-32.577030</td>\n",
       "    </tr>\n",
       "    <tr>\n",
       "      <th>2002-09-25</th>\n",
       "      <td>-18.377048</td>\n",
       "      <td>0.448802</td>\n",
       "      <td>50.336375</td>\n",
       "      <td>-30.860890</td>\n",
       "    </tr>\n",
       "    <tr>\n",
       "      <th>2002-09-26</th>\n",
       "      <td>-16.584611</td>\n",
       "      <td>1.290031</td>\n",
       "      <td>49.785116</td>\n",
       "      <td>-30.823572</td>\n",
       "    </tr>\n",
       "  </tbody>\n",
       "</table>\n",
       "<p>1000 rows × 4 columns</p>\n",
       "</div>"
      ],
      "text/plain": [
       "                    A         B          C          D\n",
       "2000-01-01   0.229566  0.947490   0.327015  -1.178972\n",
       "2000-01-02   1.327026  1.381528   1.667987  -0.720750\n",
       "2000-01-03  -0.823735  1.058180   2.168018   0.305420\n",
       "2000-01-04   0.552687 -1.261507   2.648051   0.602534\n",
       "2000-01-05   0.235865 -0.188814   3.794863   1.862987\n",
       "2000-01-06   0.082977  1.223707   6.632730   1.549228\n",
       "2000-01-07  -1.006019  2.593655   6.618860   0.010621\n",
       "2000-01-08  -1.288507  1.148484   6.751376   0.800920\n",
       "2000-01-09  -2.352525 -0.146812   6.532781   0.745332\n",
       "2000-01-10  -2.499233  0.517220   6.722906   0.394381\n",
       "2000-01-11  -2.578847  0.303733   5.758798   0.342576\n",
       "2000-01-12  -3.524753  1.510723   6.947372   1.428593\n",
       "2000-01-13  -2.240955 -0.146883   4.970443  -0.896973\n",
       "2000-01-14  -0.226166 -0.984045   2.892525  -1.715817\n",
       "2000-01-15   0.824886 -0.131081   3.372065  -0.416876\n",
       "2000-01-16   0.642076  0.696531   2.946884  -1.349983\n",
       "2000-01-17   2.081030 -0.500591   1.407351  -2.200434\n",
       "2000-01-18   1.563919  0.065511   2.122547  -1.832537\n",
       "2000-01-19   2.329400 -0.893886   1.648659  -0.943635\n",
       "2000-01-20   1.693410 -0.536185   0.947853  -0.484557\n",
       "2000-01-21   1.362617 -1.760897   0.217172   0.132181\n",
       "2000-01-22   0.873303 -1.162425   1.898488   1.709020\n",
       "2000-01-23   0.578829 -1.808952   1.332493   3.299061\n",
       "2000-01-24  -0.177618 -2.313073   3.139520   3.464145\n",
       "2000-01-25  -1.559258 -0.782890   3.358138   4.340553\n",
       "2000-01-26  -2.318055 -1.604532   4.003696   4.787936\n",
       "2000-01-27  -3.734813 -0.734599   3.594038   4.130079\n",
       "2000-01-28  -3.707718 -1.482289   3.927830   3.162898\n",
       "2000-01-29  -3.408828 -3.346289   2.984204   4.047529\n",
       "2000-01-30  -3.210556 -3.952385   1.048666   3.728905\n",
       "...               ...       ...        ...        ...\n",
       "2002-08-28 -22.085345  4.086267  59.773376 -37.170933\n",
       "2002-08-29 -21.724437  3.930351  58.489588 -37.787415\n",
       "2002-08-30 -21.892033  4.999555  59.727134 -38.705546\n",
       "2002-08-31 -21.224169  4.165593  58.963788 -35.638855\n",
       "2002-09-01 -21.023506  4.218409  60.283360 -35.138075\n",
       "2002-09-02 -19.742269  4.773368  60.003044 -33.918649\n",
       "2002-09-03 -18.026437  4.331738  58.484222 -33.069365\n",
       "2002-09-04 -19.214596  4.715962  58.078844 -32.310527\n",
       "2002-09-05 -18.727034  4.593574  58.236705 -33.293412\n",
       "2002-09-06 -19.519816  4.253387  56.315565 -33.853784\n",
       "2002-09-07 -20.445961  6.527613  55.457523 -33.643307\n",
       "2002-09-08 -20.305952  6.692115  56.140298 -36.277672\n",
       "2002-09-09 -21.229383  6.535899  53.950977 -36.789764\n",
       "2002-09-10 -20.309589  6.077754  52.620348 -36.421441\n",
       "2002-09-11 -20.131924  4.177473  50.752472 -35.779432\n",
       "2002-09-12 -19.209803  3.636689  51.835834 -36.288330\n",
       "2002-09-13 -18.745233  3.708874  51.865234 -35.684195\n",
       "2002-09-14 -17.586392  2.301770  52.107479 -35.878009\n",
       "2002-09-15 -16.087126  1.094416  53.012613 -35.997198\n",
       "2002-09-16 -15.819551  1.193656  53.172575 -35.686098\n",
       "2002-09-17 -16.388726  1.100940  53.921543 -34.855610\n",
       "2002-09-18 -16.471900  0.404530  52.549188 -35.361305\n",
       "2002-09-19 -17.170579  1.796227  51.528884 -33.912447\n",
       "2002-09-20 -17.376832  1.860154  51.856175 -34.164329\n",
       "2002-09-21 -16.576938  3.253251  51.759947 -34.695169\n",
       "2002-09-22 -18.212440  3.121473  50.880599 -33.955890\n",
       "2002-09-23 -19.173849  2.280530  51.180955 -33.930285\n",
       "2002-09-24 -19.386115  2.638820  50.574456 -32.577030\n",
       "2002-09-25 -18.377048  0.448802  50.336375 -30.860890\n",
       "2002-09-26 -16.584611  1.290031  49.785116 -30.823572\n",
       "\n",
       "[1000 rows x 4 columns]"
      ]
     },
     "execution_count": 137,
     "metadata": {},
     "output_type": "execute_result"
    }
   ],
   "source": [
    "pd.read_hdf('foo.h5','df')"
   ]
  },
  {
   "cell_type": "markdown",
   "metadata": {},
   "source": [
    "### Excel\n",
    "\n",
    "Reading and writing to [MS Excel](http://pandas.pydata.org/pandas-docs/stable/io.html#io-excel)\n",
    "\n",
    "Writing to an excel file"
   ]
  },
  {
   "cell_type": "code",
   "execution_count": 138,
   "metadata": {
    "collapsed": true
   },
   "outputs": [],
   "source": [
    "df.to_excel('foo.xlsx', sheet_name='Sheet1')"
   ]
  },
  {
   "cell_type": "markdown",
   "metadata": {},
   "source": [
    "Reading from an excel file"
   ]
  },
  {
   "cell_type": "code",
   "execution_count": 139,
   "metadata": {},
   "outputs": [
    {
     "data": {
      "text/html": [
       "<div>\n",
       "<table border=\"1\" class=\"dataframe\">\n",
       "  <thead>\n",
       "    <tr style=\"text-align: right;\">\n",
       "      <th></th>\n",
       "      <th>A</th>\n",
       "      <th>B</th>\n",
       "      <th>C</th>\n",
       "      <th>D</th>\n",
       "    </tr>\n",
       "  </thead>\n",
       "  <tbody>\n",
       "    <tr>\n",
       "      <th>2000-01-01</th>\n",
       "      <td>0.229566</td>\n",
       "      <td>0.947490</td>\n",
       "      <td>0.327015</td>\n",
       "      <td>-1.178972</td>\n",
       "    </tr>\n",
       "    <tr>\n",
       "      <th>2000-01-02</th>\n",
       "      <td>1.327026</td>\n",
       "      <td>1.381528</td>\n",
       "      <td>1.667987</td>\n",
       "      <td>-0.720750</td>\n",
       "    </tr>\n",
       "    <tr>\n",
       "      <th>2000-01-03</th>\n",
       "      <td>-0.823735</td>\n",
       "      <td>1.058180</td>\n",
       "      <td>2.168018</td>\n",
       "      <td>0.305420</td>\n",
       "    </tr>\n",
       "    <tr>\n",
       "      <th>2000-01-04</th>\n",
       "      <td>0.552687</td>\n",
       "      <td>-1.261507</td>\n",
       "      <td>2.648051</td>\n",
       "      <td>0.602534</td>\n",
       "    </tr>\n",
       "    <tr>\n",
       "      <th>2000-01-05</th>\n",
       "      <td>0.235865</td>\n",
       "      <td>-0.188814</td>\n",
       "      <td>3.794863</td>\n",
       "      <td>1.862987</td>\n",
       "    </tr>\n",
       "    <tr>\n",
       "      <th>2000-01-06</th>\n",
       "      <td>0.082977</td>\n",
       "      <td>1.223707</td>\n",
       "      <td>6.632730</td>\n",
       "      <td>1.549228</td>\n",
       "    </tr>\n",
       "    <tr>\n",
       "      <th>2000-01-07</th>\n",
       "      <td>-1.006019</td>\n",
       "      <td>2.593655</td>\n",
       "      <td>6.618860</td>\n",
       "      <td>0.010621</td>\n",
       "    </tr>\n",
       "    <tr>\n",
       "      <th>2000-01-08</th>\n",
       "      <td>-1.288507</td>\n",
       "      <td>1.148484</td>\n",
       "      <td>6.751376</td>\n",
       "      <td>0.800920</td>\n",
       "    </tr>\n",
       "    <tr>\n",
       "      <th>2000-01-09</th>\n",
       "      <td>-2.352525</td>\n",
       "      <td>-0.146812</td>\n",
       "      <td>6.532781</td>\n",
       "      <td>0.745332</td>\n",
       "    </tr>\n",
       "    <tr>\n",
       "      <th>2000-01-10</th>\n",
       "      <td>-2.499233</td>\n",
       "      <td>0.517220</td>\n",
       "      <td>6.722906</td>\n",
       "      <td>0.394381</td>\n",
       "    </tr>\n",
       "    <tr>\n",
       "      <th>2000-01-11</th>\n",
       "      <td>-2.578847</td>\n",
       "      <td>0.303733</td>\n",
       "      <td>5.758798</td>\n",
       "      <td>0.342576</td>\n",
       "    </tr>\n",
       "    <tr>\n",
       "      <th>2000-01-12</th>\n",
       "      <td>-3.524753</td>\n",
       "      <td>1.510723</td>\n",
       "      <td>6.947372</td>\n",
       "      <td>1.428593</td>\n",
       "    </tr>\n",
       "    <tr>\n",
       "      <th>2000-01-13</th>\n",
       "      <td>-2.240955</td>\n",
       "      <td>-0.146883</td>\n",
       "      <td>4.970443</td>\n",
       "      <td>-0.896973</td>\n",
       "    </tr>\n",
       "    <tr>\n",
       "      <th>2000-01-14</th>\n",
       "      <td>-0.226166</td>\n",
       "      <td>-0.984045</td>\n",
       "      <td>2.892525</td>\n",
       "      <td>-1.715817</td>\n",
       "    </tr>\n",
       "    <tr>\n",
       "      <th>2000-01-15</th>\n",
       "      <td>0.824886</td>\n",
       "      <td>-0.131081</td>\n",
       "      <td>3.372065</td>\n",
       "      <td>-0.416876</td>\n",
       "    </tr>\n",
       "    <tr>\n",
       "      <th>2000-01-16</th>\n",
       "      <td>0.642076</td>\n",
       "      <td>0.696531</td>\n",
       "      <td>2.946884</td>\n",
       "      <td>-1.349983</td>\n",
       "    </tr>\n",
       "    <tr>\n",
       "      <th>2000-01-17</th>\n",
       "      <td>2.081030</td>\n",
       "      <td>-0.500591</td>\n",
       "      <td>1.407351</td>\n",
       "      <td>-2.200434</td>\n",
       "    </tr>\n",
       "    <tr>\n",
       "      <th>2000-01-18</th>\n",
       "      <td>1.563919</td>\n",
       "      <td>0.065511</td>\n",
       "      <td>2.122547</td>\n",
       "      <td>-1.832537</td>\n",
       "    </tr>\n",
       "    <tr>\n",
       "      <th>2000-01-19</th>\n",
       "      <td>2.329400</td>\n",
       "      <td>-0.893886</td>\n",
       "      <td>1.648659</td>\n",
       "      <td>-0.943635</td>\n",
       "    </tr>\n",
       "    <tr>\n",
       "      <th>2000-01-20</th>\n",
       "      <td>1.693410</td>\n",
       "      <td>-0.536185</td>\n",
       "      <td>0.947853</td>\n",
       "      <td>-0.484557</td>\n",
       "    </tr>\n",
       "    <tr>\n",
       "      <th>2000-01-21</th>\n",
       "      <td>1.362617</td>\n",
       "      <td>-1.760897</td>\n",
       "      <td>0.217172</td>\n",
       "      <td>0.132181</td>\n",
       "    </tr>\n",
       "    <tr>\n",
       "      <th>2000-01-22</th>\n",
       "      <td>0.873303</td>\n",
       "      <td>-1.162425</td>\n",
       "      <td>1.898488</td>\n",
       "      <td>1.709020</td>\n",
       "    </tr>\n",
       "    <tr>\n",
       "      <th>2000-01-23</th>\n",
       "      <td>0.578829</td>\n",
       "      <td>-1.808952</td>\n",
       "      <td>1.332493</td>\n",
       "      <td>3.299061</td>\n",
       "    </tr>\n",
       "    <tr>\n",
       "      <th>2000-01-24</th>\n",
       "      <td>-0.177618</td>\n",
       "      <td>-2.313073</td>\n",
       "      <td>3.139520</td>\n",
       "      <td>3.464145</td>\n",
       "    </tr>\n",
       "    <tr>\n",
       "      <th>2000-01-25</th>\n",
       "      <td>-1.559258</td>\n",
       "      <td>-0.782890</td>\n",
       "      <td>3.358138</td>\n",
       "      <td>4.340553</td>\n",
       "    </tr>\n",
       "    <tr>\n",
       "      <th>2000-01-26</th>\n",
       "      <td>-2.318055</td>\n",
       "      <td>-1.604532</td>\n",
       "      <td>4.003696</td>\n",
       "      <td>4.787936</td>\n",
       "    </tr>\n",
       "    <tr>\n",
       "      <th>2000-01-27</th>\n",
       "      <td>-3.734813</td>\n",
       "      <td>-0.734599</td>\n",
       "      <td>3.594038</td>\n",
       "      <td>4.130079</td>\n",
       "    </tr>\n",
       "    <tr>\n",
       "      <th>2000-01-28</th>\n",
       "      <td>-3.707718</td>\n",
       "      <td>-1.482289</td>\n",
       "      <td>3.927830</td>\n",
       "      <td>3.162898</td>\n",
       "    </tr>\n",
       "    <tr>\n",
       "      <th>2000-01-29</th>\n",
       "      <td>-3.408828</td>\n",
       "      <td>-3.346289</td>\n",
       "      <td>2.984204</td>\n",
       "      <td>4.047529</td>\n",
       "    </tr>\n",
       "    <tr>\n",
       "      <th>2000-01-30</th>\n",
       "      <td>-3.210556</td>\n",
       "      <td>-3.952385</td>\n",
       "      <td>1.048666</td>\n",
       "      <td>3.728905</td>\n",
       "    </tr>\n",
       "    <tr>\n",
       "      <th>...</th>\n",
       "      <td>...</td>\n",
       "      <td>...</td>\n",
       "      <td>...</td>\n",
       "      <td>...</td>\n",
       "    </tr>\n",
       "    <tr>\n",
       "      <th>2002-08-28</th>\n",
       "      <td>-22.085345</td>\n",
       "      <td>4.086267</td>\n",
       "      <td>59.773376</td>\n",
       "      <td>-37.170933</td>\n",
       "    </tr>\n",
       "    <tr>\n",
       "      <th>2002-08-29</th>\n",
       "      <td>-21.724437</td>\n",
       "      <td>3.930351</td>\n",
       "      <td>58.489588</td>\n",
       "      <td>-37.787415</td>\n",
       "    </tr>\n",
       "    <tr>\n",
       "      <th>2002-08-30</th>\n",
       "      <td>-21.892033</td>\n",
       "      <td>4.999555</td>\n",
       "      <td>59.727134</td>\n",
       "      <td>-38.705546</td>\n",
       "    </tr>\n",
       "    <tr>\n",
       "      <th>2002-08-31</th>\n",
       "      <td>-21.224169</td>\n",
       "      <td>4.165593</td>\n",
       "      <td>58.963788</td>\n",
       "      <td>-35.638855</td>\n",
       "    </tr>\n",
       "    <tr>\n",
       "      <th>2002-09-01</th>\n",
       "      <td>-21.023506</td>\n",
       "      <td>4.218409</td>\n",
       "      <td>60.283360</td>\n",
       "      <td>-35.138075</td>\n",
       "    </tr>\n",
       "    <tr>\n",
       "      <th>2002-09-02</th>\n",
       "      <td>-19.742269</td>\n",
       "      <td>4.773368</td>\n",
       "      <td>60.003044</td>\n",
       "      <td>-33.918649</td>\n",
       "    </tr>\n",
       "    <tr>\n",
       "      <th>2002-09-03</th>\n",
       "      <td>-18.026437</td>\n",
       "      <td>4.331738</td>\n",
       "      <td>58.484222</td>\n",
       "      <td>-33.069365</td>\n",
       "    </tr>\n",
       "    <tr>\n",
       "      <th>2002-09-04</th>\n",
       "      <td>-19.214596</td>\n",
       "      <td>4.715962</td>\n",
       "      <td>58.078844</td>\n",
       "      <td>-32.310527</td>\n",
       "    </tr>\n",
       "    <tr>\n",
       "      <th>2002-09-05</th>\n",
       "      <td>-18.727034</td>\n",
       "      <td>4.593574</td>\n",
       "      <td>58.236705</td>\n",
       "      <td>-33.293412</td>\n",
       "    </tr>\n",
       "    <tr>\n",
       "      <th>2002-09-06</th>\n",
       "      <td>-19.519816</td>\n",
       "      <td>4.253387</td>\n",
       "      <td>56.315565</td>\n",
       "      <td>-33.853784</td>\n",
       "    </tr>\n",
       "    <tr>\n",
       "      <th>2002-09-07</th>\n",
       "      <td>-20.445961</td>\n",
       "      <td>6.527613</td>\n",
       "      <td>55.457523</td>\n",
       "      <td>-33.643307</td>\n",
       "    </tr>\n",
       "    <tr>\n",
       "      <th>2002-09-08</th>\n",
       "      <td>-20.305952</td>\n",
       "      <td>6.692115</td>\n",
       "      <td>56.140298</td>\n",
       "      <td>-36.277672</td>\n",
       "    </tr>\n",
       "    <tr>\n",
       "      <th>2002-09-09</th>\n",
       "      <td>-21.229383</td>\n",
       "      <td>6.535899</td>\n",
       "      <td>53.950977</td>\n",
       "      <td>-36.789764</td>\n",
       "    </tr>\n",
       "    <tr>\n",
       "      <th>2002-09-10</th>\n",
       "      <td>-20.309589</td>\n",
       "      <td>6.077754</td>\n",
       "      <td>52.620348</td>\n",
       "      <td>-36.421441</td>\n",
       "    </tr>\n",
       "    <tr>\n",
       "      <th>2002-09-11</th>\n",
       "      <td>-20.131924</td>\n",
       "      <td>4.177473</td>\n",
       "      <td>50.752472</td>\n",
       "      <td>-35.779432</td>\n",
       "    </tr>\n",
       "    <tr>\n",
       "      <th>2002-09-12</th>\n",
       "      <td>-19.209803</td>\n",
       "      <td>3.636689</td>\n",
       "      <td>51.835834</td>\n",
       "      <td>-36.288330</td>\n",
       "    </tr>\n",
       "    <tr>\n",
       "      <th>2002-09-13</th>\n",
       "      <td>-18.745233</td>\n",
       "      <td>3.708874</td>\n",
       "      <td>51.865234</td>\n",
       "      <td>-35.684195</td>\n",
       "    </tr>\n",
       "    <tr>\n",
       "      <th>2002-09-14</th>\n",
       "      <td>-17.586392</td>\n",
       "      <td>2.301770</td>\n",
       "      <td>52.107479</td>\n",
       "      <td>-35.878009</td>\n",
       "    </tr>\n",
       "    <tr>\n",
       "      <th>2002-09-15</th>\n",
       "      <td>-16.087126</td>\n",
       "      <td>1.094416</td>\n",
       "      <td>53.012613</td>\n",
       "      <td>-35.997198</td>\n",
       "    </tr>\n",
       "    <tr>\n",
       "      <th>2002-09-16</th>\n",
       "      <td>-15.819551</td>\n",
       "      <td>1.193656</td>\n",
       "      <td>53.172575</td>\n",
       "      <td>-35.686098</td>\n",
       "    </tr>\n",
       "    <tr>\n",
       "      <th>2002-09-17</th>\n",
       "      <td>-16.388726</td>\n",
       "      <td>1.100940</td>\n",
       "      <td>53.921543</td>\n",
       "      <td>-34.855610</td>\n",
       "    </tr>\n",
       "    <tr>\n",
       "      <th>2002-09-18</th>\n",
       "      <td>-16.471900</td>\n",
       "      <td>0.404530</td>\n",
       "      <td>52.549188</td>\n",
       "      <td>-35.361305</td>\n",
       "    </tr>\n",
       "    <tr>\n",
       "      <th>2002-09-19</th>\n",
       "      <td>-17.170579</td>\n",
       "      <td>1.796227</td>\n",
       "      <td>51.528884</td>\n",
       "      <td>-33.912447</td>\n",
       "    </tr>\n",
       "    <tr>\n",
       "      <th>2002-09-20</th>\n",
       "      <td>-17.376832</td>\n",
       "      <td>1.860154</td>\n",
       "      <td>51.856175</td>\n",
       "      <td>-34.164329</td>\n",
       "    </tr>\n",
       "    <tr>\n",
       "      <th>2002-09-21</th>\n",
       "      <td>-16.576938</td>\n",
       "      <td>3.253251</td>\n",
       "      <td>51.759947</td>\n",
       "      <td>-34.695169</td>\n",
       "    </tr>\n",
       "    <tr>\n",
       "      <th>2002-09-22</th>\n",
       "      <td>-18.212440</td>\n",
       "      <td>3.121473</td>\n",
       "      <td>50.880599</td>\n",
       "      <td>-33.955890</td>\n",
       "    </tr>\n",
       "    <tr>\n",
       "      <th>2002-09-23</th>\n",
       "      <td>-19.173849</td>\n",
       "      <td>2.280530</td>\n",
       "      <td>51.180955</td>\n",
       "      <td>-33.930285</td>\n",
       "    </tr>\n",
       "    <tr>\n",
       "      <th>2002-09-24</th>\n",
       "      <td>-19.386115</td>\n",
       "      <td>2.638820</td>\n",
       "      <td>50.574456</td>\n",
       "      <td>-32.577030</td>\n",
       "    </tr>\n",
       "    <tr>\n",
       "      <th>2002-09-25</th>\n",
       "      <td>-18.377048</td>\n",
       "      <td>0.448802</td>\n",
       "      <td>50.336375</td>\n",
       "      <td>-30.860890</td>\n",
       "    </tr>\n",
       "    <tr>\n",
       "      <th>2002-09-26</th>\n",
       "      <td>-16.584611</td>\n",
       "      <td>1.290031</td>\n",
       "      <td>49.785116</td>\n",
       "      <td>-30.823572</td>\n",
       "    </tr>\n",
       "  </tbody>\n",
       "</table>\n",
       "<p>1000 rows × 4 columns</p>\n",
       "</div>"
      ],
      "text/plain": [
       "                    A         B          C          D\n",
       "2000-01-01   0.229566  0.947490   0.327015  -1.178972\n",
       "2000-01-02   1.327026  1.381528   1.667987  -0.720750\n",
       "2000-01-03  -0.823735  1.058180   2.168018   0.305420\n",
       "2000-01-04   0.552687 -1.261507   2.648051   0.602534\n",
       "2000-01-05   0.235865 -0.188814   3.794863   1.862987\n",
       "2000-01-06   0.082977  1.223707   6.632730   1.549228\n",
       "2000-01-07  -1.006019  2.593655   6.618860   0.010621\n",
       "2000-01-08  -1.288507  1.148484   6.751376   0.800920\n",
       "2000-01-09  -2.352525 -0.146812   6.532781   0.745332\n",
       "2000-01-10  -2.499233  0.517220   6.722906   0.394381\n",
       "2000-01-11  -2.578847  0.303733   5.758798   0.342576\n",
       "2000-01-12  -3.524753  1.510723   6.947372   1.428593\n",
       "2000-01-13  -2.240955 -0.146883   4.970443  -0.896973\n",
       "2000-01-14  -0.226166 -0.984045   2.892525  -1.715817\n",
       "2000-01-15   0.824886 -0.131081   3.372065  -0.416876\n",
       "2000-01-16   0.642076  0.696531   2.946884  -1.349983\n",
       "2000-01-17   2.081030 -0.500591   1.407351  -2.200434\n",
       "2000-01-18   1.563919  0.065511   2.122547  -1.832537\n",
       "2000-01-19   2.329400 -0.893886   1.648659  -0.943635\n",
       "2000-01-20   1.693410 -0.536185   0.947853  -0.484557\n",
       "2000-01-21   1.362617 -1.760897   0.217172   0.132181\n",
       "2000-01-22   0.873303 -1.162425   1.898488   1.709020\n",
       "2000-01-23   0.578829 -1.808952   1.332493   3.299061\n",
       "2000-01-24  -0.177618 -2.313073   3.139520   3.464145\n",
       "2000-01-25  -1.559258 -0.782890   3.358138   4.340553\n",
       "2000-01-26  -2.318055 -1.604532   4.003696   4.787936\n",
       "2000-01-27  -3.734813 -0.734599   3.594038   4.130079\n",
       "2000-01-28  -3.707718 -1.482289   3.927830   3.162898\n",
       "2000-01-29  -3.408828 -3.346289   2.984204   4.047529\n",
       "2000-01-30  -3.210556 -3.952385   1.048666   3.728905\n",
       "...               ...       ...        ...        ...\n",
       "2002-08-28 -22.085345  4.086267  59.773376 -37.170933\n",
       "2002-08-29 -21.724437  3.930351  58.489588 -37.787415\n",
       "2002-08-30 -21.892033  4.999555  59.727134 -38.705546\n",
       "2002-08-31 -21.224169  4.165593  58.963788 -35.638855\n",
       "2002-09-01 -21.023506  4.218409  60.283360 -35.138075\n",
       "2002-09-02 -19.742269  4.773368  60.003044 -33.918649\n",
       "2002-09-03 -18.026437  4.331738  58.484222 -33.069365\n",
       "2002-09-04 -19.214596  4.715962  58.078844 -32.310527\n",
       "2002-09-05 -18.727034  4.593574  58.236705 -33.293412\n",
       "2002-09-06 -19.519816  4.253387  56.315565 -33.853784\n",
       "2002-09-07 -20.445961  6.527613  55.457523 -33.643307\n",
       "2002-09-08 -20.305952  6.692115  56.140298 -36.277672\n",
       "2002-09-09 -21.229383  6.535899  53.950977 -36.789764\n",
       "2002-09-10 -20.309589  6.077754  52.620348 -36.421441\n",
       "2002-09-11 -20.131924  4.177473  50.752472 -35.779432\n",
       "2002-09-12 -19.209803  3.636689  51.835834 -36.288330\n",
       "2002-09-13 -18.745233  3.708874  51.865234 -35.684195\n",
       "2002-09-14 -17.586392  2.301770  52.107479 -35.878009\n",
       "2002-09-15 -16.087126  1.094416  53.012613 -35.997198\n",
       "2002-09-16 -15.819551  1.193656  53.172575 -35.686098\n",
       "2002-09-17 -16.388726  1.100940  53.921543 -34.855610\n",
       "2002-09-18 -16.471900  0.404530  52.549188 -35.361305\n",
       "2002-09-19 -17.170579  1.796227  51.528884 -33.912447\n",
       "2002-09-20 -17.376832  1.860154  51.856175 -34.164329\n",
       "2002-09-21 -16.576938  3.253251  51.759947 -34.695169\n",
       "2002-09-22 -18.212440  3.121473  50.880599 -33.955890\n",
       "2002-09-23 -19.173849  2.280530  51.180955 -33.930285\n",
       "2002-09-24 -19.386115  2.638820  50.574456 -32.577030\n",
       "2002-09-25 -18.377048  0.448802  50.336375 -30.860890\n",
       "2002-09-26 -16.584611  1.290031  49.785116 -30.823572\n",
       "\n",
       "[1000 rows x 4 columns]"
      ]
     },
     "execution_count": 139,
     "metadata": {},
     "output_type": "execute_result"
    }
   ],
   "source": [
    "pd.read_excel('foo.xlsx', 'Sheet1', index_col=None, na_values=['NA'])"
   ]
  },
  {
   "cell_type": "markdown",
   "metadata": {},
   "source": [
    "### Gotchas\n",
    "If you are trying an operation and you see an exception like:"
   ]
  },
  {
   "cell_type": "code",
   "execution_count": 140,
   "metadata": {},
   "outputs": [
    {
     "ename": "ValueError",
     "evalue": "The truth value of a Series is ambiguous. Use a.empty, a.bool(), a.item(), a.any() or a.all().",
     "output_type": "error",
     "traceback": [
      "\u001b[0;31m---------------------------------------------------------------------------\u001b[0m",
      "\u001b[0;31mValueError\u001b[0m                                Traceback (most recent call last)",
      "\u001b[0;32m<ipython-input-140-9cae3ab0f79f>\u001b[0m in \u001b[0;36m<module>\u001b[0;34m()\u001b[0m\n\u001b[0;32m----> 1\u001b[0;31m \u001b[0;32mif\u001b[0m \u001b[0mpd\u001b[0m\u001b[0;34m.\u001b[0m\u001b[0mSeries\u001b[0m\u001b[0;34m(\u001b[0m\u001b[0;34m[\u001b[0m\u001b[0mFalse\u001b[0m\u001b[0;34m,\u001b[0m \u001b[0mTrue\u001b[0m\u001b[0;34m,\u001b[0m \u001b[0mFalse\u001b[0m\u001b[0;34m]\u001b[0m\u001b[0;34m)\u001b[0m\u001b[0;34m:\u001b[0m\u001b[0;34m\u001b[0m\u001b[0m\n\u001b[0m\u001b[1;32m      2\u001b[0m     \u001b[0;32mprint\u001b[0m\u001b[0;34m(\u001b[0m\u001b[0;34m\"I was true\"\u001b[0m\u001b[0;34m)\u001b[0m\u001b[0;34m\u001b[0m\u001b[0m\n",
      "\u001b[0;32m//anaconda/lib/python2.7/site-packages/pandas/core/generic.pyc\u001b[0m in \u001b[0;36m__nonzero__\u001b[0;34m(self)\u001b[0m\n\u001b[1;32m    890\u001b[0m         raise ValueError(\"The truth value of a {0} is ambiguous. \"\n\u001b[1;32m    891\u001b[0m                          \u001b[0;34m\"Use a.empty, a.bool(), a.item(), a.any() or a.all().\"\u001b[0m\u001b[0;34m\u001b[0m\u001b[0m\n\u001b[0;32m--> 892\u001b[0;31m                          .format(self.__class__.__name__))\n\u001b[0m\u001b[1;32m    893\u001b[0m \u001b[0;34m\u001b[0m\u001b[0m\n\u001b[1;32m    894\u001b[0m     \u001b[0m__bool__\u001b[0m \u001b[0;34m=\u001b[0m \u001b[0m__nonzero__\u001b[0m\u001b[0;34m\u001b[0m\u001b[0m\n",
      "\u001b[0;31mValueError\u001b[0m: The truth value of a Series is ambiguous. Use a.empty, a.bool(), a.item(), a.any() or a.all()."
     ]
    }
   ],
   "source": [
    "if pd.Series([False, True, False]):\n",
    "    print(\"I was true\")"
   ]
  },
  {
   "cell_type": "markdown",
   "metadata": {},
   "source": [
    "See [Comparisons](http://pandas.pydata.org/pandas-docs/stable/basics.html#basics-compare) for an explanation and what to do.\n",
    "\n",
    "See [Gotchas](http://pandas.pydata.org/pandas-docs/stable/gotchas.html#gotchas) as well."
   ]
  }
 ],
 "metadata": {
  "anaconda-cloud": {},
  "kernelspec": {
   "display_name": "Python 3",
   "language": "python",
   "name": "python3"
  },
  "language_info": {
   "codemirror_mode": {
    "name": "ipython",
    "version": 3
   },
   "file_extension": ".py",
   "mimetype": "text/x-python",
   "name": "python",
   "nbconvert_exporter": "python",
   "pygments_lexer": "ipython3",
   "version": "3.6.1"
  }
 },
 "nbformat": 4,
 "nbformat_minor": 1
}
