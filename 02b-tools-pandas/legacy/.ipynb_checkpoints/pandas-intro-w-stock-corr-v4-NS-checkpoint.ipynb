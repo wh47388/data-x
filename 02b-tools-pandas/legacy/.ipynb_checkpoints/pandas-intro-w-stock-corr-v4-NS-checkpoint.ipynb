{
 "cells": [
  {
   "cell_type": "markdown",
   "metadata": {},
   "source": [
    "![data-x](http://oi64.tinypic.com/o858n4.jpg)\n",
    "\n",
    "---\n",
    "# Pandas Introduction \n",
    "### Pandas BKHW with Stock Data and Correlation Examples\n",
    "\n",
    "\n",
    "**Author list:** Ikhlaq Sidhu\n",
    "\n",
    "**References / Sources:** \n",
    "Includes examples from Wes McKinney\n",
    "\n",
    "\n",
    "**License Agreement:** Feel free to do whatever you want with this code\n",
    "\n",
    "___"
   ]
  },
  {
   "cell_type": "markdown",
   "metadata": {},
   "source": [
    "## What Does Pandas Do?\n",
    "<img src=\"https://github.com/ikhlaqsidhu/data-x/raw/master/imgsource/pandas-p1.jpg\">\n"
   ]
  },
  {
   "cell_type": "markdown",
   "metadata": {},
   "source": [
    "## What is a Pandas Table Object?\n",
    "<img src=\"https://github.com/ikhlaqsidhu/data-x/raw/master/imgsource/pandas-p2.jpg\">\n"
   ]
  },
  {
   "cell_type": "markdown",
   "metadata": {},
   "source": [
    "## This table is a dictionary of sequences (like np arrays)\n",
    "<img src=\"https://github.com/ikhlaqsidhu/data-x/raw/master/imgsource/pandas-p3.jpg\">\n"
   ]
  },
  {
   "cell_type": "markdown",
   "metadata": {},
   "source": [
    "\n",
    "### Creating a Data Frame\n",
    "**Key Points:** Pandas has Series (like Arrays), DataFrames (like Tables), and Panels (3D version)"
   ]
  },
  {
   "cell_type": "code",
   "execution_count": 1,
   "metadata": {
    "collapsed": false
   },
   "outputs": [
    {
     "data": {
      "text/plain": [
       "'0.20.3'"
      ]
     },
     "execution_count": 1,
     "metadata": {},
     "output_type": "execute_result"
    }
   ],
   "source": [
    "import pandas as pd\n",
    "import numpy as np\n",
    "#pd.show_versions()\n",
    "pd.__version__"
   ]
  },
  {
   "cell_type": "markdown",
   "metadata": {},
   "source": [
    "### Our first goal: Learn that it is easy to create a data frame\n",
    "\n",
    "#### We use pandas.DataFrame and put in just about anything data type as an argument\n",
    "\n",
    "class pandas.DataFrame(data=None, index=None, columns=None, dtype=None, copy=False)\n",
    "\n",
    "data ca be a numpy ndarray (structured or homogeneous), dict, or DataFrame. \n",
    "Dict can contain Series, arrays, constants, or list-like objects"
   ]
  },
  {
   "cell_type": "code",
   "execution_count": 2,
   "metadata": {
    "collapsed": false,
    "scrolled": true
   },
   "outputs": [
    {
     "name": "stdout",
     "output_type": "stream",
     "text": [
      "[ 0.15660932 -1.55311436 -1.15361166] <class 'numpy.ndarray'>\n",
      "[ 0.93958342 -0.68420685 -0.47135349]\n",
      "[-1.70427419 -1.91649166  1.18210322]\n"
     ]
    }
   ],
   "source": [
    "# Try it with an array\n",
    "a1 = np.array(np.random.randn(3))\n",
    "a2 = np.array(np.random.randn(3))\n",
    "a3 = np.array(np.random.randn(3))\n",
    "\n",
    "print (a1, type(a1))\n",
    "print (a2)\n",
    "print (a3)"
   ]
  },
  {
   "cell_type": "code",
   "execution_count": 3,
   "metadata": {
    "collapsed": false
   },
   "outputs": [
    {
     "name": "stdout",
     "output_type": "stream",
     "text": [
      "This is a dataframe\n"
     ]
    },
    {
     "data": {
      "text/html": [
       "<div>\n",
       "<style>\n",
       "    .dataframe thead tr:only-child th {\n",
       "        text-align: right;\n",
       "    }\n",
       "\n",
       "    .dataframe thead th {\n",
       "        text-align: left;\n",
       "    }\n",
       "\n",
       "    .dataframe tbody tr th {\n",
       "        vertical-align: top;\n",
       "    }\n",
       "</style>\n",
       "<table border=\"1\" class=\"dataframe\">\n",
       "  <thead>\n",
       "    <tr style=\"text-align: right;\">\n",
       "      <th></th>\n",
       "      <th>0</th>\n",
       "    </tr>\n",
       "  </thead>\n",
       "  <tbody>\n",
       "    <tr>\n",
       "      <th>0</th>\n",
       "      <td>0.156609</td>\n",
       "    </tr>\n",
       "    <tr>\n",
       "      <th>1</th>\n",
       "      <td>-1.553114</td>\n",
       "    </tr>\n",
       "    <tr>\n",
       "      <th>2</th>\n",
       "      <td>-1.153612</td>\n",
       "    </tr>\n",
       "  </tbody>\n",
       "</table>\n",
       "</div>"
      ],
      "text/plain": [
       "          0\n",
       "0  0.156609\n",
       "1 -1.553114\n",
       "2 -1.153612"
      ]
     },
     "execution_count": 3,
     "metadata": {},
     "output_type": "execute_result"
    }
   ],
   "source": [
    "df0 = pd.DataFrame(a1)\n",
    "print (\"This is a dataframe\")\n",
    "df0"
   ]
  },
  {
   "cell_type": "code",
   "execution_count": 5,
   "metadata": {
    "collapsed": false
   },
   "outputs": [
    {
     "name": "stdout",
     "output_type": "stream",
     "text": [
      "<class 'pandas.core.frame.DataFrame'>\n"
     ]
    },
    {
     "data": {
      "text/html": [
       "<div>\n",
       "<style>\n",
       "    .dataframe thead tr:only-child th {\n",
       "        text-align: right;\n",
       "    }\n",
       "\n",
       "    .dataframe thead th {\n",
       "        text-align: left;\n",
       "    }\n",
       "\n",
       "    .dataframe tbody tr th {\n",
       "        vertical-align: top;\n",
       "    }\n",
       "</style>\n",
       "<table border=\"1\" class=\"dataframe\">\n",
       "  <thead>\n",
       "    <tr style=\"text-align: right;\">\n",
       "      <th></th>\n",
       "      <th>0</th>\n",
       "      <th>1</th>\n",
       "      <th>2</th>\n",
       "    </tr>\n",
       "  </thead>\n",
       "  <tbody>\n",
       "    <tr>\n",
       "      <th>0</th>\n",
       "      <td>0.156609</td>\n",
       "      <td>-1.553114</td>\n",
       "      <td>-1.153612</td>\n",
       "    </tr>\n",
       "    <tr>\n",
       "      <th>1</th>\n",
       "      <td>0.939583</td>\n",
       "      <td>-0.684207</td>\n",
       "      <td>-0.471353</td>\n",
       "    </tr>\n",
       "    <tr>\n",
       "      <th>2</th>\n",
       "      <td>-1.704274</td>\n",
       "      <td>-1.916492</td>\n",
       "      <td>1.182103</td>\n",
       "    </tr>\n",
       "  </tbody>\n",
       "</table>\n",
       "</div>"
      ],
      "text/plain": [
       "          0         1         2\n",
       "0  0.156609 -1.553114 -1.153612\n",
       "1  0.939583 -0.684207 -0.471353\n",
       "2 -1.704274 -1.916492  1.182103"
      ]
     },
     "execution_count": 5,
     "metadata": {},
     "output_type": "execute_result"
    }
   ],
   "source": [
    "# What if I give it a list of np arrays?\n",
    "df0 = pd.DataFrame([a1, a2, a3])\n",
    "print (type(df0))\n",
    "df0\n",
    "# notice that there is no column label and \n",
    "# the index is set automatically"
   ]
  },
  {
   "cell_type": "code",
   "execution_count": 6,
   "metadata": {
    "collapsed": false
   },
   "outputs": [
    {
     "name": "stdout",
     "output_type": "stream",
     "text": [
      "[[ 0.78175536 -0.78182392  0.47415842]\n",
      " [ 0.2992212  -0.86199811  0.08339434]\n",
      " [-0.97546484  1.19893314  0.80690741]]\n"
     ]
    },
    {
     "data": {
      "text/html": [
       "<div>\n",
       "<style>\n",
       "    .dataframe thead tr:only-child th {\n",
       "        text-align: right;\n",
       "    }\n",
       "\n",
       "    .dataframe thead th {\n",
       "        text-align: left;\n",
       "    }\n",
       "\n",
       "    .dataframe tbody tr th {\n",
       "        vertical-align: top;\n",
       "    }\n",
       "</style>\n",
       "<table border=\"1\" class=\"dataframe\">\n",
       "  <thead>\n",
       "    <tr style=\"text-align: right;\">\n",
       "      <th></th>\n",
       "      <th>0</th>\n",
       "      <th>1</th>\n",
       "      <th>2</th>\n",
       "    </tr>\n",
       "  </thead>\n",
       "  <tbody>\n",
       "    <tr>\n",
       "      <th>0</th>\n",
       "      <td>0.781755</td>\n",
       "      <td>-0.781824</td>\n",
       "      <td>0.474158</td>\n",
       "    </tr>\n",
       "    <tr>\n",
       "      <th>1</th>\n",
       "      <td>0.299221</td>\n",
       "      <td>-0.861998</td>\n",
       "      <td>0.083394</td>\n",
       "    </tr>\n",
       "    <tr>\n",
       "      <th>2</th>\n",
       "      <td>-0.975465</td>\n",
       "      <td>1.198933</td>\n",
       "      <td>0.806907</td>\n",
       "    </tr>\n",
       "  </tbody>\n",
       "</table>\n",
       "</div>"
      ],
      "text/plain": [
       "          0         1         2\n",
       "0  0.781755 -0.781824  0.474158\n",
       "1  0.299221 -0.861998  0.083394\n",
       "2 -0.975465  1.198933  0.806907"
      ]
     },
     "execution_count": 6,
     "metadata": {},
     "output_type": "execute_result"
    }
   ],
   "source": [
    "# Let use a 2-D arrays?\n",
    "ax = np.array(np.random.randn(9)).reshape(3,3)\n",
    "print (ax)\n",
    "df0 = pd.DataFrame(ax)\n",
    "df0"
   ]
  },
  {
   "cell_type": "code",
   "execution_count": 47,
   "metadata": {
    "collapsed": false
   },
   "outputs": [
    {
     "data": {
      "text/html": [
       "<div>\n",
       "<style>\n",
       "    .dataframe thead tr:only-child th {\n",
       "        text-align: right;\n",
       "    }\n",
       "\n",
       "    .dataframe thead th {\n",
       "        text-align: left;\n",
       "    }\n",
       "\n",
       "    .dataframe tbody tr th {\n",
       "        vertical-align: top;\n",
       "    }\n",
       "</style>\n",
       "<table border=\"1\" class=\"dataframe\">\n",
       "  <thead>\n",
       "    <tr style=\"text-align: right;\">\n",
       "      <th></th>\n",
       "      <th>A</th>\n",
       "      <th>B</th>\n",
       "    </tr>\n",
       "  </thead>\n",
       "  <tbody>\n",
       "    <tr>\n",
       "      <th>0</th>\n",
       "      <td>0.156609</td>\n",
       "      <td>0.939583</td>\n",
       "    </tr>\n",
       "    <tr>\n",
       "      <th>1</th>\n",
       "      <td>-1.553114</td>\n",
       "      <td>-0.684207</td>\n",
       "    </tr>\n",
       "    <tr>\n",
       "      <th>2</th>\n",
       "      <td>-1.153612</td>\n",
       "      <td>-0.471353</td>\n",
       "    </tr>\n",
       "  </tbody>\n",
       "</table>\n",
       "</div>"
      ],
      "text/plain": [
       "          A         B\n",
       "0  0.156609  0.939583\n",
       "1 -1.553114 -0.684207\n",
       "2 -1.153612 -0.471353"
      ]
     },
     "execution_count": 47,
     "metadata": {},
     "output_type": "execute_result"
    }
   ],
   "source": [
    "# And now, lets use a dictionary as input\n",
    "\n",
    "dict1 = {'A':a1, 'B':a2}\n",
    "df1 = pd.DataFrame(dict1) \n",
    "df1\n",
    "# note headings"
   ]
  },
  {
   "cell_type": "code",
   "execution_count": 48,
   "metadata": {
    "collapsed": false
   },
   "outputs": [
    {
     "data": {
      "text/html": [
       "<div>\n",
       "<style>\n",
       "    .dataframe thead tr:only-child th {\n",
       "        text-align: right;\n",
       "    }\n",
       "\n",
       "    .dataframe thead th {\n",
       "        text-align: left;\n",
       "    }\n",
       "\n",
       "    .dataframe tbody tr th {\n",
       "        vertical-align: top;\n",
       "    }\n",
       "</style>\n",
       "<table border=\"1\" class=\"dataframe\">\n",
       "  <thead>\n",
       "    <tr style=\"text-align: right;\">\n",
       "      <th></th>\n",
       "      <th>A</th>\n",
       "      <th>B</th>\n",
       "      <th>C</th>\n",
       "    </tr>\n",
       "  </thead>\n",
       "  <tbody>\n",
       "    <tr>\n",
       "      <th>0</th>\n",
       "      <td>0.156609</td>\n",
       "      <td>0.939583</td>\n",
       "      <td>-1.704274</td>\n",
       "    </tr>\n",
       "    <tr>\n",
       "      <th>1</th>\n",
       "      <td>-1.553114</td>\n",
       "      <td>-0.684207</td>\n",
       "      <td>-1.916492</td>\n",
       "    </tr>\n",
       "    <tr>\n",
       "      <th>2</th>\n",
       "      <td>-1.153612</td>\n",
       "      <td>-0.471353</td>\n",
       "      <td>1.182103</td>\n",
       "    </tr>\n",
       "  </tbody>\n",
       "</table>\n",
       "</div>"
      ],
      "text/plain": [
       "          A         B         C\n",
       "0  0.156609  0.939583 -1.704274\n",
       "1 -1.553114 -0.684207 -1.916492\n",
       "2 -1.153612 -0.471353  1.182103"
      ]
     },
     "execution_count": 48,
     "metadata": {},
     "output_type": "execute_result"
    }
   ],
   "source": [
    "# Lets add another column\n",
    "df1['C']=a3\n",
    "df1"
   ]
  },
  {
   "cell_type": "code",
   "execution_count": 49,
   "metadata": {
    "collapsed": false
   },
   "outputs": [
    {
     "name": "stdout",
     "output_type": "stream",
     "text": [
      "The column L is a  <class 'pandas.core.series.Series'>\n"
     ]
    },
    {
     "data": {
      "text/html": [
       "<div>\n",
       "<style>\n",
       "    .dataframe thead tr:only-child th {\n",
       "        text-align: right;\n",
       "    }\n",
       "\n",
       "    .dataframe thead th {\n",
       "        text-align: left;\n",
       "    }\n",
       "\n",
       "    .dataframe tbody tr th {\n",
       "        vertical-align: top;\n",
       "    }\n",
       "</style>\n",
       "<table border=\"1\" class=\"dataframe\">\n",
       "  <thead>\n",
       "    <tr style=\"text-align: right;\">\n",
       "      <th></th>\n",
       "      <th>A</th>\n",
       "      <th>B</th>\n",
       "      <th>C</th>\n",
       "      <th>L</th>\n",
       "    </tr>\n",
       "  </thead>\n",
       "  <tbody>\n",
       "    <tr>\n",
       "      <th>0</th>\n",
       "      <td>0.156609</td>\n",
       "      <td>0.939583</td>\n",
       "      <td>-1.704274</td>\n",
       "      <td>List</td>\n",
       "    </tr>\n",
       "    <tr>\n",
       "      <th>1</th>\n",
       "      <td>-1.553114</td>\n",
       "      <td>-0.684207</td>\n",
       "      <td>-1.916492</td>\n",
       "      <td>of</td>\n",
       "    </tr>\n",
       "    <tr>\n",
       "      <th>2</th>\n",
       "      <td>-1.153612</td>\n",
       "      <td>-0.471353</td>\n",
       "      <td>1.182103</td>\n",
       "      <td>words</td>\n",
       "    </tr>\n",
       "  </tbody>\n",
       "</table>\n",
       "</div>"
      ],
      "text/plain": [
       "          A         B         C      L\n",
       "0  0.156609  0.939583 -1.704274   List\n",
       "1 -1.553114 -0.684207 -1.916492     of\n",
       "2 -1.153612 -0.471353  1.182103  words"
      ]
     },
     "execution_count": 49,
     "metadata": {},
     "output_type": "execute_result"
    }
   ],
   "source": [
    "# What is we assign a list instead of numpy array?\n",
    "df1['L'] = [\"List\", \"of\", \"words\"]\n",
    "print (\"The column L is a \",type (df1['L']))\n",
    "df1"
   ]
  },
  {
   "cell_type": "code",
   "execution_count": 50,
   "metadata": {
    "collapsed": false
   },
   "outputs": [
    {
     "name": "stdout",
     "output_type": "stream",
     "text": [
      "0    1.0\n",
      "1    NaN\n",
      "2    3.0\n",
      "dtype: float64\n",
      "\n",
      "a    2\n",
      "b    3\n",
      "c    4\n",
      "dtype: int64\n"
     ]
    }
   ],
   "source": [
    "# Introducing a pandas.Series\n",
    "# Its like an np.array but it has its own index\n",
    "s = pd.Series([1,np.nan,3])\n",
    "s2 = pd.Series([2, 3, 4], index = ['a','b','c'])\n",
    "print (s)\n",
    "print()\n",
    "print (s2)"
   ]
  },
  {
   "cell_type": "code",
   "execution_count": 51,
   "metadata": {
    "collapsed": false
   },
   "outputs": [
    {
     "data": {
      "text/html": [
       "<div>\n",
       "<style>\n",
       "    .dataframe thead tr:only-child th {\n",
       "        text-align: right;\n",
       "    }\n",
       "\n",
       "    .dataframe thead th {\n",
       "        text-align: left;\n",
       "    }\n",
       "\n",
       "    .dataframe tbody tr th {\n",
       "        vertical-align: top;\n",
       "    }\n",
       "</style>\n",
       "<table border=\"1\" class=\"dataframe\">\n",
       "  <thead>\n",
       "    <tr style=\"text-align: right;\">\n",
       "      <th></th>\n",
       "      <th>A</th>\n",
       "      <th>B</th>\n",
       "      <th>C</th>\n",
       "      <th>L</th>\n",
       "      <th>S</th>\n",
       "    </tr>\n",
       "  </thead>\n",
       "  <tbody>\n",
       "    <tr>\n",
       "      <th>0</th>\n",
       "      <td>0.156609</td>\n",
       "      <td>0.939583</td>\n",
       "      <td>-1.704274</td>\n",
       "      <td>List</td>\n",
       "      <td>1.0</td>\n",
       "    </tr>\n",
       "    <tr>\n",
       "      <th>1</th>\n",
       "      <td>-1.553114</td>\n",
       "      <td>-0.684207</td>\n",
       "      <td>-1.916492</td>\n",
       "      <td>of</td>\n",
       "      <td>NaN</td>\n",
       "    </tr>\n",
       "    <tr>\n",
       "      <th>2</th>\n",
       "      <td>-1.153612</td>\n",
       "      <td>-0.471353</td>\n",
       "      <td>1.182103</td>\n",
       "      <td>words</td>\n",
       "      <td>3.0</td>\n",
       "    </tr>\n",
       "  </tbody>\n",
       "</table>\n",
       "</div>"
      ],
      "text/plain": [
       "          A         B         C      L    S\n",
       "0  0.156609  0.939583 -1.704274   List  1.0\n",
       "1 -1.553114 -0.684207 -1.916492     of  NaN\n",
       "2 -1.153612 -0.471353  1.182103  words  3.0"
      ]
     },
     "execution_count": 51,
     "metadata": {},
     "output_type": "execute_result"
    }
   ],
   "source": [
    "# We will add the Series s to the table as column S\n",
    "df1['S'] = s\n",
    "df1"
   ]
  },
  {
   "cell_type": "code",
   "execution_count": 52,
   "metadata": {
    "collapsed": true
   },
   "outputs": [],
   "source": [
    "#s2.index = df1.index"
   ]
  },
  {
   "cell_type": "code",
   "execution_count": 57,
   "metadata": {
    "collapsed": false
   },
   "outputs": [
    {
     "name": "stdout",
     "output_type": "stream",
     "text": [
      "          A         B         C      L    S  S2\n",
      "0  0.156609  0.939583 -1.704274   List  1.0 NaN\n",
      "1 -1.553114 -0.684207 -1.916492     of  NaN NaN\n",
      "2 -1.153612 -0.471353  1.182103  words  3.0 NaN\n"
     ]
    }
   ],
   "source": [
    "# This time, we will use Series s2, \n",
    "# which has a different index\n",
    "df1['S2']=s2\n",
    "print (df1)"
   ]
  },
  {
   "cell_type": "code",
   "execution_count": 66,
   "metadata": {
    "collapsed": false
   },
   "outputs": [
    {
     "name": "stdout",
     "output_type": "stream",
     "text": [
      "   0         A         B         C\n",
      "a  2  0.156609  0.939583 -1.704274\n",
      "b  3 -1.553114 -0.684207 -1.916492\n",
      "c  4 -1.153612 -0.471353  1.182103\n"
     ]
    }
   ],
   "source": [
    "# But if we create a new dataframe, we can add the data but with the new index\n",
    "df2 = pd.DataFrame(s2)\n",
    "df2['A']= a1\n",
    "df2['B']=a2\n",
    "df2['C']=a3\n",
    "print (df2)"
   ]
  },
  {
   "cell_type": "code",
   "execution_count": 67,
   "metadata": {
    "collapsed": false
   },
   "outputs": [
    {
     "name": "stdout",
     "output_type": "stream",
     "text": [
      "   0         A         B         C\n",
      "b  3 -1.553114 -0.684207 -1.916492\n",
      "c  4 -1.153612 -0.471353  1.182103\n",
      "\n",
      "   0         A         B         C\n",
      "a  2  0.156609  0.939583 -1.704274\n",
      "b  3 -1.553114 -0.684207 -1.916492\n"
     ]
    }
   ],
   "source": [
    "# You can extract rows by position or label\n",
    "print (df2[1:3])\n",
    "print()\n",
    "print (df2['a':'b'])"
   ]
  },
  {
   "cell_type": "code",
   "execution_count": 68,
   "metadata": {
    "collapsed": false
   },
   "outputs": [
    {
     "data": {
      "text/html": [
       "<div>\n",
       "<style>\n",
       "    .dataframe thead tr:only-child th {\n",
       "        text-align: right;\n",
       "    }\n",
       "\n",
       "    .dataframe thead th {\n",
       "        text-align: left;\n",
       "    }\n",
       "\n",
       "    .dataframe tbody tr th {\n",
       "        vertical-align: top;\n",
       "    }\n",
       "</style>\n",
       "<table border=\"1\" class=\"dataframe\">\n",
       "  <thead>\n",
       "    <tr style=\"text-align: right;\">\n",
       "      <th></th>\n",
       "      <th>A</th>\n",
       "      <th>B</th>\n",
       "      <th>C</th>\n",
       "      <th>L</th>\n",
       "      <th>S</th>\n",
       "      <th>S2</th>\n",
       "    </tr>\n",
       "  </thead>\n",
       "  <tbody>\n",
       "    <tr>\n",
       "      <th>0</th>\n",
       "      <td>0.156609</td>\n",
       "      <td>0.939583</td>\n",
       "      <td>-1.704274</td>\n",
       "      <td>List</td>\n",
       "      <td>1.0</td>\n",
       "      <td>NaN</td>\n",
       "    </tr>\n",
       "    <tr>\n",
       "      <th>1</th>\n",
       "      <td>-1.553114</td>\n",
       "      <td>-0.684207</td>\n",
       "      <td>-1.916492</td>\n",
       "      <td>of</td>\n",
       "      <td>NaN</td>\n",
       "      <td>NaN</td>\n",
       "    </tr>\n",
       "    <tr>\n",
       "      <th>2</th>\n",
       "      <td>-1.153612</td>\n",
       "      <td>-0.471353</td>\n",
       "      <td>1.182103</td>\n",
       "      <td>words</td>\n",
       "      <td>3.0</td>\n",
       "      <td>NaN</td>\n",
       "    </tr>\n",
       "  </tbody>\n",
       "</table>\n",
       "</div>"
      ],
      "text/plain": [
       "          A         B         C      L    S  S2\n",
       "0  0.156609  0.939583 -1.704274   List  1.0 NaN\n",
       "1 -1.553114 -0.684207 -1.916492     of  NaN NaN\n",
       "2 -1.153612 -0.471353  1.182103  words  3.0 NaN"
      ]
     },
     "execution_count": 68,
     "metadata": {},
     "output_type": "execute_result"
    }
   ],
   "source": [
    "# recall\n",
    "df1"
   ]
  },
  {
   "cell_type": "code",
   "execution_count": 69,
   "metadata": {
    "collapsed": false
   },
   "outputs": [
    {
     "data": {
      "text/html": [
       "<div>\n",
       "<style>\n",
       "    .dataframe thead tr:only-child th {\n",
       "        text-align: right;\n",
       "    }\n",
       "\n",
       "    .dataframe thead th {\n",
       "        text-align: left;\n",
       "    }\n",
       "\n",
       "    .dataframe tbody tr th {\n",
       "        vertical-align: top;\n",
       "    }\n",
       "</style>\n",
       "<table border=\"1\" class=\"dataframe\">\n",
       "  <thead>\n",
       "    <tr style=\"text-align: right;\">\n",
       "      <th></th>\n",
       "      <th>A</th>\n",
       "      <th>B</th>\n",
       "      <th>C</th>\n",
       "      <th>D</th>\n",
       "      <th>S</th>\n",
       "      <th>S2</th>\n",
       "    </tr>\n",
       "  </thead>\n",
       "  <tbody>\n",
       "    <tr>\n",
       "      <th>0</th>\n",
       "      <td>0.156609</td>\n",
       "      <td>0.939583</td>\n",
       "      <td>-1.704274</td>\n",
       "      <td>List</td>\n",
       "      <td>1.0</td>\n",
       "      <td>NaN</td>\n",
       "    </tr>\n",
       "    <tr>\n",
       "      <th>1</th>\n",
       "      <td>-1.553114</td>\n",
       "      <td>-0.684207</td>\n",
       "      <td>-1.916492</td>\n",
       "      <td>of</td>\n",
       "      <td>NaN</td>\n",
       "      <td>NaN</td>\n",
       "    </tr>\n",
       "    <tr>\n",
       "      <th>2</th>\n",
       "      <td>-1.153612</td>\n",
       "      <td>-0.471353</td>\n",
       "      <td>1.182103</td>\n",
       "      <td>words</td>\n",
       "      <td>3.0</td>\n",
       "      <td>NaN</td>\n",
       "    </tr>\n",
       "  </tbody>\n",
       "</table>\n",
       "</div>"
      ],
      "text/plain": [
       "          A         B         C      D    S  S2\n",
       "0  0.156609  0.939583 -1.704274   List  1.0 NaN\n",
       "1 -1.553114 -0.684207 -1.916492     of  NaN NaN\n",
       "2 -1.153612 -0.471353  1.182103  words  3.0 NaN"
      ]
     },
     "execution_count": 69,
     "metadata": {},
     "output_type": "execute_result"
    }
   ],
   "source": [
    "# Renaming a column\n",
    "df1 = df1.rename(columns = {'L':'D'})\n",
    "df1"
   ]
  },
  {
   "cell_type": "code",
   "execution_count": 72,
   "metadata": {
    "collapsed": false
   },
   "outputs": [
    {
     "data": {
      "text/html": [
       "<div>\n",
       "<style>\n",
       "    .dataframe thead tr:only-child th {\n",
       "        text-align: right;\n",
       "    }\n",
       "\n",
       "    .dataframe thead th {\n",
       "        text-align: left;\n",
       "    }\n",
       "\n",
       "    .dataframe tbody tr th {\n",
       "        vertical-align: top;\n",
       "    }\n",
       "</style>\n",
       "<table border=\"1\" class=\"dataframe\">\n",
       "  <thead>\n",
       "    <tr style=\"text-align: right;\">\n",
       "      <th></th>\n",
       "      <th>A</th>\n",
       "      <th>B</th>\n",
       "      <th>C</th>\n",
       "      <th>D</th>\n",
       "      <th>S</th>\n",
       "    </tr>\n",
       "  </thead>\n",
       "  <tbody>\n",
       "    <tr>\n",
       "      <th>0</th>\n",
       "      <td>0.156609</td>\n",
       "      <td>0.939583</td>\n",
       "      <td>-1.704274</td>\n",
       "      <td>List</td>\n",
       "      <td>1.0</td>\n",
       "    </tr>\n",
       "    <tr>\n",
       "      <th>1</th>\n",
       "      <td>-1.553114</td>\n",
       "      <td>-0.684207</td>\n",
       "      <td>-1.916492</td>\n",
       "      <td>of</td>\n",
       "      <td>NaN</td>\n",
       "    </tr>\n",
       "    <tr>\n",
       "      <th>2</th>\n",
       "      <td>-1.153612</td>\n",
       "      <td>-0.471353</td>\n",
       "      <td>1.182103</td>\n",
       "      <td>words</td>\n",
       "      <td>3.0</td>\n",
       "    </tr>\n",
       "  </tbody>\n",
       "</table>\n",
       "</div>"
      ],
      "text/plain": [
       "          A         B         C      D    S\n",
       "0  0.156609  0.939583 -1.704274   List  1.0\n",
       "1 -1.553114 -0.684207 -1.916492     of  NaN\n",
       "2 -1.153612 -0.471353  1.182103  words  3.0"
      ]
     },
     "execution_count": 72,
     "metadata": {},
     "output_type": "execute_result"
    }
   ],
   "source": [
    "# And delete column\n",
    "del df1['S2']\n",
    "df1"
   ]
  },
  {
   "cell_type": "code",
   "execution_count": 74,
   "metadata": {
    "collapsed": false
   },
   "outputs": [
    {
     "data": {
      "text/plain": [
       "0    0.156609\n",
       "1   -1.553114\n",
       "2   -1.153612\n",
       "Name: A, dtype: float64"
      ]
     },
     "execution_count": 74,
     "metadata": {},
     "output_type": "execute_result"
    }
   ],
   "source": [
    "# Example: view only a column\n",
    "df1['A']"
   ]
  },
  {
   "cell_type": "code",
   "execution_count": 78,
   "metadata": {
    "collapsed": false
   },
   "outputs": [
    {
     "name": "stdout",
     "output_type": "stream",
     "text": [
      "<class 'pandas.core.series.Series'>\n"
     ]
    },
    {
     "data": {
      "text/html": [
       "<div>\n",
       "<style>\n",
       "    .dataframe thead tr:only-child th {\n",
       "        text-align: right;\n",
       "    }\n",
       "\n",
       "    .dataframe thead th {\n",
       "        text-align: left;\n",
       "    }\n",
       "\n",
       "    .dataframe tbody tr th {\n",
       "        vertical-align: top;\n",
       "    }\n",
       "</style>\n",
       "<table border=\"1\" class=\"dataframe\">\n",
       "  <thead>\n",
       "    <tr style=\"text-align: right;\">\n",
       "      <th></th>\n",
       "      <th>A</th>\n",
       "      <th>D</th>\n",
       "    </tr>\n",
       "  </thead>\n",
       "  <tbody>\n",
       "    <tr>\n",
       "      <th>0</th>\n",
       "      <td>0.156609</td>\n",
       "      <td>List</td>\n",
       "    </tr>\n",
       "    <tr>\n",
       "      <th>1</th>\n",
       "      <td>-1.553114</td>\n",
       "      <td>of</td>\n",
       "    </tr>\n",
       "    <tr>\n",
       "      <th>2</th>\n",
       "      <td>-1.153612</td>\n",
       "      <td>words</td>\n",
       "    </tr>\n",
       "  </tbody>\n",
       "</table>\n",
       "</div>"
      ],
      "text/plain": [
       "          A      D\n",
       "0  0.156609   List\n",
       "1 -1.553114     of\n",
       "2 -1.153612  words"
      ]
     },
     "execution_count": 78,
     "metadata": {},
     "output_type": "execute_result"
    }
   ],
   "source": [
    "# A list of colums\n",
    "\n",
    "print (type(df1['A']))\n",
    "df1[['A','D']]\n",
    "# Notice the data structure of the column is a Series, not an array\n"
   ]
  },
  {
   "cell_type": "markdown",
   "metadata": {},
   "source": [
    "In the 10 min Pandas Guide, you will see many ways to view, slice a dataframe\n",
    "\n",
    "* view/slice by rows, eg df[1:3], etc.\n",
    "\n",
    "* view by index location, see df.iloc (iloc)\n",
    "\n",
    "* view by ranges of labels, ie index label 2 to 5, or dates feb 3 to feb 25, see df.loc (loc)\n",
    " \n",
    "* view a single row by the index df.xs (xs)\n",
    "\n",
    "* filtering rows that have certain conditions\n",
    "* add column\n",
    "* add row\n",
    "\n",
    "* How to change the index\n",
    "\n",
    "and more..."
   ]
  },
  {
   "cell_type": "code",
   "execution_count": 82,
   "metadata": {
    "collapsed": false
   },
   "outputs": [
    {
     "name": "stdout",
     "output_type": "stream",
     "text": [
      "          A         B         C     D    S\n",
      "0  0.156609  0.939583 -1.704274  List  1.0\n",
      "1 -1.553114 -0.684207 -1.916492    of  NaN\n"
     ]
    }
   ],
   "source": [
    "print (df1[0:2])  # ok\n",
    "# df1[1]  # not ok\n",
    "\n",
    "#What will this do?\n",
    "# print df1[0:2]\n",
    "# print (df1[0:2][0:1])"
   ]
  },
  {
   "cell_type": "markdown",
   "metadata": {},
   "source": [
    "## Finance example\n",
    "\n",
    "### Now, lets get some data in a CSV file is like this.\n",
    "\n",
    "See https://www.quantshare.com/sa-43-10-ways-to-download-historical-stock-quotes-data-for-free\n"
   ]
  },
  {
   "cell_type": "code",
   "execution_count": 83,
   "metadata": {
    "collapsed": true
   },
   "outputs": [],
   "source": [
    "# We can use this 'pd.read_csv' method with the yahoo url, 1 year back with google's service\n",
    "dfg = pd.read_csv('https://www.google.com/finance/historical?output=csv&q=goog')\n",
    "dfa = pd.read_csv('https://www.google.com/finance/historical?output=csv&q=aapl')"
   ]
  },
  {
   "cell_type": "code",
   "execution_count": 84,
   "metadata": {
    "collapsed": false
   },
   "outputs": [
    {
     "name": "stdout",
     "output_type": "stream",
     "text": [
      "aaple:\n",
      "        Date    Open    High     Low   Close    Volume\n",
      "0   5-Sep-17  163.75  164.25  160.56  162.08  29536314\n",
      "1   1-Sep-17  164.80  164.94  163.63  164.05  16591051\n",
      "2  31-Aug-17  163.64  164.52  163.48  164.00  26785096\n",
      "google:\n",
      "        Date    Open    High     Low   Close   Volume\n",
      "0   5-Sep-17  933.08  937.00  921.96  928.45  1348292\n",
      "1   1-Sep-17  941.13  942.48  935.15  937.34   947374\n",
      "2  31-Aug-17  931.76  941.98  931.76  939.33  1582579\n",
      "3  30-Aug-17  920.05  930.82  919.65  929.57  1301225\n",
      "4  29-Aug-17  905.10  923.33  905.00  921.29  1185564\n",
      "5  28-Aug-17  916.00  919.24  911.87  913.81  1086484\n",
      "6  25-Aug-17  923.49  925.56  915.50  915.89  1053376\n",
      "7  24-Aug-17  928.66  930.84  915.50  921.28  1270306\n",
      "8  23-Aug-17  921.93  929.93  919.36  927.00  1090248\n",
      "9  22-Aug-17  912.72  925.86  911.48  924.69  1166737\n",
      "          Date    Open    High     Low   Close   Volume\n",
      "247  12-Sep-16  755.13  770.29  754.00  769.02  1310986\n",
      "248   9-Sep-16  770.10  773.24  759.66  759.66  1885496\n",
      "249   8-Sep-16  778.59  780.35  773.58  775.32  1270264\n"
     ]
    }
   ],
   "source": [
    "# some viewing options\n",
    "print ('aaple:')\n",
    "print (dfa[0:3])\n",
    "print ('google:')\n",
    "print (dfg.head(10))\n",
    "# dfg[0:10]\n",
    "# dfg\n",
    "print (dfg.tail(3))"
   ]
  },
  {
   "cell_type": "code",
   "execution_count": 85,
   "metadata": {
    "collapsed": false
   },
   "outputs": [
    {
     "data": {
      "text/plain": [
       "RangeIndex(start=2, stop=20, step=1)"
      ]
     },
     "execution_count": 85,
     "metadata": {},
     "output_type": "execute_result"
    }
   ],
   "source": [
    "# if you want the index by itelf, use .index\n",
    "# dfg.index\n",
    "dfg.index[2:20]"
   ]
  },
  {
   "cell_type": "code",
   "execution_count": 86,
   "metadata": {
    "collapsed": false
   },
   "outputs": [
    {
     "data": {
      "text/plain": [
       "Index(['Date', 'Open', 'High', 'Low', 'Close', 'Volume'], dtype='object')"
      ]
     },
     "execution_count": 86,
     "metadata": {},
     "output_type": "execute_result"
    }
   ],
   "source": [
    "# Here is a list of the columns, so you know the names of the columns\n",
    "dfg.columns\n",
    "#dfg.columns[2]\n",
    "#dfg.columns[2:4]\n",
    "\n",
    "#try this: (element of row 3 from every column)\n",
    "\n",
    "#for i in dfg.columns:\n",
    "#    print (i, df0_goog[i][3])\n"
   ]
  },
  {
   "cell_type": "code",
   "execution_count": 87,
   "metadata": {
    "collapsed": false
   },
   "outputs": [
    {
     "name": "stdout",
     "output_type": "stream",
     "text": [
      "[['5-Sep-17' 933.08 937.0 921.96 928.45 1348292]\n",
      " ['1-Sep-17' 941.13 942.48 935.15 937.34 947374]\n",
      " ['31-Aug-17' 931.76 941.98 931.76 939.33 1582579]\n",
      " ..., \n",
      " ['12-Sep-16' 755.13 770.29 754.0 769.02 1310986]\n",
      " ['9-Sep-16' 770.1 773.24 759.66 759.66 1885496]\n",
      " ['8-Sep-16' 778.59 780.35 773.58 775.32 1270264]] <class 'numpy.ndarray'>\n"
     ]
    }
   ],
   "source": [
    "# If you want the values in an np array\n",
    "npg = dfg.values\n",
    "print (npg, type(npg))"
   ]
  },
  {
   "cell_type": "markdown",
   "metadata": {},
   "source": [
    "### Getting or Viewing Data within a DataFrame\n",
    "Note: While standard Python / Numpy expressions for selecting and setting are intuitive and come in handy for interactive work, for production code, we recommend the optimized pandas data access methods, .at, .iat, .loc, .iloc and .ix. (from 10 min guide to Pandas)\n"
   ]
  },
  {
   "cell_type": "code",
   "execution_count": 89,
   "metadata": {
    "collapsed": false
   },
   "outputs": [
    {
     "data": {
      "text/plain": [
       "0    928.45\n",
       "1    937.34\n",
       "2    939.33\n",
       "3    929.57\n",
       "4    921.29\n",
       "Name: Close, dtype: float64"
      ]
     },
     "execution_count": 89,
     "metadata": {},
     "output_type": "execute_result"
    }
   ],
   "source": [
    "# Lets print the 1 column, which show close prices of Google\n",
    "# This is a new data frame (like a new table)\n",
    "dfg['Close'][0:5]"
   ]
  },
  {
   "cell_type": "code",
   "execution_count": 27,
   "metadata": {
    "collapsed": false
   },
   "outputs": [
    {
     "data": {
      "text/html": [
       "<div>\n",
       "<style>\n",
       "    .dataframe thead tr:only-child th {\n",
       "        text-align: right;\n",
       "    }\n",
       "\n",
       "    .dataframe thead th {\n",
       "        text-align: left;\n",
       "    }\n",
       "\n",
       "    .dataframe tbody tr th {\n",
       "        vertical-align: top;\n",
       "    }\n",
       "</style>\n",
       "<table border=\"1\" class=\"dataframe\">\n",
       "  <thead>\n",
       "    <tr style=\"text-align: right;\">\n",
       "      <th></th>\n",
       "      <th>Date</th>\n",
       "      <th>Close</th>\n",
       "    </tr>\n",
       "  </thead>\n",
       "  <tbody>\n",
       "    <tr>\n",
       "      <th>0</th>\n",
       "      <td>21-Jun-17</td>\n",
       "      <td>959.45</td>\n",
       "    </tr>\n",
       "    <tr>\n",
       "      <th>1</th>\n",
       "      <td>20-Jun-17</td>\n",
       "      <td>950.63</td>\n",
       "    </tr>\n",
       "    <tr>\n",
       "      <th>2</th>\n",
       "      <td>19-Jun-17</td>\n",
       "      <td>957.37</td>\n",
       "    </tr>\n",
       "  </tbody>\n",
       "</table>\n",
       "</div>"
      ],
      "text/plain": [
       "        Date   Close\n",
       "0  21-Jun-17  959.45\n",
       "1  20-Jun-17  950.63\n",
       "2  19-Jun-17  957.37"
      ]
     },
     "execution_count": 27,
     "metadata": {},
     "output_type": "execute_result"
    }
   ],
   "source": [
    "# Lets print the 2 column, and only 3 down, which show close prices of Google\n",
    "# Instead of one column name, we have a python list ['Date',Close']\n",
    "dfg[['Date','Close']][0:3]"
   ]
  },
  {
   "cell_type": "code",
   "execution_count": 28,
   "metadata": {
    "collapsed": false
   },
   "outputs": [
    {
     "name": "stdout",
     "output_type": "stream",
     "text": [
      "        Date    Open    High     Low   Close   Volume\n",
      "1  20-Jun-17  957.52  961.62  950.01  950.63  1125990\n",
      "2  19-Jun-17  949.96  959.99  949.05  957.37  1533336\n",
      "3  16-Jun-17  940.00  942.04  931.60  939.78  3094711\n",
      "4  15-Jun-17  933.97  943.34  924.44  942.31  2133050\n"
     ]
    }
   ],
   "source": [
    "# A slice: by rows (row numbers)\n",
    "print (dfg[1:5])"
   ]
  },
  {
   "cell_type": "code",
   "execution_count": 29,
   "metadata": {
    "collapsed": false
   },
   "outputs": [
    {
     "name": "stdout",
     "output_type": "stream",
     "text": [
      "     Open    High     Low   Close\n",
      "1  957.52  961.62  950.01  950.63\n",
      "2  949.96  959.99  949.05  957.37\n",
      "3  940.00  942.04  931.60  939.78\n",
      "4  933.97  943.34  924.44  942.31\n",
      "    Close   Volume\n",
      "1  950.63  1125990\n",
      "2  957.37  1533336\n",
      "3  939.78  3094711\n"
     ]
    }
   ],
   "source": [
    "# Getting a cross section with .loc - BY VALUES of the index and headers\n",
    "# Introduce loc: this will get you a cross section of the table by label ran\n",
    "# df.loc[a:b, x:y], by rows and column location\n",
    "\n",
    "print (dfg.loc[1:4,'Open':'Close'])\n",
    "\n",
    "# recall:\n",
    "# dfg[a:b] by rows\n",
    "# dfg[[col]] or df[[list of col]] by columns\n",
    "# df.loc[a:b, x:y], by rows and column location\n",
    "# df.iloc[3:5,0:2], by slicing by specific position - BY POSITION in the table\n",
    "\n",
    "print (dfg.iloc[1:4,4:6])\n"
   ]
  },
  {
   "cell_type": "code",
   "execution_count": 30,
   "metadata": {
    "collapsed": false
   },
   "outputs": [
    {
     "name": "stdout",
     "output_type": "stream",
     "text": [
      "Date      16-Jun-17\n",
      "Open            940\n",
      "High         942.04\n",
      "Low           931.6\n",
      "Close        939.78\n",
      "Volume      3094711\n",
      "Name: 3, dtype: object\n"
     ]
    }
   ],
   "source": [
    "#n Data only from row with index value '3'\n",
    "print (dfg.iloc[3])"
   ]
  },
  {
   "cell_type": "code",
   "execution_count": 31,
   "metadata": {
    "collapsed": false
   },
   "outputs": [
    {
     "data": {
      "text/html": [
       "<div>\n",
       "<style>\n",
       "    .dataframe thead tr:only-child th {\n",
       "        text-align: right;\n",
       "    }\n",
       "\n",
       "    .dataframe thead th {\n",
       "        text-align: left;\n",
       "    }\n",
       "\n",
       "    .dataframe tbody tr th {\n",
       "        vertical-align: top;\n",
       "    }\n",
       "</style>\n",
       "<table border=\"1\" class=\"dataframe\">\n",
       "  <thead>\n",
       "    <tr style=\"text-align: right;\">\n",
       "      <th></th>\n",
       "      <th>Date</th>\n",
       "      <th>High</th>\n",
       "    </tr>\n",
       "  </thead>\n",
       "  <tbody>\n",
       "    <tr>\n",
       "      <th>1</th>\n",
       "      <td>20-Jun-17</td>\n",
       "      <td>961.62</td>\n",
       "    </tr>\n",
       "    <tr>\n",
       "      <th>2</th>\n",
       "      <td>19-Jun-17</td>\n",
       "      <td>959.99</td>\n",
       "    </tr>\n",
       "    <tr>\n",
       "      <th>4</th>\n",
       "      <td>15-Jun-17</td>\n",
       "      <td>943.34</td>\n",
       "    </tr>\n",
       "  </tbody>\n",
       "</table>\n",
       "</div>"
      ],
      "text/plain": [
       "        Date    High\n",
       "1  20-Jun-17  961.62\n",
       "2  19-Jun-17  959.99\n",
       "4  15-Jun-17  943.34"
      ]
     },
     "execution_count": 31,
     "metadata": {},
     "output_type": "execute_result"
    }
   ],
   "source": [
    "# iloc will accept 'lists' of position numbers\n",
    "dfg.iloc[[1,2,4],[0,2]]"
   ]
  },
  {
   "cell_type": "code",
   "execution_count": 32,
   "metadata": {
    "collapsed": false
   },
   "outputs": [
    {
     "data": {
      "text/html": [
       "<div>\n",
       "<style>\n",
       "    .dataframe thead tr:only-child th {\n",
       "        text-align: right;\n",
       "    }\n",
       "\n",
       "    .dataframe thead th {\n",
       "        text-align: left;\n",
       "    }\n",
       "\n",
       "    .dataframe tbody tr th {\n",
       "        vertical-align: top;\n",
       "    }\n",
       "</style>\n",
       "<table border=\"1\" class=\"dataframe\">\n",
       "  <thead>\n",
       "    <tr style=\"text-align: right;\">\n",
       "      <th></th>\n",
       "      <th>Date</th>\n",
       "      <th>Open</th>\n",
       "      <th>High</th>\n",
       "      <th>Low</th>\n",
       "      <th>Close</th>\n",
       "      <th>Volume</th>\n",
       "    </tr>\n",
       "  </thead>\n",
       "  <tbody>\n",
       "    <tr>\n",
       "      <th>1</th>\n",
       "      <td>20-Jun-17</td>\n",
       "      <td>957.52</td>\n",
       "      <td>961.62</td>\n",
       "      <td>950.01</td>\n",
       "      <td>950.63</td>\n",
       "      <td>1125990</td>\n",
       "    </tr>\n",
       "    <tr>\n",
       "      <th>2</th>\n",
       "      <td>19-Jun-17</td>\n",
       "      <td>949.96</td>\n",
       "      <td>959.99</td>\n",
       "      <td>949.05</td>\n",
       "      <td>957.37</td>\n",
       "      <td>1533336</td>\n",
       "    </tr>\n",
       "  </tbody>\n",
       "</table>\n",
       "</div>"
      ],
      "text/plain": [
       "        Date    Open    High     Low   Close   Volume\n",
       "1  20-Jun-17  957.52  961.62  950.01  950.63  1125990\n",
       "2  19-Jun-17  949.96  959.99  949.05  957.37  1533336"
      ]
     },
     "execution_count": 32,
     "metadata": {},
     "output_type": "execute_result"
    }
   ],
   "source": [
    "# iloc will accept a range with ':', just like numpy\n",
    "dfg.iloc[1:3,:]"
   ]
  },
  {
   "cell_type": "code",
   "execution_count": 35,
   "metadata": {
    "collapsed": false
   },
   "outputs": [
    {
     "name": "stdout",
     "output_type": "stream",
     "text": [
      "949.96\n",
      "949.96\n"
     ]
    }
   ],
   "source": [
    "# Can also return specific value\n",
    "print (dfg.iloc[2,1])\n",
    "# same as above but faster for one single scaler value\n",
    "print (dfg.iat[2,1])"
   ]
  },
  {
   "cell_type": "markdown",
   "metadata": {},
   "source": [
    "### Basic Statistics"
   ]
  },
  {
   "cell_type": "code",
   "execution_count": 36,
   "metadata": {
    "collapsed": false
   },
   "outputs": [
    {
     "data": {
      "text/html": [
       "<div>\n",
       "<style>\n",
       "    .dataframe thead tr:only-child th {\n",
       "        text-align: right;\n",
       "    }\n",
       "\n",
       "    .dataframe thead th {\n",
       "        text-align: left;\n",
       "    }\n",
       "\n",
       "    .dataframe tbody tr th {\n",
       "        vertical-align: top;\n",
       "    }\n",
       "</style>\n",
       "<table border=\"1\" class=\"dataframe\">\n",
       "  <thead>\n",
       "    <tr style=\"text-align: right;\">\n",
       "      <th></th>\n",
       "      <th>Open</th>\n",
       "      <th>High</th>\n",
       "      <th>Low</th>\n",
       "      <th>Close</th>\n",
       "      <th>Volume</th>\n",
       "    </tr>\n",
       "  </thead>\n",
       "  <tbody>\n",
       "    <tr>\n",
       "      <th>count</th>\n",
       "      <td>251.000000</td>\n",
       "      <td>251.000000</td>\n",
       "      <td>251.000000</td>\n",
       "      <td>251.000000</td>\n",
       "      <td>2.510000e+02</td>\n",
       "    </tr>\n",
       "    <tr>\n",
       "      <th>mean</th>\n",
       "      <td>811.345139</td>\n",
       "      <td>816.271036</td>\n",
       "      <td>806.340159</td>\n",
       "      <td>811.818645</td>\n",
       "      <td>1.540603e+06</td>\n",
       "    </tr>\n",
       "    <tr>\n",
       "      <th>std</th>\n",
       "      <td>67.900802</td>\n",
       "      <td>68.045718</td>\n",
       "      <td>67.343274</td>\n",
       "      <td>67.890060</td>\n",
       "      <td>6.777015e+05</td>\n",
       "    </tr>\n",
       "    <tr>\n",
       "      <th>min</th>\n",
       "      <td>671.000000</td>\n",
       "      <td>672.300000</td>\n",
       "      <td>663.280000</td>\n",
       "      <td>668.260000</td>\n",
       "      <td>5.874210e+05</td>\n",
       "    </tr>\n",
       "    <tr>\n",
       "      <th>25%</th>\n",
       "      <td>772.450000</td>\n",
       "      <td>776.260000</td>\n",
       "      <td>767.150000</td>\n",
       "      <td>771.535000</td>\n",
       "      <td>1.108766e+06</td>\n",
       "    </tr>\n",
       "    <tr>\n",
       "      <th>50%</th>\n",
       "      <td>795.470000</td>\n",
       "      <td>801.190000</td>\n",
       "      <td>791.190000</td>\n",
       "      <td>795.370000</td>\n",
       "      <td>1.362115e+06</td>\n",
       "    </tr>\n",
       "    <tr>\n",
       "      <th>75%</th>\n",
       "      <td>831.635000</td>\n",
       "      <td>836.015000</td>\n",
       "      <td>827.870000</td>\n",
       "      <td>831.580000</td>\n",
       "      <td>1.704087e+06</td>\n",
       "    </tr>\n",
       "    <tr>\n",
       "      <th>max</th>\n",
       "      <td>984.500000</td>\n",
       "      <td>988.250000</td>\n",
       "      <td>977.200000</td>\n",
       "      <td>983.680000</td>\n",
       "      <td>4.745183e+06</td>\n",
       "    </tr>\n",
       "  </tbody>\n",
       "</table>\n",
       "</div>"
      ],
      "text/plain": [
       "             Open        High         Low       Close        Volume\n",
       "count  251.000000  251.000000  251.000000  251.000000  2.510000e+02\n",
       "mean   811.345139  816.271036  806.340159  811.818645  1.540603e+06\n",
       "std     67.900802   68.045718   67.343274   67.890060  6.777015e+05\n",
       "min    671.000000  672.300000  663.280000  668.260000  5.874210e+05\n",
       "25%    772.450000  776.260000  767.150000  771.535000  1.108766e+06\n",
       "50%    795.470000  801.190000  791.190000  795.370000  1.362115e+06\n",
       "75%    831.635000  836.015000  827.870000  831.580000  1.704087e+06\n",
       "max    984.500000  988.250000  977.200000  983.680000  4.745183e+06"
      ]
     },
     "execution_count": 36,
     "metadata": {},
     "output_type": "execute_result"
    }
   ],
   "source": [
    "# A quick way to get statistics\n",
    "dfg.describe()\n",
    "# dfg.describe()['A'][1]\n",
    "# dfg.describe()[2:3]"
   ]
  },
  {
   "cell_type": "code",
   "execution_count": 99,
   "metadata": {
    "collapsed": false
   },
   "outputs": [
    {
     "name": "stdout",
     "output_type": "stream",
     "text": [
      "        Date    Open    High     Low   Close   Volume\n",
      "0   5-Sep-17  933.08  937.00  921.96  928.45  1348292\n",
      "1   1-Sep-17  941.13  942.48  935.15  937.34   947374\n",
      "2  31-Aug-17  931.76  941.98  931.76  939.33  1582579\n",
      "3  30-Aug-17  920.05  930.82  919.65  929.57  1301225\n",
      "4  29-Aug-17  905.10  923.33  905.00  921.29  1185564\n"
     ]
    },
    {
     "data": {
      "text/html": [
       "<div>\n",
       "<style>\n",
       "    .dataframe thead tr:only-child th {\n",
       "        text-align: right;\n",
       "    }\n",
       "\n",
       "    .dataframe thead th {\n",
       "        text-align: left;\n",
       "    }\n",
       "\n",
       "    .dataframe tbody tr th {\n",
       "        vertical-align: top;\n",
       "    }\n",
       "</style>\n",
       "<table border=\"1\" class=\"dataframe\">\n",
       "  <thead>\n",
       "    <tr style=\"text-align: right;\">\n",
       "      <th></th>\n",
       "      <th>Date</th>\n",
       "      <th>Open</th>\n",
       "      <th>High</th>\n",
       "      <th>Low</th>\n",
       "      <th>Close</th>\n",
       "      <th>Volume</th>\n",
       "    </tr>\n",
       "  </thead>\n",
       "  <tbody>\n",
       "    <tr>\n",
       "      <th>249</th>\n",
       "      <td>8-Sep-16</td>\n",
       "      <td>778.59</td>\n",
       "      <td>780.35</td>\n",
       "      <td>773.58</td>\n",
       "      <td>775.32</td>\n",
       "      <td>1270264</td>\n",
       "    </tr>\n",
       "    <tr>\n",
       "      <th>248</th>\n",
       "      <td>9-Sep-16</td>\n",
       "      <td>770.10</td>\n",
       "      <td>773.24</td>\n",
       "      <td>759.66</td>\n",
       "      <td>759.66</td>\n",
       "      <td>1885496</td>\n",
       "    </tr>\n",
       "    <tr>\n",
       "      <th>247</th>\n",
       "      <td>12-Sep-16</td>\n",
       "      <td>755.13</td>\n",
       "      <td>770.29</td>\n",
       "      <td>754.00</td>\n",
       "      <td>769.02</td>\n",
       "      <td>1310986</td>\n",
       "    </tr>\n",
       "    <tr>\n",
       "      <th>246</th>\n",
       "      <td>13-Sep-16</td>\n",
       "      <td>764.48</td>\n",
       "      <td>766.22</td>\n",
       "      <td>755.80</td>\n",
       "      <td>759.69</td>\n",
       "      <td>1395046</td>\n",
       "    </tr>\n",
       "    <tr>\n",
       "      <th>245</th>\n",
       "      <td>14-Sep-16</td>\n",
       "      <td>759.61</td>\n",
       "      <td>767.68</td>\n",
       "      <td>759.11</td>\n",
       "      <td>762.49</td>\n",
       "      <td>1094490</td>\n",
       "    </tr>\n",
       "  </tbody>\n",
       "</table>\n",
       "</div>"
      ],
      "text/plain": [
       "          Date    Open    High     Low   Close   Volume\n",
       "249   8-Sep-16  778.59  780.35  773.58  775.32  1270264\n",
       "248   9-Sep-16  770.10  773.24  759.66  759.66  1885496\n",
       "247  12-Sep-16  755.13  770.29  754.00  769.02  1310986\n",
       "246  13-Sep-16  764.48  766.22  755.80  759.69  1395046\n",
       "245  14-Sep-16  759.61  767.68  759.11  762.49  1094490"
      ]
     },
     "execution_count": 99,
     "metadata": {},
     "output_type": "execute_result"
    }
   ],
   "source": [
    "print (dfg[0:5])\n",
    "dfg.sort_index(axis=0, ascending=False).head() # by index or column, try axis = 0"
   ]
  },
  {
   "cell_type": "code",
   "execution_count": 100,
   "metadata": {
    "collapsed": false
   },
   "outputs": [
    {
     "data": {
      "text/html": [
       "<div>\n",
       "<style>\n",
       "    .dataframe thead tr:only-child th {\n",
       "        text-align: right;\n",
       "    }\n",
       "\n",
       "    .dataframe thead th {\n",
       "        text-align: left;\n",
       "    }\n",
       "\n",
       "    .dataframe tbody tr th {\n",
       "        vertical-align: top;\n",
       "    }\n",
       "</style>\n",
       "<table border=\"1\" class=\"dataframe\">\n",
       "  <thead>\n",
       "    <tr style=\"text-align: right;\">\n",
       "      <th></th>\n",
       "      <th>Date</th>\n",
       "      <th>Open</th>\n",
       "      <th>High</th>\n",
       "      <th>Low</th>\n",
       "      <th>Close</th>\n",
       "      <th>Volume</th>\n",
       "    </tr>\n",
       "  </thead>\n",
       "  <tbody>\n",
       "    <tr>\n",
       "      <th>4</th>\n",
       "      <td>29-Aug-17</td>\n",
       "      <td>905.10</td>\n",
       "      <td>923.33</td>\n",
       "      <td>905.00</td>\n",
       "      <td>921.29</td>\n",
       "      <td>1185564</td>\n",
       "    </tr>\n",
       "    <tr>\n",
       "      <th>3</th>\n",
       "      <td>30-Aug-17</td>\n",
       "      <td>920.05</td>\n",
       "      <td>930.82</td>\n",
       "      <td>919.65</td>\n",
       "      <td>929.57</td>\n",
       "      <td>1301225</td>\n",
       "    </tr>\n",
       "    <tr>\n",
       "      <th>2</th>\n",
       "      <td>31-Aug-17</td>\n",
       "      <td>931.76</td>\n",
       "      <td>941.98</td>\n",
       "      <td>931.76</td>\n",
       "      <td>939.33</td>\n",
       "      <td>1582579</td>\n",
       "    </tr>\n",
       "    <tr>\n",
       "      <th>0</th>\n",
       "      <td>5-Sep-17</td>\n",
       "      <td>933.08</td>\n",
       "      <td>937.00</td>\n",
       "      <td>921.96</td>\n",
       "      <td>928.45</td>\n",
       "      <td>1348292</td>\n",
       "    </tr>\n",
       "    <tr>\n",
       "      <th>1</th>\n",
       "      <td>1-Sep-17</td>\n",
       "      <td>941.13</td>\n",
       "      <td>942.48</td>\n",
       "      <td>935.15</td>\n",
       "      <td>937.34</td>\n",
       "      <td>947374</td>\n",
       "    </tr>\n",
       "  </tbody>\n",
       "</table>\n",
       "</div>"
      ],
      "text/plain": [
       "        Date    Open    High     Low   Close   Volume\n",
       "4  29-Aug-17  905.10  923.33  905.00  921.29  1185564\n",
       "3  30-Aug-17  920.05  930.82  919.65  929.57  1301225\n",
       "2  31-Aug-17  931.76  941.98  931.76  939.33  1582579\n",
       "0   5-Sep-17  933.08  937.00  921.96  928.45  1348292\n",
       "1   1-Sep-17  941.13  942.48  935.15  937.34   947374"
      ]
     },
     "execution_count": 100,
     "metadata": {},
     "output_type": "execute_result"
    }
   ],
   "source": [
    "# sort by value\n",
    "dfg[0:5].sort_values(by='Open')"
   ]
  },
  {
   "cell_type": "code",
   "execution_count": 101,
   "metadata": {
    "collapsed": false
   },
   "outputs": [
    {
     "name": "stdout",
     "output_type": "stream",
     "text": [
      "          Open       High        Low      Close         Volume\n",
      "std  70.959824  71.263562  70.339006  71.108088  668696.394467\n",
      "                  std\n",
      "Open        70.959824\n",
      "High        71.263562\n",
      "Low         70.339006\n",
      "Close       71.108088\n",
      "Volume  668696.394467\n"
     ]
    }
   ],
   "source": [
    "# Transpose in Pandas\n",
    "print (dfg.describe()[2:3])\n",
    "print(dfg.describe()[2:3].T)\n",
    "\n",
    "# try other methods like sum, mean, etc. in the same way."
   ]
  },
  {
   "cell_type": "code",
   "execution_count": null,
   "metadata": {
    "collapsed": true
   },
   "outputs": [],
   "source": []
  },
  {
   "cell_type": "markdown",
   "metadata": {},
   "source": [
    "### Masks and Boolean Indexing"
   ]
  },
  {
   "cell_type": "code",
   "execution_count": 40,
   "metadata": {
    "collapsed": false
   },
   "outputs": [
    {
     "data": {
      "text/html": [
       "<div>\n",
       "<style>\n",
       "    .dataframe thead tr:only-child th {\n",
       "        text-align: right;\n",
       "    }\n",
       "\n",
       "    .dataframe thead th {\n",
       "        text-align: left;\n",
       "    }\n",
       "\n",
       "    .dataframe tbody tr th {\n",
       "        vertical-align: top;\n",
       "    }\n",
       "</style>\n",
       "<table border=\"1\" class=\"dataframe\">\n",
       "  <thead>\n",
       "    <tr style=\"text-align: right;\">\n",
       "      <th></th>\n",
       "      <th>Date</th>\n",
       "      <th>Open</th>\n",
       "      <th>High</th>\n",
       "      <th>Low</th>\n",
       "      <th>Close</th>\n",
       "      <th>Volume</th>\n",
       "    </tr>\n",
       "  </thead>\n",
       "  <tbody>\n",
       "    <tr>\n",
       "      <th>0</th>\n",
       "      <td>21-Jun-17</td>\n",
       "      <td>953.64</td>\n",
       "      <td>960.10</td>\n",
       "      <td>950.76</td>\n",
       "      <td>959.45</td>\n",
       "      <td>1200693</td>\n",
       "    </tr>\n",
       "    <tr>\n",
       "      <th>1</th>\n",
       "      <td>20-Jun-17</td>\n",
       "      <td>957.52</td>\n",
       "      <td>961.62</td>\n",
       "      <td>950.01</td>\n",
       "      <td>950.63</td>\n",
       "      <td>1125990</td>\n",
       "    </tr>\n",
       "    <tr>\n",
       "      <th>2</th>\n",
       "      <td>19-Jun-17</td>\n",
       "      <td>949.96</td>\n",
       "      <td>959.99</td>\n",
       "      <td>949.05</td>\n",
       "      <td>957.37</td>\n",
       "      <td>1533336</td>\n",
       "    </tr>\n",
       "    <tr>\n",
       "      <th>3</th>\n",
       "      <td>16-Jun-17</td>\n",
       "      <td>940.00</td>\n",
       "      <td>942.04</td>\n",
       "      <td>931.60</td>\n",
       "      <td>939.78</td>\n",
       "      <td>3094711</td>\n",
       "    </tr>\n",
       "    <tr>\n",
       "      <th>4</th>\n",
       "      <td>15-Jun-17</td>\n",
       "      <td>933.97</td>\n",
       "      <td>943.34</td>\n",
       "      <td>924.44</td>\n",
       "      <td>942.31</td>\n",
       "      <td>2133050</td>\n",
       "    </tr>\n",
       "    <tr>\n",
       "      <th>5</th>\n",
       "      <td>14-Jun-17</td>\n",
       "      <td>959.92</td>\n",
       "      <td>961.15</td>\n",
       "      <td>942.25</td>\n",
       "      <td>950.76</td>\n",
       "      <td>1489715</td>\n",
       "    </tr>\n",
       "    <tr>\n",
       "      <th>6</th>\n",
       "      <td>13-Jun-17</td>\n",
       "      <td>951.91</td>\n",
       "      <td>959.98</td>\n",
       "      <td>944.09</td>\n",
       "      <td>953.40</td>\n",
       "      <td>2013337</td>\n",
       "    </tr>\n",
       "    <tr>\n",
       "      <th>7</th>\n",
       "      <td>12-Jun-17</td>\n",
       "      <td>939.56</td>\n",
       "      <td>949.36</td>\n",
       "      <td>915.23</td>\n",
       "      <td>942.90</td>\n",
       "      <td>3763529</td>\n",
       "    </tr>\n",
       "    <tr>\n",
       "      <th>8</th>\n",
       "      <td>9-Jun-17</td>\n",
       "      <td>984.50</td>\n",
       "      <td>984.50</td>\n",
       "      <td>935.63</td>\n",
       "      <td>949.83</td>\n",
       "      <td>3309389</td>\n",
       "    </tr>\n",
       "    <tr>\n",
       "      <th>9</th>\n",
       "      <td>8-Jun-17</td>\n",
       "      <td>982.35</td>\n",
       "      <td>984.57</td>\n",
       "      <td>977.20</td>\n",
       "      <td>983.41</td>\n",
       "      <td>1481916</td>\n",
       "    </tr>\n",
       "  </tbody>\n",
       "</table>\n",
       "</div>"
      ],
      "text/plain": [
       "        Date    Open    High     Low   Close   Volume\n",
       "0  21-Jun-17  953.64  960.10  950.76  959.45  1200693\n",
       "1  20-Jun-17  957.52  961.62  950.01  950.63  1125990\n",
       "2  19-Jun-17  949.96  959.99  949.05  957.37  1533336\n",
       "3  16-Jun-17  940.00  942.04  931.60  939.78  3094711\n",
       "4  15-Jun-17  933.97  943.34  924.44  942.31  2133050\n",
       "5  14-Jun-17  959.92  961.15  942.25  950.76  1489715\n",
       "6  13-Jun-17  951.91  959.98  944.09  953.40  2013337\n",
       "7  12-Jun-17  939.56  949.36  915.23  942.90  3763529\n",
       "8   9-Jun-17  984.50  984.50  935.63  949.83  3309389\n",
       "9   8-Jun-17  982.35  984.57  977.20  983.41  1481916"
      ]
     },
     "execution_count": 40,
     "metadata": {},
     "output_type": "execute_result"
    }
   ],
   "source": [
    "dfg[0:10]"
   ]
  },
  {
   "cell_type": "code",
   "execution_count": 41,
   "metadata": {
    "collapsed": false
   },
   "outputs": [
    {
     "name": "stdout",
     "output_type": "stream",
     "text": [
      "0     True\n",
      "1     True\n",
      "2     True\n",
      "3    False\n",
      "4    False\n",
      "5     True\n",
      "6     True\n",
      "7    False\n",
      "8     True\n",
      "9     True\n",
      "Name: Open, dtype: bool\n"
     ]
    },
    {
     "data": {
      "text/html": [
       "<div>\n",
       "<style>\n",
       "    .dataframe thead tr:only-child th {\n",
       "        text-align: right;\n",
       "    }\n",
       "\n",
       "    .dataframe thead th {\n",
       "        text-align: left;\n",
       "    }\n",
       "\n",
       "    .dataframe tbody tr th {\n",
       "        vertical-align: top;\n",
       "    }\n",
       "</style>\n",
       "<table border=\"1\" class=\"dataframe\">\n",
       "  <thead>\n",
       "    <tr style=\"text-align: right;\">\n",
       "      <th></th>\n",
       "      <th>Date</th>\n",
       "      <th>Open</th>\n",
       "      <th>High</th>\n",
       "      <th>Low</th>\n",
       "      <th>Close</th>\n",
       "      <th>Volume</th>\n",
       "    </tr>\n",
       "  </thead>\n",
       "  <tbody>\n",
       "    <tr>\n",
       "      <th>0</th>\n",
       "      <td>21-Jun-17</td>\n",
       "      <td>953.64</td>\n",
       "      <td>960.10</td>\n",
       "      <td>950.76</td>\n",
       "      <td>959.45</td>\n",
       "      <td>1200693</td>\n",
       "    </tr>\n",
       "    <tr>\n",
       "      <th>1</th>\n",
       "      <td>20-Jun-17</td>\n",
       "      <td>957.52</td>\n",
       "      <td>961.62</td>\n",
       "      <td>950.01</td>\n",
       "      <td>950.63</td>\n",
       "      <td>1125990</td>\n",
       "    </tr>\n",
       "    <tr>\n",
       "      <th>2</th>\n",
       "      <td>19-Jun-17</td>\n",
       "      <td>949.96</td>\n",
       "      <td>959.99</td>\n",
       "      <td>949.05</td>\n",
       "      <td>957.37</td>\n",
       "      <td>1533336</td>\n",
       "    </tr>\n",
       "    <tr>\n",
       "      <th>5</th>\n",
       "      <td>14-Jun-17</td>\n",
       "      <td>959.92</td>\n",
       "      <td>961.15</td>\n",
       "      <td>942.25</td>\n",
       "      <td>950.76</td>\n",
       "      <td>1489715</td>\n",
       "    </tr>\n",
       "    <tr>\n",
       "      <th>6</th>\n",
       "      <td>13-Jun-17</td>\n",
       "      <td>951.91</td>\n",
       "      <td>959.98</td>\n",
       "      <td>944.09</td>\n",
       "      <td>953.40</td>\n",
       "      <td>2013337</td>\n",
       "    </tr>\n",
       "    <tr>\n",
       "      <th>8</th>\n",
       "      <td>9-Jun-17</td>\n",
       "      <td>984.50</td>\n",
       "      <td>984.50</td>\n",
       "      <td>935.63</td>\n",
       "      <td>949.83</td>\n",
       "      <td>3309389</td>\n",
       "    </tr>\n",
       "    <tr>\n",
       "      <th>9</th>\n",
       "      <td>8-Jun-17</td>\n",
       "      <td>982.35</td>\n",
       "      <td>984.57</td>\n",
       "      <td>977.20</td>\n",
       "      <td>983.41</td>\n",
       "      <td>1481916</td>\n",
       "    </tr>\n",
       "    <tr>\n",
       "      <th>10</th>\n",
       "      <td>7-Jun-17</td>\n",
       "      <td>979.65</td>\n",
       "      <td>984.15</td>\n",
       "      <td>975.77</td>\n",
       "      <td>981.08</td>\n",
       "      <td>1453874</td>\n",
       "    </tr>\n",
       "    <tr>\n",
       "      <th>11</th>\n",
       "      <td>6-Jun-17</td>\n",
       "      <td>983.16</td>\n",
       "      <td>988.25</td>\n",
       "      <td>975.14</td>\n",
       "      <td>976.57</td>\n",
       "      <td>1814624</td>\n",
       "    </tr>\n",
       "    <tr>\n",
       "      <th>12</th>\n",
       "      <td>5-Jun-17</td>\n",
       "      <td>976.55</td>\n",
       "      <td>986.91</td>\n",
       "      <td>975.10</td>\n",
       "      <td>983.68</td>\n",
       "      <td>1252106</td>\n",
       "    </tr>\n",
       "  </tbody>\n",
       "</table>\n",
       "</div>"
      ],
      "text/plain": [
       "         Date    Open    High     Low   Close   Volume\n",
       "0   21-Jun-17  953.64  960.10  950.76  959.45  1200693\n",
       "1   20-Jun-17  957.52  961.62  950.01  950.63  1125990\n",
       "2   19-Jun-17  949.96  959.99  949.05  957.37  1533336\n",
       "5   14-Jun-17  959.92  961.15  942.25  950.76  1489715\n",
       "6   13-Jun-17  951.91  959.98  944.09  953.40  2013337\n",
       "8    9-Jun-17  984.50  984.50  935.63  949.83  3309389\n",
       "9    8-Jun-17  982.35  984.57  977.20  983.41  1481916\n",
       "10   7-Jun-17  979.65  984.15  975.77  981.08  1453874\n",
       "11   6-Jun-17  983.16  988.25  975.14  976.57  1814624\n",
       "12   5-Jun-17  976.55  986.91  975.10  983.68  1252106"
      ]
     },
     "execution_count": 41,
     "metadata": {},
     "output_type": "execute_result"
    }
   ],
   "source": [
    "# mask 1\n",
    "mg1 = dfg['Open'][0:10]>941\n",
    "print (mg1)\n",
    "# dfg.Open[0:10]>941    # same thing\n",
    "\n",
    "dfg[dfg['Open']>941][0:10]\n",
    "# shows only rows with opening price greater than 941"
   ]
  },
  {
   "cell_type": "code",
   "execution_count": 42,
   "metadata": {
    "collapsed": false
   },
   "outputs": [
    {
     "name": "stdout",
     "output_type": "stream",
     "text": [
      "   Date   Open  High    Low  Close  Volume\n",
      "0  True   True  True   True   True    True\n",
      "1  True   True  True   True   True    True\n",
      "2  True   True  True   True   True    True\n",
      "3  True  False  True  False  False    True\n",
      "4  True  False  True  False   True    True\n",
      "5  True   True  True   True   True    True\n",
      "6  True   True  True   True   True    True\n",
      "7  True  False  True  False   True    True\n",
      "8  True   True  True  False   True    True\n",
      "9  True   True  True   True   True    True\n",
      "        Date    Open    High     Low   Close   Volume\n",
      "0  21-Jun-17  953.64  960.10  950.76  959.45  1200693\n",
      "1  20-Jun-17  957.52  961.62  950.01  950.63  1125990\n",
      "2  19-Jun-17  949.96  959.99  949.05  957.37  1533336\n",
      "3  16-Jun-17     NaN  942.04     NaN     NaN  3094711\n",
      "4  15-Jun-17     NaN  943.34     NaN  942.31  2133050\n",
      "5  14-Jun-17  959.92  961.15  942.25  950.76  1489715\n",
      "6  13-Jun-17  951.91  959.98  944.09  953.40  2013337\n",
      "7  12-Jun-17     NaN  949.36     NaN  942.90  3763529\n",
      "8   9-Jun-17  984.50  984.50     NaN  949.83  3309389\n",
      "9   8-Jun-17  982.35  984.57  977.20  983.41  1481916\n"
     ]
    }
   ],
   "source": [
    "# mask 2\n",
    "mg2 = dfg[0:10]>941\n",
    "print (mg2)\n",
    "print (dfg[dfg>941].head(10))\n",
    "# replaces every value in the entire table with NaN if the value of below 941"
   ]
  },
  {
   "cell_type": "code",
   "execution_count": 43,
   "metadata": {
    "collapsed": true
   },
   "outputs": [],
   "source": [
    "# another way to filter is with isin()\n",
    "# syntax only\n",
    "# df2[df2['E'].isin(['two','four'])]"
   ]
  },
  {
   "cell_type": "code",
   "execution_count": 44,
   "metadata": {
    "collapsed": false
   },
   "outputs": [
    {
     "data": {
      "text/html": [
       "<div>\n",
       "<style>\n",
       "    .dataframe thead tr:only-child th {\n",
       "        text-align: right;\n",
       "    }\n",
       "\n",
       "    .dataframe thead th {\n",
       "        text-align: left;\n",
       "    }\n",
       "\n",
       "    .dataframe tbody tr th {\n",
       "        vertical-align: top;\n",
       "    }\n",
       "</style>\n",
       "<table border=\"1\" class=\"dataframe\">\n",
       "  <thead>\n",
       "    <tr style=\"text-align: right;\">\n",
       "      <th></th>\n",
       "      <th>Date</th>\n",
       "      <th>Open</th>\n",
       "      <th>High</th>\n",
       "      <th>Low</th>\n",
       "      <th>Close</th>\n",
       "      <th>Volume</th>\n",
       "    </tr>\n",
       "  </thead>\n",
       "  <tbody>\n",
       "    <tr>\n",
       "      <th>0</th>\n",
       "      <td>21-Jun-17</td>\n",
       "      <td>953.64</td>\n",
       "      <td>960.10</td>\n",
       "      <td>950.76</td>\n",
       "      <td>959.45</td>\n",
       "      <td>1200693</td>\n",
       "    </tr>\n",
       "    <tr>\n",
       "      <th>1</th>\n",
       "      <td>20-Jun-17</td>\n",
       "      <td>957.52</td>\n",
       "      <td>961.62</td>\n",
       "      <td>950.01</td>\n",
       "      <td>950.63</td>\n",
       "      <td>1125990</td>\n",
       "    </tr>\n",
       "    <tr>\n",
       "      <th>2</th>\n",
       "      <td>19-Jun-17</td>\n",
       "      <td>949.96</td>\n",
       "      <td>959.99</td>\n",
       "      <td>949.05</td>\n",
       "      <td>957.37</td>\n",
       "      <td>1533336</td>\n",
       "    </tr>\n",
       "    <tr>\n",
       "      <th>3</th>\n",
       "      <td>16-Jun-17</td>\n",
       "      <td>940.00</td>\n",
       "      <td>942.04</td>\n",
       "      <td>931.60</td>\n",
       "      <td>939.78</td>\n",
       "      <td>3094711</td>\n",
       "    </tr>\n",
       "    <tr>\n",
       "      <th>4</th>\n",
       "      <td>15-Jun-17</td>\n",
       "      <td>933.97</td>\n",
       "      <td>943.34</td>\n",
       "      <td>924.44</td>\n",
       "      <td>942.31</td>\n",
       "      <td>2133050</td>\n",
       "    </tr>\n",
       "  </tbody>\n",
       "</table>\n",
       "</div>"
      ],
      "text/plain": [
       "        Date    Open    High     Low   Close   Volume\n",
       "0  21-Jun-17  953.64  960.10  950.76  959.45  1200693\n",
       "1  20-Jun-17  957.52  961.62  950.01  950.63  1125990\n",
       "2  19-Jun-17  949.96  959.99  949.05  957.37  1533336\n",
       "3  16-Jun-17  940.00  942.04  931.60  939.78  3094711\n",
       "4  15-Jun-17  933.97  943.34  924.44  942.31  2133050"
      ]
     },
     "execution_count": 44,
     "metadata": {},
     "output_type": "execute_result"
    }
   ],
   "source": [
    "# like Numpy, sometimes you need an actual copy, not a view or slice of the same data\n",
    "dfg2 = dfg.copy()\n",
    "dfg2[0:5]"
   ]
  },
  {
   "cell_type": "code",
   "execution_count": null,
   "metadata": {
    "collapsed": true
   },
   "outputs": [],
   "source": []
  },
  {
   "cell_type": "markdown",
   "metadata": {},
   "source": [
    "### Setting Values\n"
   ]
  },
  {
   "cell_type": "code",
   "execution_count": 49,
   "metadata": {
    "collapsed": false
   },
   "outputs": [
    {
     "name": "stdout",
     "output_type": "stream",
     "text": [
      "        Date    Open    High     Low   Close   Volume\n",
      "0  21-Jun-17  953.64  960.10  950.76  959.45  1200693\n",
      "1  20-Jun-17  957.52  961.62  950.01  950.63  1125990\n",
      "2  19-Jun-17  949.96  959.99  949.05  957.37  1533336\n",
      "3  16-Jun-17  940.00  942.04  931.60  939.78  3094711\n",
      "4  15-Jun-17  933.97  943.34  924.44  942.31  2133050\n",
      "5  14-Jun-17  959.92  961.15  942.25  950.76  1489715\n",
      "6  13-Jun-17  951.91  959.98  944.09  953.40  2013337\n",
      "7  12-Jun-17  939.56  949.36  915.23  942.90  3763529\n",
      "8   9-Jun-17  984.50  984.50  935.63  949.83  3309389\n",
      "9   8-Jun-17  982.35  984.57  977.20  983.41  1481916\n"
     ]
    }
   ],
   "source": [
    "# Recall\n",
    "print(dfg.head(10))"
   ]
  },
  {
   "cell_type": "code",
   "execution_count": 52,
   "metadata": {
    "collapsed": false
   },
   "outputs": [
    {
     "name": "stdout",
     "output_type": "stream",
     "text": [
      "        Date    Open    High     Low   Close    Volume\n",
      "0  21-Jun-17  953.64  960.10  950.76  959.45  1.200693\n",
      "1  20-Jun-17  957.52  961.62  950.01  950.63  1.125990\n",
      "2  19-Jun-17  949.96  959.99  949.05  957.37  1.533336\n",
      "3  16-Jun-17  940.00  942.04  931.60  939.78  3.094711\n",
      "4  15-Jun-17  933.97  943.34  924.44  942.31  2.133050\n",
      "5  14-Jun-17  959.92  961.15  942.25  950.76  1.489715\n",
      "6  13-Jun-17  951.91  959.98  944.09  953.40  2.013337\n",
      "7  12-Jun-17  939.56  949.36  915.23  942.90  3.763529\n",
      "8   9-Jun-17  984.50  984.50  935.63  949.83  3.309389\n",
      "9   8-Jun-17  982.35  984.57  977.20  983.41  1.481916\n"
     ]
    }
   ],
   "source": [
    "# All the ways to view (by location, by index, iat, etc) can also be used to set values\n",
    "dfg['Volume'] = dfg['Volume']/1000.0\n",
    "print(dfg.head(10))"
   ]
  },
  {
   "cell_type": "code",
   "execution_count": 53,
   "metadata": {
    "collapsed": false
   },
   "outputs": [
    {
     "name": "stdout",
     "output_type": "stream",
     "text": [
      "        Date    Open    High     Low   Close  Volume\n",
      "0  21-Jun-17  953.64  960.10  950.76  959.45       0\n",
      "1  20-Jun-17  957.52  961.62  950.01  950.63       0\n",
      "2  19-Jun-17  949.96  959.99  949.05  957.37       0\n",
      "3  16-Jun-17  940.00  942.04  931.60  939.78       0\n",
      "4  15-Jun-17  933.97  943.34  924.44  942.31       0\n",
      "5  14-Jun-17  959.92  961.15  942.25  950.76       0\n",
      "6  13-Jun-17  951.91  959.98  944.09  953.40       0\n",
      "7  12-Jun-17  939.56  949.36  915.23  942.90       0\n",
      "8   9-Jun-17  984.50  984.50  935.63  949.83       0\n",
      "9   8-Jun-17  982.35  984.57  977.20  983.41       0\n"
     ]
    }
   ],
   "source": [
    "dfg['Volume'] = 0\n",
    "print(dfg.head(10))"
   ]
  },
  {
   "cell_type": "code",
   "execution_count": 57,
   "metadata": {
    "collapsed": false
   },
   "outputs": [
    {
     "data": {
      "text/html": [
       "<div>\n",
       "<style>\n",
       "    .dataframe thead tr:only-child th {\n",
       "        text-align: right;\n",
       "    }\n",
       "\n",
       "    .dataframe thead th {\n",
       "        text-align: left;\n",
       "    }\n",
       "\n",
       "    .dataframe tbody tr th {\n",
       "        vertical-align: top;\n",
       "    }\n",
       "</style>\n",
       "<table border=\"1\" class=\"dataframe\">\n",
       "  <thead>\n",
       "    <tr style=\"text-align: right;\">\n",
       "      <th></th>\n",
       "      <th>Date</th>\n",
       "      <th>Open</th>\n",
       "      <th>High</th>\n",
       "      <th>Low</th>\n",
       "      <th>Close</th>\n",
       "      <th>Volume</th>\n",
       "    </tr>\n",
       "  </thead>\n",
       "  <tbody>\n",
       "    <tr>\n",
       "      <th>0</th>\n",
       "      <td>21-Jun-17</td>\n",
       "      <td>0.00</td>\n",
       "      <td>960.10</td>\n",
       "      <td>950.76</td>\n",
       "      <td>959.45</td>\n",
       "      <td>0</td>\n",
       "    </tr>\n",
       "    <tr>\n",
       "      <th>1</th>\n",
       "      <td>20-Jun-17</td>\n",
       "      <td>957.52</td>\n",
       "      <td>961.62</td>\n",
       "      <td>950.01</td>\n",
       "      <td>950.63</td>\n",
       "      <td>0</td>\n",
       "    </tr>\n",
       "    <tr>\n",
       "      <th>2</th>\n",
       "      <td>19-Jun-17</td>\n",
       "      <td>949.96</td>\n",
       "      <td>959.99</td>\n",
       "      <td>949.05</td>\n",
       "      <td>957.37</td>\n",
       "      <td>0</td>\n",
       "    </tr>\n",
       "  </tbody>\n",
       "</table>\n",
       "</div>"
      ],
      "text/plain": [
       "        Date    Open    High     Low   Close  Volume\n",
       "0  21-Jun-17    0.00  960.10  950.76  959.45       0\n",
       "1  20-Jun-17  957.52  961.62  950.01  950.63       0\n",
       "2  19-Jun-17  949.96  959.99  949.05  957.37       0"
      ]
     },
     "execution_count": 57,
     "metadata": {},
     "output_type": "execute_result"
    }
   ],
   "source": [
    "dfg.iat[0,1] = 0\n",
    "dfg.head(3)"
   ]
  },
  {
   "cell_type": "code",
   "execution_count": null,
   "metadata": {
    "collapsed": true
   },
   "outputs": [],
   "source": []
  },
  {
   "cell_type": "code",
   "execution_count": null,
   "metadata": {
    "collapsed": true
   },
   "outputs": [],
   "source": [
    "# Comments on dropping and filling NaN values\n",
    "# A view where we drop any rows with value NnN\n",
    "# dfg.dropna(how='any')  # this would be used to drop rows with Nan\n",
    "# df1.fillna(value=5)    # this would be used to fill NaN values with 5"
   ]
  },
  {
   "cell_type": "code",
   "execution_count": null,
   "metadata": {
    "collapsed": true
   },
   "outputs": [],
   "source": []
  },
  {
   "cell_type": "markdown",
   "metadata": {},
   "source": [
    "### More Statistics and Operations"
   ]
  },
  {
   "cell_type": "code",
   "execution_count": 60,
   "metadata": {
    "collapsed": false
   },
   "outputs": [
    {
     "data": {
      "text/plain": [
       "Open      807.545777\n",
       "High      816.271036\n",
       "Low       806.340159\n",
       "Close     811.818645\n",
       "Volume      0.000000\n",
       "dtype: float64"
      ]
     },
     "execution_count": 60,
     "metadata": {},
     "output_type": "execute_result"
    }
   ],
   "source": [
    "dfg.mean()   # mean by column, also try var()"
   ]
  },
  {
   "cell_type": "code",
   "execution_count": 62,
   "metadata": {
    "collapsed": false
   },
   "outputs": [
    {
     "data": {
      "text/plain": [
       "0    574.062\n",
       "1    763.956\n",
       "2    763.274\n",
       "3    750.684\n",
       "4    748.812\n",
       "dtype: float64"
      ]
     },
     "execution_count": 62,
     "metadata": {},
     "output_type": "execute_result"
    }
   ],
   "source": [
    "dfg[0:5].mean(1)\n",
    "# dfg.mean(axis = 1)"
   ]
  },
  {
   "cell_type": "code",
   "execution_count": 65,
   "metadata": {
    "collapsed": false
   },
   "outputs": [
    {
     "data": {
      "text/html": [
       "<div>\n",
       "<style>\n",
       "    .dataframe thead tr:only-child th {\n",
       "        text-align: right;\n",
       "    }\n",
       "\n",
       "    .dataframe thead th {\n",
       "        text-align: left;\n",
       "    }\n",
       "\n",
       "    .dataframe tbody tr th {\n",
       "        vertical-align: top;\n",
       "    }\n",
       "</style>\n",
       "<table border=\"1\" class=\"dataframe\">\n",
       "  <thead>\n",
       "    <tr style=\"text-align: right;\">\n",
       "      <th></th>\n",
       "      <th>Date</th>\n",
       "      <th>Open</th>\n",
       "      <th>High</th>\n",
       "      <th>Low</th>\n",
       "      <th>Close</th>\n",
       "      <th>Volume</th>\n",
       "    </tr>\n",
       "  </thead>\n",
       "  <tbody>\n",
       "    <tr>\n",
       "      <th>0</th>\n",
       "      <td>21-Jun-17</td>\n",
       "      <td>953.64</td>\n",
       "      <td>960.10</td>\n",
       "      <td>950.76</td>\n",
       "      <td>959.45</td>\n",
       "      <td>1200693</td>\n",
       "    </tr>\n",
       "    <tr>\n",
       "      <th>1</th>\n",
       "      <td>21-Jun-1720-Jun-17</td>\n",
       "      <td>1911.16</td>\n",
       "      <td>1921.72</td>\n",
       "      <td>1900.77</td>\n",
       "      <td>1910.08</td>\n",
       "      <td>2326683</td>\n",
       "    </tr>\n",
       "    <tr>\n",
       "      <th>2</th>\n",
       "      <td>21-Jun-1720-Jun-1719-Jun-17</td>\n",
       "      <td>2861.12</td>\n",
       "      <td>2881.71</td>\n",
       "      <td>2849.82</td>\n",
       "      <td>2867.45</td>\n",
       "      <td>3860019</td>\n",
       "    </tr>\n",
       "    <tr>\n",
       "      <th>3</th>\n",
       "      <td>21-Jun-1720-Jun-1719-Jun-1716-Jun-17</td>\n",
       "      <td>3801.12</td>\n",
       "      <td>3823.75</td>\n",
       "      <td>3781.42</td>\n",
       "      <td>3807.23</td>\n",
       "      <td>6954730</td>\n",
       "    </tr>\n",
       "    <tr>\n",
       "      <th>4</th>\n",
       "      <td>21-Jun-1720-Jun-1719-Jun-1716-Jun-1715-Jun-17</td>\n",
       "      <td>4735.09</td>\n",
       "      <td>4767.09</td>\n",
       "      <td>4705.86</td>\n",
       "      <td>4749.54</td>\n",
       "      <td>9087780</td>\n",
       "    </tr>\n",
       "    <tr>\n",
       "      <th>5</th>\n",
       "      <td>21-Jun-1720-Jun-1719-Jun-1716-Jun-1715-Jun-171...</td>\n",
       "      <td>5695.01</td>\n",
       "      <td>5728.24</td>\n",
       "      <td>5648.11</td>\n",
       "      <td>5700.30</td>\n",
       "      <td>10577495</td>\n",
       "    </tr>\n",
       "    <tr>\n",
       "      <th>6</th>\n",
       "      <td>21-Jun-1720-Jun-1719-Jun-1716-Jun-1715-Jun-171...</td>\n",
       "      <td>6646.92</td>\n",
       "      <td>6688.22</td>\n",
       "      <td>6592.20</td>\n",
       "      <td>6653.70</td>\n",
       "      <td>12590832</td>\n",
       "    </tr>\n",
       "    <tr>\n",
       "      <th>7</th>\n",
       "      <td>21-Jun-1720-Jun-1719-Jun-1716-Jun-1715-Jun-171...</td>\n",
       "      <td>7586.48</td>\n",
       "      <td>7637.58</td>\n",
       "      <td>7507.43</td>\n",
       "      <td>7596.60</td>\n",
       "      <td>16354361</td>\n",
       "    </tr>\n",
       "    <tr>\n",
       "      <th>8</th>\n",
       "      <td>21-Jun-1720-Jun-1719-Jun-1716-Jun-1715-Jun-171...</td>\n",
       "      <td>8570.98</td>\n",
       "      <td>8622.08</td>\n",
       "      <td>8443.06</td>\n",
       "      <td>8546.43</td>\n",
       "      <td>19663750</td>\n",
       "    </tr>\n",
       "    <tr>\n",
       "      <th>9</th>\n",
       "      <td>21-Jun-1720-Jun-1719-Jun-1716-Jun-1715-Jun-171...</td>\n",
       "      <td>9553.33</td>\n",
       "      <td>9606.65</td>\n",
       "      <td>9420.26</td>\n",
       "      <td>9529.84</td>\n",
       "      <td>21145666</td>\n",
       "    </tr>\n",
       "  </tbody>\n",
       "</table>\n",
       "</div>"
      ],
      "text/plain": [
       "                                                Date     Open     High  \\\n",
       "0                                          21-Jun-17   953.64   960.10   \n",
       "1                                 21-Jun-1720-Jun-17  1911.16  1921.72   \n",
       "2                        21-Jun-1720-Jun-1719-Jun-17  2861.12  2881.71   \n",
       "3               21-Jun-1720-Jun-1719-Jun-1716-Jun-17  3801.12  3823.75   \n",
       "4      21-Jun-1720-Jun-1719-Jun-1716-Jun-1715-Jun-17  4735.09  4767.09   \n",
       "5  21-Jun-1720-Jun-1719-Jun-1716-Jun-1715-Jun-171...  5695.01  5728.24   \n",
       "6  21-Jun-1720-Jun-1719-Jun-1716-Jun-1715-Jun-171...  6646.92  6688.22   \n",
       "7  21-Jun-1720-Jun-1719-Jun-1716-Jun-1715-Jun-171...  7586.48  7637.58   \n",
       "8  21-Jun-1720-Jun-1719-Jun-1716-Jun-1715-Jun-171...  8570.98  8622.08   \n",
       "9  21-Jun-1720-Jun-1719-Jun-1716-Jun-1715-Jun-171...  9553.33  9606.65   \n",
       "\n",
       "       Low    Close    Volume  \n",
       "0   950.76   959.45   1200693  \n",
       "1  1900.77  1910.08   2326683  \n",
       "2  2849.82  2867.45   3860019  \n",
       "3  3781.42  3807.23   6954730  \n",
       "4  4705.86  4749.54   9087780  \n",
       "5  5648.11  5700.30  10577495  \n",
       "6  6592.20  6653.70  12590832  \n",
       "7  7507.43  7596.60  16354361  \n",
       "8  8443.06  8546.43  19663750  \n",
       "9  9420.26  9529.84  21145666  "
      ]
     },
     "execution_count": 65,
     "metadata": {},
     "output_type": "execute_result"
    }
   ],
   "source": [
    "# Use the apply method to perform calculations on every element\n",
    "dfg2[0:10].apply(np.cumsum)"
   ]
  },
  {
   "cell_type": "code",
   "execution_count": 104,
   "metadata": {
    "collapsed": true
   },
   "outputs": [],
   "source": [
    "# Reload\n",
    "dfg = pd.read_csv('https://www.google.com/finance/historical?output=csv&q=goog')\n",
    "dfa = pd.read_csv('https://www.google.com/finance/historical?output=csv&q=aapl')\n",
    "dfm = pd.read_csv('https://www.google.com/finance/historical?output=csv&q=msft')\n",
    "#dfd = pd.read_csv('https://www.google.com/finance/historical?output=csv&q=dis')\n",
    "dfn = pd.read_csv('https://www.google.com/finance/historical?output=csv&q=nke')\n",
    "dfb = pd.read_csv('https://www.google.com/finance/historical?output=csv&q=ba')"
   ]
  },
  {
   "cell_type": "code",
   "execution_count": 105,
   "metadata": {
    "collapsed": false
   },
   "outputs": [
    {
     "name": "stdout",
     "output_type": "stream",
     "text": [
      "        Date    Open    High     Low   Close   Volume\n",
      "0   5-Sep-17  240.30  240.36  236.23  237.00  3869251\n",
      "1   1-Sep-17  239.66  242.53  239.17  240.33  3271270\n",
      "2  31-Aug-17  241.00  241.10  238.41  239.66  3075798\n",
      "3  30-Aug-17  240.99  241.44  239.00  240.46  2801097\n",
      "4  29-Aug-17  237.21  241.17  236.08  240.49  3535465\n"
     ]
    }
   ],
   "source": [
    "print (dfb.head())"
   ]
  },
  {
   "cell_type": "code",
   "execution_count": 106,
   "metadata": {
    "collapsed": false
   },
   "outputs": [
    {
     "name": "stdout",
     "output_type": "stream",
     "text": [
      "        Date    Open    High     Low      BA   Volume\n",
      "0   5-Sep-17  240.30  240.36  236.23  237.00  3869251\n",
      "1   1-Sep-17  239.66  242.53  239.17  240.33  3271270\n",
      "2  31-Aug-17  241.00  241.10  238.41  239.66  3075798\n",
      "3  30-Aug-17  240.99  241.44  239.00  240.46  2801097\n",
      "4  29-Aug-17  237.21  241.17  236.08  240.49  3535465\n"
     ]
    }
   ],
   "source": [
    "# Rename columns\n",
    "dfg = dfg.rename(columns = {'Close':'GOOG'})\n",
    "#print (dfg.head())\n",
    "\n",
    "dfa = dfa.rename(columns = {'Close':'AAPL'})\n",
    "#print (dfa.head())\n",
    "\n",
    "dfm = dfm.rename(columns = {'Close':'MSFT'})\n",
    "#print (dfm.head())\n",
    "\n",
    "#dfd = dfd.rename(columns = {'Close':'DIS'})\n",
    "#print (dfd.head())\n",
    "\n",
    "dfn = dfn.rename(columns = {'Close':'NKE'})\n",
    "#print (dfn.head())\n",
    "\n",
    "dfb = dfb.rename(columns = {'Close':'BA'})\n",
    "print (dfb.head())\n"
   ]
  },
  {
   "cell_type": "code",
   "execution_count": 107,
   "metadata": {
    "collapsed": false
   },
   "outputs": [
    {
     "name": "stdout",
     "output_type": "stream",
     "text": [
      "        Date    GOOG    AAPL   MSFT    NKE      BA\n",
      "0   5-Sep-17  928.45  162.08  73.61  53.01  237.00\n",
      "1   1-Sep-17  937.34  164.05  73.94  53.36  240.33\n",
      "2  31-Aug-17  939.33  164.00  74.77  52.81  239.66\n",
      "3  30-Aug-17  929.57  163.35  74.01  52.56  240.46\n",
      "4  29-Aug-17  921.29  162.91  73.05  52.73  240.49\n",
      "5  28-Aug-17  913.81  161.47  72.83  53.73  237.18\n",
      "6  25-Aug-17  915.89  159.86  72.82  53.90  235.89\n",
      "7  24-Aug-17  921.28  159.27  72.69  53.84  238.74\n",
      "8  23-Aug-17  927.00  159.98  72.72  53.61  238.09\n",
      "9  22-Aug-17  924.69  159.78  73.16  54.13  239.75\n"
     ]
    }
   ],
   "source": [
    "# Lets merge some tables\n",
    "df = dfg[['Date','GOOG']].merge(dfa[['Date','AAPL']])\n",
    "df = df.merge(dfm[['Date','MSFT']])\n",
    "#df = df.merge(dfd[['Date','DIS']])\n",
    "df = df.merge(dfn[['Date','NKE']])\n",
    "df = df.merge(dfb[['Date','BA']])\n",
    "print (df[0:10])\n",
    "\n"
   ]
  },
  {
   "cell_type": "code",
   "execution_count": 110,
   "metadata": {
    "collapsed": false
   },
   "outputs": [
    {
     "name": "stdout",
     "output_type": "stream",
     "text": [
      "          GOOG      AAPL      MSFT       NKE        BA\n",
      "GOOG  1.000000  0.898836  0.925628  0.416602  0.820643\n",
      "AAPL  0.898836  1.000000  0.923779  0.556489  0.893996\n",
      "MSFT  0.925628  0.923779  1.000000  0.491339  0.946342\n",
      "NKE   0.416602  0.556489  0.491339  1.000000  0.570211\n",
      "BA    0.820643  0.893996  0.946342  0.570211  1.000000\n",
      "\n",
      "          GOOG      AAPL      MSFT       NKE        BA\n",
      "GOOG  1.000000  0.898836  0.925628  0.416602  0.820643\n",
      "MSFT  0.925628  0.923779  1.000000  0.491339  0.946342\n",
      "AAPL  0.898836  1.000000  0.923779  0.556489  0.893996\n",
      "BA    0.820643  0.893996  0.946342  0.570211  1.000000\n",
      "NKE   0.416602  0.556489  0.491339  1.000000  0.570211\n"
     ]
    },
    {
     "data": {
      "text/html": [
       "<div>\n",
       "<style>\n",
       "    .dataframe thead tr:only-child th {\n",
       "        text-align: right;\n",
       "    }\n",
       "\n",
       "    .dataframe thead th {\n",
       "        text-align: left;\n",
       "    }\n",
       "\n",
       "    .dataframe tbody tr th {\n",
       "        vertical-align: top;\n",
       "    }\n",
       "</style>\n",
       "<table border=\"1\" class=\"dataframe\">\n",
       "  <thead>\n",
       "    <tr style=\"text-align: right;\">\n",
       "      <th></th>\n",
       "      <th>GOOG</th>\n",
       "      <th>AAPL</th>\n",
       "      <th>MSFT</th>\n",
       "      <th>NKE</th>\n",
       "      <th>BA</th>\n",
       "    </tr>\n",
       "  </thead>\n",
       "  <tbody>\n",
       "    <tr>\n",
       "      <th>GOOG</th>\n",
       "      <td>1.000000</td>\n",
       "      <td>0.756714</td>\n",
       "      <td>0.915886</td>\n",
       "      <td>-0.322761</td>\n",
       "      <td>0.679831</td>\n",
       "    </tr>\n",
       "    <tr>\n",
       "      <th>AAPL</th>\n",
       "      <td>0.756714</td>\n",
       "      <td>1.000000</td>\n",
       "      <td>0.625128</td>\n",
       "      <td>-0.410547</td>\n",
       "      <td>0.209578</td>\n",
       "    </tr>\n",
       "    <tr>\n",
       "      <th>MSFT</th>\n",
       "      <td>0.915886</td>\n",
       "      <td>0.625128</td>\n",
       "      <td>1.000000</td>\n",
       "      <td>-0.061586</td>\n",
       "      <td>0.822941</td>\n",
       "    </tr>\n",
       "    <tr>\n",
       "      <th>NKE</th>\n",
       "      <td>-0.322761</td>\n",
       "      <td>-0.410547</td>\n",
       "      <td>-0.061586</td>\n",
       "      <td>1.000000</td>\n",
       "      <td>0.268532</td>\n",
       "    </tr>\n",
       "    <tr>\n",
       "      <th>BA</th>\n",
       "      <td>0.679831</td>\n",
       "      <td>0.209578</td>\n",
       "      <td>0.822941</td>\n",
       "      <td>0.268532</td>\n",
       "      <td>1.000000</td>\n",
       "    </tr>\n",
       "  </tbody>\n",
       "</table>\n",
       "</div>"
      ],
      "text/plain": [
       "          GOOG      AAPL      MSFT       NKE        BA\n",
       "GOOG  1.000000  0.756714  0.915886 -0.322761  0.679831\n",
       "AAPL  0.756714  1.000000  0.625128 -0.410547  0.209578\n",
       "MSFT  0.915886  0.625128  1.000000 -0.061586  0.822941\n",
       "NKE  -0.322761 -0.410547 -0.061586  1.000000  0.268532\n",
       "BA    0.679831  0.209578  0.822941  0.268532  1.000000"
      ]
     },
     "execution_count": 110,
     "metadata": {},
     "output_type": "execute_result"
    }
   ],
   "source": [
    "# show a correlation matrix (pearson)\n",
    "crl = df.corr()\n",
    "print (crl)\n",
    "print()\n",
    "print (crl.sort_values(by='GOOG',ascending=False))\n",
    "\n",
    "df[30:120].corr()\n"
   ]
  },
  {
   "cell_type": "markdown",
   "metadata": {},
   "source": [
    "## Homework Section"
   ]
  },
  {
   "cell_type": "code",
   "execution_count": 187,
   "metadata": {
    "collapsed": true
   },
   "outputs": [],
   "source": [
    "import pandas as pd\n",
    "import numpy as np\n",
    "import matplotlib.pyplot as plt"
   ]
  },
  {
   "cell_type": "markdown",
   "metadata": {},
   "source": [
    "#### 1) Read in a CSV file called 'data3.csv' into a dataframe called df.\n",
    "#### 2) Display the first few lines"
   ]
  },
  {
   "cell_type": "code",
   "execution_count": null,
   "metadata": {
    "collapsed": true
   },
   "outputs": [],
   "source": [
    "\n"
   ]
  },
  {
   "cell_type": "markdown",
   "metadata": {},
   "source": [
    "#### 3)  If you inspect the whole file in an editor, you will see that the bottom 8 lines in the frame need to be dropped.  Remove those 8 lines from df.  You can also use df.tail() to see the last lines."
   ]
  },
  {
   "cell_type": "code",
   "execution_count": null,
   "metadata": {
    "collapsed": true
   },
   "outputs": [],
   "source": []
  },
  {
   "cell_type": "markdown",
   "metadata": {},
   "source": [
    "#### 4) Drop columns: drop the columns Area Id, Variable Id, Symbol, and Md.  Hint Google 'delete a column in pandas \n"
   ]
  },
  {
   "cell_type": "code",
   "execution_count": null,
   "metadata": {
    "collapsed": true
   },
   "outputs": [],
   "source": []
  },
  {
   "cell_type": "markdown",
   "metadata": {},
   "source": [
    "#### 5) # Convert the year column to pandas datetime?\n",
    "\n",
    "Convert the 'Year' column string values to pandas datetime objects, where only the year is specified. To do this, simply run the code below (please review it carefully and make sure you understand what happens):\n",
    "\n",
    "df['Year'] = pd.to_datetime(pd.Series(df['Year']).astype(int),format='%Y').dt.year\n",
    "Run df.tail() to see if you get what you expect"
   ]
  },
  {
   "cell_type": "code",
   "execution_count": null,
   "metadata": {
    "collapsed": true
   },
   "outputs": [],
   "source": []
  },
  {
   "cell_type": "markdown",
   "metadata": {},
   "source": [
    "#### 6) Print rows where Area is Iceland"
   ]
  },
  {
   "cell_type": "code",
   "execution_count": null,
   "metadata": {
    "collapsed": true
   },
   "outputs": [],
   "source": []
  },
  {
   "cell_type": "markdown",
   "metadata": {},
   "source": [
    "#### 7) Print the years when the National Rainfall Index (NRI) was greater than 950 or less than 900 in Iceland, by using this code.  Put it ina dataframe called df_temp so you don't change the original 'df'"
   ]
  },
  {
   "cell_type": "code",
   "execution_count": null,
   "metadata": {
    "collapsed": true
   },
   "outputs": [],
   "source": []
  },
  {
   "cell_type": "markdown",
   "metadata": {},
   "source": [
    "#### 8) Get al the rows of the original df area is United States of America \n",
    "\n",
    "a) put the USA into a df_usa data frame\n",
    "\n",
    "b) Add the columns to ['GDP','NRI','PD','Area','Population']\n",
    "\n",
    "c) delending on the 'Variable Name' put the value into respective column 'GDP','NRI','PD','Area', or 'Population'\n",
    "\n",
    "Look into this syntax in case its helpful:\n",
    "df['color'] = np.where(df['Set']=='Z', 'green', 'red')\n",
    "\n",
    "d) Find the maximum value and minimum value of the 'NRI' column in the US (using pandas methods). What years do the min and max values occur?"
   ]
  },
  {
   "cell_type": "code",
   "execution_count": null,
   "metadata": {
    "collapsed": true
   },
   "outputs": [],
   "source": []
  },
  {
   "cell_type": "code",
   "execution_count": null,
   "metadata": {
    "collapsed": true
   },
   "outputs": [],
   "source": []
  },
  {
   "cell_type": "code",
   "execution_count": null,
   "metadata": {
    "collapsed": true
   },
   "outputs": [],
   "source": []
  },
  {
   "cell_type": "markdown",
   "metadata": {},
   "source": [
    "#### 9) Show general statistics for columns 'GDP','NRI','PD', and 'Population'"
   ]
  },
  {
   "cell_type": "code",
   "execution_count": null,
   "metadata": {
    "collapsed": true
   },
   "outputs": [],
   "source": []
  },
  {
   "cell_type": "markdown",
   "metadata": {
    "collapsed": true
   },
   "source": [
    "#### 10 a) Show a 3 x 3 correlation matrix for Nike, Apple, and Disney stock prices over the past year"
   ]
  },
  {
   "cell_type": "code",
   "execution_count": null,
   "metadata": {
    "collapsed": true
   },
   "outputs": [],
   "source": []
  },
  {
   "cell_type": "markdown",
   "metadata": {
    "collapsed": true
   },
   "source": [
    "#### 10b) Show the same correlation matrix but over different time periods, \n",
    "\n",
    "i) the last 20 days\n",
    "ii) the last 80 days"
   ]
  },
  {
   "cell_type": "code",
   "execution_count": null,
   "metadata": {
    "collapsed": true
   },
   "outputs": [],
   "source": []
  },
  {
   "cell_type": "markdown",
   "metadata": {},
   "source": [
    "#### 11) Change the code so that it accepts a list of any stock symbols, ie ['NKE', 'APPL', 'DIS', ... ] and creates a correlation matrix for the time period of the past 100 days\n"
   ]
  },
  {
   "cell_type": "code",
   "execution_count": null,
   "metadata": {
    "collapsed": true
   },
   "outputs": [],
   "source": []
  }
 ],
 "metadata": {
  "anaconda-cloud": {},
  "kernelspec": {
   "display_name": "Python 3",
   "language": "python",
   "name": "python3"
  },
  "language_info": {
   "codemirror_mode": {
    "name": "ipython",
    "version": 3
   },
   "file_extension": ".py",
   "mimetype": "text/x-python",
   "name": "python",
   "nbconvert_exporter": "python",
   "pygments_lexer": "ipython3",
   "version": "3.6.0"
  }
 },
 "nbformat": 4,
 "nbformat_minor": 1
}
