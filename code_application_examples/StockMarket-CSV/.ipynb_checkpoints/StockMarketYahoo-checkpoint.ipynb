{
 "cells": [
  {
   "cell_type": "markdown",
   "metadata": {},
   "source": [
    "![data-x](http://oi64.tinypic.com/o858n4.jpg)\n",
    "\n",
    "---\n",
    "# Downloading Stockmarket Data\n",
    "\n",
    "**Author list:** Ikhlaq Sidhu\n",
    "\n",
    "**References / Sources:** \n",
    "\n",
    "\n",
    "**License Agreement:** Feel free to do whatever you want with this code\n",
    "\n",
    "___"
   ]
  },
  {
   "cell_type": "markdown",
   "metadata": {},
   "source": [
    "## Finance example\n",
    "\n",
    "### Now, lets get some data from Yahoo finance.  One format to get a CSV file is like this:\n",
    "\n",
    "http://chart.finance.yahoo.com/table.csv?s=YHOO&a=8&b=21&c=2015&d=8&e=21&f=2016&g=d&ignore=.csv\n",
    "\n",
    "Notes:\n",
    "s = stock symbol\n",
    "a= from month\n",
    "b = from date\n",
    "c = from year\n",
    "d = to month\n",
    "e = to date\n",
    "f = to year\n"
   ]
  },
  {
   "cell_type": "code",
   "execution_count": 2,
   "metadata": {
    "collapsed": true
   },
   "outputs": [],
   "source": [
    "# Lets download Yahoo historic stock prices, one year back from 8/21/2016"
   ]
  },
  {
   "cell_type": "code",
   "execution_count": 12,
   "metadata": {
    "collapsed": false
   },
   "outputs": [],
   "source": [
    "df0_yhoo = pd.read_csv('http://chart.finance.yahoo.com/table.csv?s=YHOO&a=8&b=21&c=2015&d=8&e=21&f=2016&g=d&ignore=.csv')"
   ]
  },
  {
   "cell_type": "code",
   "execution_count": 1,
   "metadata": {
    "collapsed": false
   },
   "outputs": [
    {
     "ename": "NameError",
     "evalue": "name 'df0_yhoo' is not defined",
     "output_type": "error",
     "traceback": [
      "\u001b[0;31m---------------------------------------------------------------------------\u001b[0m",
      "\u001b[0;31mNameError\u001b[0m                                 Traceback (most recent call last)",
      "\u001b[0;32m<ipython-input-1-6b34cc0a6390>\u001b[0m in \u001b[0;36m<module>\u001b[0;34m()\u001b[0m\n\u001b[1;32m      1\u001b[0m \u001b[0;31m# print df0_yhoo.head(10)\u001b[0m\u001b[0;34m\u001b[0m\u001b[0;34m\u001b[0m\u001b[0m\n\u001b[0;32m----> 2\u001b[0;31m \u001b[0;32mprint\u001b[0m \u001b[0mdf0_yhoo\u001b[0m\u001b[0;34m[\u001b[0m\u001b[0;36m0\u001b[0m\u001b[0;34m:\u001b[0m\u001b[0;36m6\u001b[0m\u001b[0;34m]\u001b[0m\u001b[0;34m\u001b[0m\u001b[0m\n\u001b[0m",
      "\u001b[0;31mNameError\u001b[0m: name 'df0_yhoo' is not defined"
     ]
    }
   ],
   "source": [
    "# print df0_yhoo.head(10)\n",
    "print df0_yhoo[0:6]"
   ]
  },
  {
   "cell_type": "code",
   "execution_count": 14,
   "metadata": {
    "collapsed": true
   },
   "outputs": [],
   "source": [
    "# We can do the same for Google, Apple, and Facebook\n",
    "df0_goog = pd.read_csv('http://chart.finance.yahoo.com/table.csv?s=GOOG&a=8&b=21&c=2015&d=8&e=21&f=2016&g=d&ignore=.csv')\n",
    "df0_aapl = pd.read_csv('http://chart.finance.yahoo.com/table.csv?s=AAPL&a=8&b=21&c=2015&d=8&e=21&f=2016&g=d&ignore=.csv')\n",
    "df0_fb = pd.read_csv('http://chart.finance.yahoo.com/table.csv?s=FB&a=8&b=21&c=2015&d=8&e=21&f=2016&g=d&ignore=.csv')"
   ]
  },
  {
   "cell_type": "code",
   "execution_count": 18,
   "metadata": {
    "collapsed": false
   },
   "outputs": [
    {
     "data": {
      "text/plain": [
       "array([['2016-09-21', 113.550003],\n",
       "       ['2016-09-20', 113.57],\n",
       "       ['2016-09-19', 113.58000200000001],\n",
       "       ['2016-09-16', 114.91999799999999],\n",
       "       ['2016-09-15', 115.57],\n",
       "       ['2016-09-14', 111.769997],\n",
       "       ['2016-09-13', 107.949997],\n",
       "       ['2016-09-12', 105.440002],\n",
       "       ['2016-09-09', 103.129997],\n",
       "       ['2016-09-08', 105.519997]], dtype=object)"
      ]
     },
     "execution_count": 18,
     "metadata": {},
     "output_type": "execute_result"
    }
   ],
   "source": [
    "# But what if we want to use it the data as a Numpy Array?\n",
    "# We can do that with this pandas method: df.as.martix()\n",
    "# this will be an n x 2 matrix (axis 0 is long, axis 1 = 2)\n",
    "# and then slice to show only 10 rows\n",
    "\n",
    "df0_aapl[['Date','Close']].as_matrix()[0:10]"
   ]
  },
  {
   "cell_type": "code",
   "execution_count": 19,
   "metadata": {
    "collapsed": false
   },
   "outputs": [
    {
     "data": {
      "text/plain": [
       "array([ 113.550003,  113.57    ,  113.580002,  114.919998,  115.57    ,\n",
       "        111.769997,  107.949997,  105.440002,  103.129997,  105.519997])"
      ]
     },
     "execution_count": 19,
     "metadata": {},
     "output_type": "execute_result"
    }
   ],
   "source": [
    "# And what is we only want to have a single column as a vector, a nump array with dimension 1 x n\n",
    "df0_aapl['Close'][0:10].as_matrix()"
   ]
  },
  {
   "cell_type": "code",
   "execution_count": 20,
   "metadata": {
    "collapsed": false
   },
   "outputs": [],
   "source": [
    "# Lets get the all the last closing prices of each of the stocks into NumPy arrays:\n",
    "\n",
    "a = df0_aapl['Close'].as_matrix()\n",
    "g = df0_goog['Close'].as_matrix()\n",
    "f = df0_fb['Close'].as_matrix()\n",
    "\n",
    "# Lets get the last 20 closing prices of each of the stocks into NumPy arrays:\n",
    "a20 = df0_aapl['Close'][0:20].as_matrix()\n",
    "g20 = df0_goog['Close'][0:20].as_matrix()\n",
    "f20 = df0_fb['Close'][0:20].as_matrix()\n"
   ]
  },
  {
   "cell_type": "code",
   "execution_count": 21,
   "metadata": {
    "collapsed": false
   },
   "outputs": [
    {
     "name": "stdout",
     "output_type": "stream",
     "text": [
      "[ 113.550003  113.57      113.580002  114.919998  115.57      111.769997\n",
      "  107.949997  105.440002  103.129997  105.519997  108.360001  107.699997\n",
      "  107.730003  106.730003  106.099998  106.        106.82      106.940002\n",
      "  107.57      108.029999] [ 776.219971  771.409973  765.700012  768.880005  771.76001   762.48999\n",
      "  759.690002  769.02002   759.659973  775.320007  780.349976  780.080017\n",
      "  771.460022  768.780029  767.049988  769.090027  772.150024  769.539978\n",
      "  769.409973  769.640015] [ 129.940002  128.639999  128.649994  129.070007  128.350006  127.769997\n",
      "  127.209999  128.690002  127.099998  130.270004  131.050003  129.729996\n",
      "  126.510002  126.169998  126.120003  125.839996  126.540001  124.959999\n",
      "  123.889999  123.480003]\n"
     ]
    }
   ],
   "source": [
    "print a20, g20, f20"
   ]
  }
 ],
 "metadata": {
  "anaconda-cloud": {},
  "kernelspec": {
   "display_name": "Python [Root]",
   "language": "python",
   "name": "Python [Root]"
  },
  "language_info": {
   "codemirror_mode": {
    "name": "ipython",
    "version": 2
   },
   "file_extension": ".py",
   "mimetype": "text/x-python",
   "name": "python",
   "nbconvert_exporter": "python",
   "pygments_lexer": "ipython2",
   "version": "2.7.12"
  }
 },
 "nbformat": 4,
 "nbformat_minor": 0
}
