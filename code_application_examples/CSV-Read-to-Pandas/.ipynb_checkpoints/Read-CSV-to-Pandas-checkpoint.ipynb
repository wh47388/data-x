{
 "cells": [
  {
   "cell_type": "code",
   "execution_count": null,
   "metadata": {
    "collapsed": true
   },
   "outputs": [],
   "source": []
  },
  {
   "cell_type": "markdown",
   "metadata": {},
   "source": [
    "![data-x](http://oi64.tinypic.com/o858n4.jpg)\n",
    "\n",
    "---\n",
    "# Read CSV File and Put in Pandas Data Frame\n",
    "\n",
    "**Author list:** Ikhlaq Sidhu\n",
    "\n",
    "**References / Sources:** \n",
    "\n",
    "\n",
    "**License Agreement:** Feel free to do whatever you want with this code\n",
    "\n",
    "___"
   ]
  },
  {
   "cell_type": "code",
   "execution_count": 1,
   "metadata": {
    "collapsed": false
   },
   "outputs": [
    {
     "name": "stdout",
     "output_type": "stream",
     "text": [
      "         Date     SPY     DIA    QQQ\n",
      "0      1/2/04   90.07   80.93  33.57\n",
      "1      1/5/04   91.01   81.18  34.83\n",
      "2     1/12/04   92.50   82.35  35.61\n",
      "3     1/20/04   92.66   82.14  35.09\n",
      "4     1/26/04   91.89   81.54  34.23\n",
      "5      2/2/04   92.67   82.26  34.28\n",
      "6      2/9/04   93.23   82.80  34.11\n",
      "7     2/17/04   93.02   82.79  34.03\n",
      "8     2/23/04   93.14   82.51  33.76\n",
      "9      3/1/04   94.24   82.61  33.82\n",
      "10     3/8/04   91.16   79.74  32.79\n",
      "11    3/15/04   90.24   79.39  32.08\n",
      "12    3/22/04   90.22   79.59  32.52\n",
      "13    3/29/04   93.15   81.74  34.25\n",
      "14     4/5/04   92.93   81.53  34.11\n",
      "15    4/12/04   92.50   81.56  33.32\n",
      "16    4/19/04   92.93   81.76  34.35\n",
      "17    4/26/04   90.16   79.76  32.10\n",
      "18     5/3/04   89.35   78.82  32.29\n",
      "19    5/10/04   89.42   78.28  32.08\n",
      "20    5/17/04   89.23   78.00  32.33\n",
      "21    5/24/04   91.71   79.86  33.75\n",
      "22     6/1/04   91.81   80.24  33.41\n",
      "23     6/7/04   92.92   81.48  34.01\n",
      "24    6/14/04   92.67   81.53  33.64\n",
      "25    6/21/04   92.84   81.40  34.47\n",
      "26    6/28/04   92.06   80.60  33.99\n",
      "27     7/6/04   91.12   80.08  33.01\n",
      "28    7/12/04   90.29   79.63  32.01\n",
      "29    7/19/04   88.86   78.15  31.59\n",
      "..        ...     ...     ...    ...\n",
      "493   6/10/13  159.19  147.11  70.96\n",
      "494   6/17/13  156.00  144.55  69.36\n",
      "495   6/24/13  157.33  145.35  70.19\n",
      "496    7/1/13  159.88  147.77  71.48\n",
      "497    7/8/13  164.28  150.85  74.16\n",
      "498   7/15/13  165.91  151.98  73.46\n",
      "499   7/22/13  165.85  152.02  74.23\n",
      "500   7/29/13  167.66  153.04  75.80\n",
      "501    8/5/13  166.05  150.99  75.33\n",
      "502   8/12/13  162.63  147.83  74.34\n",
      "503   8/19/13  163.41  147.17  75.51\n",
      "504   8/26/13  160.50  145.23  74.33\n",
      "505    9/3/13  162.84  146.44  75.76\n",
      "506    9/9/13  166.07  150.96  76.88\n",
      "507   9/16/13  168.25  151.86  78.03\n",
      "508   9/23/13  166.46  149.80  78.10\n",
      "509   9/30/13  166.44  148.05  78.43\n",
      "510   10/7/13  167.79  149.76  78.26\n",
      "511  10/14/13  171.86  151.33  81.15\n",
      "512  10/21/13  173.40  153.16  81.89\n",
      "513  10/28/13  173.66  153.56  81.80\n",
      "514   11/4/13  174.72  155.17  81.53\n",
      "515  11/11/13  177.44  157.25  82.94\n",
      "516  11/18/13  178.19  158.33  82.96\n",
      "517  11/25/13  178.38  158.65  84.68\n",
      "518   12/2/13  178.32  158.09  84.95\n",
      "519   12/9/13  175.53  155.62  83.81\n",
      "520  12/16/13  179.90  160.31  85.72\n",
      "521  12/23/13  182.17  162.75  86.73\n",
      "522  12/30/13  183.00  163.74  87.16\n",
      "\n",
      "[523 rows x 4 columns]\n"
     ]
    }
   ],
   "source": [
    "# -*- coding: utf-8 -*-\n",
    "\"\"\"\n",
    "Created on Wed Oct 14 03:32:39 2015\n",
    "\n",
    "@author: ikhlaqsidhu\n",
    "\"\"\"\n",
    "\n",
    "# General syntax to import specific functions in a library: \n",
    "##from (library) import (specific library function)\n",
    "from pandas import DataFrame, read_csv\n",
    "\n",
    "# General syntax to import a library but no functions: \n",
    "##import (library) as (give the library a nickname/alias)\n",
    "import matplotlib.pyplot as plt\n",
    "import pandas as pd #this is how I usually import pandas\n",
    "import sys #only needed to determine Python version number\n",
    "\n",
    "\n",
    "# from StringIO import StringIO\n",
    "# import pandas\n",
    "\n",
    "df0 = pd.read_csv('d3.txt')\n",
    "\n",
    "print df0"
   ]
  },
  {
   "cell_type": "code",
   "execution_count": null,
   "metadata": {
    "collapsed": true
   },
   "outputs": [],
   "source": []
  }
 ],
 "metadata": {
  "anaconda-cloud": {},
  "kernelspec": {
   "display_name": "Python [Root]",
   "language": "python",
   "name": "Python [Root]"
  },
  "language_info": {
   "codemirror_mode": {
    "name": "ipython",
    "version": 2
   },
   "file_extension": ".py",
   "mimetype": "text/x-python",
   "name": "python",
   "nbconvert_exporter": "python",
   "pygments_lexer": "ipython2",
   "version": "2.7.12"
  }
 },
 "nbformat": 4,
 "nbformat_minor": 0
}
