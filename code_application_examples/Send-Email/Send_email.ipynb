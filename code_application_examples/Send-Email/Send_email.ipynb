{
 "cells": [
  {
   "cell_type": "markdown",
   "metadata": {},
   "source": [
    "![data-x](http://oi64.tinypic.com/o858n4.jpg)\n",
    "\n",
    "---\n",
    "# Data-X Send Email Template\n",
    "\n",
    "**Author:** \n",
    "\n",
    "** Course Instructor: Ikhlaq Sidhu **\n",
    "\n",
    "**References / Sources:** \n",
    "** https://www.tutorialspoint.com/python/python_sending_email.htm **\n",
    "\n",
    "**License Agreement:** Feel free to do whatever you want with this code\n",
    "\n",
    "___"
   ]
  },
  {
   "cell_type": "markdown",
   "metadata": {},
   "source": [
    "### Sample\n",
    "Python code sample"
   ]
  },
  {
   "cell_type": "code",
   "execution_count": null,
   "metadata": {
    "collapsed": false
   },
   "outputs": [],
   "source": [
    "# import smtplib\n",
    "# smtpObj = smtplib.SMTP( [host [, port [, local_hostname]]] )\n",
    "\n",
    "\n",
    "# Here is the detail of the parameters:\n",
    "\n",
    "# host: This is the host running your SMTP server. \n",
    "# You can specifiy IP address of the host or a domain name like tutorialspoint.com. \n",
    "# This is optional argument.\n",
    "\n",
    "# port: If you are providing host argument, then you need to specify a port, \n",
    "# where SMTP server is listening. Usually this port would be 25.\n",
    "\n",
    "# local_hostname: If your SMTP server is running on your local machine, \n",
    "#then you can specify just localhost as of this option.\n",
    "\n",
    "# An SMTP object has an instance method called sendmail, \n",
    "# which is typically used to do the work of mailing a message. It takes three parameters −\n",
    "\n",
    "# The sender - A string with the address of the sender.\n",
    "# The receivers - A list of strings, one for each recipient.\n",
    "# The message - A message as a string formatted as specified in the various RFCs.\n",
    "\n"
   ]
  },
  {
   "cell_type": "code",
   "execution_count": null,
   "metadata": {
    "collapsed": false
   },
   "outputs": [],
   "source": [
    "#!/usr/bin/python\n",
    "\n",
    "import smtplib\n",
    "\n",
    "sender = 'from@fromdomain.com'\n",
    "receivers = ['to@todomain.com']\n",
    "\n",
    "message = \"\"\"From: From Person <from@fromdomain.com>\n",
    "To: To Person <to@todomain.com>\n",
    "Subject: SMTP e-mail test\n",
    "\n",
    "This is a test e-mail message.\n",
    "\"\"\"\n",
    "\n",
    "try:\n",
    "   smtpObj = smtplib.SMTP('localhost')\n",
    "   smtpObj.sendmail(sender, receivers, message)         \n",
    "   print \"Successfully sent email\"\n",
    "except SMTPException:\n",
    "   print \"Error: unable to send email\""
   ]
  }
 ],
 "metadata": {
  "anaconda-cloud": {},
  "kernelspec": {
   "display_name": "Python [Root]",
   "language": "python",
   "name": "Python [Root]"
  },
  "language_info": {
   "codemirror_mode": {
    "name": "ipython",
    "version": 2
   },
   "file_extension": ".py",
   "mimetype": "text/x-python",
   "name": "python",
   "nbconvert_exporter": "python",
   "pygments_lexer": "ipython2",
   "version": "2.7.12"
  }
 },
 "nbformat": 4,
 "nbformat_minor": 0
}
