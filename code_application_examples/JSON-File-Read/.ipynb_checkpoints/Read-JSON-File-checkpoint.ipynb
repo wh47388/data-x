{
 "cells": [
  {
   "cell_type": "code",
   "execution_count": null,
   "metadata": {
    "collapsed": true
   },
   "outputs": [],
   "source": []
  },
  {
   "cell_type": "markdown",
   "metadata": {},
   "source": [
    "![data-x](http://oi64.tinypic.com/o858n4.jpg)\n",
    "\n",
    "---\n",
    "# Read a Sample JSON File\n",
    "\n",
    "**Author list:** Ikhlaq Sidhu\n",
    "\n",
    "**References / Sources:** \n",
    "\n",
    "\n",
    "**License Agreement:** Feel free to do whatever you want with this code\n",
    "\n",
    "___"
   ]
  },
  {
   "cell_type": "markdown",
   "metadata": {},
   "source": [
    "### Read a sample JSON file called ex3.json\n"
   ]
  },
  {
   "cell_type": "code",
   "execution_count": 1,
   "metadata": {
    "collapsed": false
   },
   "outputs": [
    {
     "name": "stdout",
     "output_type": "stream",
     "text": [
      "{u'q1': u'hello', u'timestamp': u'2015-06-22T21:40:26.265Z', u'scale1': 4, u'n1': 5}\n",
      "{u'q1': u'world', u'timestamp': u'2015-06-22T21:40:40.740Z', u'scale1': 1, u'n1': 2.5}\n",
      "{u'q1': u'match', u'timestamp': u'2015-06-22T21:40:54.111Z', u'scale1': 5, u'n1': 5}\n",
      "hello\n",
      "world\n",
      "match\n"
     ]
    }
   ],
   "source": [
    "import json\n",
    "\n",
    "f = open(\"ex3.json\")\n",
    "Rows = json.load(f)\n",
    "\n",
    "print Rows[0]\n",
    "print Rows[1]\n",
    "print Rows[2]\n",
    "\n",
    "for i in range (0,3):\n",
    "    print Rows[i]['q1']"
   ]
  },
  {
   "cell_type": "code",
   "execution_count": null,
   "metadata": {
    "collapsed": true
   },
   "outputs": [],
   "source": []
  }
 ],
 "metadata": {
  "anaconda-cloud": {},
  "kernelspec": {
   "display_name": "Python [Root]",
   "language": "python",
   "name": "Python [Root]"
  },
  "language_info": {
   "codemirror_mode": {
    "name": "ipython",
    "version": 2
   },
   "file_extension": ".py",
   "mimetype": "text/x-python",
   "name": "python",
   "nbconvert_exporter": "python",
   "pygments_lexer": "ipython2",
   "version": "2.7.12"
  }
 },
 "nbformat": 4,
 "nbformat_minor": 0
}
