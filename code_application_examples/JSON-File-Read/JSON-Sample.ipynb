{
 "cells": [
  {
   "cell_type": "markdown",
   "metadata": {},
   "source": [
    "![data-x](http://oi64.tinypic.com/o858n4.jpg)\n",
    "\n",
    "---\n",
    "# JSON Example\n",
    "\n",
    "**Author:** Kunal Desai\n",
    "\n",
    "**References / Sources:** \n",
    "\n",
    "\n",
    "**License Agreement:** Feel free to do whatever you want with this code\n",
    "\n",
    "___"
   ]
  },
  {
   "cell_type": "markdown",
   "metadata": {},
   "source": [
    "*This notebook highlights basic types, commands, and operations in Python, Numpy, and Pandas.*"
   ]
  },
  {
   "cell_type": "markdown",
   "metadata": {},
   "source": [
    "# JSON Data\n",
    "JSON is a lightweight data format and a way to store organized information in an easy-to-access manner that. JSON data is a collection of name-value pairs."
   ]
  },
  {
   "cell_type": "code",
   "execution_count": 1,
   "metadata": {
    "collapsed": true
   },
   "outputs": [],
   "source": [
    "import json\n",
    "json_string = '{\"name\": \"Alex\", \"age\": 20, \"isStudying\": true, \"hobbies\": [\"golf\", \"machine learning\"]}' \n",
    "#example of a JSON formatted string\n"
   ]
  },
  {
   "cell_type": "code",
   "execution_count": 2,
   "metadata": {
    "collapsed": false
   },
   "outputs": [
    {
     "name": "stdout",
     "output_type": "stream",
     "text": [
      "{u'age': 20, u'isStudying': True, u'name': u'Alex', u'hobbies': [u'golf', u'machine learning']}\n",
      "Alex\n",
      "[u'golf', u'machine learning']\n"
     ]
    }
   ],
   "source": [
    "# JSON data can easily be converted to a Python Dictionary\n",
    "json_to_d = json.loads(json_string)\n",
    "print json_to_d\n",
    "print json_to_d['name']\n",
    "print json_to_d['hobbies']"
   ]
  },
  {
   "cell_type": "code",
   "execution_count": 3,
   "metadata": {
    "collapsed": false
   },
   "outputs": [
    {
     "data": {
      "text/plain": [
       "'{\"age\": 22, \"isStudying\": false, \"name\": \"Anna\", \"hobbies\": [\"yoga\", \"books\"]}'"
      ]
     },
     "execution_count": 3,
     "metadata": {},
     "output_type": "execute_result"
    }
   ],
   "source": [
    "# Python Dictionary back to JSON\n",
    "d = {'name':'Anna', 'age':22, 'isStudying':False,'hobbies': ['yoga', 'books']}\n",
    "d_to_json = json.dumps(d) # will convert dictionary to JSON data (as a string)\n",
    "d_to_json"
   ]
  },
  {
   "cell_type": "code",
   "execution_count": 4,
   "metadata": {
    "collapsed": false
   },
   "outputs": [
    {
     "name": "stdout",
     "output_type": "stream",
     "text": [
      "[\n",
      "    {\n",
      "        \"age\": 22,\n",
      "        \"hobbies\": [\n",
      "            \"yoga\",\n",
      "            \"books\"\n",
      "        ],\n",
      "        \"isStudying\": false,\n",
      "        \"name\": \"Anna\"\n",
      "    },\n",
      "    {\n",
      "        \"age\": 20,\n",
      "        \"hobbies\": [\n",
      "            \"golf\",\n",
      "            \"machine learning\"\n",
      "        ],\n",
      "        \"isStudying\": true,\n",
      "        \"name\": \"Alex\"\n",
      "    }\n",
      "]\n"
     ]
    }
   ],
   "source": [
    "# Pretty JSON formatting and JSON array\n",
    "d_array = [d,json_to_d]\n",
    "pretty_json = json.dumps(d_array, sort_keys=True,indent=4, separators=(',', ': ')) \n",
    "\n",
    "print pretty_json"
   ]
  },
  {
   "cell_type": "code",
   "execution_count": 5,
   "metadata": {
    "collapsed": true
   },
   "outputs": [],
   "source": [
    "# Load JSON data from Web and print to file\n",
    "\n",
    "## PARSE JSON DATA FROM THE WEB TO PYTHON DICTIONARY\n",
    "import urllib # to query urls\n",
    "url = \"http://maps.googleapis.com/maps/api/geocode/json?address=google\"\n",
    "response = urllib.urlopen(url)\n",
    "data = json.loads(response.read())\n",
    "\n",
    "\n",
    "## WRITE JSON TO FILE\n",
    "# with open('data.csv', 'w') as outfile:\n",
    "#     json.dump(data, outfile)"
   ]
  },
  {
   "cell_type": "code",
   "execution_count": 6,
   "metadata": {
    "collapsed": false
   },
   "outputs": [
    {
     "name": "stdout",
     "output_type": "stream",
     "text": [
      "{u'status': u'ZERO_RESULTS', u'results': []}\n"
     ]
    }
   ],
   "source": [
    "print data"
   ]
  }
 ],
 "metadata": {
  "anaconda-cloud": {},
  "kernelspec": {
   "display_name": "Python [Root]",
   "language": "python",
   "name": "Python [Root]"
  },
  "language_info": {
   "codemirror_mode": {
    "name": "ipython",
    "version": 2
   },
   "file_extension": ".py",
   "mimetype": "text/x-python",
   "name": "python",
   "nbconvert_exporter": "python",
   "pygments_lexer": "ipython2",
   "version": "2.7.12"
  }
 },
 "nbformat": 4,
 "nbformat_minor": 0
}
