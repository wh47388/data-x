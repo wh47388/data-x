{
 "cells": [
  {
   "cell_type": "markdown",
   "metadata": {},
   "source": [
    "![](http://i67.tinypic.com/2jcbwcw.png)\n",
    "\n",
    "## Naive Grammar Checker\n",
    "\n",
    "NLTK - Build a syntax tree and validate inputs against it.\n",
    "\n",
    "**Author List**: Sindhuja Jeyabal\n",
    "\n",
    "**Original Sources**: http://nltk.org\n",
    "\n",
    "**License**: Feel free to do whatever you want to with this code"
   ]
  },
  {
   "cell_type": "markdown",
   "metadata": {},
   "source": [
    "This notebook uses nltk package to implement a primitive grammar checker. The grammar is built on the fly using a training set - the web text corpus from nltk is used in this case. You can check the validity of an input sentence using the function   \n",
    "\n",
    "                        test_input(INPUT STRING TO BE TESTED)  \n",
    "\n",
    "The checker is primitive because it considers the syntax tree built from the training set as universal grammar. This ipython notebook is just a simple example of how nltk package can be used for text mining. The code can definitely be made more sophisticated. "
   ]
  },
  {
   "cell_type": "code",
   "execution_count": 1,
   "metadata": {
    "collapsed": false
   },
   "outputs": [],
   "source": [
    "import nltk\n",
    "from nltk.corpus import brown\n",
    "from nltk.corpus import webtext\n",
    "from nltk import word_tokenize, sent_tokenize\n",
    "from nltk.tokenize import RegexpTokenizer\n",
    "import string"
   ]
  },
  {
   "cell_type": "code",
   "execution_count": 2,
   "metadata": {
    "collapsed": true
   },
   "outputs": [],
   "source": [
    "# Inbuilt tokenizer - input your own regex to split on. Does not capture punctuations.\n",
    "tokenizer = RegexpTokenizer(r'\\w+')"
   ]
  },
  {
   "cell_type": "code",
   "execution_count": 3,
   "metadata": {
    "collapsed": true
   },
   "outputs": [],
   "source": [
    "# Utility function to tag Part of Speech (POS) in the training corpus\n",
    "def tag_corpus(corpus_sents):\n",
    "    sents = list()\n",
    "    for sent in corpus_sents:\n",
    "        sents.append([w for w in sent])# if w not in string.punctuation])\n",
    "    tag_sents = nltk.pos_tag_sents(sents)\n",
    "    return tag_sents"
   ]
  },
  {
   "cell_type": "code",
   "execution_count": 4,
   "metadata": {
    "collapsed": true
   },
   "outputs": [],
   "source": [
    "# Utility function to create the syntax tree for the grammar\n",
    "def create_tag_matrix(sentence_tags):\n",
    "    tag_matrix = dict()\n",
    "    for item in sentence_tags:\n",
    "        for i in (range(len(item)-1)):\n",
    "            t = item[i][1]\n",
    "            tag_matrix[t] = tag_matrix.get(t, [])\n",
    "            tag_matrix[t].append(item[i+1][1])\n",
    "    for k in tag_matrix.keys():\n",
    "        tag_matrix[k] = list(set(tag_matrix[k]))\n",
    "    return tag_matrix"
   ]
  },
  {
   "cell_type": "code",
   "execution_count": 5,
   "metadata": {
    "collapsed": false
   },
   "outputs": [],
   "source": [
    "# Utility function that extracts the Part of Speech (POS) tags from the input\n",
    "def process_input(raw_input):\n",
    "    input_sents = [tokenizer.tokenize(s) for s in sent_tokenize(raw_input)]\n",
    "    input_tags = list()\n",
    "    for item in nltk.pos_tag_sents(input_sents):\n",
    "        input_tags.append([t for (w,t) in item ])\n",
    "    print input_tags\n",
    "    return input_tags"
   ]
  },
  {
   "cell_type": "code",
   "execution_count": 6,
   "metadata": {
    "collapsed": false
   },
   "outputs": [],
   "source": [
    "# Function to validate every sentence in the input\n",
    "# Input: Model Tag matrix created from the training set, List of POS tags\n",
    "# Output: True if the tags form a valid path in the syntax tree. False otherwise \n",
    "def validate_sent(tag_matrix, input_tags):\n",
    "    is_valid = True\n",
    "    for i in (range(len(input_tags)-1)):\n",
    "        if input_tags[i] not in tag_matrix.keys():\n",
    "            print \"No rule found for \" + input_tags[i] + \" continuing...\"\n",
    "            continue\n",
    "        if input_tags[i+1] not in tag_matrix[input_tags[i]]:\n",
    "            print \"sequence not found: \" + input_tags[i] + \" ---> \" + input_tags[i+1]\n",
    "            print \"Incorrect sentence detected\"\n",
    "            is_valid = False\n",
    "            break\n",
    "    print \"Complete\"\n",
    "    if is_valid:\n",
    "        print \"Valid Sentence\"\n",
    "    return is_valid\n",
    "\n",
    "# Function to validate the POS tags in the entire input text.\n",
    "# Input: Model Tag matrix created from the training set, nested list of POS tags\n",
    "# Output: None\n",
    "def validate_input(tag_matrix, input_tags):\n",
    "    valid_vector = [validate_sent(tag_matrix, tags) for tags in input_tags]\n",
    "    if all(valid_vector):\n",
    "        print \"###Valid Input###\"\n",
    "    else:\n",
    "        print \"!!!Invalid Input!!!\""
   ]
  },
  {
   "cell_type": "code",
   "execution_count": 7,
   "metadata": {
    "collapsed": true
   },
   "outputs": [],
   "source": [
    "# Function to be called to test the validity of an input\n",
    "# Input: Raw string\n",
    "# Output: True if the string is grammatically correct (so far..)\n",
    "def test_input(raw_text):\n",
    "    validate_input(web_matrix, process_input(raw_text))"
   ]
  },
  {
   "cell_type": "code",
   "execution_count": 14,
   "metadata": {
    "collapsed": true
   },
   "outputs": [],
   "source": [
    "# Create a grammar and a syntax tree with the webtext corpus available in nltk."
   ]
  },
  {
   "cell_type": "code",
   "execution_count": 8,
   "metadata": {
    "collapsed": false
   },
   "outputs": [],
   "source": [
    "web_sents = webtext.sents()\n",
    "\n",
    "tagged_sents = tag_corpus(web_sents[:10])\n",
    "web_matrix = create_tag_matrix(tagged_sents)"
   ]
  },
  {
   "cell_type": "code",
   "execution_count": 11,
   "metadata": {
    "collapsed": false
   },
   "outputs": [
    {
     "name": "stdout",
     "output_type": "stream",
     "text": [
      "[['PRP', 'VBP']]\n",
      "Complete\n",
      "Valid Sentence\n",
      "###Valid Input###\n"
     ]
    }
   ],
   "source": [
    "# Test if user input is valid.\n",
    "test_input(\"I am.\")"
   ]
  },
  {
   "cell_type": "markdown",
   "metadata": {},
   "source": [
    "A grammar can also be created with the help of a training set manually input by the user."
   ]
  },
  {
   "cell_type": "code",
   "execution_count": 12,
   "metadata": {
    "collapsed": false
   },
   "outputs": [],
   "source": [
    "train = \"I am a student. I am working on a project on mining text using nltk. I want to score input text for correctness.\"\n",
    "train_sents = [tokenizer.tokenize(s) for s in sent_tokenize(train)]\n",
    "train_tags = nltk.pos_tag_sents(train_sents)\n",
    "model_matrix = create_tag_matrix(train_tags)"
   ]
  },
  {
   "cell_type": "code",
   "execution_count": 13,
   "metadata": {
    "collapsed": false
   },
   "outputs": [
    {
     "name": "stdout",
     "output_type": "stream",
     "text": [
      "[['PRP', 'DT']]\n",
      "sequence not found: PRP ---> DT\n",
      "Incorrect sentence detected\n",
      "Complete\n",
      "!!!Invalid Input!!!\n"
     ]
    }
   ],
   "source": [
    "validate_input(model_matrix, process_input('I a '))"
   ]
  }
 ],
 "metadata": {
  "anaconda-cloud": {},
  "kernelspec": {
   "display_name": "Python [default]",
   "language": "python",
   "name": "python2"
  },
  "language_info": {
   "codemirror_mode": {
    "name": "ipython",
    "version": 2
   },
   "file_extension": ".py",
   "mimetype": "text/x-python",
   "name": "python",
   "nbconvert_exporter": "python",
   "pygments_lexer": "ipython2",
   "version": "2.7.12"
  }
 },
 "nbformat": 4,
 "nbformat_minor": 0
}
