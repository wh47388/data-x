{
 "cells": [
  {
   "cell_type": "markdown",
   "metadata": {},
   "source": [
    "#### An array of strings to be tracked in the data stream"
   ]
  },
  {
   "cell_type": "code",
   "execution_count": null,
   "metadata": {
    "collapsed": true
   },
   "outputs": [],
   "source": [
    "TRACK_TERMS = [\"trump\", \"clinton\", \"sanders\", \"hillary clinton\", \"bernie\", \"donald trump\"]"
   ]
  },
  {
   "cell_type": "markdown",
   "metadata": {},
   "source": [
    "#### Name for the csv file where the raw tweet data will be saved"
   ]
  },
  {
   "cell_type": "code",
   "execution_count": null,
   "metadata": {
    "collapsed": true
   },
   "outputs": [],
   "source": [
    "CSV_NAME = \"tweets.csv\""
   ]
  },
  {
   "cell_type": "markdown",
   "metadata": {},
   "source": [
    "#### Name for the table in our local database"
   ]
  },
  {
   "cell_type": "code",
   "execution_count": null,
   "metadata": {
    "collapsed": true
   },
   "outputs": [],
   "source": [
    "TABLE_NAME = \"election\""
   ]
  },
  {
   "cell_type": "markdown",
   "metadata": {},
   "source": [
    "#### Connection String used for connecting to local database"
   ]
  },
  {
   "cell_type": "code",
   "execution_count": null,
   "metadata": {
    "collapsed": true
   },
   "outputs": [],
   "source": [
    "CONNECT = 'sqlite:///tweets.db'"
   ]
  },
  {
   "cell_type": "markdown",
   "metadata": {},
   "source": [
    "#### Credentials needed for accessing the Twitter API\n",
    "#### Go to https://apps.twitter.com/ and create an application of your own\n",
    "#### Make sure to replace the string in \"\" to actual values"
   ]
  },
  {
   "cell_type": "code",
   "execution_count": 1,
   "metadata": {
    "collapsed": true
   },
   "outputs": [],
   "source": [
    "# Twitter API Key\n",
    "TWITTER_CONSUMER_KEY = \"0OKNNuH....fYxP1a8SC\"\n",
    "\n",
    "# Twitter API Secret\n",
    "TWITTER_CONSUMER_SECRET = \"NBHoh4Gz1fH........WDoc4MtyvnPP9e\"\n",
    "\n",
    "# Twitter Access Token\n",
    "TWITTER_ACCESS_TOKEN = \"348307334-kVagdyscF........qsGjF20sZJJJqWAv\"\n",
    "\n",
    "# Twitter Access Secret\n",
    "TWITTER_ACCESS_SECRET = \"XeUCEHwCfoLCLV......033P0yiYZhB5ntWLEGt\""
   ]
  },
  {
   "cell_type": "markdown",
   "metadata": {},
   "source": [
    "#### Handle errors"
   ]
  },
  {
   "cell_type": "code",
   "execution_count": 3,
   "metadata": {
    "collapsed": true
   },
   "outputs": [],
   "source": [
    "# error handling\n",
    "try:\n",
    "    from private import *\n",
    "except Exception:\n",
    "    pass"
   ]
  }
 ],
 "metadata": {
  "kernelspec": {
   "display_name": "Python [Root]",
   "language": "python",
   "name": "Python [Root]"
  },
  "language_info": {
   "codemirror_mode": {
    "name": "ipython",
    "version": 2
   },
   "file_extension": ".py",
   "mimetype": "text/x-python",
   "name": "python",
   "nbconvert_exporter": "python",
   "pygments_lexer": "ipython2",
   "version": "2.7.12"
  }
 },
 "nbformat": 4,
 "nbformat_minor": 1
}
