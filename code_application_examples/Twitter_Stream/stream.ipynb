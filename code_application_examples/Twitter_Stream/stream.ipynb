{
 "cells": [
  {
   "cell_type": "markdown",
   "metadata": {},
   "source": [
    "#### Import our settings file that contains variables\n",
    "#### Import tweepy, the library we use for connection to the twitter api\n",
    "#### Import dataset, the library we use for managing our database\n",
    "#### Import textblob, the library we use for simple text processing"
   ]
  },
  {
   "cell_type": "code",
   "execution_count": null,
   "metadata": {
    "collapsed": true
   },
   "outputs": [],
   "source": [
    "import settings\n",
    "import tweepy\n",
    "import dataset\n",
    "from textblob import TextBlob"
   ]
  },
  {
   "cell_type": "markdown",
   "metadata": {},
   "source": [
    "#### Handle Errors using SQLAlchemy\n",
    "#### Import json to read and process the data returned from the Twitter API "
   ]
  },
  {
   "cell_type": "code",
   "execution_count": null,
   "metadata": {
    "collapsed": false
   },
   "outputs": [],
   "source": [
    "from sqlalchemy.exc import ProgrammingError\n",
    "import json"
   ]
  },
  {
   "cell_type": "markdown",
   "metadata": {},
   "source": [
    "#### Connect to the SQLite database"
   ]
  },
  {
   "cell_type": "code",
   "execution_count": null,
   "metadata": {
    "collapsed": false
   },
   "outputs": [],
   "source": [
    "db = dataset.connect(settings.CONNECT)"
   ]
  },
  {
   "cell_type": "markdown",
   "metadata": {},
   "source": [
    "#### We create a subclass of the StreamListener class and implement our custom logic. \n",
    "#### We override the on_status method which will get data when users post new tweets.\n",
    "#### We also override the on_error method to handle errors coming from the Twitter API."
   ]
  },
  {
   "cell_type": "code",
   "execution_count": null,
   "metadata": {
    "collapsed": false
   },
   "outputs": [],
   "source": [
    "class StreamListener(tweepy.StreamListener):\n",
    "    def on_status(self, status):\n",
    "        # If the retweeted_status property exists, then ignore the tweet.\n",
    "        if status.retweeted:\n",
    "            return\n",
    "        # Description for the user who tweeted (status.user.description).\n",
    "        description = status.user.description\n",
    "        # Location for the user who tweeted (status.user.location).\n",
    "        loc = status.user.location\n",
    "        # Text of the tweet (status.text).\n",
    "        text = status.text\n",
    "        # Geographic coordinates for the tweet (status.coordinates).\n",
    "        coords = status.coordinates\n",
    "        # The screen name of the user (status.user.screen_name).\n",
    "        name = status.user.screen_name\n",
    "        # Creation date-time for this user's account (status.user.created_at).\n",
    "        user_created = status.user.created_at\n",
    "        # Follower count for this user (status.user.followers_count).\n",
    "        followers = status.user.followers_count\n",
    "        # The unique id for this tweet in Twitter's database (status.id_str).\n",
    "        id_str = status.id_str\n",
    "        # Creation date-time for this tweet (status.created_at).\n",
    "        created = status.created_at\n",
    "        # Retweet count for this tweet (status.retweet_count).\n",
    "        retweets = status.retweet_count\n",
    "        # Background color for this user's profile (status.user.profile_background_color).\n",
    "        bg_color = status.user.profile_background_color\n",
    "        # use TextBlob to process the text of the tweet\n",
    "        blob = TextBlob(text)\n",
    "        # use TextBlob to get a sentiment score on the tweet\n",
    "        sent = blob.sentiment\n",
    "        # converted to json object\n",
    "        if coords is not None:\n",
    "            coords = json.dumps(coords)\n",
    "        table = db[settings.TABLE_NAME]\n",
    "        # insert all the data we obtained into the table\n",
    "        try:\n",
    "            table.insert(dict(\n",
    "                user_description=description,\n",
    "                user_location=loc,\n",
    "                coordinates=coords,\n",
    "                text=text,\n",
    "                user_name=name,\n",
    "                user_created=user_created,\n",
    "                user_followers=followers,\n",
    "                id_str=id_str,\n",
    "                created=created,\n",
    "                retweet_count=retweets,\n",
    "                user_bg_color=bg_color,\n",
    "                polarity=sent.polarity, # negativity or positivity of the tweet, on a -1 to 1 scale.\n",
    "                subjectivity=sent.subjectivity, # 0 = tweet is very objective, and 1 = tweet is very subjective.\n",
    "            ))\n",
    "        except ProgrammingError as err:\n",
    "            print(err)\n",
    "    \n",
    "    def on_error(self, status_code):\n",
    "        # status code 420 indicates we are being rate limited by the API\n",
    "        if status_code == 420:\n",
    "            return False"
   ]
  },
  {
   "cell_type": "markdown",
   "metadata": {},
   "source": [
    "#### Using the OAuthHandler we establish our credentials with Twitter and create an 'auth' object\n",
    "#### Using 'auth' we create an API object to pull data from Twitter"
   ]
  },
  {
   "cell_type": "code",
   "execution_count": null,
   "metadata": {
    "collapsed": false
   },
   "outputs": [],
   "source": [
    "auth = tweepy.OAuthHandler(settings.TWITTER_CONSUMER_KEY, settings.TWITTER_CONSUMER_SECRET)\n",
    "auth.set_access_token(settings.TWITTER_ACCESS_TOKEN, settings.TWITTER_ACCESS_SECRET)\n",
    "api = tweepy.API(auth)"
   ]
  },
  {
   "cell_type": "markdown",
   "metadata": {},
   "source": [
    "#### First we create an instance of our StreamListener class. Then we create an instance of the tweepy Stream class.\n",
    "#### Here, pass in authentication credentials (api.auth) to connect and pass stream_listener as listener.\n",
    "#### The filter method starts streaming tweets and pass in a list of terms (TRACK_TERMS) to filter on."
   ]
  },
  {
   "cell_type": "code",
   "execution_count": null,
   "metadata": {
    "collapsed": false
   },
   "outputs": [],
   "source": [
    "stream_listener = StreamListener()\n",
    "stream = tweepy.Stream(auth=api.auth, listener=stream_listener)\n",
    "stream.filter(track=settings.TRACK_TERMS)"
   ]
  }
 ],
 "metadata": {
  "anaconda-cloud": {},
  "kernelspec": {
   "display_name": "Python [Root]",
   "language": "python",
   "name": "Python [Root]"
  },
  "language_info": {
   "codemirror_mode": {
    "name": "ipython",
    "version": 2
   },
   "file_extension": ".py",
   "mimetype": "text/x-python",
   "name": "python",
   "nbconvert_exporter": "python",
   "pygments_lexer": "ipython2",
   "version": "2.7.12"
  }
 },
 "nbformat": 4,
 "nbformat_minor": 1
}
